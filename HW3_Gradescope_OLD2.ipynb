{
 "cells": [
  {
   "cell_type": "code",
   "execution_count": 1,
   "metadata": {
    "deletable": false,
    "editable": false
   },
   "outputs": [],
   "source": [
    "# Initialize Otter\n",
    "import otter\n",
    "grader = otter.Notebook(\"HW3_Gradescope.ipynb\")"
   ]
  },
  {
   "cell_type": "markdown",
   "metadata": {},
   "source": [
    "# Homework 3"
   ]
  },
  {
   "cell_type": "markdown",
   "metadata": {},
   "source": [
    "## Instructions\n",
    "\n",
    "1. Do not move or rename the included files. If you move or rename files or folders, the local and Gradescope autograders will not work.\n",
    "1. Refer to files and variables exactly as they appear. Python is case-sensitive, so `df` and `DF` are different variables.\n",
    "1. After you answer a question, you may run its public tests.\n",
    "1. After you answer every question:\n",
    "    1. Restart your kernel\n",
    "    1. Run up to the last cell\n",
    "    1. Save your notebook\n",
    "    1. Run the last cell, which creates the .zip file for Gradescope in the same folder as this notebook\n",
    "    1. Upload the .zip file to Gradescope\n",
    "    1. Make sure your local autograder results match your Gradescope autograder results\n",
    "1. ***The public tests ensure your answers are formatted correctly but do not ensure your answers are correct.***\n",
    "1. Gradescope runs hidden tests in addition to the public tests but does not reveal public test results until after the due date. Your grade will be \"~/100\" until after the due date."
   ]
  },
  {
   "cell_type": "markdown",
   "metadata": {},
   "source": [
    "## Packages"
   ]
  },
  {
   "cell_type": "code",
   "execution_count": 2,
   "metadata": {
    "scrolled": true
   },
   "outputs": [],
   "source": [
    "import numpy as np\n",
    "import pandas as pd\n",
    "import datetime as dt\n",
    "import yfinance as yf\n",
    "import pandas_datareader.data as web\n",
    "import matplotlib.pyplot as plt\n",
    "%matplotlib inline"
   ]
  },
  {
   "cell_type": "code",
   "execution_count": 3,
   "metadata": {},
   "outputs": [],
   "source": [
    "asgnd_seed = 12000"
   ]
  },
  {
   "cell_type": "code",
   "execution_count": 4,
   "metadata": {
    "scrolled": true
   },
   "outputs": [
    {
     "name": "stdout",
     "output_type": "stream",
     "text": [
      "These are the tickers of the five stocks assigned to you: BA BAC GS JNJ MCD MRK V. They are stored in a variable called stock_list.\n"
     ]
    }
   ],
   "source": [
    "np.random.seed(asgnd_seed)\n",
    "all_tickers = ['AAPL', 'AXP', 'BA', 'BAC', 'C', 'CAT', 'CSCO', 'CVX', 'DIS', 'GS', 'HD', 'IBM', 'INTC', 'JNJ', 'JPM', 'KO',\n",
    "            'MCD', 'MMM', 'MRK', 'MSFT', 'NKE', 'PFE', 'PG', 'TRV', 'T', 'UNH', 'V', 'VZ', 'WMT', 'XOM']\n",
    "\n",
    "stock_list = sorted(np.random.choice(all_tickers,7,replace=False))\n",
    "\n",
    "print(f'These are the tickers of the five stocks assigned to you: {\" \".join(stock_list)}. They are stored in a \\\n",
    "variable called stock_list.')"
   ]
  },
  {
   "cell_type": "markdown",
   "metadata": {},
   "source": [
    "## Questions"
   ]
  },
  {
   "cell_type": "markdown",
   "metadata": {},
   "source": [
    "---"
   ]
  },
  {
   "cell_type": "markdown",
   "metadata": {},
   "source": [
    "#### 1. Create a DataFrame called **prices** to store the Adjusted Closing Price from Yahoo!Finance for the seven companies you were assigned above. Their tickers are included in a variable called **stock_list**. The sample period is January 1st, 2010 to March 31st, 2023. Each stock's price should be stored in a column labeled 'ticker', where ticker represents that stock's trading ticker.\n",
    "\n",
    "_Points:_ 10"
   ]
  },
  {
   "cell_type": "code",
   "execution_count": 5,
   "metadata": {
    "scrolled": true,
    "tags": []
   },
   "outputs": [
    {
     "name": "stdout",
     "output_type": "stream",
     "text": [
      "[*********************100%***********************]  7 of 7 completed\n"
     ]
    }
   ],
   "source": [
    "start=dt.datetime(2010,1,1)\n",
    "end=dt.datetime(2023,3,31)\n",
    "prices=yf.download(list(stock_list),start-pd.offsets.BDay(1),end+pd.offsets.BDay(1))['Adj Close']"
   ]
  },
  {
   "cell_type": "code",
   "execution_count": 6,
   "metadata": {
    "deletable": false,
    "editable": false
   },
   "outputs": [
    {
     "data": {
      "text/html": [
       "<p><strong><pre style='display: inline;'>q01</pre></strong> passed! 🚀</p>"
      ],
      "text/plain": [
       "q01 results: All test cases passed!"
      ]
     },
     "execution_count": 6,
     "metadata": {},
     "output_type": "execute_result"
    }
   ],
   "source": [
    "grader.check(\"q01\")"
   ]
  },
  {
   "cell_type": "markdown",
   "metadata": {},
   "source": [
    "---"
   ]
  },
  {
   "cell_type": "markdown",
   "metadata": {},
   "source": [
    "#### 2. Create a DataFrame named **investments** to store the daily value of a $1 investment made on the last trading day in December 2009 in each of the seven stocks. The investment in each stock should be stored in a column labeled 'ticker', where ticker represents that stock's trading ticker.\n",
    "\n",
    "_Points:_ 10"
   ]
  },
  {
   "cell_type": "code",
   "execution_count": 7,
   "metadata": {
    "tags": []
   },
   "outputs": [
    {
     "data": {
      "text/html": [
       "<div>\n",
       "<style scoped>\n",
       "    .dataframe tbody tr th:only-of-type {\n",
       "        vertical-align: middle;\n",
       "    }\n",
       "\n",
       "    .dataframe tbody tr th {\n",
       "        vertical-align: top;\n",
       "    }\n",
       "\n",
       "    .dataframe thead th {\n",
       "        text-align: right;\n",
       "    }\n",
       "</style>\n",
       "<table border=\"1\" class=\"dataframe\">\n",
       "  <thead>\n",
       "    <tr style=\"text-align: right;\">\n",
       "      <th></th>\n",
       "      <th>BA</th>\n",
       "      <th>BAC</th>\n",
       "      <th>GS</th>\n",
       "      <th>JNJ</th>\n",
       "      <th>MCD</th>\n",
       "      <th>MRK</th>\n",
       "      <th>V</th>\n",
       "    </tr>\n",
       "    <tr>\n",
       "      <th>Date</th>\n",
       "      <th></th>\n",
       "      <th></th>\n",
       "      <th></th>\n",
       "      <th></th>\n",
       "      <th></th>\n",
       "      <th></th>\n",
       "      <th></th>\n",
       "    </tr>\n",
       "  </thead>\n",
       "  <tbody>\n",
       "    <tr>\n",
       "      <th>2009-12-31</th>\n",
       "      <td>1.000000</td>\n",
       "      <td>1.000000</td>\n",
       "      <td>1.000000</td>\n",
       "      <td>1.000000</td>\n",
       "      <td>1.000000</td>\n",
       "      <td>1.000000</td>\n",
       "      <td>1.000000</td>\n",
       "    </tr>\n",
       "    <tr>\n",
       "      <th>2010-01-04</th>\n",
       "      <td>1.037872</td>\n",
       "      <td>1.041832</td>\n",
       "      <td>1.025112</td>\n",
       "      <td>1.004192</td>\n",
       "      <td>1.005445</td>\n",
       "      <td>1.012862</td>\n",
       "      <td>1.007775</td>\n",
       "    </tr>\n",
       "    <tr>\n",
       "      <th>2010-01-05</th>\n",
       "      <td>1.071864</td>\n",
       "      <td>1.075697</td>\n",
       "      <td>1.043235</td>\n",
       "      <td>0.992548</td>\n",
       "      <td>0.997758</td>\n",
       "      <td>1.016968</td>\n",
       "      <td>0.996227</td>\n",
       "    </tr>\n",
       "    <tr>\n",
       "      <th>2010-01-06</th>\n",
       "      <td>1.104378</td>\n",
       "      <td>1.088313</td>\n",
       "      <td>1.032101</td>\n",
       "      <td>1.000621</td>\n",
       "      <td>0.984145</td>\n",
       "      <td>1.030652</td>\n",
       "      <td>0.982849</td>\n",
       "    </tr>\n",
       "    <tr>\n",
       "      <th>2010-01-07</th>\n",
       "      <td>1.149086</td>\n",
       "      <td>1.124170</td>\n",
       "      <td>1.052298</td>\n",
       "      <td>0.993480</td>\n",
       "      <td>0.991352</td>\n",
       "      <td>1.032293</td>\n",
       "      <td>0.991996</td>\n",
       "    </tr>\n",
       "  </tbody>\n",
       "</table>\n",
       "</div>"
      ],
      "text/plain": [
       "                  BA       BAC        GS       JNJ       MCD       MRK  \\\n",
       "Date                                                                     \n",
       "2009-12-31  1.000000  1.000000  1.000000  1.000000  1.000000  1.000000   \n",
       "2010-01-04  1.037872  1.041832  1.025112  1.004192  1.005445  1.012862   \n",
       "2010-01-05  1.071864  1.075697  1.043235  0.992548  0.997758  1.016968   \n",
       "2010-01-06  1.104378  1.088313  1.032101  1.000621  0.984145  1.030652   \n",
       "2010-01-07  1.149086  1.124170  1.052298  0.993480  0.991352  1.032293   \n",
       "\n",
       "                   V  \n",
       "Date                  \n",
       "2009-12-31  1.000000  \n",
       "2010-01-04  1.007775  \n",
       "2010-01-05  0.996227  \n",
       "2010-01-06  0.982849  \n",
       "2010-01-07  0.991996  "
      ]
     },
     "execution_count": 7,
     "metadata": {},
     "output_type": "execute_result"
    }
   ],
   "source": [
    "investments = pd.DataFrame()\n",
    "for tic in prices:\n",
    "    investments[tic] = prices[tic]/prices[tic].iloc[0]\n",
    "investments.head()"
   ]
  },
  {
   "cell_type": "code",
   "execution_count": 8,
   "metadata": {
    "deletable": false,
    "editable": false
   },
   "outputs": [
    {
     "data": {
      "text/html": [
       "<p><strong style='color: red;'><pre style='display: inline;'>q02</pre> results:</strong></p><p><strong><pre style='display: inline;'>q02 - 1</pre> result:</strong></p><pre>    ✅ Test case passed</pre><p><strong><pre style='display: inline;'>q02 - 2</pre> result:</strong></p><pre>    ❌ Test case failed\n",
       "    Trying:\n",
       "        investments.sum().values\n",
       "    Expecting:\n",
       "        array([12824.91413411,  5300.24469   ,  4582.25613663,  7550.31941271,\n",
       "                9974.98807714,  7516.36093401, 17180.52960308])\n",
       "    **********************************************************************\n",
       "    Line 1, in q02 1\n",
       "    Failed example:\n",
       "        investments.sum().values\n",
       "    Expected:\n",
       "        array([12824.91413411,  5300.24469   ,  4582.25613663,  7550.31941271,\n",
       "                9974.98807714,  7516.36093401, 17180.52960308])\n",
       "    Got:\n",
       "        array([12824.91528809,  5300.2442579 ,  4582.2561359 ,  7550.32005928,\n",
       "                9974.98803765,  7516.3609278 , 17180.52465095])\n",
       "</pre><p><strong><pre style='display: inline;'>q02 - 3</pre> result:</strong></p><pre>    ✅ Test case passed</pre>"
      ],
      "text/plain": [
       "q02 results:\n",
       "    q02 - 1 result:\n",
       "        ✅ Test case passed\n",
       "\n",
       "    q02 - 2 result:\n",
       "        ❌ Test case failed\n",
       "        Trying:\n",
       "            investments.sum().values\n",
       "        Expecting:\n",
       "            array([12824.91413411,  5300.24469   ,  4582.25613663,  7550.31941271,\n",
       "                    9974.98807714,  7516.36093401, 17180.52960308])\n",
       "        **********************************************************************\n",
       "        Line 1, in q02 1\n",
       "        Failed example:\n",
       "            investments.sum().values\n",
       "        Expected:\n",
       "            array([12824.91413411,  5300.24469   ,  4582.25613663,  7550.31941271,\n",
       "                    9974.98807714,  7516.36093401, 17180.52960308])\n",
       "        Got:\n",
       "            array([12824.91528809,  5300.2442579 ,  4582.2561359 ,  7550.32005928,\n",
       "                    9974.98803765,  7516.3609278 , 17180.52465095])\n",
       "\n",
       "    q02 - 3 result:\n",
       "        ✅ Test case passed"
      ]
     },
     "execution_count": 8,
     "metadata": {},
     "output_type": "execute_result"
    }
   ],
   "source": [
    "grader.check(\"q02\")"
   ]
  },
  {
   "cell_type": "markdown",
   "metadata": {},
   "source": [
    "---"
   ]
  },
  {
   "cell_type": "markdown",
   "metadata": {},
   "source": [
    "#### 3. Create a new pandas DataFrame named **ans3** to store the two best stock investments over the entire sample period and their total returns. The shape of the DataFrame should be either (2,1) or (1,2).\n",
    "\n",
    "_Points:_ 5"
   ]
  },
  {
   "cell_type": "code",
   "execution_count": 9,
   "metadata": {
    "scrolled": true,
    "tags": []
   },
   "outputs": [
    {
     "data": {
      "text/html": [
       "<div>\n",
       "<style scoped>\n",
       "    .dataframe tbody tr th:only-of-type {\n",
       "        vertical-align: middle;\n",
       "    }\n",
       "\n",
       "    .dataframe tbody tr th {\n",
       "        vertical-align: top;\n",
       "    }\n",
       "\n",
       "    .dataframe thead th {\n",
       "        text-align: right;\n",
       "    }\n",
       "</style>\n",
       "<table border=\"1\" class=\"dataframe\">\n",
       "  <thead>\n",
       "    <tr style=\"text-align: right;\">\n",
       "      <th></th>\n",
       "      <th>Ticker1</th>\n",
       "      <th>Ticker2</th>\n",
       "    </tr>\n",
       "  </thead>\n",
       "  <tbody>\n",
       "    <tr>\n",
       "      <th>0</th>\n",
       "      <td>V</td>\n",
       "      <td>BA</td>\n",
       "    </tr>\n",
       "  </tbody>\n",
       "</table>\n",
       "</div>"
      ],
      "text/plain": [
       "  Ticker1 Ticker2\n",
       "0       V      BA"
      ]
     },
     "execution_count": 9,
     "metadata": {},
     "output_type": "execute_result"
    }
   ],
   "source": [
    "best_tickers = investments.mean(axis=0).nlargest(2).index.tolist()\n",
    "\n",
    "ans3 = pd.DataFrame(best_tickers)\n",
    "ans3 = ans3.T\n",
    "ans3.columns = ['Ticker1', 'Ticker2']\n",
    "ans3"
   ]
  },
  {
   "cell_type": "code",
   "execution_count": 10,
   "metadata": {
    "deletable": false,
    "editable": false
   },
   "outputs": [
    {
     "data": {
      "text/html": [
       "<p><strong><pre style='display: inline;'>q03</pre></strong> passed! 🌈</p>"
      ],
      "text/plain": [
       "q03 results: All test cases passed!"
      ]
     },
     "execution_count": 10,
     "metadata": {},
     "output_type": "execute_result"
    }
   ],
   "source": [
    "grader.check(\"q03\")"
   ]
  },
  {
   "cell_type": "markdown",
   "metadata": {},
   "source": [
    "---"
   ]
  },
  {
   "cell_type": "markdown",
   "metadata": {},
   "source": [
    "#### 4. Create a new pandas DataFrame named **ans4** to store the two worst stock investments over the entire sample period and their total returns. The shape of the DataFrame should be either (2,1) or (1,2).\n",
    "\n",
    "_Points:_ 5"
   ]
  },
  {
   "cell_type": "code",
   "execution_count": 11,
   "metadata": {
    "scrolled": true,
    "tags": []
   },
   "outputs": [
    {
     "data": {
      "text/html": [
       "<div>\n",
       "<style scoped>\n",
       "    .dataframe tbody tr th:only-of-type {\n",
       "        vertical-align: middle;\n",
       "    }\n",
       "\n",
       "    .dataframe tbody tr th {\n",
       "        vertical-align: top;\n",
       "    }\n",
       "\n",
       "    .dataframe thead th {\n",
       "        text-align: right;\n",
       "    }\n",
       "</style>\n",
       "<table border=\"1\" class=\"dataframe\">\n",
       "  <thead>\n",
       "    <tr style=\"text-align: right;\">\n",
       "      <th></th>\n",
       "      <th>Ticker1</th>\n",
       "      <th>Ticker2</th>\n",
       "    </tr>\n",
       "  </thead>\n",
       "  <tbody>\n",
       "    <tr>\n",
       "      <th>0</th>\n",
       "      <td>GS</td>\n",
       "      <td>BAC</td>\n",
       "    </tr>\n",
       "  </tbody>\n",
       "</table>\n",
       "</div>"
      ],
      "text/plain": [
       "  Ticker1 Ticker2\n",
       "0      GS     BAC"
      ]
     },
     "execution_count": 11,
     "metadata": {},
     "output_type": "execute_result"
    }
   ],
   "source": [
    "best_tickers = investments.mean(axis=0).nsmallest(2).index.tolist()\n",
    "\n",
    "ans4 = pd.DataFrame(best_tickers)\n",
    "ans4 = ans4.T\n",
    "ans4.columns = ['Ticker1', 'Ticker2']\n",
    "ans4"
   ]
  },
  {
   "cell_type": "code",
   "execution_count": 12,
   "metadata": {
    "deletable": false,
    "editable": false
   },
   "outputs": [
    {
     "data": {
      "text/html": [
       "<p><strong><pre style='display: inline;'>q04</pre></strong> passed! 🎉</p>"
      ],
      "text/plain": [
       "q04 results: All test cases passed!"
      ]
     },
     "execution_count": 12,
     "metadata": {},
     "output_type": "execute_result"
    }
   ],
   "source": [
    "grader.check(\"q04\")"
   ]
  },
  {
   "cell_type": "markdown",
   "metadata": {},
   "source": [
    "---"
   ]
  },
  {
   "cell_type": "markdown",
   "metadata": {},
   "source": [
    "#### 5. Create a new DataFrame named **investments_mon** to store the end of the month values for each of the seven investment series created in question 2. Again, each column should be labeled 'ticker', where ticker represents that stock's trading ticker.\n",
    "\n",
    "_Points:_ 10"
   ]
  },
  {
   "cell_type": "code",
   "execution_count": 13,
   "metadata": {
    "tags": []
   },
   "outputs": [
    {
     "data": {
      "text/html": [
       "<div>\n",
       "<style scoped>\n",
       "    .dataframe tbody tr th:only-of-type {\n",
       "        vertical-align: middle;\n",
       "    }\n",
       "\n",
       "    .dataframe tbody tr th {\n",
       "        vertical-align: top;\n",
       "    }\n",
       "\n",
       "    .dataframe thead th {\n",
       "        text-align: right;\n",
       "    }\n",
       "</style>\n",
       "<table border=\"1\" class=\"dataframe\">\n",
       "  <thead>\n",
       "    <tr style=\"text-align: right;\">\n",
       "      <th></th>\n",
       "      <th>BA</th>\n",
       "      <th>BAC</th>\n",
       "      <th>GS</th>\n",
       "      <th>JNJ</th>\n",
       "      <th>MCD</th>\n",
       "      <th>MRK</th>\n",
       "      <th>V</th>\n",
       "    </tr>\n",
       "    <tr>\n",
       "      <th>Date</th>\n",
       "      <th></th>\n",
       "      <th></th>\n",
       "      <th></th>\n",
       "      <th></th>\n",
       "      <th></th>\n",
       "      <th></th>\n",
       "      <th></th>\n",
       "    </tr>\n",
       "  </thead>\n",
       "  <tbody>\n",
       "    <tr>\n",
       "      <th>2009-12-31</th>\n",
       "      <td>1.000000</td>\n",
       "      <td>1.000000</td>\n",
       "      <td>1.000000</td>\n",
       "      <td>1.000000</td>\n",
       "      <td>1.000000</td>\n",
       "      <td>1.000000</td>\n",
       "      <td>1.000000</td>\n",
       "    </tr>\n",
       "    <tr>\n",
       "      <th>2010-01-31</th>\n",
       "      <td>1.119527</td>\n",
       "      <td>1.007968</td>\n",
       "      <td>0.880834</td>\n",
       "      <td>0.975935</td>\n",
       "      <td>0.999840</td>\n",
       "      <td>1.044882</td>\n",
       "      <td>0.937915</td>\n",
       "    </tr>\n",
       "    <tr>\n",
       "      <th>2010-02-28</th>\n",
       "      <td>1.174786</td>\n",
       "      <td>1.106242</td>\n",
       "      <td>0.928101</td>\n",
       "      <td>0.985593</td>\n",
       "      <td>1.031273</td>\n",
       "      <td>1.009305</td>\n",
       "      <td>0.976540</td>\n",
       "    </tr>\n",
       "    <tr>\n",
       "      <th>2010-03-31</th>\n",
       "      <td>1.350558</td>\n",
       "      <td>1.185980</td>\n",
       "      <td>1.012867</td>\n",
       "      <td>1.020010</td>\n",
       "      <td>1.077628</td>\n",
       "      <td>1.032871</td>\n",
       "      <td>1.042383</td>\n",
       "    </tr>\n",
       "    <tr>\n",
       "      <th>2010-04-30</th>\n",
       "      <td>1.347210</td>\n",
       "      <td>1.184650</td>\n",
       "      <td>0.861914</td>\n",
       "      <td>1.005931</td>\n",
       "      <td>1.140134</td>\n",
       "      <td>0.968991</td>\n",
       "      <td>1.033223</td>\n",
       "    </tr>\n",
       "    <tr>\n",
       "      <th>...</th>\n",
       "      <td>...</td>\n",
       "      <td>...</td>\n",
       "      <td>...</td>\n",
       "      <td>...</td>\n",
       "      <td>...</td>\n",
       "      <td>...</td>\n",
       "      <td>...</td>\n",
       "    </tr>\n",
       "    <tr>\n",
       "      <th>2022-11-30</th>\n",
       "      <td>4.240861</td>\n",
       "      <td>2.977811</td>\n",
       "      <td>2.810130</td>\n",
       "      <td>4.036859</td>\n",
       "      <td>6.309261</td>\n",
       "      <td>4.905854</td>\n",
       "      <td>10.882805</td>\n",
       "    </tr>\n",
       "    <tr>\n",
       "      <th>2022-12-31</th>\n",
       "      <td>4.516109</td>\n",
       "      <td>2.620917</td>\n",
       "      <td>2.498880</td>\n",
       "      <td>4.006242</td>\n",
       "      <td>6.095089</td>\n",
       "      <td>4.975579</td>\n",
       "      <td>10.419408</td>\n",
       "    </tr>\n",
       "    <tr>\n",
       "      <th>2023-01-31</th>\n",
       "      <td>5.049772</td>\n",
       "      <td>2.807673</td>\n",
       "      <td>2.662110</td>\n",
       "      <td>3.706200</td>\n",
       "      <td>6.184597</td>\n",
       "      <td>4.816827</td>\n",
       "      <td>11.545303</td>\n",
       "    </tr>\n",
       "    <tr>\n",
       "      <th>2023-02-28</th>\n",
       "      <td>4.778318</td>\n",
       "      <td>2.714295</td>\n",
       "      <td>2.559063</td>\n",
       "      <td>3.500780</td>\n",
       "      <td>6.139120</td>\n",
       "      <td>4.764358</td>\n",
       "      <td>11.051854</td>\n",
       "    </tr>\n",
       "    <tr>\n",
       "      <th>2023-03-31</th>\n",
       "      <td>5.036259</td>\n",
       "      <td>2.277911</td>\n",
       "      <td>2.397523</td>\n",
       "      <td>3.540526</td>\n",
       "      <td>6.504336</td>\n",
       "      <td>4.804255</td>\n",
       "      <td>11.329231</td>\n",
       "    </tr>\n",
       "  </tbody>\n",
       "</table>\n",
       "<p>160 rows × 7 columns</p>\n",
       "</div>"
      ],
      "text/plain": [
       "                  BA       BAC        GS       JNJ       MCD       MRK  \\\n",
       "Date                                                                     \n",
       "2009-12-31  1.000000  1.000000  1.000000  1.000000  1.000000  1.000000   \n",
       "2010-01-31  1.119527  1.007968  0.880834  0.975935  0.999840  1.044882   \n",
       "2010-02-28  1.174786  1.106242  0.928101  0.985593  1.031273  1.009305   \n",
       "2010-03-31  1.350558  1.185980  1.012867  1.020010  1.077628  1.032871   \n",
       "2010-04-30  1.347210  1.184650  0.861914  1.005931  1.140134  0.968991   \n",
       "...              ...       ...       ...       ...       ...       ...   \n",
       "2022-11-30  4.240861  2.977811  2.810130  4.036859  6.309261  4.905854   \n",
       "2022-12-31  4.516109  2.620917  2.498880  4.006242  6.095089  4.975579   \n",
       "2023-01-31  5.049772  2.807673  2.662110  3.706200  6.184597  4.816827   \n",
       "2023-02-28  4.778318  2.714295  2.559063  3.500780  6.139120  4.764358   \n",
       "2023-03-31  5.036259  2.277911  2.397523  3.540526  6.504336  4.804255   \n",
       "\n",
       "                    V  \n",
       "Date                   \n",
       "2009-12-31   1.000000  \n",
       "2010-01-31   0.937915  \n",
       "2010-02-28   0.976540  \n",
       "2010-03-31   1.042383  \n",
       "2010-04-30   1.033223  \n",
       "...               ...  \n",
       "2022-11-30  10.882805  \n",
       "2022-12-31  10.419408  \n",
       "2023-01-31  11.545303  \n",
       "2023-02-28  11.051854  \n",
       "2023-03-31  11.329231  \n",
       "\n",
       "[160 rows x 7 columns]"
      ]
     },
     "execution_count": 13,
     "metadata": {},
     "output_type": "execute_result"
    }
   ],
   "source": [
    "prices_monthly = investments.resample('M').last()\n",
    "\n",
    "# creating new df\n",
    "investments_mon = pd.DataFrame(columns=prices.columns)\n",
    "\n",
    "# get last val in month\n",
    "for col in prices_monthly.columns:\n",
    "    investments_mon[col] = prices_monthly[col].dropna()\n",
    "    \n",
    "investments_mon"
   ]
  },
  {
   "cell_type": "code",
   "execution_count": 14,
   "metadata": {
    "deletable": false,
    "editable": false
   },
   "outputs": [
    {
     "data": {
      "text/html": [
       "<p><strong><pre style='display: inline;'>q05</pre></strong> passed! 🙌</p>"
      ],
      "text/plain": [
       "q05 results: All test cases passed!"
      ]
     },
     "execution_count": 14,
     "metadata": {},
     "output_type": "execute_result"
    }
   ],
   "source": [
    "grader.check(\"q05\")"
   ]
  },
  {
   "cell_type": "markdown",
   "metadata": {},
   "source": [
    "---"
   ]
  },
  {
   "cell_type": "markdown",
   "metadata": {
    "tags": []
   },
   "source": [
    "#### 6. Create a new DataFrame named **returns_mon** to store the monthly simple returns for each of the seven stocks. Each column should be labeled 'ticker', where ticker represents that stock's trading ticker.\n",
    "\n",
    "_Points:_ 10"
   ]
  },
  {
   "cell_type": "code",
   "execution_count": 15,
   "metadata": {
    "tags": []
   },
   "outputs": [
    {
     "data": {
      "text/html": [
       "<div>\n",
       "<style scoped>\n",
       "    .dataframe tbody tr th:only-of-type {\n",
       "        vertical-align: middle;\n",
       "    }\n",
       "\n",
       "    .dataframe tbody tr th {\n",
       "        vertical-align: top;\n",
       "    }\n",
       "\n",
       "    .dataframe thead th {\n",
       "        text-align: right;\n",
       "    }\n",
       "</style>\n",
       "<table border=\"1\" class=\"dataframe\">\n",
       "  <thead>\n",
       "    <tr style=\"text-align: right;\">\n",
       "      <th></th>\n",
       "      <th>BA</th>\n",
       "      <th>BAC</th>\n",
       "      <th>GS</th>\n",
       "      <th>JNJ</th>\n",
       "      <th>MCD</th>\n",
       "      <th>MRK</th>\n",
       "      <th>V</th>\n",
       "    </tr>\n",
       "    <tr>\n",
       "      <th>Date</th>\n",
       "      <th></th>\n",
       "      <th></th>\n",
       "      <th></th>\n",
       "      <th></th>\n",
       "      <th></th>\n",
       "      <th></th>\n",
       "      <th></th>\n",
       "    </tr>\n",
       "  </thead>\n",
       "  <tbody>\n",
       "    <tr>\n",
       "      <th>2009-12-31</th>\n",
       "      <td>NaN</td>\n",
       "      <td>NaN</td>\n",
       "      <td>NaN</td>\n",
       "      <td>NaN</td>\n",
       "      <td>NaN</td>\n",
       "      <td>NaN</td>\n",
       "      <td>NaN</td>\n",
       "    </tr>\n",
       "    <tr>\n",
       "      <th>2010-01-31</th>\n",
       "      <td>0.119527</td>\n",
       "      <td>0.007968</td>\n",
       "      <td>-0.119166</td>\n",
       "      <td>-0.024065</td>\n",
       "      <td>-0.000160</td>\n",
       "      <td>0.044882</td>\n",
       "      <td>-0.062085</td>\n",
       "    </tr>\n",
       "    <tr>\n",
       "      <th>2010-02-28</th>\n",
       "      <td>0.049360</td>\n",
       "      <td>0.097497</td>\n",
       "      <td>0.053662</td>\n",
       "      <td>0.009896</td>\n",
       "      <td>0.031438</td>\n",
       "      <td>-0.034049</td>\n",
       "      <td>0.041182</td>\n",
       "    </tr>\n",
       "    <tr>\n",
       "      <th>2010-03-31</th>\n",
       "      <td>0.149620</td>\n",
       "      <td>0.072080</td>\n",
       "      <td>0.091333</td>\n",
       "      <td>0.034920</td>\n",
       "      <td>0.044949</td>\n",
       "      <td>0.023348</td>\n",
       "      <td>0.067425</td>\n",
       "    </tr>\n",
       "    <tr>\n",
       "      <th>2010-04-30</th>\n",
       "      <td>-0.002479</td>\n",
       "      <td>-0.001121</td>\n",
       "      <td>-0.149036</td>\n",
       "      <td>-0.013803</td>\n",
       "      <td>0.058004</td>\n",
       "      <td>-0.061847</td>\n",
       "      <td>-0.008788</td>\n",
       "    </tr>\n",
       "    <tr>\n",
       "      <th>...</th>\n",
       "      <td>...</td>\n",
       "      <td>...</td>\n",
       "      <td>...</td>\n",
       "      <td>...</td>\n",
       "      <td>...</td>\n",
       "      <td>...</td>\n",
       "      <td>...</td>\n",
       "    </tr>\n",
       "    <tr>\n",
       "      <th>2022-11-30</th>\n",
       "      <td>0.255210</td>\n",
       "      <td>0.050222</td>\n",
       "      <td>0.128218</td>\n",
       "      <td>0.029769</td>\n",
       "      <td>0.006112</td>\n",
       "      <td>0.088142</td>\n",
       "      <td>0.049841</td>\n",
       "    </tr>\n",
       "    <tr>\n",
       "      <th>2022-12-31</th>\n",
       "      <td>0.064904</td>\n",
       "      <td>-0.119851</td>\n",
       "      <td>-0.110760</td>\n",
       "      <td>-0.007584</td>\n",
       "      <td>-0.033946</td>\n",
       "      <td>0.014213</td>\n",
       "      <td>-0.042581</td>\n",
       "    </tr>\n",
       "    <tr>\n",
       "      <th>2023-01-31</th>\n",
       "      <td>0.118169</td>\n",
       "      <td>0.071256</td>\n",
       "      <td>0.065321</td>\n",
       "      <td>-0.074894</td>\n",
       "      <td>0.014685</td>\n",
       "      <td>-0.031906</td>\n",
       "      <td>0.108057</td>\n",
       "    </tr>\n",
       "    <tr>\n",
       "      <th>2023-02-28</th>\n",
       "      <td>-0.053756</td>\n",
       "      <td>-0.033258</td>\n",
       "      <td>-0.038709</td>\n",
       "      <td>-0.055426</td>\n",
       "      <td>-0.007353</td>\n",
       "      <td>-0.010893</td>\n",
       "      <td>-0.042740</td>\n",
       "    </tr>\n",
       "    <tr>\n",
       "      <th>2023-03-31</th>\n",
       "      <td>0.053982</td>\n",
       "      <td>-0.160773</td>\n",
       "      <td>-0.063125</td>\n",
       "      <td>0.011353</td>\n",
       "      <td>0.059490</td>\n",
       "      <td>0.008374</td>\n",
       "      <td>0.025098</td>\n",
       "    </tr>\n",
       "  </tbody>\n",
       "</table>\n",
       "<p>160 rows × 7 columns</p>\n",
       "</div>"
      ],
      "text/plain": [
       "                  BA       BAC        GS       JNJ       MCD       MRK  \\\n",
       "Date                                                                     \n",
       "2009-12-31       NaN       NaN       NaN       NaN       NaN       NaN   \n",
       "2010-01-31  0.119527  0.007968 -0.119166 -0.024065 -0.000160  0.044882   \n",
       "2010-02-28  0.049360  0.097497  0.053662  0.009896  0.031438 -0.034049   \n",
       "2010-03-31  0.149620  0.072080  0.091333  0.034920  0.044949  0.023348   \n",
       "2010-04-30 -0.002479 -0.001121 -0.149036 -0.013803  0.058004 -0.061847   \n",
       "...              ...       ...       ...       ...       ...       ...   \n",
       "2022-11-30  0.255210  0.050222  0.128218  0.029769  0.006112  0.088142   \n",
       "2022-12-31  0.064904 -0.119851 -0.110760 -0.007584 -0.033946  0.014213   \n",
       "2023-01-31  0.118169  0.071256  0.065321 -0.074894  0.014685 -0.031906   \n",
       "2023-02-28 -0.053756 -0.033258 -0.038709 -0.055426 -0.007353 -0.010893   \n",
       "2023-03-31  0.053982 -0.160773 -0.063125  0.011353  0.059490  0.008374   \n",
       "\n",
       "                   V  \n",
       "Date                  \n",
       "2009-12-31       NaN  \n",
       "2010-01-31 -0.062085  \n",
       "2010-02-28  0.041182  \n",
       "2010-03-31  0.067425  \n",
       "2010-04-30 -0.008788  \n",
       "...              ...  \n",
       "2022-11-30  0.049841  \n",
       "2022-12-31 -0.042581  \n",
       "2023-01-31  0.108057  \n",
       "2023-02-28 -0.042740  \n",
       "2023-03-31  0.025098  \n",
       "\n",
       "[160 rows x 7 columns]"
      ]
     },
     "execution_count": 15,
     "metadata": {},
     "output_type": "execute_result"
    }
   ],
   "source": [
    "# dropping na fails the autograder due to a shape error, so I am keeping the na vals\n",
    "returns_mon = prices_monthly.pct_change()\n",
    "returns_mon"
   ]
  },
  {
   "cell_type": "code",
   "execution_count": 16,
   "metadata": {
    "deletable": false,
    "editable": false
   },
   "outputs": [
    {
     "data": {
      "text/html": [
       "<p><strong><pre style='display: inline;'>q06</pre></strong> passed! ✨</p>"
      ],
      "text/plain": [
       "q06 results: All test cases passed!"
      ]
     },
     "execution_count": 16,
     "metadata": {},
     "output_type": "execute_result"
    }
   ],
   "source": [
    "grader.check(\"q06\")"
   ]
  },
  {
   "cell_type": "markdown",
   "metadata": {},
   "source": [
    "---"
   ]
  },
  {
   "cell_type": "markdown",
   "metadata": {
    "tags": []
   },
   "source": [
    "#### 7. Create a DataFrame named **weights** with three columns: 1) TICKER (set as the index); 2) Random_Weights and 3) Equal_Weights. Use the assigned seed as the random seed when generating the random weights.\n",
    "\n",
    "_Points:_ 10"
   ]
  },
  {
   "cell_type": "code",
   "execution_count": 17,
   "metadata": {
    "tags": []
   },
   "outputs": [
    {
     "data": {
      "text/html": [
       "<div>\n",
       "<style scoped>\n",
       "    .dataframe tbody tr th:only-of-type {\n",
       "        vertical-align: middle;\n",
       "    }\n",
       "\n",
       "    .dataframe tbody tr th {\n",
       "        vertical-align: top;\n",
       "    }\n",
       "\n",
       "    .dataframe thead th {\n",
       "        text-align: right;\n",
       "    }\n",
       "</style>\n",
       "<table border=\"1\" class=\"dataframe\">\n",
       "  <thead>\n",
       "    <tr style=\"text-align: right;\">\n",
       "      <th></th>\n",
       "      <th>Random_Weights</th>\n",
       "      <th>Equal_Weights</th>\n",
       "    </tr>\n",
       "    <tr>\n",
       "      <th>TICKER</th>\n",
       "      <th></th>\n",
       "      <th></th>\n",
       "    </tr>\n",
       "  </thead>\n",
       "  <tbody>\n",
       "    <tr>\n",
       "      <th>BA</th>\n",
       "      <td>0.144315</td>\n",
       "      <td>0.142857</td>\n",
       "    </tr>\n",
       "    <tr>\n",
       "      <th>BAC</th>\n",
       "      <td>0.145007</td>\n",
       "      <td>0.142857</td>\n",
       "    </tr>\n",
       "    <tr>\n",
       "      <th>GS</th>\n",
       "      <td>0.161602</td>\n",
       "      <td>0.142857</td>\n",
       "    </tr>\n",
       "    <tr>\n",
       "      <th>JNJ</th>\n",
       "      <td>0.142517</td>\n",
       "      <td>0.142857</td>\n",
       "    </tr>\n",
       "    <tr>\n",
       "      <th>MCD</th>\n",
       "      <td>0.272467</td>\n",
       "      <td>0.142857</td>\n",
       "    </tr>\n",
       "    <tr>\n",
       "      <th>MRK</th>\n",
       "      <td>0.029785</td>\n",
       "      <td>0.142857</td>\n",
       "    </tr>\n",
       "    <tr>\n",
       "      <th>V</th>\n",
       "      <td>0.104307</td>\n",
       "      <td>0.142857</td>\n",
       "    </tr>\n",
       "  </tbody>\n",
       "</table>\n",
       "</div>"
      ],
      "text/plain": [
       "        Random_Weights  Equal_Weights\n",
       "TICKER                               \n",
       "BA            0.144315       0.142857\n",
       "BAC           0.145007       0.142857\n",
       "GS            0.161602       0.142857\n",
       "JNJ           0.142517       0.142857\n",
       "MCD           0.272467       0.142857\n",
       "MRK           0.029785       0.142857\n",
       "V             0.104307       0.142857"
      ]
     },
     "execution_count": 17,
     "metadata": {},
     "output_type": "execute_result"
    }
   ],
   "source": [
    "np.random.seed(asgnd_seed)\n",
    "\n",
    "random_weights = np.random.uniform(size=len(stock_list))\n",
    "random_weights = random_weights / np.sum(random_weights)\n",
    "\n",
    "equal_weights = [1/len(stock_list)] * len(stock_list)\n",
    "\n",
    "weights = pd.DataFrame({'Random_Weights': random_weights, 'Equal_Weights': equal_weights}, index=stock_list)\n",
    "weights.index.name = 'TICKER'\n",
    "weights"
   ]
  },
  {
   "cell_type": "code",
   "execution_count": 18,
   "metadata": {
    "deletable": false,
    "editable": false
   },
   "outputs": [
    {
     "data": {
      "text/html": [
       "<p><strong><pre style='display: inline;'>q07</pre></strong> passed! 🍀</p>"
      ],
      "text/plain": [
       "q07 results: All test cases passed!"
      ]
     },
     "execution_count": 18,
     "metadata": {},
     "output_type": "execute_result"
    }
   ],
   "source": [
    "grader.check(\"q07\")"
   ]
  },
  {
   "cell_type": "markdown",
   "metadata": {},
   "source": [
    "---"
   ]
  },
  {
   "cell_type": "markdown",
   "metadata": {
    "tags": []
   },
   "source": [
    "#### 8. Create a new DataFrame labeled **portfolios** to compute and store the returns of four portfolios: a) two monthly-rebalanced portfolios allocated to the seven stocks according to the random weights, as well as the equal weights (Label the columns 'RW_MR_Ret' and 'EW_MR_Ret', respectively) and b) two buy-and-hold portfolios allocated to the seven stocks according to the random weights, as well as the equal weights (Label the columns 'RW_BH_Ret' and 'EW_BH_Ret', respectively). Drop any observations with missing values.\n",
    "\n",
    "_Points:_ 10"
   ]
  },
  {
   "cell_type": "code",
   "execution_count": 19,
   "metadata": {
    "tags": []
   },
   "outputs": [],
   "source": [
    "# random weights, rebalanced\n",
    "rw_mr = pd.DataFrame({'RW_MR_Ret':np.dot(returns_mon,list(weights.Random_Weights))},index = returns_mon.index)\n",
    "\n",
    "# equal weights, rebalanced\n",
    "ew_mr = pd.DataFrame({'EW_MR_Ret':np.dot(returns_mon,list(weights.Equal_Weights))},index = returns_mon.index)\n",
    "\n",
    "# random weights, bh\n",
    "rw_bh = pd.DataFrame({'RW_BH': np.dot(investments_mon, list(weights.Random_Weights))},index = investments_mon.index)\n",
    "rw_bh['RW_BH_Ret'] = rw_bh['RW_BH'].pct_change()\n",
    "rw_bh.drop(columns=['RW_BH'], inplace=True)\n",
    "\n",
    "# equal weights, bh\n",
    "ew_bh = pd.DataFrame({'EW_BH': np.dot(investments_mon, list(weights.Equal_Weights))},index = investments_mon.index)\n",
    "ew_bh['EW_BH_Ret'] = ew_bh['EW_BH'].pct_change()\n",
    "ew_bh.drop(columns=['EW_BH'], inplace=True)"
   ]
  },
  {
   "cell_type": "code",
   "execution_count": 20,
   "metadata": {},
   "outputs": [],
   "source": [
    "# merging and dropping missing vals\n",
    "portfolios = pd.concat([rw_mr, ew_mr, rw_bh, ew_bh], axis=1, join='inner').dropna()"
   ]
  },
  {
   "cell_type": "code",
   "execution_count": 21,
   "metadata": {},
   "outputs": [
    {
     "data": {
      "text/html": [
       "<div>\n",
       "<style scoped>\n",
       "    .dataframe tbody tr th:only-of-type {\n",
       "        vertical-align: middle;\n",
       "    }\n",
       "\n",
       "    .dataframe tbody tr th {\n",
       "        vertical-align: top;\n",
       "    }\n",
       "\n",
       "    .dataframe thead th {\n",
       "        text-align: right;\n",
       "    }\n",
       "</style>\n",
       "<table border=\"1\" class=\"dataframe\">\n",
       "  <thead>\n",
       "    <tr style=\"text-align: right;\">\n",
       "      <th></th>\n",
       "      <th>RW_MR_Ret</th>\n",
       "      <th>EW_MR_Ret</th>\n",
       "      <th>RW_BH_Ret</th>\n",
       "      <th>EW_BH_Ret</th>\n",
       "    </tr>\n",
       "    <tr>\n",
       "      <th>Date</th>\n",
       "      <th></th>\n",
       "      <th></th>\n",
       "      <th></th>\n",
       "      <th></th>\n",
       "    </tr>\n",
       "  </thead>\n",
       "  <tbody>\n",
       "    <tr>\n",
       "      <th>2010-01-31</th>\n",
       "      <td>-0.009465</td>\n",
       "      <td>-0.004728</td>\n",
       "      <td>-0.009465</td>\n",
       "      <td>-0.004728</td>\n",
       "    </tr>\n",
       "    <tr>\n",
       "      <th>2010-02-28</th>\n",
       "      <td>0.043190</td>\n",
       "      <td>0.035569</td>\n",
       "      <td>0.043182</td>\n",
       "      <td>0.035158</td>\n",
       "    </tr>\n",
       "    <tr>\n",
       "      <th>2010-03-31</th>\n",
       "      <td>0.071756</td>\n",
       "      <td>0.069097</td>\n",
       "      <td>0.073291</td>\n",
       "      <td>0.070780</td>\n",
       "    </tr>\n",
       "    <tr>\n",
       "      <th>2010-04-30</th>\n",
       "      <td>-0.013527</td>\n",
       "      <td>-0.025582</td>\n",
       "      <td>-0.011636</td>\n",
       "      <td>-0.023341</td>\n",
       "    </tr>\n",
       "    <tr>\n",
       "      <th>2010-05-31</th>\n",
       "      <td>-0.079211</td>\n",
       "      <td>-0.084859</td>\n",
       "      <td>-0.082228</td>\n",
       "      <td>-0.088166</td>\n",
       "    </tr>\n",
       "    <tr>\n",
       "      <th>...</th>\n",
       "      <td>...</td>\n",
       "      <td>...</td>\n",
       "      <td>...</td>\n",
       "      <td>...</td>\n",
       "    </tr>\n",
       "    <tr>\n",
       "      <th>2022-11-30</th>\n",
       "      <td>0.078565</td>\n",
       "      <td>0.086788</td>\n",
       "      <td>0.060512</td>\n",
       "      <td>0.070863</td>\n",
       "    </tr>\n",
       "    <tr>\n",
       "      <th>2022-12-31</th>\n",
       "      <td>-0.040260</td>\n",
       "      <td>-0.033658</td>\n",
       "      <td>-0.033764</td>\n",
       "      <td>-0.028519</td>\n",
       "    </tr>\n",
       "    <tr>\n",
       "      <th>2023-01-31</th>\n",
       "      <td>0.041591</td>\n",
       "      <td>0.038670</td>\n",
       "      <td>0.045858</td>\n",
       "      <td>0.046688</td>\n",
       "    </tr>\n",
       "    <tr>\n",
       "      <th>2023-02-28</th>\n",
       "      <td>-0.033521</td>\n",
       "      <td>-0.034591</td>\n",
       "      <td>-0.032000</td>\n",
       "      <td>-0.034392</td>\n",
       "    </tr>\n",
       "    <tr>\n",
       "      <th>2023-03-31</th>\n",
       "      <td>-0.005030</td>\n",
       "      <td>-0.009372</td>\n",
       "      <td>0.016751</td>\n",
       "      <td>0.010765</td>\n",
       "    </tr>\n",
       "  </tbody>\n",
       "</table>\n",
       "<p>159 rows × 4 columns</p>\n",
       "</div>"
      ],
      "text/plain": [
       "            RW_MR_Ret  EW_MR_Ret  RW_BH_Ret  EW_BH_Ret\n",
       "Date                                                  \n",
       "2010-01-31  -0.009465  -0.004728  -0.009465  -0.004728\n",
       "2010-02-28   0.043190   0.035569   0.043182   0.035158\n",
       "2010-03-31   0.071756   0.069097   0.073291   0.070780\n",
       "2010-04-30  -0.013527  -0.025582  -0.011636  -0.023341\n",
       "2010-05-31  -0.079211  -0.084859  -0.082228  -0.088166\n",
       "...               ...        ...        ...        ...\n",
       "2022-11-30   0.078565   0.086788   0.060512   0.070863\n",
       "2022-12-31  -0.040260  -0.033658  -0.033764  -0.028519\n",
       "2023-01-31   0.041591   0.038670   0.045858   0.046688\n",
       "2023-02-28  -0.033521  -0.034591  -0.032000  -0.034392\n",
       "2023-03-31  -0.005030  -0.009372   0.016751   0.010765\n",
       "\n",
       "[159 rows x 4 columns]"
      ]
     },
     "execution_count": 21,
     "metadata": {},
     "output_type": "execute_result"
    }
   ],
   "source": [
    "portfolios"
   ]
  },
  {
   "cell_type": "code",
   "execution_count": 22,
   "metadata": {
    "deletable": false,
    "editable": false
   },
   "outputs": [
    {
     "data": {
      "text/html": [
       "<p><strong><pre style='display: inline;'>q08</pre></strong> passed! 🚀</p>"
      ],
      "text/plain": [
       "q08 results: All test cases passed!"
      ]
     },
     "execution_count": 22,
     "metadata": {},
     "output_type": "execute_result"
    }
   ],
   "source": [
    "grader.check(\"q08\")"
   ]
  },
  {
   "cell_type": "markdown",
   "metadata": {},
   "source": [
    "---"
   ]
  },
  {
   "cell_type": "markdown",
   "metadata": {},
   "source": [
    "#### 9. Which of the four portfolios was the best performer over the entire sample period? What was its' cumulative (total) return over the entire sample period? Store the two values in two variables called **port9** and **ret9**, respectively.\n",
    "\n",
    "_Points:_ 5"
   ]
  },
  {
   "cell_type": "code",
   "execution_count": 23,
   "metadata": {
    "tags": []
   },
   "outputs": [],
   "source": [
    "cumulative_returns = portfolios.add(1).cumprod().iloc[-1] - 1\n",
    "\n",
    "# finding the best performer\n",
    "port9 = cumulative_returns.idxmax()\n",
    "ret9 = cumulative_returns[port9]"
   ]
  },
  {
   "cell_type": "code",
   "execution_count": 24,
   "metadata": {
    "deletable": false,
    "editable": false
   },
   "outputs": [
    {
     "data": {
      "text/html": [
       "<p><strong><pre style='display: inline;'>q09</pre></strong> passed! 🙌</p>"
      ],
      "text/plain": [
       "q09 results: All test cases passed!"
      ]
     },
     "execution_count": 24,
     "metadata": {},
     "output_type": "execute_result"
    }
   ],
   "source": [
    "grader.check(\"q09\")"
   ]
  },
  {
   "cell_type": "markdown",
   "metadata": {},
   "source": [
    "---"
   ]
  },
  {
   "cell_type": "markdown",
   "metadata": {},
   "source": [
    "#### 10. Which of the four portfolios was the worst performer over the sample period January 2022 - March 2023? What was its' cumulative (total) return? Store the two values in two variables called **port10** and **ret10**, respectively.\n",
    "\n",
    "_Points:_ 5"
   ]
  },
  {
   "cell_type": "code",
   "execution_count": 25,
   "metadata": {
    "tags": []
   },
   "outputs": [],
   "source": [
    "sample_portfolios = portfolios.loc['2022-01':'2023-03']\n",
    "sample_cumulative_returns = sample_portfolios.add(1).cumprod().iloc[-1] - 1\n",
    "\n",
    "# finding the worst performer\n",
    "port10 = sample_cumulative_returns.idxmin()\n",
    "ret10 = sample_cumulative_returns[port10]"
   ]
  },
  {
   "cell_type": "code",
   "execution_count": 26,
   "metadata": {
    "deletable": false,
    "editable": false
   },
   "outputs": [
    {
     "data": {
      "text/html": [
       "<p><strong><pre style='display: inline;'>q10</pre></strong> passed! 🙌</p>"
      ],
      "text/plain": [
       "q10 results: All test cases passed!"
      ]
     },
     "execution_count": 26,
     "metadata": {},
     "output_type": "execute_result"
    }
   ],
   "source": [
    "grader.check(\"q10\")"
   ]
  },
  {
   "cell_type": "markdown",
   "metadata": {},
   "source": [
    "---"
   ]
  },
  {
   "cell_type": "markdown",
   "metadata": {},
   "source": [
    "<!-- BEGIN QUESTION -->\n",
    "\n",
    "#### 11. Create a line plot of the four portfolio cumulative return series. Use \"figsize\", \"grid\" and \"title\" arguments in your plot.\n",
    "\n",
    "_Points:_ 10"
   ]
  },
  {
   "cell_type": "code",
   "execution_count": 27,
   "metadata": {
    "tags": []
   },
   "outputs": [
    {
     "data": {
      "image/png": "[encoded data removed]",
      "text/plain": [
       "<Figure size 1200x600 with 1 Axes>"
      ]
     },
     "metadata": {},
     "output_type": "display_data"
    }
   ],
   "source": [
    "# plotting\n",
    "portfolios.add(1).cumprod().plot(figsize=(12, 6), grid=True,title='Cumulative Returns of Four Portfolios')\n",
    "plt.ylabel('Cumulative Return')\n",
    "plt.show()"
   ]
  },
  {
   "cell_type": "markdown",
   "metadata": {},
   "source": [
    "<!-- END QUESTION -->\n",
    "\n",
    "---"
   ]
  },
  {
   "cell_type": "markdown",
   "metadata": {},
   "source": [
    "<!-- BEGIN QUESTION -->\n",
    "\n",
    "#### 12. Create a bar plot of the four portfolios' annualized monthly standard deviations. Use \"figsize\", \"grid\" and \"title\" arguments in your plot.\n",
    "\n",
    "_Points:_ 10"
   ]
  },
  {
   "cell_type": "code",
   "execution_count": 28,
   "metadata": {
    "scrolled": true,
    "tags": []
   },
   "outputs": [
    {
     "data": {
      "image/png": "[encoded data removed]",
      "text/plain": [
       "<Figure size 1200x600 with 1 Axes>"
      ]
     },
     "metadata": {},
     "output_type": "display_data"
    }
   ],
   "source": [
    "std_annualized = portfolios.std() * np.sqrt(12)\n",
    "\n",
    "# plotting stds\n",
    "std_annualized.plot(kind='bar', figsize=(12, 6), grid=True, title='Annualized Monthly Standard Deviation of Four Portfolios')\n",
    "\n",
    "plt.ylabel('Annualized Standard Deviation')\n",
    "plt.xlabel('Portfolio')\n",
    "plt.show()"
   ]
  },
  {
   "cell_type": "markdown",
   "metadata": {},
   "source": [
    "<!-- END QUESTION -->\n",
    "\n"
   ]
  },
  {
   "cell_type": "markdown",
   "metadata": {
    "deletable": false,
    "editable": false
   },
   "source": [
    "## Submission\n",
    "\n",
    "Make sure you have run all cells in your notebook in order before running the cell below, so that all images/graphs appear in the output. The cell below will generate a zip file for you to submit. **Please save before exporting!**"
   ]
  },
  {
   "cell_type": "code",
   "execution_count": 29,
   "metadata": {
    "deletable": false,
    "editable": false
   },
   "outputs": [
    {
     "name": "stdout",
     "output_type": "stream",
     "text": [
      "Running your submission against local test cases...\n",
      "\n",
      "\n",
      "\n",
      "Your submission received the following results when run against available test cases:\n",
      "\n",
      "    q01 results: All test cases passed!\n",
      "\n",
      "    q02 results:\n",
      "        q02 - 1 result:\n",
      "            ✅ Test case passed\n",
      "\n",
      "        q02 - 2 result:\n",
      "            ❌ Test case failed\n",
      "            Trying:\n",
      "                investments.sum().values\n",
      "            Expecting:\n",
      "                array([12824.91413411,  5300.24469   ,  4582.25613663,  7550.31941271,\n",
      "                        9974.98807714,  7516.36093401, 17180.52960308])\n",
      "            **********************************************************************\n",
      "            Line 1, in q02 1\n",
      "            Failed example:\n",
      "                investments.sum().values\n",
      "            Expected:\n",
      "                array([12824.91413411,  5300.24469   ,  4582.25613663,  7550.31941271,\n",
      "                        9974.98807714,  7516.36093401, 17180.52960308])\n",
      "            Got:\n",
      "                array([12824.91643023,  5300.24509856,  4582.25714793,  7550.32074298,\n",
      "                        9974.98719162,  7516.36090998, 17180.52793353])\n",
      "\n",
      "        q02 - 3 result:\n",
      "            ✅ Test case passed\n",
      "\n",
      "    q03 results: All test cases passed!\n",
      "\n",
      "    q04 results: All test cases passed!\n",
      "\n",
      "    q05 results: All test cases passed!\n",
      "\n",
      "    q06 results: All test cases passed!\n",
      "\n",
      "    q07 results: All test cases passed!\n",
      "\n",
      "    q08 results: All test cases passed!\n",
      "\n",
      "    q09 results: All test cases passed!\n",
      "\n",
      "    q10 results: All test cases passed!\n"
     ]
    },
    {
     "data": {
      "text/html": [
       "\n",
       "            <p>Your submission has been exported. Click <a href=\"HW3_Gradescope_2023_04_09T16_01_18_872279.zip\" download=\"HW3_Gradescope_2023_04_09T16_01_18_872279.zip\" target=\"_blank\">here</a>\n",
       "            to download the zip file.</p>\n",
       "            "
      ],
      "text/plain": [
       "<IPython.core.display.HTML object>"
      ]
     },
     "metadata": {},
     "output_type": "display_data"
    }
   ],
   "source": [
    "# Save your notebook first, then run this cell to export your submission.\n",
    "grader.export(pdf=False, run_tests=True)"
   ]
  },
  {
   "cell_type": "markdown",
   "metadata": {},
   "source": [
    " "
   ]
  }
 ],
 "metadata": {
  "kernelspec": {
   "display_name": "Python 3 (ipykernel)",
   "language": "python",
   "name": "python3"
  },
  "language_info": {
   "codemirror_mode": {
    "name": "ipython",
    "version": 3
   },
   "file_extension": ".py",
   "mimetype": "text/x-python",
   "name": "python",
   "nbconvert_exporter": "python",
   "pygments_lexer": "ipython3",
   "version": "3.8.13"
  },
  "otter": {
   "OK_FORMAT": true,
   "tests": {
    "q01": {
     "name": "q01",
     "points": 10,
     "suites": [
      {
       "cases": [
        {
         "code": ">>> prices.shape == (3335,7)\nTrue",
         "hidden": false,
         "locked": false,
         "points": 5
        },
        {
         "code": ">>> np.allclose(np.sort(prices.sum().values),\\\n...             np.sort(np.array([540956.44763184,66546.50459862,625187.58621979,330544.01719284,428807.21240997,166449.45791626,341905.05040455])))\nTrue",
         "hidden": false,
         "locked": false,
         "points": 5
        }
       ],
       "scored": true,
       "setup": "",
       "teardown": "",
       "type": "doctest"
      }
     ]
    },
    "q02": {
     "name": "q02",
     "points": 10,
     "suites": [
      {
       "cases": [
        {
         "code": ">>> prices.shape == (3335,7)\nTrue",
         "hidden": false,
         "locked": false,
         "points": 5
        },
        {
         "code": ">>> investments.sum().values\narray([12824.91413411,  5300.24469   ,  4582.25613663,  7550.31941271,\n        9974.98807714,  7516.36093401, 17180.52960308])",
         "hidden": false,
         "locked": false
        },
        {
         "code": ">>> np.allclose(np.sort(investments.sum().values),\\\n...             np.sort(np.array([12824.91413411,5300.24469,4582.25613663,7550.31941271,9974.98807714,7516.36093401,17180.52960308])))\nTrue",
         "hidden": false,
         "locked": false,
         "points": 5
        }
       ],
       "scored": true,
       "setup": "",
       "teardown": "",
       "type": "doctest"
      }
     ]
    },
    "q03": {
     "name": "q03",
     "points": 5,
     "suites": [
      {
       "cases": [
        {
         "code": ">>> pd.DataFrame(ans3).shape==(1,2) or pd.DataFrame(ans3).shape==(2,1)\nTrue",
         "hidden": false,
         "locked": false,
         "points": 2.5
        }
       ],
       "scored": true,
       "setup": "",
       "teardown": "",
       "type": "doctest"
      }
     ]
    },
    "q04": {
     "name": "q04",
     "points": 5,
     "suites": [
      {
       "cases": [
        {
         "code": ">>> pd.DataFrame(ans4).shape==(1,2) or pd.DataFrame(ans4).shape==(2,1)\nTrue",
         "hidden": false,
         "locked": false,
         "points": 2.5
        }
       ],
       "scored": true,
       "setup": "",
       "teardown": "",
       "type": "doctest"
      }
     ]
    },
    "q05": {
     "name": "q05",
     "points": 10,
     "suites": [
      {
       "cases": [
        {
         "code": ">>> investments_mon.shape == (160,7)\nTrue",
         "hidden": false,
         "locked": false,
         "points": 5
        },
        {
         "code": ">>> np.allclose(np.sort(investments_mon.sum().values),\\\n...             np.sort(np.array([612.44923998,253.20155388,219.02553774,361.37894469,478.94399309,360.61261972,822.70281313])))\nTrue",
         "hidden": false,
         "locked": false,
         "points": 5
        }
       ],
       "scored": true,
       "setup": "",
       "teardown": "",
       "type": "doctest"
      }
     ]
    },
    "q06": {
     "name": "q06",
     "points": 10,
     "suites": [
      {
       "cases": [
        {
         "code": ">>> returns_mon.shape == (160,7)\nTrue",
         "hidden": false,
         "locked": false,
         "points": 5
        },
        {
         "code": ">>> np.allclose(np.sort(returns_mon.sum().values),\\\n...             np.sort(np.array([2.40358268,1.53101898,1.43574277,1.41455807,2.03729064,1.78905321,2.71686657])))\nTrue",
         "hidden": false,
         "locked": false,
         "points": 5
        }
       ],
       "scored": true,
       "setup": "",
       "teardown": "",
       "type": "doctest"
      }
     ]
    },
    "q07": {
     "name": "q07",
     "points": 10,
     "suites": [
      {
       "cases": [
        {
         "code": ">>> weights.shape == (7,2)\nTrue",
         "hidden": false,
         "locked": false,
         "points": 5
        },
        {
         "code": ">>> np.allclose(np.sort(weights.std().values),\\\n...             np.sort(np.array([7.23747003e-02, 2.99794481e-17])))\nTrue",
         "hidden": false,
         "locked": false,
         "points": 5
        }
       ],
       "scored": true,
       "setup": "",
       "teardown": "",
       "type": "doctest"
      }
     ]
    },
    "q08": {
     "name": "q08",
     "points": 10,
     "suites": [
      {
       "cases": [
        {
         "code": ">>> portfolios.shape == (159, 4)\nTrue",
         "hidden": false,
         "locked": false,
         "points": 5
        },
        {
         "code": ">>> np.allclose(np.sort(portfolios.sum().values),\\\n...             np.sort(np.array([1.89426829,1.79750554,1.90401613,1.81311419])))\nTrue",
         "hidden": false,
         "locked": false,
         "points": 5
        }
       ],
       "scored": true,
       "setup": "",
       "teardown": "",
       "type": "doctest"
      }
     ]
    },
    "q09": {
     "name": "q09",
     "points": 5,
     "suites": [
      {
       "cases": [
        {
         "code": ">>> port9 == 'EW_MR_Ret'\nTrue",
         "hidden": false,
         "locked": false,
         "points": 2.5
        },
        {
         "code": ">>> np.allclose(ret9, 4.587479379312097)\nTrue",
         "hidden": false,
         "locked": false,
         "points": 2.5
        }
       ],
       "scored": true,
       "setup": "",
       "teardown": "",
       "type": "doctest"
      }
     ]
    },
    "q10": {
     "name": "q10",
     "points": 5,
     "suites": [
      {
       "cases": [
        {
         "code": ">>> port10 == 'RW_MR_Ret'\nTrue",
         "hidden": false,
         "locked": false,
         "points": 2.5
        },
        {
         "code": ">>> np.allclose(ret10, -0.019727480530448815)\nTrue",
         "hidden": false,
         "locked": false,
         "points": 2.5
        }
       ],
       "scored": true,
       "setup": "",
       "teardown": "",
       "type": "doctest"
      }
     ]
    }
   }
  }
 },
 "nbformat": 4,
 "nbformat_minor": 4
}
