{
 "cells": [
  {
   "cell_type": "markdown",
   "metadata": {},
   "source": [
    "### FINA 4380 with Marius Popescu"
   ]
  },
  {
   "cell_type": "markdown",
   "metadata": {},
   "source": [
    "### Rolling Portfolio Optimization"
   ]
  },
  {
   "cell_type": "code",
   "execution_count": 2,
   "metadata": {},
   "outputs": [],
   "source": [
    "import numpy as np\n",
    "import pandas as pd\n",
    "\n",
    "import datetime as dt\n",
    "import yfinance as yf\n",
    "import pandas_datareader.data as web\n",
    "\n",
    "import matplotlib.pyplot as plt\n",
    "%matplotlib inline\n",
    "%config InlineBackend.figure_format = 'retina'\n",
    "\n",
    "from scipy.optimize import minimize"
   ]
  },
  {
   "cell_type": "code",
   "execution_count": 3,
   "metadata": {},
   "outputs": [
    {
     "data": {
      "text/html": [
       "<div>\n",
       "<style scoped>\n",
       "    .dataframe tbody tr th:only-of-type {\n",
       "        vertical-align: middle;\n",
       "    }\n",
       "\n",
       "    .dataframe tbody tr th {\n",
       "        vertical-align: top;\n",
       "    }\n",
       "\n",
       "    .dataframe thead th {\n",
       "        text-align: right;\n",
       "    }\n",
       "</style>\n",
       "<table border=\"1\" class=\"dataframe\">\n",
       "  <thead>\n",
       "    <tr style=\"text-align: right;\">\n",
       "      <th></th>\n",
       "      <th>RF</th>\n",
       "    </tr>\n",
       "    <tr>\n",
       "      <th>Date</th>\n",
       "      <th></th>\n",
       "    </tr>\n",
       "  </thead>\n",
       "  <tbody>\n",
       "    <tr>\n",
       "      <th>2023-02-22</th>\n",
       "      <td>0.00018</td>\n",
       "    </tr>\n",
       "    <tr>\n",
       "      <th>2023-02-23</th>\n",
       "      <td>0.00018</td>\n",
       "    </tr>\n",
       "    <tr>\n",
       "      <th>2023-02-24</th>\n",
       "      <td>0.00018</td>\n",
       "    </tr>\n",
       "    <tr>\n",
       "      <th>2023-02-27</th>\n",
       "      <td>0.00018</td>\n",
       "    </tr>\n",
       "    <tr>\n",
       "      <th>2023-02-28</th>\n",
       "      <td>0.00018</td>\n",
       "    </tr>\n",
       "  </tbody>\n",
       "</table>\n",
       "</div>"
      ],
      "text/plain": [
       "                 RF\n",
       "Date               \n",
       "2023-02-22  0.00018\n",
       "2023-02-23  0.00018\n",
       "2023-02-24  0.00018\n",
       "2023-02-27  0.00018\n",
       "2023-02-28  0.00018"
      ]
     },
     "execution_count": 3,
     "metadata": {},
     "output_type": "execute_result"
    }
   ],
   "source": [
    "start = dt.datetime(2020, 1, 1)\n",
    "end = dt.datetime.now()\n",
    "\n",
    "rf_rate = web.DataReader('F-F_Research_Data_Factors_daily','famafrench', start, end)[0][['RF']].div(100)\n",
    "rf_rate.tail()"
   ]
  },
  {
   "cell_type": "code",
   "execution_count": 4,
   "metadata": {},
   "outputs": [
    {
     "name": "stdout",
     "output_type": "stream",
     "text": [
      "[*********************100%***********************]  11 of 11 completed\n"
     ]
    },
    {
     "data": {
      "text/html": [
       "<div>\n",
       "<style scoped>\n",
       "    .dataframe tbody tr th:only-of-type {\n",
       "        vertical-align: middle;\n",
       "    }\n",
       "\n",
       "    .dataframe tbody tr th {\n",
       "        vertical-align: top;\n",
       "    }\n",
       "\n",
       "    .dataframe thead th {\n",
       "        text-align: right;\n",
       "    }\n",
       "</style>\n",
       "<table border=\"1\" class=\"dataframe\">\n",
       "  <thead>\n",
       "    <tr style=\"text-align: right;\">\n",
       "      <th></th>\n",
       "      <th>VAW</th>\n",
       "      <th>VCR</th>\n",
       "      <th>VDC</th>\n",
       "      <th>VDE</th>\n",
       "      <th>VFH</th>\n",
       "      <th>VGT</th>\n",
       "      <th>VHT</th>\n",
       "      <th>VIS</th>\n",
       "      <th>VNQ</th>\n",
       "      <th>VOX</th>\n",
       "      <th>VPU</th>\n",
       "    </tr>\n",
       "    <tr>\n",
       "      <th>Date</th>\n",
       "      <th></th>\n",
       "      <th></th>\n",
       "      <th></th>\n",
       "      <th></th>\n",
       "      <th></th>\n",
       "      <th></th>\n",
       "      <th></th>\n",
       "      <th></th>\n",
       "      <th></th>\n",
       "      <th></th>\n",
       "      <th></th>\n",
       "    </tr>\n",
       "  </thead>\n",
       "  <tbody>\n",
       "    <tr>\n",
       "      <th>2023-03-29</th>\n",
       "      <td>0.013085</td>\n",
       "      <td>0.017827</td>\n",
       "      <td>0.005670</td>\n",
       "      <td>0.014420</td>\n",
       "      <td>0.014704</td>\n",
       "      <td>0.020435</td>\n",
       "      <td>0.004107</td>\n",
       "      <td>0.013191</td>\n",
       "      <td>0.022163</td>\n",
       "      <td>0.013537</td>\n",
       "      <td>0.014052</td>\n",
       "    </tr>\n",
       "    <tr>\n",
       "      <th>2023-03-30</th>\n",
       "      <td>0.005568</td>\n",
       "      <td>0.008389</td>\n",
       "      <td>0.002923</td>\n",
       "      <td>0.002649</td>\n",
       "      <td>-0.003623</td>\n",
       "      <td>0.010093</td>\n",
       "      <td>0.004346</td>\n",
       "      <td>0.002828</td>\n",
       "      <td>0.013084</td>\n",
       "      <td>0.003922</td>\n",
       "      <td>0.004047</td>\n",
       "    </tr>\n",
       "    <tr>\n",
       "      <th>2023-03-31</th>\n",
       "      <td>0.015128</td>\n",
       "      <td>0.024918</td>\n",
       "      <td>0.007235</td>\n",
       "      <td>0.005900</td>\n",
       "      <td>0.011427</td>\n",
       "      <td>0.016240</td>\n",
       "      <td>0.011710</td>\n",
       "      <td>0.013675</td>\n",
       "      <td>0.021402</td>\n",
       "      <td>0.020695</td>\n",
       "      <td>0.007926</td>\n",
       "    </tr>\n",
       "    <tr>\n",
       "      <th>2023-04-03</th>\n",
       "      <td>0.005736</td>\n",
       "      <td>-0.006573</td>\n",
       "      <td>0.006201</td>\n",
       "      <td>0.047711</td>\n",
       "      <td>-0.001797</td>\n",
       "      <td>-0.001323</td>\n",
       "      <td>0.009729</td>\n",
       "      <td>0.002782</td>\n",
       "      <td>-0.007948</td>\n",
       "      <td>0.002690</td>\n",
       "      <td>-0.007660</td>\n",
       "    </tr>\n",
       "    <tr>\n",
       "      <th>2023-04-04</th>\n",
       "      <td>-0.016272</td>\n",
       "      <td>-0.002112</td>\n",
       "      <td>-0.004622</td>\n",
       "      <td>-0.019552</td>\n",
       "      <td>-0.012219</td>\n",
       "      <td>-0.006338</td>\n",
       "      <td>-0.000581</td>\n",
       "      <td>-0.024969</td>\n",
       "      <td>-0.001335</td>\n",
       "      <td>0.000619</td>\n",
       "      <td>0.004577</td>\n",
       "    </tr>\n",
       "  </tbody>\n",
       "</table>\n",
       "</div>"
      ],
      "text/plain": [
       "                 VAW       VCR       VDC       VDE       VFH       VGT  \\\n",
       "Date                                                                     \n",
       "2023-03-29  0.013085  0.017827  0.005670  0.014420  0.014704  0.020435   \n",
       "2023-03-30  0.005568  0.008389  0.002923  0.002649 -0.003623  0.010093   \n",
       "2023-03-31  0.015128  0.024918  0.007235  0.005900  0.011427  0.016240   \n",
       "2023-04-03  0.005736 -0.006573  0.006201  0.047711 -0.001797 -0.001323   \n",
       "2023-04-04 -0.016272 -0.002112 -0.004622 -0.019552 -0.012219 -0.006338   \n",
       "\n",
       "                 VHT       VIS       VNQ       VOX       VPU  \n",
       "Date                                                          \n",
       "2023-03-29  0.004107  0.013191  0.022163  0.013537  0.014052  \n",
       "2023-03-30  0.004346  0.002828  0.013084  0.003922  0.004047  \n",
       "2023-03-31  0.011710  0.013675  0.021402  0.020695  0.007926  \n",
       "2023-04-03  0.009729  0.002782 -0.007948  0.002690 -0.007660  \n",
       "2023-04-04 -0.000581 -0.024969 -0.001335  0.000619  0.004577  "
      ]
     },
     "execution_count": 4,
     "metadata": {},
     "output_type": "execute_result"
    }
   ],
   "source": [
    "ticker_list= ['VDE','VAW', 'VIS', 'VCR', 'VDC','VHT', 'VFH', 'VGT', 'VOX', 'VPU', 'VNQ']\n",
    "\n",
    "returns = yf.download(ticker_list,start-pd.offsets.BDay(1),end+pd.offsets.BDay(1))['Adj Close'].pct_change().dropna()\n",
    "returns.tail()"
   ]
  },
  {
   "cell_type": "code",
   "execution_count": 5,
   "metadata": {},
   "outputs": [
    {
     "data": {
      "text/html": [
       "<div>\n",
       "<style scoped>\n",
       "    .dataframe tbody tr th:only-of-type {\n",
       "        vertical-align: middle;\n",
       "    }\n",
       "\n",
       "    .dataframe tbody tr th {\n",
       "        vertical-align: top;\n",
       "    }\n",
       "\n",
       "    .dataframe thead th {\n",
       "        text-align: right;\n",
       "    }\n",
       "</style>\n",
       "<table border=\"1\" class=\"dataframe\">\n",
       "  <thead>\n",
       "    <tr style=\"text-align: right;\">\n",
       "      <th></th>\n",
       "      <th>VAW</th>\n",
       "      <th>VCR</th>\n",
       "      <th>VDC</th>\n",
       "      <th>VDE</th>\n",
       "      <th>VFH</th>\n",
       "      <th>VGT</th>\n",
       "      <th>VHT</th>\n",
       "      <th>VIS</th>\n",
       "      <th>VNQ</th>\n",
       "      <th>VOX</th>\n",
       "      <th>VPU</th>\n",
       "    </tr>\n",
       "    <tr>\n",
       "      <th>Date</th>\n",
       "      <th></th>\n",
       "      <th></th>\n",
       "      <th></th>\n",
       "      <th></th>\n",
       "      <th></th>\n",
       "      <th></th>\n",
       "      <th></th>\n",
       "      <th></th>\n",
       "      <th></th>\n",
       "      <th></th>\n",
       "      <th></th>\n",
       "    </tr>\n",
       "  </thead>\n",
       "  <tbody>\n",
       "    <tr>\n",
       "      <th>2023-02-28</th>\n",
       "      <td>0.005154</td>\n",
       "      <td>0.000445</td>\n",
       "      <td>-0.008431</td>\n",
       "      <td>-0.014537</td>\n",
       "      <td>0.002065</td>\n",
       "      <td>-0.00105</td>\n",
       "      <td>-0.006895</td>\n",
       "      <td>-0.001873</td>\n",
       "      <td>-0.001398</td>\n",
       "      <td>-0.000441</td>\n",
       "      <td>-0.016453</td>\n",
       "    </tr>\n",
       "  </tbody>\n",
       "</table>\n",
       "</div>"
      ],
      "text/plain": [
       "                 VAW       VCR       VDC       VDE       VFH      VGT  \\\n",
       "Date                                                                    \n",
       "2023-02-28  0.005154  0.000445 -0.008431 -0.014537  0.002065 -0.00105   \n",
       "\n",
       "                 VHT       VIS       VNQ       VOX       VPU  \n",
       "Date                                                          \n",
       "2023-02-28 -0.006895 -0.001873 -0.001398 -0.000441 -0.016453  "
      ]
     },
     "execution_count": 5,
     "metadata": {},
     "output_type": "execute_result"
    }
   ],
   "source": [
    "returns=returns[returns.index<=rf_rate.index[-1]]\n",
    "returns.tail(1)"
   ]
  },
  {
   "cell_type": "code",
   "execution_count": 6,
   "metadata": {},
   "outputs": [
    {
     "data": {
      "text/plain": [
       "795"
      ]
     },
     "execution_count": 6,
     "metadata": {},
     "output_type": "execute_result"
    }
   ],
   "source": [
    "len(returns.index)"
   ]
  },
  {
   "cell_type": "code",
   "execution_count": 7,
   "metadata": {},
   "outputs": [],
   "source": [
    "# Window for the optimization is 500 trading days"
   ]
  },
  {
   "cell_type": "markdown",
   "metadata": {},
   "source": [
    "We want to find the optimal portfolio over each of the following groups of observations:\n",
    "* observations 1 - 500\n",
    "* observations 2 - 501\n",
    "* observations 3 - 502\n",
    "* observations 4 - 503\n",
    "* ...\n",
    "* observations 296 - 795"
   ]
  },
  {
   "cell_type": "code",
   "execution_count": 9,
   "metadata": {},
   "outputs": [],
   "source": [
    "#for i in range(0,len(returns.index)-500+1):\n",
    "#    print(i,i+500-1)"
   ]
  },
  {
   "cell_type": "code",
   "execution_count": 20,
   "metadata": {},
   "outputs": [],
   "source": [
    "optimal_weights = pd.DataFrame()\n",
    "\n",
    "for i in range(0,len(returns.index)-500+1):\n",
    "    # Define the excess portfolio returns function\n",
    "    def ex_port_ret(weights):\n",
    "        ex_port_ret = (np.dot(returns.iloc[i:i+500],weights) - rf_rate.iloc[i:i+500]['RF']).mean()*250\n",
    "        return ex_port_ret\n",
    "\n",
    "    # Define the excess portfolio standard deviation function\n",
    "    def ex_port_std(weights):\n",
    "        ex_port_std = (np.dot(returns.iloc[i:i+500],weights) - rf_rate.iloc[i:i+500]['RF']).std()*np.sqrt(250)\n",
    "        return ex_port_std\n",
    "\n",
    "    # Define the negative Sharpe Ratio function that we will minimize\n",
    "    def neg_SR(weights):\n",
    "        SR = ex_port_ret(weights) / ex_port_std(weights)\n",
    "        return (-1)*SR\n",
    "\n",
    "    # By convention of minimize function it should be a function\n",
    "    # that returns zero for conditions\n",
    "    constraints = ({'type':'eq','fun': lambda weights: np.sum(weights) - 1})\n",
    "\n",
    "    # Weights must be between 0 and 1\n",
    "    boundaries=[(0,1)]\n",
    "    bounds = tuple(boundaries * len(returns.columns))\n",
    "\n",
    "    # Initial Guess (equally weighted)\n",
    "    init_guess = np.full(len(returns.columns),1/len(returns.columns))\n",
    "    \n",
    "    optimal_port = minimize(neg_SR,init_guess,bounds = bounds,constraints=constraints)\n",
    "    \n",
    "    optimal_weights = pd.concat([optimal_weights,\n",
    "                                pd.DataFrame(optimal_port.x.reshape(1,len(ticker_list)).round(4),\n",
    "                                             columns=[ticker_list],\n",
    "                                             index=[returns.iloc[i:i+500].index[-1]])],\n",
    "                                axis=0)"
   ]
  },
  {
   "cell_type": "code",
   "execution_count": 21,
   "metadata": {},
   "outputs": [
    {
     "data": {
      "text/html": [
       "<div>\n",
       "<style scoped>\n",
       "    .dataframe tbody tr th:only-of-type {\n",
       "        vertical-align: middle;\n",
       "    }\n",
       "\n",
       "    .dataframe tbody tr th {\n",
       "        vertical-align: top;\n",
       "    }\n",
       "\n",
       "    .dataframe thead tr th {\n",
       "        text-align: left;\n",
       "    }\n",
       "</style>\n",
       "<table border=\"1\" class=\"dataframe\">\n",
       "  <thead>\n",
       "    <tr>\n",
       "      <th></th>\n",
       "      <th>VDE</th>\n",
       "      <th>VAW</th>\n",
       "      <th>VIS</th>\n",
       "      <th>VCR</th>\n",
       "      <th>VDC</th>\n",
       "      <th>VHT</th>\n",
       "      <th>VFH</th>\n",
       "      <th>VGT</th>\n",
       "      <th>VOX</th>\n",
       "      <th>VPU</th>\n",
       "      <th>VNQ</th>\n",
       "    </tr>\n",
       "  </thead>\n",
       "  <tbody>\n",
       "    <tr>\n",
       "      <th>2021-12-23</th>\n",
       "      <td>0.0</td>\n",
       "      <td>0.6913</td>\n",
       "      <td>0.0</td>\n",
       "      <td>0.0</td>\n",
       "      <td>0.0</td>\n",
       "      <td>0.3087</td>\n",
       "      <td>0.0</td>\n",
       "      <td>0.0</td>\n",
       "      <td>0.0</td>\n",
       "      <td>0.0</td>\n",
       "      <td>0.0</td>\n",
       "    </tr>\n",
       "    <tr>\n",
       "      <th>2021-12-27</th>\n",
       "      <td>0.0</td>\n",
       "      <td>0.6626</td>\n",
       "      <td>0.0</td>\n",
       "      <td>0.0</td>\n",
       "      <td>0.0</td>\n",
       "      <td>0.3374</td>\n",
       "      <td>0.0</td>\n",
       "      <td>0.0</td>\n",
       "      <td>0.0</td>\n",
       "      <td>0.0</td>\n",
       "      <td>0.0</td>\n",
       "    </tr>\n",
       "    <tr>\n",
       "      <th>2021-12-28</th>\n",
       "      <td>0.0</td>\n",
       "      <td>0.6862</td>\n",
       "      <td>0.0</td>\n",
       "      <td>0.0</td>\n",
       "      <td>0.0</td>\n",
       "      <td>0.3138</td>\n",
       "      <td>0.0</td>\n",
       "      <td>0.0</td>\n",
       "      <td>0.0</td>\n",
       "      <td>0.0</td>\n",
       "      <td>0.0</td>\n",
       "    </tr>\n",
       "    <tr>\n",
       "      <th>2021-12-29</th>\n",
       "      <td>0.0</td>\n",
       "      <td>0.7062</td>\n",
       "      <td>0.0</td>\n",
       "      <td>0.0</td>\n",
       "      <td>0.0</td>\n",
       "      <td>0.2938</td>\n",
       "      <td>0.0</td>\n",
       "      <td>0.0</td>\n",
       "      <td>0.0</td>\n",
       "      <td>0.0</td>\n",
       "      <td>0.0</td>\n",
       "    </tr>\n",
       "    <tr>\n",
       "      <th>2021-12-30</th>\n",
       "      <td>0.0</td>\n",
       "      <td>0.7172</td>\n",
       "      <td>0.0</td>\n",
       "      <td>0.0</td>\n",
       "      <td>0.0</td>\n",
       "      <td>0.2828</td>\n",
       "      <td>0.0</td>\n",
       "      <td>0.0</td>\n",
       "      <td>0.0</td>\n",
       "      <td>0.0</td>\n",
       "      <td>0.0</td>\n",
       "    </tr>\n",
       "  </tbody>\n",
       "</table>\n",
       "</div>"
      ],
      "text/plain": [
       "            VDE     VAW  VIS  VCR  VDC     VHT  VFH  VGT  VOX  VPU  VNQ\n",
       "2021-12-23  0.0  0.6913  0.0  0.0  0.0  0.3087  0.0  0.0  0.0  0.0  0.0\n",
       "2021-12-27  0.0  0.6626  0.0  0.0  0.0  0.3374  0.0  0.0  0.0  0.0  0.0\n",
       "2021-12-28  0.0  0.6862  0.0  0.0  0.0  0.3138  0.0  0.0  0.0  0.0  0.0\n",
       "2021-12-29  0.0  0.7062  0.0  0.0  0.0  0.2938  0.0  0.0  0.0  0.0  0.0\n",
       "2021-12-30  0.0  0.7172  0.0  0.0  0.0  0.2828  0.0  0.0  0.0  0.0  0.0"
      ]
     },
     "execution_count": 21,
     "metadata": {},
     "output_type": "execute_result"
    }
   ],
   "source": [
    "optimal_weights.head()"
   ]
  },
  {
   "cell_type": "code",
   "execution_count": 22,
   "metadata": {},
   "outputs": [
    {
     "data": {
      "text/html": [
       "<div>\n",
       "<style scoped>\n",
       "    .dataframe tbody tr th:only-of-type {\n",
       "        vertical-align: middle;\n",
       "    }\n",
       "\n",
       "    .dataframe tbody tr th {\n",
       "        vertical-align: top;\n",
       "    }\n",
       "\n",
       "    .dataframe thead tr th {\n",
       "        text-align: left;\n",
       "    }\n",
       "</style>\n",
       "<table border=\"1\" class=\"dataframe\">\n",
       "  <thead>\n",
       "    <tr>\n",
       "      <th></th>\n",
       "      <th>VDE</th>\n",
       "      <th>VAW</th>\n",
       "      <th>VIS</th>\n",
       "      <th>VCR</th>\n",
       "      <th>VDC</th>\n",
       "      <th>VHT</th>\n",
       "      <th>VFH</th>\n",
       "      <th>VGT</th>\n",
       "      <th>VOX</th>\n",
       "      <th>VPU</th>\n",
       "      <th>VNQ</th>\n",
       "    </tr>\n",
       "  </thead>\n",
       "  <tbody>\n",
       "    <tr>\n",
       "      <th>2023-02-22</th>\n",
       "      <td>0.0</td>\n",
       "      <td>0.0</td>\n",
       "      <td>0.3035</td>\n",
       "      <td>0.5530</td>\n",
       "      <td>0.0</td>\n",
       "      <td>0.0</td>\n",
       "      <td>0.0</td>\n",
       "      <td>0.0</td>\n",
       "      <td>0.0</td>\n",
       "      <td>0.0</td>\n",
       "      <td>0.1435</td>\n",
       "    </tr>\n",
       "    <tr>\n",
       "      <th>2023-02-23</th>\n",
       "      <td>0.0</td>\n",
       "      <td>0.0</td>\n",
       "      <td>0.3512</td>\n",
       "      <td>0.5842</td>\n",
       "      <td>0.0</td>\n",
       "      <td>0.0</td>\n",
       "      <td>0.0</td>\n",
       "      <td>0.0</td>\n",
       "      <td>0.0</td>\n",
       "      <td>0.0</td>\n",
       "      <td>0.0647</td>\n",
       "    </tr>\n",
       "    <tr>\n",
       "      <th>2023-02-24</th>\n",
       "      <td>0.0</td>\n",
       "      <td>0.0</td>\n",
       "      <td>0.2869</td>\n",
       "      <td>0.6023</td>\n",
       "      <td>0.0</td>\n",
       "      <td>0.0</td>\n",
       "      <td>0.0</td>\n",
       "      <td>0.0</td>\n",
       "      <td>0.0</td>\n",
       "      <td>0.0</td>\n",
       "      <td>0.1108</td>\n",
       "    </tr>\n",
       "    <tr>\n",
       "      <th>2023-02-27</th>\n",
       "      <td>0.0</td>\n",
       "      <td>0.0</td>\n",
       "      <td>0.2984</td>\n",
       "      <td>0.5836</td>\n",
       "      <td>0.0</td>\n",
       "      <td>0.0</td>\n",
       "      <td>0.0</td>\n",
       "      <td>0.0</td>\n",
       "      <td>0.0</td>\n",
       "      <td>0.0</td>\n",
       "      <td>0.1180</td>\n",
       "    </tr>\n",
       "    <tr>\n",
       "      <th>2023-02-28</th>\n",
       "      <td>0.0</td>\n",
       "      <td>0.0</td>\n",
       "      <td>0.3787</td>\n",
       "      <td>0.5735</td>\n",
       "      <td>0.0</td>\n",
       "      <td>0.0</td>\n",
       "      <td>0.0</td>\n",
       "      <td>0.0</td>\n",
       "      <td>0.0</td>\n",
       "      <td>0.0</td>\n",
       "      <td>0.0478</td>\n",
       "    </tr>\n",
       "  </tbody>\n",
       "</table>\n",
       "</div>"
      ],
      "text/plain": [
       "            VDE  VAW     VIS     VCR  VDC  VHT  VFH  VGT  VOX  VPU     VNQ\n",
       "2023-02-22  0.0  0.0  0.3035  0.5530  0.0  0.0  0.0  0.0  0.0  0.0  0.1435\n",
       "2023-02-23  0.0  0.0  0.3512  0.5842  0.0  0.0  0.0  0.0  0.0  0.0  0.0647\n",
       "2023-02-24  0.0  0.0  0.2869  0.6023  0.0  0.0  0.0  0.0  0.0  0.0  0.1108\n",
       "2023-02-27  0.0  0.0  0.2984  0.5836  0.0  0.0  0.0  0.0  0.0  0.0  0.1180\n",
       "2023-02-28  0.0  0.0  0.3787  0.5735  0.0  0.0  0.0  0.0  0.0  0.0  0.0478"
      ]
     },
     "execution_count": 22,
     "metadata": {},
     "output_type": "execute_result"
    }
   ],
   "source": [
    "optimal_weights.tail()"
   ]
  },
  {
   "cell_type": "code",
   "execution_count": 23,
   "metadata": {},
   "outputs": [
    {
     "data": {
      "text/plain": [
       "296"
      ]
     },
     "execution_count": 23,
     "metadata": {},
     "output_type": "execute_result"
    }
   ],
   "source": [
    "len(optimal_weights.index)"
   ]
  },
  {
   "cell_type": "code",
   "execution_count": 25,
   "metadata": {},
   "outputs": [],
   "source": [
    "#optimal_weights.iloc[0]"
   ]
  },
  {
   "cell_type": "code",
   "execution_count": 27,
   "metadata": {},
   "outputs": [],
   "source": [
    "#returns.iloc[[0+500]]"
   ]
  },
  {
   "cell_type": "code",
   "execution_count": 28,
   "metadata": {},
   "outputs": [
    {
     "data": {
      "text/plain": [
       "0.012837458449152872"
      ]
     },
     "execution_count": 28,
     "metadata": {},
     "output_type": "execute_result"
    }
   ],
   "source": [
    "np.dot(optimal_weights.iloc[0],returns.iloc[0+500])"
   ]
  },
  {
   "cell_type": "code",
   "execution_count": 14,
   "metadata": {},
   "outputs": [],
   "source": [
    "#optimal_weights.iloc[1]"
   ]
  },
  {
   "cell_type": "code",
   "execution_count": 15,
   "metadata": {},
   "outputs": [],
   "source": [
    "#returns.iloc[[1+500]]"
   ]
  },
  {
   "cell_type": "code",
   "execution_count": 29,
   "metadata": {},
   "outputs": [
    {
     "data": {
      "text/plain": [
       "-0.0021463358146715083"
      ]
     },
     "execution_count": 29,
     "metadata": {},
     "output_type": "execute_result"
    }
   ],
   "source": [
    "np.dot(optimal_weights.iloc[1],returns.iloc[1+500])"
   ]
  },
  {
   "cell_type": "code",
   "execution_count": 30,
   "metadata": {},
   "outputs": [],
   "source": [
    "port_returns = pd.DataFrame()\n",
    "for i in range(0,len(optimal_weights)-1):\n",
    "    port_returns = pd.concat([port_returns,\n",
    "                              pd.DataFrame({'Roll_OP':np.dot(optimal_weights.iloc[i],returns.iloc[i+500])},\n",
    "#                              pd.DataFrame({'NoRoll_OP':np.dot(optimal_weights.iloc[0],returns.iloc[i+500])})],\n",
    "                                           index = [returns.index[i+500]])],\n",
    "                                           axis=0)"
   ]
  },
  {
   "cell_type": "code",
   "execution_count": 32,
   "metadata": {},
   "outputs": [
    {
     "data": {
      "text/html": [
       "<div>\n",
       "<style scoped>\n",
       "    .dataframe tbody tr th:only-of-type {\n",
       "        vertical-align: middle;\n",
       "    }\n",
       "\n",
       "    .dataframe tbody tr th {\n",
       "        vertical-align: top;\n",
       "    }\n",
       "\n",
       "    .dataframe thead th {\n",
       "        text-align: right;\n",
       "    }\n",
       "</style>\n",
       "<table border=\"1\" class=\"dataframe\">\n",
       "  <thead>\n",
       "    <tr style=\"text-align: right;\">\n",
       "      <th></th>\n",
       "      <th>Roll_OP</th>\n",
       "    </tr>\n",
       "  </thead>\n",
       "  <tbody>\n",
       "    <tr>\n",
       "      <th>2021-12-27</th>\n",
       "      <td>0.012837</td>\n",
       "    </tr>\n",
       "    <tr>\n",
       "      <th>2021-12-28</th>\n",
       "      <td>-0.002146</td>\n",
       "    </tr>\n",
       "  </tbody>\n",
       "</table>\n",
       "</div>"
      ],
      "text/plain": [
       "             Roll_OP\n",
       "2021-12-27  0.012837\n",
       "2021-12-28 -0.002146"
      ]
     },
     "execution_count": 32,
     "metadata": {},
     "output_type": "execute_result"
    }
   ],
   "source": [
    "port_returns.head(2)"
   ]
  },
  {
   "cell_type": "code",
   "execution_count": 34,
   "metadata": {},
   "outputs": [],
   "source": [
    "port_returns = pd.concat([port_returns,\n",
    "                          pd.DataFrame({'NoRoll_OP':np.dot(returns.iloc[0+500:], optimal_weights.iloc[0])},index = returns.index[0+500:])],\n",
    "                         axis=1)"
   ]
  },
  {
   "cell_type": "code",
   "execution_count": 35,
   "metadata": {},
   "outputs": [
    {
     "data": {
      "text/html": [
       "<div>\n",
       "<style scoped>\n",
       "    .dataframe tbody tr th:only-of-type {\n",
       "        vertical-align: middle;\n",
       "    }\n",
       "\n",
       "    .dataframe tbody tr th {\n",
       "        vertical-align: top;\n",
       "    }\n",
       "\n",
       "    .dataframe thead th {\n",
       "        text-align: right;\n",
       "    }\n",
       "</style>\n",
       "<table border=\"1\" class=\"dataframe\">\n",
       "  <thead>\n",
       "    <tr style=\"text-align: right;\">\n",
       "      <th></th>\n",
       "      <th>Roll_OP</th>\n",
       "      <th>NoRoll_OP</th>\n",
       "    </tr>\n",
       "  </thead>\n",
       "  <tbody>\n",
       "    <tr>\n",
       "      <th>2021-12-27</th>\n",
       "      <td>0.012837</td>\n",
       "      <td>0.012837</td>\n",
       "    </tr>\n",
       "    <tr>\n",
       "      <th>2021-12-28</th>\n",
       "      <td>-0.002146</td>\n",
       "      <td>-0.001936</td>\n",
       "    </tr>\n",
       "  </tbody>\n",
       "</table>\n",
       "</div>"
      ],
      "text/plain": [
       "             Roll_OP  NoRoll_OP\n",
       "2021-12-27  0.012837   0.012837\n",
       "2021-12-28 -0.002146  -0.001936"
      ]
     },
     "execution_count": 35,
     "metadata": {},
     "output_type": "execute_result"
    }
   ],
   "source": [
    "port_returns.head(2)"
   ]
  },
  {
   "cell_type": "code",
   "execution_count": 36,
   "metadata": {},
   "outputs": [
    {
     "data": {
      "text/html": [
       "<div>\n",
       "<style scoped>\n",
       "    .dataframe tbody tr th:only-of-type {\n",
       "        vertical-align: middle;\n",
       "    }\n",
       "\n",
       "    .dataframe tbody tr th {\n",
       "        vertical-align: top;\n",
       "    }\n",
       "\n",
       "    .dataframe thead th {\n",
       "        text-align: right;\n",
       "    }\n",
       "</style>\n",
       "<table border=\"1\" class=\"dataframe\">\n",
       "  <thead>\n",
       "    <tr style=\"text-align: right;\">\n",
       "      <th></th>\n",
       "      <th>Roll_OP</th>\n",
       "      <th>NoRoll_OP</th>\n",
       "    </tr>\n",
       "  </thead>\n",
       "  <tbody>\n",
       "    <tr>\n",
       "      <th>count</th>\n",
       "      <td>295.000000</td>\n",
       "      <td>295.000000</td>\n",
       "    </tr>\n",
       "    <tr>\n",
       "      <th>mean</th>\n",
       "      <td>-0.000388</td>\n",
       "      <td>-0.000759</td>\n",
       "    </tr>\n",
       "    <tr>\n",
       "      <th>std</th>\n",
       "      <td>0.016031</td>\n",
       "      <td>0.020360</td>\n",
       "    </tr>\n",
       "    <tr>\n",
       "      <th>min</th>\n",
       "      <td>-0.051031</td>\n",
       "      <td>-0.058245</td>\n",
       "    </tr>\n",
       "    <tr>\n",
       "      <th>25%</th>\n",
       "      <td>-0.009442</td>\n",
       "      <td>-0.014532</td>\n",
       "    </tr>\n",
       "    <tr>\n",
       "      <th>50%</th>\n",
       "      <td>0.000096</td>\n",
       "      <td>-0.001234</td>\n",
       "    </tr>\n",
       "    <tr>\n",
       "      <th>75%</th>\n",
       "      <td>0.010172</td>\n",
       "      <td>0.014218</td>\n",
       "    </tr>\n",
       "    <tr>\n",
       "      <th>max</th>\n",
       "      <td>0.052318</td>\n",
       "      <td>0.078362</td>\n",
       "    </tr>\n",
       "  </tbody>\n",
       "</table>\n",
       "</div>"
      ],
      "text/plain": [
       "          Roll_OP   NoRoll_OP\n",
       "count  295.000000  295.000000\n",
       "mean    -0.000388   -0.000759\n",
       "std      0.016031    0.020360\n",
       "min     -0.051031   -0.058245\n",
       "25%     -0.009442   -0.014532\n",
       "50%      0.000096   -0.001234\n",
       "75%      0.010172    0.014218\n",
       "max      0.052318    0.078362"
      ]
     },
     "execution_count": 36,
     "metadata": {},
     "output_type": "execute_result"
    }
   ],
   "source": [
    "port_returns.describe()"
   ]
  },
  {
   "cell_type": "code",
   "execution_count": null,
   "metadata": {},
   "outputs": [],
   "source": []
  }
 ],
 "metadata": {
  "kernelspec": {
   "display_name": "Python 3 (ipykernel)",
   "language": "python",
   "name": "python3"
  },
  "language_info": {
   "codemirror_mode": {
    "name": "ipython",
    "version": 3
   },
   "file_extension": ".py",
   "mimetype": "text/x-python",
   "name": "python",
   "nbconvert_exporter": "python",
   "pygments_lexer": "ipython3",
   "version": "3.8.13"
  }
 },
 "nbformat": 4,
 "nbformat_minor": 4
}
