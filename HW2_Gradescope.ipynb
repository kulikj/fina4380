{
 "cells": [
  {
   "cell_type": "code",
   "execution_count": 1,
   "metadata": {
    "deletable": false,
    "editable": false
   },
   "outputs": [],
   "source": [
    "# Initialize Otter\n",
    "import otter\n",
    "grader = otter.Notebook(\"HW2_Gradescope.ipynb\")"
   ]
  },
  {
   "cell_type": "markdown",
   "metadata": {},
   "source": [
    "# Homework 2"
   ]
  },
  {
   "cell_type": "markdown",
   "metadata": {},
   "source": [
    "## Instructions\n",
    "\n",
    "1. Do not move or rename the included files. If you move or rename files or folders, the local and Gradescope autograders will not work.\n",
    "1. Refer to files and variables exactly as they appear. Python is case-sensitive, so `df` and `DF` are different variables.\n",
    "1. After you answer a question, you may run its public tests.\n",
    "1. After you answer every question:\n",
    "    1. Restart your kernel\n",
    "    1. Run up to the last cell\n",
    "    1. Save your notebook\n",
    "    1. Run the last cell, which creates the .zip file for Gradescope in the same folder as this notebook\n",
    "    1. Upload the .zip file to Gradescope\n",
    "    1. Make sure your local autograder results match your Gradescope autograder results\n",
    "1. ***The public tests ensure your answers are formatted correctly but do not ensure your answers are correct.***\n",
    "1. Gradescope runs hidden tests in addition to the public tests but does not reveal public test results until after the due date. Your grade will be \"~/100\" until after the due date."
   ]
  },
  {
   "cell_type": "markdown",
   "metadata": {},
   "source": [
    "## Packages"
   ]
  },
  {
   "cell_type": "code",
   "execution_count": 2,
   "metadata": {
    "scrolled": true
   },
   "outputs": [],
   "source": [
    "import numpy as np\n",
    "import pandas as pd\n",
    "import datetime as dt\n",
    "import warnings\n",
    "warnings.filterwarnings('ignore')"
   ]
  },
  {
   "cell_type": "markdown",
   "metadata": {},
   "source": [
    "## Questions"
   ]
  },
  {
   "cell_type": "markdown",
   "metadata": {},
   "source": [
    "---"
   ]
  },
  {
   "cell_type": "markdown",
   "metadata": {
    "tags": []
   },
   "source": [
    "#### 1. Create a DataFrame named **fin_data** by reading in the columns labeled 'DATE', 'TICKER', 'PRC' and 'CFACPR' from the file entitled fin_data.csv. Set the column labeled 'DATE' as the index.\n",
    "\n",
    "_Points:_ 9"
   ]
  },
  {
   "cell_type": "code",
   "execution_count": 3,
   "metadata": {
    "scrolled": true,
    "tags": []
   },
   "outputs": [
    {
     "data": {
      "text/html": [
       "<div>\n",
       "<style scoped>\n",
       "    .dataframe tbody tr th:only-of-type {\n",
       "        vertical-align: middle;\n",
       "    }\n",
       "\n",
       "    .dataframe tbody tr th {\n",
       "        vertical-align: top;\n",
       "    }\n",
       "\n",
       "    .dataframe thead th {\n",
       "        text-align: right;\n",
       "    }\n",
       "</style>\n",
       "<table border=\"1\" class=\"dataframe\">\n",
       "  <thead>\n",
       "    <tr style=\"text-align: right;\">\n",
       "      <th></th>\n",
       "      <th>TICKER</th>\n",
       "      <th>PRC</th>\n",
       "      <th>CFACPR</th>\n",
       "    </tr>\n",
       "    <tr>\n",
       "      <th>DATE</th>\n",
       "      <th></th>\n",
       "      <th></th>\n",
       "      <th></th>\n",
       "    </tr>\n",
       "  </thead>\n",
       "  <tbody>\n",
       "    <tr>\n",
       "      <th>2014-01-02</th>\n",
       "      <td>MSFT</td>\n",
       "      <td>37.16000</td>\n",
       "      <td>1</td>\n",
       "    </tr>\n",
       "    <tr>\n",
       "      <th>2014-01-03</th>\n",
       "      <td>MSFT</td>\n",
       "      <td>36.91000</td>\n",
       "      <td>1</td>\n",
       "    </tr>\n",
       "    <tr>\n",
       "      <th>2014-01-06</th>\n",
       "      <td>MSFT</td>\n",
       "      <td>36.13000</td>\n",
       "      <td>1</td>\n",
       "    </tr>\n",
       "    <tr>\n",
       "      <th>2014-01-07</th>\n",
       "      <td>MSFT</td>\n",
       "      <td>36.41000</td>\n",
       "      <td>1</td>\n",
       "    </tr>\n",
       "    <tr>\n",
       "      <th>2014-01-08</th>\n",
       "      <td>MSFT</td>\n",
       "      <td>35.76000</td>\n",
       "      <td>1</td>\n",
       "    </tr>\n",
       "    <tr>\n",
       "      <th>...</th>\n",
       "      <td>...</td>\n",
       "      <td>...</td>\n",
       "      <td>...</td>\n",
       "    </tr>\n",
       "    <tr>\n",
       "      <th>2018-12-24</th>\n",
       "      <td>UNH</td>\n",
       "      <td>232.94000</td>\n",
       "      <td>1</td>\n",
       "    </tr>\n",
       "    <tr>\n",
       "      <th>2018-12-26</th>\n",
       "      <td>UNH</td>\n",
       "      <td>243.35001</td>\n",
       "      <td>1</td>\n",
       "    </tr>\n",
       "    <tr>\n",
       "      <th>2018-12-27</th>\n",
       "      <td>UNH</td>\n",
       "      <td>245.97000</td>\n",
       "      <td>1</td>\n",
       "    </tr>\n",
       "    <tr>\n",
       "      <th>2018-12-28</th>\n",
       "      <td>UNH</td>\n",
       "      <td>246.24001</td>\n",
       "      <td>1</td>\n",
       "    </tr>\n",
       "    <tr>\n",
       "      <th>2018-12-31</th>\n",
       "      <td>UNH</td>\n",
       "      <td>249.12000</td>\n",
       "      <td>1</td>\n",
       "    </tr>\n",
       "  </tbody>\n",
       "</table>\n",
       "<p>35224 rows × 3 columns</p>\n",
       "</div>"
      ],
      "text/plain": [
       "           TICKER        PRC  CFACPR\n",
       "DATE                                \n",
       "2014-01-02   MSFT   37.16000       1\n",
       "2014-01-03   MSFT   36.91000       1\n",
       "2014-01-06   MSFT   36.13000       1\n",
       "2014-01-07   MSFT   36.41000       1\n",
       "2014-01-08   MSFT   35.76000       1\n",
       "...           ...        ...     ...\n",
       "2018-12-24    UNH  232.94000       1\n",
       "2018-12-26    UNH  243.35001       1\n",
       "2018-12-27    UNH  245.97000       1\n",
       "2018-12-28    UNH  246.24001       1\n",
       "2018-12-31    UNH  249.12000       1\n",
       "\n",
       "[35224 rows x 3 columns]"
      ]
     },
     "execution_count": 3,
     "metadata": {},
     "output_type": "execute_result"
    }
   ],
   "source": [
    "# read in data\n",
    "fin_data = pd.read_csv('fin_data.csv', usecols=['DATE', 'TICKER', 'PRC', 'CFACPR'])\n",
    "fin_data['DATE'] = pd.to_datetime(fin_data['DATE'], format='%Y%m%d')\n",
    "fin_data = fin_data.set_index('DATE')\n",
    "\n",
    "fin_data"
   ]
  },
  {
   "cell_type": "code",
   "execution_count": 4,
   "metadata": {
    "deletable": false,
    "editable": false
   },
   "outputs": [
    {
     "data": {
      "text/html": [
       "<p><strong><pre style='display: inline;'>q1</pre></strong> passed! 🎉</p>"
      ],
      "text/plain": [
       "q1 results: All test cases passed!"
      ]
     },
     "execution_count": 4,
     "metadata": {},
     "output_type": "execute_result"
    }
   ],
   "source": [
    "grader.check(\"q1\")"
   ]
  },
  {
   "cell_type": "markdown",
   "metadata": {},
   "source": [
    "---"
   ]
  },
  {
   "cell_type": "markdown",
   "metadata": {
    "tags": []
   },
   "source": [
    "#### 2. Create a variable named **tickers** to store **an array** with the unique tickers for all the stocks in the sample, sorted in alphabetical order.\n",
    "\n",
    "_Points:_ 9"
   ]
  },
  {
   "cell_type": "code",
   "execution_count": 5,
   "metadata": {
    "scrolled": true,
    "tags": []
   },
   "outputs": [
    {
     "data": {
      "text/plain": [
       "array(['AAPL', 'AXP', 'BA', 'CAT', 'CSCO', 'CVX', 'DIS', 'GS', 'HD',\n",
       "       'IBM', 'INTC', 'JNJ', 'JPM', 'KO', 'MCD', 'MMM', 'MRK', 'MSFT',\n",
       "       'NKE', 'PFE', 'PG', 'TRV', 'UNH', 'UTX', 'V', 'VZ', 'WMT', 'XOM'],\n",
       "      dtype='<U4')"
      ]
     },
     "execution_count": 5,
     "metadata": {},
     "output_type": "execute_result"
    }
   ],
   "source": [
    "tickers = np.array(sorted(fin_data['TICKER'].unique()))\n",
    "tickers"
   ]
  },
  {
   "cell_type": "code",
   "execution_count": 6,
   "metadata": {
    "deletable": false,
    "editable": false
   },
   "outputs": [
    {
     "data": {
      "text/html": [
       "<p><strong><pre style='display: inline;'>q2</pre></strong> passed! 🎉</p>"
      ],
      "text/plain": [
       "q2 results: All test cases passed!"
      ]
     },
     "execution_count": 6,
     "metadata": {},
     "output_type": "execute_result"
    }
   ],
   "source": [
    "grader.check(\"q2\")"
   ]
  },
  {
   "cell_type": "markdown",
   "metadata": {},
   "source": [
    "---"
   ]
  },
  {
   "cell_type": "markdown",
   "metadata": {
    "tags": []
   },
   "source": [
    "#### 3. Create a new column (named 'RET') in the **fin_data** DataFrame to store the simple return computed as the change in the adjusted price. The adjusted price is the ratio of raw price ('PRC') and the cumulative factor to adjust prices ('CFACPR'). Subsequently, permanently drop the 'PRC' and 'CFACPR' columns from the DataFrame.\n",
    "\n",
    "_Points:_ 11"
   ]
  },
  {
   "cell_type": "code",
   "execution_count": 7,
   "metadata": {
    "tags": []
   },
   "outputs": [],
   "source": [
    "grouped = fin_data.groupby('TICKER')\n",
    "#fin_data['RET'] = 0\n",
    "fin_data2 = pd.DataFrame()\n",
    "\n",
    "for name, group in grouped:\n",
    "    group['RET'] = (group['PRC'] / group['CFACPR']).div(group['PRC'].shift(1) / group['CFACPR'].shift(1)).sub(1)\n",
    "    fin_data2 = fin_data2.append(group)\n",
    "    \n",
    "fin_data = fin_data2.copy()\n",
    "fin_data.drop(columns=['PRC', 'CFACPR'], axis=1, inplace = True)"
   ]
  },
  {
   "cell_type": "code",
   "execution_count": 8,
   "metadata": {
    "deletable": false,
    "editable": false
   },
   "outputs": [
    {
     "data": {
      "text/html": [
       "<p><strong><pre style='display: inline;'>q3</pre></strong> passed! 💯</p>"
      ],
      "text/plain": [
       "q3 results: All test cases passed!"
      ]
     },
     "execution_count": 8,
     "metadata": {},
     "output_type": "execute_result"
    }
   ],
   "source": [
    "grader.check(\"q3\")"
   ]
  },
  {
   "cell_type": "markdown",
   "metadata": {},
   "source": [
    "---"
   ]
  },
  {
   "cell_type": "markdown",
   "metadata": {
    "tags": []
   },
   "source": [
    "#### 4. Which stock had the lowest daily return during the sample period? In addition, what was the date and the observed return? Store the three values in three variables labeled **stock_min**,**date_min** and **ret_min**.\n",
    "\n",
    "_Points:_ 9"
   ]
  },
  {
   "cell_type": "code",
   "execution_count": 9,
   "metadata": {
    "scrolled": true,
    "tags": []
   },
   "outputs": [],
   "source": [
    "# creating a new df as we want to keep the date indices in our original one but don't want the duplicate indices to get in the way\n",
    "fin_data2 = fin_data.copy()\n",
    "fin_data2 = fin_data2.reset_index()\n",
    "\n",
    "# finding the minimum date, then the row associated with it, and indexing into it\n",
    "min_by_date = fin_data2.groupby('DATE')['RET'].min()\n",
    "date_min = min_by_date.idxmin()\n",
    "min_row = fin_data2.loc[fin_data2['DATE'] == date_min].loc[fin_data2['RET'] == min_by_date[date_min]]\n",
    "\n",
    "# getting the value at the 0th row position of the single row we extracted\n",
    "stock_min = min_row.iloc[0]['TICKER']\n",
    "date_min = min_row.iloc[0]['DATE']\n",
    "ret_min = min_row.iloc[0]['RET']"
   ]
  },
  {
   "cell_type": "code",
   "execution_count": 10,
   "metadata": {
    "deletable": false,
    "editable": false
   },
   "outputs": [
    {
     "data": {
      "text/html": [
       "<p><strong><pre style='display: inline;'>q4</pre></strong> passed! 💯</p>"
      ],
      "text/plain": [
       "q4 results: All test cases passed!"
      ]
     },
     "execution_count": 10,
     "metadata": {},
     "output_type": "execute_result"
    }
   ],
   "source": [
    "grader.check(\"q4\")"
   ]
  },
  {
   "cell_type": "markdown",
   "metadata": {},
   "source": [
    "---"
   ]
  },
  {
   "cell_type": "markdown",
   "metadata": {},
   "source": [
    "#### 5. What is number of days that Goldman Sachs had a negative return during the sample period? Store the answer in a variable called **neg_days**.\n",
    "\n",
    "_Points:_ 9"
   ]
  },
  {
   "cell_type": "code",
   "execution_count": 11,
   "metadata": {
    "tags": []
   },
   "outputs": [
    {
     "data": {
      "text/plain": [
       "619"
      ]
     },
     "execution_count": 11,
     "metadata": {},
     "output_type": "execute_result"
    }
   ],
   "source": [
    "gs_data = fin_data.loc[fin_data['TICKER'] == 'GS']\n",
    "\n",
    "# Count the number of days with a negative return\n",
    "neg_days = (gs_data['RET'] < 0).sum()\n",
    "neg_days"
   ]
  },
  {
   "cell_type": "code",
   "execution_count": 12,
   "metadata": {
    "deletable": false,
    "editable": false
   },
   "outputs": [
    {
     "data": {
      "text/html": [
       "<p><strong><pre style='display: inline;'>q5</pre></strong> passed! 🌟</p>"
      ],
      "text/plain": [
       "q5 results: All test cases passed!"
      ]
     },
     "execution_count": 12,
     "metadata": {},
     "output_type": "execute_result"
    }
   ],
   "source": [
    "grader.check(\"q5\")"
   ]
  },
  {
   "cell_type": "markdown",
   "metadata": {},
   "source": [
    "---"
   ]
  },
  {
   "cell_type": "markdown",
   "metadata": {
    "tags": []
   },
   "source": [
    "#### 6. Which stock had the highest monthly average daily return in 2018? In addition, what was the date and the observed return? Store the three values in three variables labeled **stock_max18**,**date_max18** and **ret_max18**.\n",
    "\n",
    "_Points:_ 9"
   ]
  },
  {
   "cell_type": "code",
   "execution_count": 13,
   "metadata": {
    "tags": []
   },
   "outputs": [],
   "source": [
    "fin_data_2018 = fin_data.loc[fin_data.index.year == 2018]\n",
    "\n",
    "# Compute the monthly average daily return for each stock\n",
    "monthly_avg_returns = fin_data_2018.groupby([fin_data_2018.index.year, fin_data_2018.index.month, 'TICKER'])['RET'].mean()\n",
    "\n",
    "# Find the highest monthly average daily return\n",
    "ret_max18 = monthly_avg_returns.max()\n",
    "\n",
    "stock_max18 = monthly_avg_returns.idxmax()[2]\n",
    "\n",
    "# creating a date time object for the month is a bit more complex, we have to work backwards to get the day after the end\n",
    "# of the month given by the 0th and 1st index\n",
    "year = monthly_avg_returns.idxmax()[0]\n",
    "month = monthly_avg_returns.idxmax()[1]\n",
    "\n",
    "# now we get the date\n",
    "next_month = pd.to_datetime(f'{year}-{month+1}-01')\n",
    "date_max18 = next_month - pd.Timedelta(days=1)"
   ]
  },
  {
   "cell_type": "code",
   "execution_count": 14,
   "metadata": {
    "deletable": false,
    "editable": false
   },
   "outputs": [
    {
     "data": {
      "text/html": [
       "<p><strong><pre style='display: inline;'>q6</pre></strong> passed! 🙌</p>"
      ],
      "text/plain": [
       "q6 results: All test cases passed!"
      ]
     },
     "execution_count": 14,
     "metadata": {},
     "output_type": "execute_result"
    }
   ],
   "source": [
    "grader.check(\"q6\")"
   ]
  },
  {
   "cell_type": "markdown",
   "metadata": {},
   "source": [
    "---"
   ]
  },
  {
   "cell_type": "markdown",
   "metadata": {},
   "source": [
    "#### 7. Create a DataFrame named **returns_2018** to store the 2018 monthly average daily returns for all the stocks in the sample. The DataFrame should have a column for each stock in the sample.\n",
    "\n",
    "_Points:_ 9"
   ]
  },
  {
   "cell_type": "code",
   "execution_count": 15,
   "metadata": {
    "tags": []
   },
   "outputs": [
    {
     "data": {
      "text/html": [
       "<div>\n",
       "<style scoped>\n",
       "    .dataframe tbody tr th:only-of-type {\n",
       "        vertical-align: middle;\n",
       "    }\n",
       "\n",
       "    .dataframe tbody tr th {\n",
       "        vertical-align: top;\n",
       "    }\n",
       "\n",
       "    .dataframe thead th {\n",
       "        text-align: right;\n",
       "    }\n",
       "</style>\n",
       "<table border=\"1\" class=\"dataframe\">\n",
       "  <thead>\n",
       "    <tr style=\"text-align: right;\">\n",
       "      <th></th>\n",
       "      <th>TICKER</th>\n",
       "      <th>AAPL</th>\n",
       "      <th>AXP</th>\n",
       "      <th>BA</th>\n",
       "      <th>CAT</th>\n",
       "      <th>CSCO</th>\n",
       "      <th>CVX</th>\n",
       "      <th>DIS</th>\n",
       "      <th>GS</th>\n",
       "      <th>HD</th>\n",
       "      <th>IBM</th>\n",
       "      <th>...</th>\n",
       "      <th>NKE</th>\n",
       "      <th>PFE</th>\n",
       "      <th>PG</th>\n",
       "      <th>TRV</th>\n",
       "      <th>UNH</th>\n",
       "      <th>UTX</th>\n",
       "      <th>V</th>\n",
       "      <th>VZ</th>\n",
       "      <th>WMT</th>\n",
       "      <th>XOM</th>\n",
       "    </tr>\n",
       "    <tr>\n",
       "      <th>DATE</th>\n",
       "      <th>DATE</th>\n",
       "      <th></th>\n",
       "      <th></th>\n",
       "      <th></th>\n",
       "      <th></th>\n",
       "      <th></th>\n",
       "      <th></th>\n",
       "      <th></th>\n",
       "      <th></th>\n",
       "      <th></th>\n",
       "      <th></th>\n",
       "      <th></th>\n",
       "      <th></th>\n",
       "      <th></th>\n",
       "      <th></th>\n",
       "      <th></th>\n",
       "      <th></th>\n",
       "      <th></th>\n",
       "      <th></th>\n",
       "      <th></th>\n",
       "      <th></th>\n",
       "      <th></th>\n",
       "    </tr>\n",
       "  </thead>\n",
       "  <tbody>\n",
       "    <tr>\n",
       "      <th rowspan=\"12\" valign=\"top\">2018</th>\n",
       "      <th>1</th>\n",
       "      <td>-0.000460</td>\n",
       "      <td>0.000072</td>\n",
       "      <td>0.008985</td>\n",
       "      <td>0.001614</td>\n",
       "      <td>0.003924</td>\n",
       "      <td>0.000133</td>\n",
       "      <td>0.000593</td>\n",
       "      <td>0.002467</td>\n",
       "      <td>0.002822</td>\n",
       "      <td>0.003203</td>\n",
       "      <td>...</td>\n",
       "      <td>0.004224</td>\n",
       "      <td>0.001167</td>\n",
       "      <td>-0.002911</td>\n",
       "      <td>0.004863</td>\n",
       "      <td>0.003510</td>\n",
       "      <td>0.003786</td>\n",
       "      <td>0.004122</td>\n",
       "      <td>0.001072</td>\n",
       "      <td>0.003694</td>\n",
       "      <td>0.002080</td>\n",
       "    </tr>\n",
       "    <tr>\n",
       "      <th>2</th>\n",
       "      <td>0.003508</td>\n",
       "      <td>-0.000690</td>\n",
       "      <td>0.001455</td>\n",
       "      <td>-0.002374</td>\n",
       "      <td>0.004270</td>\n",
       "      <td>-0.005692</td>\n",
       "      <td>-0.002546</td>\n",
       "      <td>-0.000710</td>\n",
       "      <td>-0.004843</td>\n",
       "      <td>-0.002425</td>\n",
       "      <td>...</td>\n",
       "      <td>-0.000677</td>\n",
       "      <td>-0.000864</td>\n",
       "      <td>-0.004871</td>\n",
       "      <td>-0.003805</td>\n",
       "      <td>-0.002201</td>\n",
       "      <td>-0.001002</td>\n",
       "      <td>-0.000316</td>\n",
       "      <td>-0.006373</td>\n",
       "      <td>-0.008465</td>\n",
       "      <td>-0.007231</td>\n",
       "    </tr>\n",
       "    <tr>\n",
       "      <th>3</th>\n",
       "      <td>-0.002713</td>\n",
       "      <td>-0.001994</td>\n",
       "      <td>-0.004525</td>\n",
       "      <td>-0.002010</td>\n",
       "      <td>-0.001897</td>\n",
       "      <td>0.000998</td>\n",
       "      <td>-0.001210</td>\n",
       "      <td>-0.001874</td>\n",
       "      <td>-0.000976</td>\n",
       "      <td>-0.000636</td>\n",
       "      <td>...</td>\n",
       "      <td>-0.000342</td>\n",
       "      <td>-0.001019</td>\n",
       "      <td>0.000497</td>\n",
       "      <td>0.000034</td>\n",
       "      <td>-0.002520</td>\n",
       "      <td>-0.003150</td>\n",
       "      <td>-0.001180</td>\n",
       "      <td>0.000110</td>\n",
       "      <td>-0.000468</td>\n",
       "      <td>-0.000638</td>\n",
       "    </tr>\n",
       "    <tr>\n",
       "      <th>4</th>\n",
       "      <td>-0.000595</td>\n",
       "      <td>0.002927</td>\n",
       "      <td>0.001053</td>\n",
       "      <td>-0.000770</td>\n",
       "      <td>0.001677</td>\n",
       "      <td>0.004508</td>\n",
       "      <td>0.000009</td>\n",
       "      <td>-0.002532</td>\n",
       "      <td>0.001860</td>\n",
       "      <td>-0.002474</td>\n",
       "      <td>...</td>\n",
       "      <td>0.001540</td>\n",
       "      <td>0.001525</td>\n",
       "      <td>-0.004285</td>\n",
       "      <td>-0.002485</td>\n",
       "      <td>0.004877</td>\n",
       "      <td>-0.002145</td>\n",
       "      <td>0.002928</td>\n",
       "      <td>0.001649</td>\n",
       "      <td>-0.000203</td>\n",
       "      <td>0.002079</td>\n",
       "    </tr>\n",
       "    <tr>\n",
       "      <th>5</th>\n",
       "      <td>0.005692</td>\n",
       "      <td>-0.000156</td>\n",
       "      <td>0.002586</td>\n",
       "      <td>0.002401</td>\n",
       "      <td>-0.001577</td>\n",
       "      <td>-0.000214</td>\n",
       "      <td>-0.000326</td>\n",
       "      <td>-0.002380</td>\n",
       "      <td>0.000474</td>\n",
       "      <td>-0.001129</td>\n",
       "      <td>...</td>\n",
       "      <td>0.002282</td>\n",
       "      <td>-0.000809</td>\n",
       "      <td>0.000561</td>\n",
       "      <td>-0.001026</td>\n",
       "      <td>0.001039</td>\n",
       "      <td>0.001774</td>\n",
       "      <td>0.001374</td>\n",
       "      <td>-0.001498</td>\n",
       "      <td>-0.003051</td>\n",
       "      <td>0.002090</td>\n",
       "    </tr>\n",
       "    <tr>\n",
       "      <th>6</th>\n",
       "      <td>-0.000414</td>\n",
       "      <td>-0.000111</td>\n",
       "      <td>-0.002199</td>\n",
       "      <td>-0.005276</td>\n",
       "      <td>0.000409</td>\n",
       "      <td>0.000893</td>\n",
       "      <td>0.002552</td>\n",
       "      <td>-0.001093</td>\n",
       "      <td>0.002167</td>\n",
       "      <td>-0.000514</td>\n",
       "      <td>...</td>\n",
       "      <td>0.005278</td>\n",
       "      <td>0.000473</td>\n",
       "      <td>0.003131</td>\n",
       "      <td>-0.002304</td>\n",
       "      <td>0.000781</td>\n",
       "      <td>0.000108</td>\n",
       "      <td>0.000697</td>\n",
       "      <td>0.002658</td>\n",
       "      <td>0.001807</td>\n",
       "      <td>0.000924</td>\n",
       "    </tr>\n",
       "    <tr>\n",
       "      <th>7</th>\n",
       "      <td>0.001360</td>\n",
       "      <td>0.000808</td>\n",
       "      <td>0.002944</td>\n",
       "      <td>0.002933</td>\n",
       "      <td>-0.000733</td>\n",
       "      <td>0.000017</td>\n",
       "      <td>0.003864</td>\n",
       "      <td>0.003557</td>\n",
       "      <td>0.000602</td>\n",
       "      <td>0.001807</td>\n",
       "      <td>...</td>\n",
       "      <td>-0.001620</td>\n",
       "      <td>0.004613</td>\n",
       "      <td>0.001734</td>\n",
       "      <td>0.003019</td>\n",
       "      <td>0.001555</td>\n",
       "      <td>0.003998</td>\n",
       "      <td>0.001578</td>\n",
       "      <td>0.001282</td>\n",
       "      <td>0.001982</td>\n",
       "      <td>-0.000660</td>\n",
       "    </tr>\n",
       "    <tr>\n",
       "      <th>8</th>\n",
       "      <td>0.007915</td>\n",
       "      <td>0.002760</td>\n",
       "      <td>-0.001596</td>\n",
       "      <td>-0.001382</td>\n",
       "      <td>0.005350</td>\n",
       "      <td>-0.002720</td>\n",
       "      <td>-0.000566</td>\n",
       "      <td>0.000131</td>\n",
       "      <td>0.000732</td>\n",
       "      <td>0.000509</td>\n",
       "      <td>...</td>\n",
       "      <td>0.002941</td>\n",
       "      <td>0.001745</td>\n",
       "      <td>0.001120</td>\n",
       "      <td>0.000511</td>\n",
       "      <td>0.002561</td>\n",
       "      <td>-0.001283</td>\n",
       "      <td>0.003134</td>\n",
       "      <td>0.002268</td>\n",
       "      <td>0.003330</td>\n",
       "      <td>-0.000680</td>\n",
       "    </tr>\n",
       "    <tr>\n",
       "      <th>9</th>\n",
       "      <td>-0.000341</td>\n",
       "      <td>0.000288</td>\n",
       "      <td>0.004362</td>\n",
       "      <td>0.004998</td>\n",
       "      <td>0.000980</td>\n",
       "      <td>0.001721</td>\n",
       "      <td>0.002311</td>\n",
       "      <td>-0.003039</td>\n",
       "      <td>0.001703</td>\n",
       "      <td>0.001702</td>\n",
       "      <td>...</td>\n",
       "      <td>0.001668</td>\n",
       "      <td>0.003159</td>\n",
       "      <td>0.000213</td>\n",
       "      <td>-0.000709</td>\n",
       "      <td>-0.000432</td>\n",
       "      <td>0.003179</td>\n",
       "      <td>0.001193</td>\n",
       "      <td>-0.000910</td>\n",
       "      <td>-0.001061</td>\n",
       "      <td>0.003133</td>\n",
       "    </tr>\n",
       "    <tr>\n",
       "      <th>10</th>\n",
       "      <td>-0.001141</td>\n",
       "      <td>-0.001442</td>\n",
       "      <td>-0.001756</td>\n",
       "      <td>-0.009515</td>\n",
       "      <td>-0.002465</td>\n",
       "      <td>-0.003822</td>\n",
       "      <td>-0.000634</td>\n",
       "      <td>0.000401</td>\n",
       "      <td>-0.006965</td>\n",
       "      <td>-0.011424</td>\n",
       "      <td>...</td>\n",
       "      <td>-0.005045</td>\n",
       "      <td>-0.000869</td>\n",
       "      <td>0.002995</td>\n",
       "      <td>-0.001477</td>\n",
       "      <td>-0.000617</td>\n",
       "      <td>-0.004944</td>\n",
       "      <td>-0.003397</td>\n",
       "      <td>0.003019</td>\n",
       "      <td>0.002942</td>\n",
       "      <td>-0.002730</td>\n",
       "    </tr>\n",
       "    <tr>\n",
       "      <th>11</th>\n",
       "      <td>-0.009264</td>\n",
       "      <td>0.004338</td>\n",
       "      <td>-0.000881</td>\n",
       "      <td>0.005644</td>\n",
       "      <td>0.002372</td>\n",
       "      <td>0.003173</td>\n",
       "      <td>0.000337</td>\n",
       "      <td>-0.007667</td>\n",
       "      <td>0.001334</td>\n",
       "      <td>0.003656</td>\n",
       "      <td>...</td>\n",
       "      <td>0.000180</td>\n",
       "      <td>0.003483</td>\n",
       "      <td>0.003062</td>\n",
       "      <td>0.002074</td>\n",
       "      <td>0.003648</td>\n",
       "      <td>-0.000801</td>\n",
       "      <td>0.001489</td>\n",
       "      <td>0.002671</td>\n",
       "      <td>-0.001186</td>\n",
       "      <td>-0.000004</td>\n",
       "    </tr>\n",
       "    <tr>\n",
       "      <th>12</th>\n",
       "      <td>-0.006140</td>\n",
       "      <td>-0.008322</td>\n",
       "      <td>-0.003403</td>\n",
       "      <td>-0.003088</td>\n",
       "      <td>-0.004943</td>\n",
       "      <td>-0.004469</td>\n",
       "      <td>-0.002528</td>\n",
       "      <td>-0.006707</td>\n",
       "      <td>-0.002323</td>\n",
       "      <td>-0.004482</td>\n",
       "      <td>...</td>\n",
       "      <td>-0.000148</td>\n",
       "      <td>-0.002881</td>\n",
       "      <td>-0.001302</td>\n",
       "      <td>-0.004348</td>\n",
       "      <td>-0.006192</td>\n",
       "      <td>-0.006887</td>\n",
       "      <td>-0.003443</td>\n",
       "      <td>-0.003548</td>\n",
       "      <td>-0.002311</td>\n",
       "      <td>-0.007857</td>\n",
       "    </tr>\n",
       "  </tbody>\n",
       "</table>\n",
       "<p>12 rows × 28 columns</p>\n",
       "</div>"
      ],
      "text/plain": [
       "TICKER         AAPL       AXP        BA       CAT      CSCO       CVX  \\\n",
       "DATE DATE                                                               \n",
       "2018 1    -0.000460  0.000072  0.008985  0.001614  0.003924  0.000133   \n",
       "     2     0.003508 -0.000690  0.001455 -0.002374  0.004270 -0.005692   \n",
       "     3    -0.002713 -0.001994 -0.004525 -0.002010 -0.001897  0.000998   \n",
       "     4    -0.000595  0.002927  0.001053 -0.000770  0.001677  0.004508   \n",
       "     5     0.005692 -0.000156  0.002586  0.002401 -0.001577 -0.000214   \n",
       "     6    -0.000414 -0.000111 -0.002199 -0.005276  0.000409  0.000893   \n",
       "     7     0.001360  0.000808  0.002944  0.002933 -0.000733  0.000017   \n",
       "     8     0.007915  0.002760 -0.001596 -0.001382  0.005350 -0.002720   \n",
       "     9    -0.000341  0.000288  0.004362  0.004998  0.000980  0.001721   \n",
       "     10   -0.001141 -0.001442 -0.001756 -0.009515 -0.002465 -0.003822   \n",
       "     11   -0.009264  0.004338 -0.000881  0.005644  0.002372  0.003173   \n",
       "     12   -0.006140 -0.008322 -0.003403 -0.003088 -0.004943 -0.004469   \n",
       "\n",
       "TICKER          DIS        GS        HD       IBM  ...       NKE       PFE  \\\n",
       "DATE DATE                                          ...                       \n",
       "2018 1     0.000593  0.002467  0.002822  0.003203  ...  0.004224  0.001167   \n",
       "     2    -0.002546 -0.000710 -0.004843 -0.002425  ... -0.000677 -0.000864   \n",
       "     3    -0.001210 -0.001874 -0.000976 -0.000636  ... -0.000342 -0.001019   \n",
       "     4     0.000009 -0.002532  0.001860 -0.002474  ...  0.001540  0.001525   \n",
       "     5    -0.000326 -0.002380  0.000474 -0.001129  ...  0.002282 -0.000809   \n",
       "     6     0.002552 -0.001093  0.002167 -0.000514  ...  0.005278  0.000473   \n",
       "     7     0.003864  0.003557  0.000602  0.001807  ... -0.001620  0.004613   \n",
       "     8    -0.000566  0.000131  0.000732  0.000509  ...  0.002941  0.001745   \n",
       "     9     0.002311 -0.003039  0.001703  0.001702  ...  0.001668  0.003159   \n",
       "     10   -0.000634  0.000401 -0.006965 -0.011424  ... -0.005045 -0.000869   \n",
       "     11    0.000337 -0.007667  0.001334  0.003656  ...  0.000180  0.003483   \n",
       "     12   -0.002528 -0.006707 -0.002323 -0.004482  ... -0.000148 -0.002881   \n",
       "\n",
       "TICKER           PG       TRV       UNH       UTX         V        VZ  \\\n",
       "DATE DATE                                                               \n",
       "2018 1    -0.002911  0.004863  0.003510  0.003786  0.004122  0.001072   \n",
       "     2    -0.004871 -0.003805 -0.002201 -0.001002 -0.000316 -0.006373   \n",
       "     3     0.000497  0.000034 -0.002520 -0.003150 -0.001180  0.000110   \n",
       "     4    -0.004285 -0.002485  0.004877 -0.002145  0.002928  0.001649   \n",
       "     5     0.000561 -0.001026  0.001039  0.001774  0.001374 -0.001498   \n",
       "     6     0.003131 -0.002304  0.000781  0.000108  0.000697  0.002658   \n",
       "     7     0.001734  0.003019  0.001555  0.003998  0.001578  0.001282   \n",
       "     8     0.001120  0.000511  0.002561 -0.001283  0.003134  0.002268   \n",
       "     9     0.000213 -0.000709 -0.000432  0.003179  0.001193 -0.000910   \n",
       "     10    0.002995 -0.001477 -0.000617 -0.004944 -0.003397  0.003019   \n",
       "     11    0.003062  0.002074  0.003648 -0.000801  0.001489  0.002671   \n",
       "     12   -0.001302 -0.004348 -0.006192 -0.006887 -0.003443 -0.003548   \n",
       "\n",
       "TICKER          WMT       XOM  \n",
       "DATE DATE                      \n",
       "2018 1     0.003694  0.002080  \n",
       "     2    -0.008465 -0.007231  \n",
       "     3    -0.000468 -0.000638  \n",
       "     4    -0.000203  0.002079  \n",
       "     5    -0.003051  0.002090  \n",
       "     6     0.001807  0.000924  \n",
       "     7     0.001982 -0.000660  \n",
       "     8     0.003330 -0.000680  \n",
       "     9    -0.001061  0.003133  \n",
       "     10    0.002942 -0.002730  \n",
       "     11   -0.001186 -0.000004  \n",
       "     12   -0.002311 -0.007857  \n",
       "\n",
       "[12 rows x 28 columns]"
      ]
     },
     "execution_count": 15,
     "metadata": {},
     "output_type": "execute_result"
    }
   ],
   "source": [
    "# getting only 2018\n",
    "fin_data_2018 = fin_data.loc[fin_data.index.year == 2018]\n",
    "\n",
    "# grouping by year with a subindex of month in order to take the mean of the groupings\n",
    "monthly_avg_returns = fin_data_2018.groupby([fin_data_2018.index.year, fin_data_2018.index.month, 'TICKER'])['RET'].mean()\n",
    "\n",
    "# reshape the data\n",
    "returns_2018 = monthly_avg_returns.unstack(level='TICKER')\n",
    "returns_2018"
   ]
  },
  {
   "cell_type": "code",
   "execution_count": 16,
   "metadata": {
    "deletable": false,
    "editable": false
   },
   "outputs": [
    {
     "data": {
      "text/html": [
       "<p><strong><pre style='display: inline;'>q7</pre></strong> passed! ✨</p>"
      ],
      "text/plain": [
       "q7 results: All test cases passed!"
      ]
     },
     "execution_count": 16,
     "metadata": {},
     "output_type": "execute_result"
    }
   ],
   "source": [
    "grader.check(\"q7\")"
   ]
  },
  {
   "cell_type": "markdown",
   "metadata": {},
   "source": [
    "---"
   ]
  },
  {
   "cell_type": "markdown",
   "metadata": {
    "tags": []
   },
   "source": [
    "#### 8. Create a DataFrame named **sp_data_2018** by reading in the columns labeled 'DATE' and 'SPRTRN' from the file entitled fin_data.csv. The column labeled 'SPRTRN' contains the daily return for the S&P500 index. Restrict the sample period to 2018. Set the column labeled 'DATE' as the index. Make sure the DataFrame does not have any duplicate observations. \n",
    "\n",
    "_Points:_ 9"
   ]
  },
  {
   "cell_type": "code",
   "execution_count": 17,
   "metadata": {
    "scrolled": true,
    "tags": []
   },
   "outputs": [
    {
     "data": {
      "text/html": [
       "<div>\n",
       "<style scoped>\n",
       "    .dataframe tbody tr th:only-of-type {\n",
       "        vertical-align: middle;\n",
       "    }\n",
       "\n",
       "    .dataframe tbody tr th {\n",
       "        vertical-align: top;\n",
       "    }\n",
       "\n",
       "    .dataframe thead th {\n",
       "        text-align: right;\n",
       "    }\n",
       "</style>\n",
       "<table border=\"1\" class=\"dataframe\">\n",
       "  <thead>\n",
       "    <tr style=\"text-align: right;\">\n",
       "      <th></th>\n",
       "      <th>SPRTRN</th>\n",
       "    </tr>\n",
       "    <tr>\n",
       "      <th>DATE</th>\n",
       "      <th></th>\n",
       "    </tr>\n",
       "  </thead>\n",
       "  <tbody>\n",
       "    <tr>\n",
       "      <th>2018-01-02</th>\n",
       "      <td>0.008303</td>\n",
       "    </tr>\n",
       "    <tr>\n",
       "      <th>2018-01-03</th>\n",
       "      <td>0.006399</td>\n",
       "    </tr>\n",
       "    <tr>\n",
       "      <th>2018-01-04</th>\n",
       "      <td>0.004029</td>\n",
       "    </tr>\n",
       "    <tr>\n",
       "      <th>2018-01-05</th>\n",
       "      <td>0.007034</td>\n",
       "    </tr>\n",
       "    <tr>\n",
       "      <th>2018-01-08</th>\n",
       "      <td>0.001662</td>\n",
       "    </tr>\n",
       "    <tr>\n",
       "      <th>...</th>\n",
       "      <td>...</td>\n",
       "    </tr>\n",
       "    <tr>\n",
       "      <th>2018-12-24</th>\n",
       "      <td>-0.027112</td>\n",
       "    </tr>\n",
       "    <tr>\n",
       "      <th>2018-12-26</th>\n",
       "      <td>0.049594</td>\n",
       "    </tr>\n",
       "    <tr>\n",
       "      <th>2018-12-27</th>\n",
       "      <td>0.008563</td>\n",
       "    </tr>\n",
       "    <tr>\n",
       "      <th>2018-12-28</th>\n",
       "      <td>-0.001242</td>\n",
       "    </tr>\n",
       "    <tr>\n",
       "      <th>2018-12-31</th>\n",
       "      <td>0.008492</td>\n",
       "    </tr>\n",
       "  </tbody>\n",
       "</table>\n",
       "<p>251 rows × 1 columns</p>\n",
       "</div>"
      ],
      "text/plain": [
       "              SPRTRN\n",
       "DATE                \n",
       "2018-01-02  0.008303\n",
       "2018-01-03  0.006399\n",
       "2018-01-04  0.004029\n",
       "2018-01-05  0.007034\n",
       "2018-01-08  0.001662\n",
       "...              ...\n",
       "2018-12-24 -0.027112\n",
       "2018-12-26  0.049594\n",
       "2018-12-27  0.008563\n",
       "2018-12-28 -0.001242\n",
       "2018-12-31  0.008492\n",
       "\n",
       "[251 rows x 1 columns]"
      ]
     },
     "execution_count": 17,
     "metadata": {},
     "output_type": "execute_result"
    }
   ],
   "source": [
    "# reading in data and looking at only 2018\n",
    "sp_data_2018 = pd.read_csv('fin_data.csv', usecols=['DATE', 'SPRTRN'], parse_dates=['DATE'], index_col='DATE')\n",
    "sp_data_2018 = sp_data_2018.loc[sp_data_2018.index.year == 2018]\n",
    "\n",
    "# keeping only the first observation in the case of duplicate indicies\n",
    "sp_data_2018 = sp_data_2018[~sp_data_2018.index.duplicated(keep='first')]\n",
    "sp_data_2018"
   ]
  },
  {
   "cell_type": "code",
   "execution_count": 18,
   "metadata": {
    "deletable": false,
    "editable": false
   },
   "outputs": [
    {
     "data": {
      "text/html": [
       "<p><strong><pre style='display: inline;'>q8</pre></strong> passed! ✨</p>"
      ],
      "text/plain": [
       "q8 results: All test cases passed!"
      ]
     },
     "execution_count": 18,
     "metadata": {},
     "output_type": "execute_result"
    }
   ],
   "source": [
    "grader.check(\"q8\")"
   ]
  },
  {
   "cell_type": "markdown",
   "metadata": {},
   "source": [
    "---"
   ]
  },
  {
   "cell_type": "markdown",
   "metadata": {},
   "source": [
    "#### 9. Create a new DataFrame named **data_2018** by merging the DataFrame **returns_2018** with the monthly average daily return for the S&P500 index.\n",
    "\n",
    "_Points:_ 9"
   ]
  },
  {
   "cell_type": "code",
   "execution_count": 19,
   "metadata": {
    "scrolled": true,
    "tags": []
   },
   "outputs": [
    {
     "data": {
      "text/html": [
       "<div>\n",
       "<style scoped>\n",
       "    .dataframe tbody tr th:only-of-type {\n",
       "        vertical-align: middle;\n",
       "    }\n",
       "\n",
       "    .dataframe tbody tr th {\n",
       "        vertical-align: top;\n",
       "    }\n",
       "\n",
       "    .dataframe thead th {\n",
       "        text-align: right;\n",
       "    }\n",
       "</style>\n",
       "<table border=\"1\" class=\"dataframe\">\n",
       "  <thead>\n",
       "    <tr style=\"text-align: right;\">\n",
       "      <th></th>\n",
       "      <th></th>\n",
       "      <th>AAPL</th>\n",
       "      <th>AXP</th>\n",
       "      <th>BA</th>\n",
       "      <th>CAT</th>\n",
       "      <th>CSCO</th>\n",
       "      <th>CVX</th>\n",
       "      <th>DIS</th>\n",
       "      <th>GS</th>\n",
       "      <th>HD</th>\n",
       "      <th>IBM</th>\n",
       "      <th>...</th>\n",
       "      <th>PFE</th>\n",
       "      <th>PG</th>\n",
       "      <th>TRV</th>\n",
       "      <th>UNH</th>\n",
       "      <th>UTX</th>\n",
       "      <th>V</th>\n",
       "      <th>VZ</th>\n",
       "      <th>WMT</th>\n",
       "      <th>XOM</th>\n",
       "      <th>SPRTRN</th>\n",
       "    </tr>\n",
       "    <tr>\n",
       "      <th>DATE</th>\n",
       "      <th>DATE</th>\n",
       "      <th></th>\n",
       "      <th></th>\n",
       "      <th></th>\n",
       "      <th></th>\n",
       "      <th></th>\n",
       "      <th></th>\n",
       "      <th></th>\n",
       "      <th></th>\n",
       "      <th></th>\n",
       "      <th></th>\n",
       "      <th></th>\n",
       "      <th></th>\n",
       "      <th></th>\n",
       "      <th></th>\n",
       "      <th></th>\n",
       "      <th></th>\n",
       "      <th></th>\n",
       "      <th></th>\n",
       "      <th></th>\n",
       "      <th></th>\n",
       "      <th></th>\n",
       "    </tr>\n",
       "  </thead>\n",
       "  <tbody>\n",
       "    <tr>\n",
       "      <th rowspan=\"12\" valign=\"top\">2018</th>\n",
       "      <th>1</th>\n",
       "      <td>-0.000460</td>\n",
       "      <td>0.000072</td>\n",
       "      <td>0.008985</td>\n",
       "      <td>0.001614</td>\n",
       "      <td>0.003924</td>\n",
       "      <td>0.000133</td>\n",
       "      <td>0.000593</td>\n",
       "      <td>0.002467</td>\n",
       "      <td>0.002822</td>\n",
       "      <td>0.003203</td>\n",
       "      <td>...</td>\n",
       "      <td>0.001167</td>\n",
       "      <td>-0.002911</td>\n",
       "      <td>0.004863</td>\n",
       "      <td>0.003510</td>\n",
       "      <td>0.003786</td>\n",
       "      <td>0.004122</td>\n",
       "      <td>0.001072</td>\n",
       "      <td>0.003694</td>\n",
       "      <td>0.002080</td>\n",
       "      <td>0.002621</td>\n",
       "    </tr>\n",
       "    <tr>\n",
       "      <th>2</th>\n",
       "      <td>0.003508</td>\n",
       "      <td>-0.000690</td>\n",
       "      <td>0.001455</td>\n",
       "      <td>-0.002374</td>\n",
       "      <td>0.004270</td>\n",
       "      <td>-0.005692</td>\n",
       "      <td>-0.002546</td>\n",
       "      <td>-0.000710</td>\n",
       "      <td>-0.004843</td>\n",
       "      <td>-0.002425</td>\n",
       "      <td>...</td>\n",
       "      <td>-0.000864</td>\n",
       "      <td>-0.004871</td>\n",
       "      <td>-0.003805</td>\n",
       "      <td>-0.002201</td>\n",
       "      <td>-0.001002</td>\n",
       "      <td>-0.000316</td>\n",
       "      <td>-0.006373</td>\n",
       "      <td>-0.008465</td>\n",
       "      <td>-0.007231</td>\n",
       "      <td>-0.001948</td>\n",
       "    </tr>\n",
       "    <tr>\n",
       "      <th>3</th>\n",
       "      <td>-0.002713</td>\n",
       "      <td>-0.001994</td>\n",
       "      <td>-0.004525</td>\n",
       "      <td>-0.002010</td>\n",
       "      <td>-0.001897</td>\n",
       "      <td>0.000998</td>\n",
       "      <td>-0.001210</td>\n",
       "      <td>-0.001874</td>\n",
       "      <td>-0.000976</td>\n",
       "      <td>-0.000636</td>\n",
       "      <td>...</td>\n",
       "      <td>-0.001019</td>\n",
       "      <td>0.000497</td>\n",
       "      <td>0.000034</td>\n",
       "      <td>-0.002520</td>\n",
       "      <td>-0.003150</td>\n",
       "      <td>-0.001180</td>\n",
       "      <td>0.000110</td>\n",
       "      <td>-0.000468</td>\n",
       "      <td>-0.000638</td>\n",
       "      <td>-0.001220</td>\n",
       "    </tr>\n",
       "    <tr>\n",
       "      <th>4</th>\n",
       "      <td>-0.000595</td>\n",
       "      <td>0.002927</td>\n",
       "      <td>0.001053</td>\n",
       "      <td>-0.000770</td>\n",
       "      <td>0.001677</td>\n",
       "      <td>0.004508</td>\n",
       "      <td>0.000009</td>\n",
       "      <td>-0.002532</td>\n",
       "      <td>0.001860</td>\n",
       "      <td>-0.002474</td>\n",
       "      <td>...</td>\n",
       "      <td>0.001525</td>\n",
       "      <td>-0.004285</td>\n",
       "      <td>-0.002485</td>\n",
       "      <td>0.004877</td>\n",
       "      <td>-0.002145</td>\n",
       "      <td>0.002928</td>\n",
       "      <td>0.001649</td>\n",
       "      <td>-0.000203</td>\n",
       "      <td>0.002079</td>\n",
       "      <td>0.000186</td>\n",
       "    </tr>\n",
       "    <tr>\n",
       "      <th>5</th>\n",
       "      <td>0.005692</td>\n",
       "      <td>-0.000156</td>\n",
       "      <td>0.002586</td>\n",
       "      <td>0.002401</td>\n",
       "      <td>-0.001577</td>\n",
       "      <td>-0.000214</td>\n",
       "      <td>-0.000326</td>\n",
       "      <td>-0.002380</td>\n",
       "      <td>0.000474</td>\n",
       "      <td>-0.001129</td>\n",
       "      <td>...</td>\n",
       "      <td>-0.000809</td>\n",
       "      <td>0.000561</td>\n",
       "      <td>-0.001026</td>\n",
       "      <td>0.001039</td>\n",
       "      <td>0.001774</td>\n",
       "      <td>0.001374</td>\n",
       "      <td>-0.001498</td>\n",
       "      <td>-0.003051</td>\n",
       "      <td>0.002090</td>\n",
       "      <td>0.000993</td>\n",
       "    </tr>\n",
       "    <tr>\n",
       "      <th>6</th>\n",
       "      <td>-0.000414</td>\n",
       "      <td>-0.000111</td>\n",
       "      <td>-0.002199</td>\n",
       "      <td>-0.005276</td>\n",
       "      <td>0.000409</td>\n",
       "      <td>0.000893</td>\n",
       "      <td>0.002552</td>\n",
       "      <td>-0.001093</td>\n",
       "      <td>0.002167</td>\n",
       "      <td>-0.000514</td>\n",
       "      <td>...</td>\n",
       "      <td>0.000473</td>\n",
       "      <td>0.003131</td>\n",
       "      <td>-0.002304</td>\n",
       "      <td>0.000781</td>\n",
       "      <td>0.000108</td>\n",
       "      <td>0.000697</td>\n",
       "      <td>0.002658</td>\n",
       "      <td>0.001807</td>\n",
       "      <td>0.000924</td>\n",
       "      <td>0.000245</td>\n",
       "    </tr>\n",
       "    <tr>\n",
       "      <th>7</th>\n",
       "      <td>0.001360</td>\n",
       "      <td>0.000808</td>\n",
       "      <td>0.002944</td>\n",
       "      <td>0.002933</td>\n",
       "      <td>-0.000733</td>\n",
       "      <td>0.000017</td>\n",
       "      <td>0.003864</td>\n",
       "      <td>0.003557</td>\n",
       "      <td>0.000602</td>\n",
       "      <td>0.001807</td>\n",
       "      <td>...</td>\n",
       "      <td>0.004613</td>\n",
       "      <td>0.001734</td>\n",
       "      <td>0.003019</td>\n",
       "      <td>0.001555</td>\n",
       "      <td>0.003998</td>\n",
       "      <td>0.001578</td>\n",
       "      <td>0.001282</td>\n",
       "      <td>0.001982</td>\n",
       "      <td>-0.000660</td>\n",
       "      <td>0.001701</td>\n",
       "    </tr>\n",
       "    <tr>\n",
       "      <th>8</th>\n",
       "      <td>0.007915</td>\n",
       "      <td>0.002760</td>\n",
       "      <td>-0.001596</td>\n",
       "      <td>-0.001382</td>\n",
       "      <td>0.005350</td>\n",
       "      <td>-0.002720</td>\n",
       "      <td>-0.000566</td>\n",
       "      <td>0.000131</td>\n",
       "      <td>0.000732</td>\n",
       "      <td>0.000509</td>\n",
       "      <td>...</td>\n",
       "      <td>0.001745</td>\n",
       "      <td>0.001120</td>\n",
       "      <td>0.000511</td>\n",
       "      <td>0.002561</td>\n",
       "      <td>-0.001283</td>\n",
       "      <td>0.003134</td>\n",
       "      <td>0.002268</td>\n",
       "      <td>0.003330</td>\n",
       "      <td>-0.000680</td>\n",
       "      <td>0.001306</td>\n",
       "    </tr>\n",
       "    <tr>\n",
       "      <th>9</th>\n",
       "      <td>-0.000341</td>\n",
       "      <td>0.000288</td>\n",
       "      <td>0.004362</td>\n",
       "      <td>0.004998</td>\n",
       "      <td>0.000980</td>\n",
       "      <td>0.001721</td>\n",
       "      <td>0.002311</td>\n",
       "      <td>-0.003039</td>\n",
       "      <td>0.001703</td>\n",
       "      <td>0.001702</td>\n",
       "      <td>...</td>\n",
       "      <td>0.003159</td>\n",
       "      <td>0.000213</td>\n",
       "      <td>-0.000709</td>\n",
       "      <td>-0.000432</td>\n",
       "      <td>0.003179</td>\n",
       "      <td>0.001193</td>\n",
       "      <td>-0.000910</td>\n",
       "      <td>-0.001061</td>\n",
       "      <td>0.003133</td>\n",
       "      <td>0.000232</td>\n",
       "    </tr>\n",
       "    <tr>\n",
       "      <th>10</th>\n",
       "      <td>-0.001141</td>\n",
       "      <td>-0.001442</td>\n",
       "      <td>-0.001756</td>\n",
       "      <td>-0.009515</td>\n",
       "      <td>-0.002465</td>\n",
       "      <td>-0.003822</td>\n",
       "      <td>-0.000634</td>\n",
       "      <td>0.000401</td>\n",
       "      <td>-0.006965</td>\n",
       "      <td>-0.011424</td>\n",
       "      <td>...</td>\n",
       "      <td>-0.000869</td>\n",
       "      <td>0.002995</td>\n",
       "      <td>-0.001477</td>\n",
       "      <td>-0.000617</td>\n",
       "      <td>-0.004944</td>\n",
       "      <td>-0.003397</td>\n",
       "      <td>0.003019</td>\n",
       "      <td>0.002942</td>\n",
       "      <td>-0.002730</td>\n",
       "      <td>-0.003027</td>\n",
       "    </tr>\n",
       "    <tr>\n",
       "      <th>11</th>\n",
       "      <td>-0.009264</td>\n",
       "      <td>0.004338</td>\n",
       "      <td>-0.000881</td>\n",
       "      <td>0.005644</td>\n",
       "      <td>0.002372</td>\n",
       "      <td>0.003173</td>\n",
       "      <td>0.000337</td>\n",
       "      <td>-0.007667</td>\n",
       "      <td>0.001334</td>\n",
       "      <td>0.003656</td>\n",
       "      <td>...</td>\n",
       "      <td>0.003483</td>\n",
       "      <td>0.003062</td>\n",
       "      <td>0.002074</td>\n",
       "      <td>0.003648</td>\n",
       "      <td>-0.000801</td>\n",
       "      <td>0.001489</td>\n",
       "      <td>0.002671</td>\n",
       "      <td>-0.001186</td>\n",
       "      <td>-0.000004</td>\n",
       "      <td>0.000910</td>\n",
       "    </tr>\n",
       "    <tr>\n",
       "      <th>12</th>\n",
       "      <td>-0.006140</td>\n",
       "      <td>-0.008322</td>\n",
       "      <td>-0.003403</td>\n",
       "      <td>-0.003088</td>\n",
       "      <td>-0.004943</td>\n",
       "      <td>-0.004469</td>\n",
       "      <td>-0.002528</td>\n",
       "      <td>-0.006707</td>\n",
       "      <td>-0.002323</td>\n",
       "      <td>-0.004482</td>\n",
       "      <td>...</td>\n",
       "      <td>-0.002881</td>\n",
       "      <td>-0.001302</td>\n",
       "      <td>-0.004348</td>\n",
       "      <td>-0.006192</td>\n",
       "      <td>-0.006887</td>\n",
       "      <td>-0.003443</td>\n",
       "      <td>-0.003548</td>\n",
       "      <td>-0.002311</td>\n",
       "      <td>-0.007857</td>\n",
       "      <td>-0.004888</td>\n",
       "    </tr>\n",
       "  </tbody>\n",
       "</table>\n",
       "<p>12 rows × 29 columns</p>\n",
       "</div>"
      ],
      "text/plain": [
       "               AAPL       AXP        BA       CAT      CSCO       CVX  \\\n",
       "DATE DATE                                                               \n",
       "2018 1    -0.000460  0.000072  0.008985  0.001614  0.003924  0.000133   \n",
       "     2     0.003508 -0.000690  0.001455 -0.002374  0.004270 -0.005692   \n",
       "     3    -0.002713 -0.001994 -0.004525 -0.002010 -0.001897  0.000998   \n",
       "     4    -0.000595  0.002927  0.001053 -0.000770  0.001677  0.004508   \n",
       "     5     0.005692 -0.000156  0.002586  0.002401 -0.001577 -0.000214   \n",
       "     6    -0.000414 -0.000111 -0.002199 -0.005276  0.000409  0.000893   \n",
       "     7     0.001360  0.000808  0.002944  0.002933 -0.000733  0.000017   \n",
       "     8     0.007915  0.002760 -0.001596 -0.001382  0.005350 -0.002720   \n",
       "     9    -0.000341  0.000288  0.004362  0.004998  0.000980  0.001721   \n",
       "     10   -0.001141 -0.001442 -0.001756 -0.009515 -0.002465 -0.003822   \n",
       "     11   -0.009264  0.004338 -0.000881  0.005644  0.002372  0.003173   \n",
       "     12   -0.006140 -0.008322 -0.003403 -0.003088 -0.004943 -0.004469   \n",
       "\n",
       "                DIS        GS        HD       IBM  ...       PFE        PG  \\\n",
       "DATE DATE                                          ...                       \n",
       "2018 1     0.000593  0.002467  0.002822  0.003203  ...  0.001167 -0.002911   \n",
       "     2    -0.002546 -0.000710 -0.004843 -0.002425  ... -0.000864 -0.004871   \n",
       "     3    -0.001210 -0.001874 -0.000976 -0.000636  ... -0.001019  0.000497   \n",
       "     4     0.000009 -0.002532  0.001860 -0.002474  ...  0.001525 -0.004285   \n",
       "     5    -0.000326 -0.002380  0.000474 -0.001129  ... -0.000809  0.000561   \n",
       "     6     0.002552 -0.001093  0.002167 -0.000514  ...  0.000473  0.003131   \n",
       "     7     0.003864  0.003557  0.000602  0.001807  ...  0.004613  0.001734   \n",
       "     8    -0.000566  0.000131  0.000732  0.000509  ...  0.001745  0.001120   \n",
       "     9     0.002311 -0.003039  0.001703  0.001702  ...  0.003159  0.000213   \n",
       "     10   -0.000634  0.000401 -0.006965 -0.011424  ... -0.000869  0.002995   \n",
       "     11    0.000337 -0.007667  0.001334  0.003656  ...  0.003483  0.003062   \n",
       "     12   -0.002528 -0.006707 -0.002323 -0.004482  ... -0.002881 -0.001302   \n",
       "\n",
       "                TRV       UNH       UTX         V        VZ       WMT  \\\n",
       "DATE DATE                                                               \n",
       "2018 1     0.004863  0.003510  0.003786  0.004122  0.001072  0.003694   \n",
       "     2    -0.003805 -0.002201 -0.001002 -0.000316 -0.006373 -0.008465   \n",
       "     3     0.000034 -0.002520 -0.003150 -0.001180  0.000110 -0.000468   \n",
       "     4    -0.002485  0.004877 -0.002145  0.002928  0.001649 -0.000203   \n",
       "     5    -0.001026  0.001039  0.001774  0.001374 -0.001498 -0.003051   \n",
       "     6    -0.002304  0.000781  0.000108  0.000697  0.002658  0.001807   \n",
       "     7     0.003019  0.001555  0.003998  0.001578  0.001282  0.001982   \n",
       "     8     0.000511  0.002561 -0.001283  0.003134  0.002268  0.003330   \n",
       "     9    -0.000709 -0.000432  0.003179  0.001193 -0.000910 -0.001061   \n",
       "     10   -0.001477 -0.000617 -0.004944 -0.003397  0.003019  0.002942   \n",
       "     11    0.002074  0.003648 -0.000801  0.001489  0.002671 -0.001186   \n",
       "     12   -0.004348 -0.006192 -0.006887 -0.003443 -0.003548 -0.002311   \n",
       "\n",
       "                XOM    SPRTRN  \n",
       "DATE DATE                      \n",
       "2018 1     0.002080  0.002621  \n",
       "     2    -0.007231 -0.001948  \n",
       "     3    -0.000638 -0.001220  \n",
       "     4     0.002079  0.000186  \n",
       "     5     0.002090  0.000993  \n",
       "     6     0.000924  0.000245  \n",
       "     7    -0.000660  0.001701  \n",
       "     8    -0.000680  0.001306  \n",
       "     9     0.003133  0.000232  \n",
       "     10   -0.002730 -0.003027  \n",
       "     11   -0.000004  0.000910  \n",
       "     12   -0.007857 -0.004888  \n",
       "\n",
       "[12 rows x 29 columns]"
      ]
     },
     "execution_count": 19,
     "metadata": {},
     "output_type": "execute_result"
    }
   ],
   "source": [
    "# first, we need to group the data into the same indices as the other df in order to merge properly\n",
    "monthly_sp = sp_data_2018.groupby([sp_data_2018.index.year, sp_data_2018.index.month])['SPRTRN'].mean()\n",
    "\n",
    "data_2018 = returns_2018.merge(monthly_sp, left_index=True, right_index=True)\n",
    "data_2018"
   ]
  },
  {
   "cell_type": "code",
   "execution_count": 20,
   "metadata": {
    "deletable": false,
    "editable": false
   },
   "outputs": [
    {
     "data": {
      "text/html": [
       "<p><strong><pre style='display: inline;'>q9</pre></strong> passed! ✨</p>"
      ],
      "text/plain": [
       "q9 results: All test cases passed!"
      ]
     },
     "execution_count": 20,
     "metadata": {},
     "output_type": "execute_result"
    }
   ],
   "source": [
    "grader.check(\"q9\")"
   ]
  },
  {
   "cell_type": "markdown",
   "metadata": {},
   "source": [
    "---"
   ]
  },
  {
   "cell_type": "markdown",
   "metadata": {},
   "source": [
    "#### 10. Which stock had the highest correlation with the S&P500 in 2018, and what was the correlation magnitude? Store the values in two variables labeled **stock_corr_max** and **corr_max**.\n",
    "\n",
    "_Points:_ 9"
   ]
  },
  {
   "cell_type": "code",
   "execution_count": 21,
   "metadata": {
    "scrolled": true,
    "tags": []
   },
   "outputs": [],
   "source": [
    "# creating a correlation matrix\n",
    "corr_matrix = data_2018.corr()\n",
    "\n",
    "# getting the stock and the correlation value\n",
    "stock_corr_max = (corr_matrix.loc['SPRTRN'][:-1]).idxmax()\n",
    "corr_max = corr_matrix.loc['SPRTRN', stock_corr_max]"
   ]
  },
  {
   "cell_type": "code",
   "execution_count": 22,
   "metadata": {
    "deletable": false,
    "editable": false
   },
   "outputs": [
    {
     "data": {
      "text/html": [
       "<p><strong><pre style='display: inline;'>q10</pre></strong> passed! ✨</p>"
      ],
      "text/plain": [
       "q10 results: All test cases passed!"
      ]
     },
     "execution_count": 22,
     "metadata": {},
     "output_type": "execute_result"
    }
   ],
   "source": [
    "grader.check(\"q10\")"
   ]
  },
  {
   "cell_type": "markdown",
   "metadata": {},
   "source": [
    "---"
   ]
  },
  {
   "cell_type": "markdown",
   "metadata": {},
   "source": [
    "#### 11. Use the returns_2018 DataFrame to create another DataFrame named **max_correlations** to store each stock's highest correlation during 2018 and the stock it occured with. Specifically, the DataFrame should have the following header:\n",
    "\n",
    "_Points:_ 9"
   ]
  },
  {
   "cell_type": "code",
   "execution_count": 23,
   "metadata": {
    "scrolled": true,
    "tags": []
   },
   "outputs": [
    {
     "data": {
      "text/html": [
       "<div>\n",
       "<style scoped>\n",
       "    .dataframe tbody tr th:only-of-type {\n",
       "        vertical-align: middle;\n",
       "    }\n",
       "\n",
       "    .dataframe tbody tr th {\n",
       "        vertical-align: top;\n",
       "    }\n",
       "\n",
       "    .dataframe thead th {\n",
       "        text-align: right;\n",
       "    }\n",
       "</style>\n",
       "<table border=\"1\" class=\"dataframe\">\n",
       "  <thead>\n",
       "    <tr style=\"text-align: right;\">\n",
       "      <th></th>\n",
       "      <th>CORR</th>\n",
       "      <th>TICKER_PAIR</th>\n",
       "    </tr>\n",
       "    <tr>\n",
       "      <th>TICKER</th>\n",
       "      <th></th>\n",
       "      <th></th>\n",
       "    </tr>\n",
       "  </thead>\n",
       "  <tbody>\n",
       "    <tr>\n",
       "      <th>AAPL</th>\n",
       "      <td>0.618578</td>\n",
       "      <td>GS</td>\n",
       "    </tr>\n",
       "    <tr>\n",
       "      <th>AXP</th>\n",
       "      <td>0.897287</td>\n",
       "      <td>UNH</td>\n",
       "    </tr>\n",
       "    <tr>\n",
       "      <th>BA</th>\n",
       "      <td>0.798559</td>\n",
       "      <td>UTX</td>\n",
       "    </tr>\n",
       "    <tr>\n",
       "      <th>CAT</th>\n",
       "      <td>0.835634</td>\n",
       "      <td>IBM</td>\n",
       "    </tr>\n",
       "    <tr>\n",
       "      <th>CSCO</th>\n",
       "      <td>0.748098</td>\n",
       "      <td>V</td>\n",
       "    </tr>\n",
       "    <tr>\n",
       "      <th>CVX</th>\n",
       "      <td>0.811421</td>\n",
       "      <td>XOM</td>\n",
       "    </tr>\n",
       "    <tr>\n",
       "      <th>DIS</th>\n",
       "      <td>0.795614</td>\n",
       "      <td>JNJ</td>\n",
       "    </tr>\n",
       "    <tr>\n",
       "      <th>GS</th>\n",
       "      <td>0.646325</td>\n",
       "      <td>JPM</td>\n",
       "    </tr>\n",
       "    <tr>\n",
       "      <th>HD</th>\n",
       "      <td>0.824701</td>\n",
       "      <td>IBM</td>\n",
       "    </tr>\n",
       "    <tr>\n",
       "      <th>IBM</th>\n",
       "      <td>0.835634</td>\n",
       "      <td>CAT</td>\n",
       "    </tr>\n",
       "    <tr>\n",
       "      <th>INTC</th>\n",
       "      <td>0.383887</td>\n",
       "      <td>TRV</td>\n",
       "    </tr>\n",
       "    <tr>\n",
       "      <th>JNJ</th>\n",
       "      <td>0.869749</td>\n",
       "      <td>PFE</td>\n",
       "    </tr>\n",
       "    <tr>\n",
       "      <th>JPM</th>\n",
       "      <td>0.865831</td>\n",
       "      <td>MSFT</td>\n",
       "    </tr>\n",
       "    <tr>\n",
       "      <th>KO</th>\n",
       "      <td>0.838260</td>\n",
       "      <td>MRK</td>\n",
       "    </tr>\n",
       "    <tr>\n",
       "      <th>MCD</th>\n",
       "      <td>0.841354</td>\n",
       "      <td>MRK</td>\n",
       "    </tr>\n",
       "    <tr>\n",
       "      <th>MMM</th>\n",
       "      <td>0.795393</td>\n",
       "      <td>TRV</td>\n",
       "    </tr>\n",
       "    <tr>\n",
       "      <th>MRK</th>\n",
       "      <td>0.848791</td>\n",
       "      <td>VZ</td>\n",
       "    </tr>\n",
       "    <tr>\n",
       "      <th>MSFT</th>\n",
       "      <td>0.924078</td>\n",
       "      <td>V</td>\n",
       "    </tr>\n",
       "    <tr>\n",
       "      <th>NKE</th>\n",
       "      <td>0.802889</td>\n",
       "      <td>HD</td>\n",
       "    </tr>\n",
       "    <tr>\n",
       "      <th>PFE</th>\n",
       "      <td>0.869749</td>\n",
       "      <td>JNJ</td>\n",
       "    </tr>\n",
       "    <tr>\n",
       "      <th>PG</th>\n",
       "      <td>0.626456</td>\n",
       "      <td>VZ</td>\n",
       "    </tr>\n",
       "    <tr>\n",
       "      <th>TRV</th>\n",
       "      <td>0.795393</td>\n",
       "      <td>MMM</td>\n",
       "    </tr>\n",
       "    <tr>\n",
       "      <th>UNH</th>\n",
       "      <td>0.897287</td>\n",
       "      <td>AXP</td>\n",
       "    </tr>\n",
       "    <tr>\n",
       "      <th>UTX</th>\n",
       "      <td>0.860605</td>\n",
       "      <td>MSFT</td>\n",
       "    </tr>\n",
       "    <tr>\n",
       "      <th>V</th>\n",
       "      <td>0.924078</td>\n",
       "      <td>MSFT</td>\n",
       "    </tr>\n",
       "    <tr>\n",
       "      <th>VZ</th>\n",
       "      <td>0.859425</td>\n",
       "      <td>WMT</td>\n",
       "    </tr>\n",
       "    <tr>\n",
       "      <th>WMT</th>\n",
       "      <td>0.859425</td>\n",
       "      <td>VZ</td>\n",
       "    </tr>\n",
       "    <tr>\n",
       "      <th>XOM</th>\n",
       "      <td>0.811421</td>\n",
       "      <td>CVX</td>\n",
       "    </tr>\n",
       "  </tbody>\n",
       "</table>\n",
       "</div>"
      ],
      "text/plain": [
       "            CORR TICKER_PAIR\n",
       "TICKER                      \n",
       "AAPL    0.618578          GS\n",
       "AXP     0.897287         UNH\n",
       "BA      0.798559         UTX\n",
       "CAT     0.835634         IBM\n",
       "CSCO    0.748098           V\n",
       "CVX     0.811421         XOM\n",
       "DIS     0.795614         JNJ\n",
       "GS      0.646325         JPM\n",
       "HD      0.824701         IBM\n",
       "IBM     0.835634         CAT\n",
       "INTC    0.383887         TRV\n",
       "JNJ     0.869749         PFE\n",
       "JPM     0.865831        MSFT\n",
       "KO      0.838260         MRK\n",
       "MCD     0.841354         MRK\n",
       "MMM     0.795393         TRV\n",
       "MRK     0.848791          VZ\n",
       "MSFT    0.924078           V\n",
       "NKE     0.802889          HD\n",
       "PFE     0.869749         JNJ\n",
       "PG      0.626456          VZ\n",
       "TRV     0.795393         MMM\n",
       "UNH     0.897287         AXP\n",
       "UTX     0.860605        MSFT\n",
       "V       0.924078        MSFT\n",
       "VZ      0.859425         WMT\n",
       "WMT     0.859425          VZ\n",
       "XOM     0.811421         CVX"
      ]
     },
     "execution_count": 23,
     "metadata": {},
     "output_type": "execute_result"
    }
   ],
   "source": [
    "max_correlations = pd.DataFrame(columns = ['TICKER', 'CORR', 'TICKER_PAIR'])\n",
    "\n",
    "# iterate through stocks\n",
    "for stock in returns_2018.columns:\n",
    "    corr_series = returns_2018.drop(columns=stock).corrwith(returns_2018[stock])\n",
    "\n",
    "    # max correlation and the stock associated with it\n",
    "    max_corr = corr_series.max()\n",
    "    max_corr_stock = corr_series.idxmax()\n",
    "\n",
    "    # add to dataframe\n",
    "    max_correlations.loc[len(max_correlations.index)] = [stock, max_corr, max_corr_stock] \n",
    "\n",
    "max_correlations.set_index('TICKER', inplace = True)\n",
    "max_correlations"
   ]
  },
  {
   "cell_type": "code",
   "execution_count": 24,
   "metadata": {
    "deletable": false,
    "editable": false,
    "scrolled": true
   },
   "outputs": [
    {
     "data": {
      "text/html": [
       "<p><strong style='color: red;'><pre style='display: inline;'>q11</pre> results:</strong></p><p><strong><pre style='display: inline;'>q11 - 1</pre> result:</strong></p><pre>    ✅ Test case passed</pre><p><strong><pre style='display: inline;'>q11 - 2</pre> result:</strong></p><pre>    ❌ Test case failed\n",
       "    Trying:\n",
       "        (np.sum(max_correlations.reset_index().sort_values(by='TICKER')['TICKER_PAIR'].values==\\\n",
       "               np.array(['CSCO', 'PFE', 'MSFT', 'MMM', 'AXP', 'HD', 'PFE', 'AAPL', 'NKE',\n",
       "               'HD', 'CAT', 'DIS', 'UTX', 'JNJ', 'VZ', 'IBM', 'MCD', 'JPM', 'V',\n",
       "               'DIS', 'KO', 'JPM', 'V', 'JPM', 'UNH', 'MRK', 'MRK', 'HD']))==28)|\\\n",
       "        (np.sum(max_correlations.reset_index().sort_values(by='TICKER_PAIR')['TICKER'].values==\\\n",
       "               np.array(['GS', 'CSCO', 'INTC', 'AAPL', 'PFE', 'JNJ', 'IBM', 'XOM', 'CVX',\n",
       "               'MMM', 'KO', 'UTX', 'TRV', 'MSFT', 'PG', 'MRK', 'CAT', 'VZ', 'WMT',\n",
       "               'BA', 'HD', 'DIS', 'AXP', 'V', 'JPM', 'NKE', 'UNH', 'MCD']))==28)\n",
       "    Expecting:\n",
       "        True\n",
       "    **********************************************************************\n",
       "    Line 1, in q11 1\n",
       "    Failed example:\n",
       "        (np.sum(max_correlations.reset_index().sort_values(by='TICKER')['TICKER_PAIR'].values==\\\n",
       "               np.array(['CSCO', 'PFE', 'MSFT', 'MMM', 'AXP', 'HD', 'PFE', 'AAPL', 'NKE',\n",
       "               'HD', 'CAT', 'DIS', 'UTX', 'JNJ', 'VZ', 'IBM', 'MCD', 'JPM', 'V',\n",
       "               'DIS', 'KO', 'JPM', 'V', 'JPM', 'UNH', 'MRK', 'MRK', 'HD']))==28)|\\\n",
       "        (np.sum(max_correlations.reset_index().sort_values(by='TICKER_PAIR')['TICKER'].values==\\\n",
       "               np.array(['GS', 'CSCO', 'INTC', 'AAPL', 'PFE', 'JNJ', 'IBM', 'XOM', 'CVX',\n",
       "               'MMM', 'KO', 'UTX', 'TRV', 'MSFT', 'PG', 'MRK', 'CAT', 'VZ', 'WMT',\n",
       "               'BA', 'HD', 'DIS', 'AXP', 'V', 'JPM', 'NKE', 'UNH', 'MCD']))==28)\n",
       "    Expected:\n",
       "        True\n",
       "    Got:\n",
       "        False\n",
       "</pre><p><strong><pre style='display: inline;'>q11 - 3</pre> result:</strong></p><pre>    ❌ Test case failed\n",
       "    Trying:\n",
       "        np.allclose(max_correlations['CORR'].sum(),20.68399012355372)\n",
       "    Expecting:\n",
       "        True\n",
       "    **********************************************************************\n",
       "    Line 1, in q11 2\n",
       "    Failed example:\n",
       "        np.allclose(max_correlations['CORR'].sum(),20.68399012355372)\n",
       "    Expected:\n",
       "        True\n",
       "    Got:\n",
       "        False\n",
       "</pre>"
      ],
      "text/plain": [
       "q11 results:\n",
       "    q11 - 1 result:\n",
       "        ✅ Test case passed\n",
       "\n",
       "    q11 - 2 result:\n",
       "        ❌ Test case failed\n",
       "        Trying:\n",
       "            (np.sum(max_correlations.reset_index().sort_values(by='TICKER')['TICKER_PAIR'].values==\\\n",
       "                   np.array(['CSCO', 'PFE', 'MSFT', 'MMM', 'AXP', 'HD', 'PFE', 'AAPL', 'NKE',\n",
       "                   'HD', 'CAT', 'DIS', 'UTX', 'JNJ', 'VZ', 'IBM', 'MCD', 'JPM', 'V',\n",
       "                   'DIS', 'KO', 'JPM', 'V', 'JPM', 'UNH', 'MRK', 'MRK', 'HD']))==28)|\\\n",
       "            (np.sum(max_correlations.reset_index().sort_values(by='TICKER_PAIR')['TICKER'].values==\\\n",
       "                   np.array(['GS', 'CSCO', 'INTC', 'AAPL', 'PFE', 'JNJ', 'IBM', 'XOM', 'CVX',\n",
       "                   'MMM', 'KO', 'UTX', 'TRV', 'MSFT', 'PG', 'MRK', 'CAT', 'VZ', 'WMT',\n",
       "                   'BA', 'HD', 'DIS', 'AXP', 'V', 'JPM', 'NKE', 'UNH', 'MCD']))==28)\n",
       "        Expecting:\n",
       "            True\n",
       "        **********************************************************************\n",
       "        Line 1, in q11 1\n",
       "        Failed example:\n",
       "            (np.sum(max_correlations.reset_index().sort_values(by='TICKER')['TICKER_PAIR'].values==\\\n",
       "                   np.array(['CSCO', 'PFE', 'MSFT', 'MMM', 'AXP', 'HD', 'PFE', 'AAPL', 'NKE',\n",
       "                   'HD', 'CAT', 'DIS', 'UTX', 'JNJ', 'VZ', 'IBM', 'MCD', 'JPM', 'V',\n",
       "                   'DIS', 'KO', 'JPM', 'V', 'JPM', 'UNH', 'MRK', 'MRK', 'HD']))==28)|\\\n",
       "            (np.sum(max_correlations.reset_index().sort_values(by='TICKER_PAIR')['TICKER'].values==\\\n",
       "                   np.array(['GS', 'CSCO', 'INTC', 'AAPL', 'PFE', 'JNJ', 'IBM', 'XOM', 'CVX',\n",
       "                   'MMM', 'KO', 'UTX', 'TRV', 'MSFT', 'PG', 'MRK', 'CAT', 'VZ', 'WMT',\n",
       "                   'BA', 'HD', 'DIS', 'AXP', 'V', 'JPM', 'NKE', 'UNH', 'MCD']))==28)\n",
       "        Expected:\n",
       "            True\n",
       "        Got:\n",
       "            False\n",
       "\n",
       "    q11 - 3 result:\n",
       "        ❌ Test case failed\n",
       "        Trying:\n",
       "            np.allclose(max_correlations['CORR'].sum(),20.68399012355372)\n",
       "        Expecting:\n",
       "            True\n",
       "        **********************************************************************\n",
       "        Line 1, in q11 2\n",
       "        Failed example:\n",
       "            np.allclose(max_correlations['CORR'].sum(),20.68399012355372)\n",
       "        Expected:\n",
       "            True\n",
       "        Got:\n",
       "            False"
      ]
     },
     "execution_count": 24,
     "metadata": {},
     "output_type": "execute_result"
    }
   ],
   "source": [
    "grader.check(\"q11\")"
   ]
  },
  {
   "cell_type": "markdown",
   "metadata": {},
   "source": [
    "---"
   ]
  },
  {
   "cell_type": "markdown",
   "metadata": {
    "deletable": false,
    "editable": false
   },
   "source": [
    "## Submission\n",
    "\n",
    "Make sure you have run all cells in your notebook in order before running the cell below, so that all images/graphs appear in the output. The cell below will generate a zip file for you to submit. **Please save before exporting!**"
   ]
  },
  {
   "cell_type": "code",
   "execution_count": 25,
   "metadata": {
    "deletable": false,
    "editable": false
   },
   "outputs": [
    {
     "name": "stdout",
     "output_type": "stream",
     "text": [
      "Running your submission against local test cases...\n",
      "\n",
      "\n",
      "\n",
      "Your submission received the following results when run against available test cases:\n",
      "\n",
      "    q1 results: All test cases passed!\n",
      "\n",
      "    q2 results: All test cases passed!\n",
      "\n",
      "    q3 results: All test cases passed!\n",
      "\n",
      "    q4 results: All test cases passed!\n",
      "\n",
      "    q5 results: All test cases passed!\n",
      "\n",
      "    q6 results: All test cases passed!\n",
      "\n",
      "    q7 results: All test cases passed!\n",
      "\n",
      "    q8 results: All test cases passed!\n",
      "\n",
      "    q9 results: All test cases passed!\n",
      "\n",
      "    q10 results: All test cases passed!\n",
      "\n",
      "    q11 results:\n",
      "        q11 - 1 result:\n",
      "            ✅ Test case passed\n",
      "\n",
      "        q11 - 2 result:\n",
      "            ❌ Test case failed\n",
      "            Trying:\n",
      "                (np.sum(max_correlations.reset_index().sort_values(by='TICKER')['TICKER_PAIR'].values==\\\n",
      "                       np.array(['CSCO', 'PFE', 'MSFT', 'MMM', 'AXP', 'HD', 'PFE', 'AAPL', 'NKE',\n",
      "                       'HD', 'CAT', 'DIS', 'UTX', 'JNJ', 'VZ', 'IBM', 'MCD', 'JPM', 'V',\n",
      "                       'DIS', 'KO', 'JPM', 'V', 'JPM', 'UNH', 'MRK', 'MRK', 'HD']))==28)|\\\n",
      "                (np.sum(max_correlations.reset_index().sort_values(by='TICKER_PAIR')['TICKER'].values==\\\n",
      "                       np.array(['GS', 'CSCO', 'INTC', 'AAPL', 'PFE', 'JNJ', 'IBM', 'XOM', 'CVX',\n",
      "                       'MMM', 'KO', 'UTX', 'TRV', 'MSFT', 'PG', 'MRK', 'CAT', 'VZ', 'WMT',\n",
      "                       'BA', 'HD', 'DIS', 'AXP', 'V', 'JPM', 'NKE', 'UNH', 'MCD']))==28)\n",
      "            Expecting:\n",
      "                True\n",
      "            **********************************************************************\n",
      "            Line 1, in q11 1\n",
      "            Failed example:\n",
      "                (np.sum(max_correlations.reset_index().sort_values(by='TICKER')['TICKER_PAIR'].values==\\\n",
      "                       np.array(['CSCO', 'PFE', 'MSFT', 'MMM', 'AXP', 'HD', 'PFE', 'AAPL', 'NKE',\n",
      "                       'HD', 'CAT', 'DIS', 'UTX', 'JNJ', 'VZ', 'IBM', 'MCD', 'JPM', 'V',\n",
      "                       'DIS', 'KO', 'JPM', 'V', 'JPM', 'UNH', 'MRK', 'MRK', 'HD']))==28)|\\\n",
      "                (np.sum(max_correlations.reset_index().sort_values(by='TICKER_PAIR')['TICKER'].values==\\\n",
      "                       np.array(['GS', 'CSCO', 'INTC', 'AAPL', 'PFE', 'JNJ', 'IBM', 'XOM', 'CVX',\n",
      "                       'MMM', 'KO', 'UTX', 'TRV', 'MSFT', 'PG', 'MRK', 'CAT', 'VZ', 'WMT',\n",
      "                       'BA', 'HD', 'DIS', 'AXP', 'V', 'JPM', 'NKE', 'UNH', 'MCD']))==28)\n",
      "            Expected:\n",
      "                True\n",
      "            Got:\n",
      "                False\n",
      "\n",
      "        q11 - 3 result:\n",
      "            ❌ Test case failed\n",
      "            Trying:\n",
      "                np.allclose(max_correlations['CORR'].sum(),20.68399012355372)\n",
      "            Expecting:\n",
      "                True\n",
      "            **********************************************************************\n",
      "            Line 1, in q11 2\n",
      "            Failed example:\n",
      "                np.allclose(max_correlations['CORR'].sum(),20.68399012355372)\n",
      "            Expected:\n",
      "                True\n",
      "            Got:\n",
      "                False\n"
     ]
    },
    {
     "data": {
      "text/html": [
       "\n",
       "            <p>Your submission has been exported. Click <a href=\"HW2_Gradescope_2023_03_08T15_43_05_614434.zip\" download=\"HW2_Gradescope_2023_03_08T15_43_05_614434.zip\" target=\"_blank\">here</a>\n",
       "            to download the zip file.</p>\n",
       "            "
      ],
      "text/plain": [
       "<IPython.core.display.HTML object>"
      ]
     },
     "metadata": {},
     "output_type": "display_data"
    }
   ],
   "source": [
    "# Save your notebook first, then run this cell to export your submission.\n",
    "grader.export(pdf=False, run_tests=True)"
   ]
  },
  {
   "cell_type": "markdown",
   "metadata": {},
   "source": [
    " "
   ]
  }
 ],
 "metadata": {
  "kernelspec": {
   "display_name": "Python 3 (ipykernel)",
   "language": "python",
   "name": "python3"
  },
  "language_info": {
   "codemirror_mode": {
    "name": "ipython",
    "version": 3
   },
   "file_extension": ".py",
   "mimetype": "text/x-python",
   "name": "python",
   "nbconvert_exporter": "python",
   "pygments_lexer": "ipython3",
   "version": "3.8.13"
  },
  "otter": {
   "OK_FORMAT": true,
   "tests": {
    "q1": {
     "name": "q1",
     "points": 9,
     "suites": [
      {
       "cases": [
        {
         "code": ">>> fin_data.shape == (35224, 3)\nTrue",
         "hidden": false,
         "locked": false,
         "points": 4
        },
        {
         "code": ">>> fin_data.index.name == 'DATE'\nTrue",
         "hidden": false,
         "locked": false,
         "points": 2.5
        },
        {
         "code": ">>> type(fin_data.index) == pd.core.indexes.datetimes.DatetimeIndex\nTrue",
         "hidden": false,
         "locked": false,
         "points": 2.5
        }
       ],
       "scored": true,
       "setup": "",
       "teardown": "",
       "type": "doctest"
      }
     ]
    },
    "q10": {
     "name": "q10",
     "points": 9,
     "suites": [
      {
       "cases": [
        {
         "code": ">>> stock_corr_max=='MSFT'\nTrue",
         "hidden": false,
         "locked": false,
         "points": 4.5
        },
        {
         "code": ">>> np.allclose(corr_max,0.9696012795067449)\nTrue",
         "hidden": false,
         "locked": false,
         "points": 4.5
        }
       ],
       "scored": true,
       "setup": "",
       "teardown": "",
       "type": "doctest"
      }
     ]
    },
    "q11": {
     "name": "q11",
     "points": 9,
     "suites": [
      {
       "cases": [
        {
         "code": ">>> max_correlations.shape == (28,2)\nTrue",
         "hidden": false,
         "locked": false,
         "points": 3
        },
        {
         "code": ">>> (np.sum(max_correlations.reset_index().sort_values(by='TICKER')['TICKER_PAIR'].values==\\\n...        np.array(['CSCO', 'PFE', 'MSFT', 'MMM', 'AXP', 'HD', 'PFE', 'AAPL', 'NKE',\n...        'HD', 'CAT', 'DIS', 'UTX', 'JNJ', 'VZ', 'IBM', 'MCD', 'JPM', 'V',\n...        'DIS', 'KO', 'JPM', 'V', 'JPM', 'UNH', 'MRK', 'MRK', 'HD']))==28)|\\\n... (np.sum(max_correlations.reset_index().sort_values(by='TICKER_PAIR')['TICKER'].values==\\\n...        np.array(['GS', 'CSCO', 'INTC', 'AAPL', 'PFE', 'JNJ', 'IBM', 'XOM', 'CVX',\n...        'MMM', 'KO', 'UTX', 'TRV', 'MSFT', 'PG', 'MRK', 'CAT', 'VZ', 'WMT',\n...        'BA', 'HD', 'DIS', 'AXP', 'V', 'JPM', 'NKE', 'UNH', 'MCD']))==28)\nTrue",
         "hidden": false,
         "locked": false,
         "points": 3
        },
        {
         "code": ">>> np.allclose(max_correlations['CORR'].sum(),20.68399012355372)\nTrue",
         "hidden": false,
         "locked": false,
         "points": 3
        }
       ],
       "scored": true,
       "setup": "",
       "teardown": "",
       "type": "doctest"
      }
     ]
    },
    "q2": {
     "name": "q2",
     "points": 9,
     "suites": [
      {
       "cases": [
        {
         "code": ">>> type(tickers)==np.ndarray\nTrue",
         "hidden": false,
         "locked": false,
         "points": 4
        },
        {
         "code": ">>> np.sum(tickers == np.array(['AAPL', 'AXP', 'BA', 'CAT', 'CSCO', 'CVX', 'DIS', 'GS', 'HD',\n...        'IBM', 'INTC', 'JNJ', 'JPM', 'KO', 'MCD', 'MMM', 'MRK', 'MSFT',\n...        'NKE', 'PFE', 'PG', 'TRV', 'UNH', 'UTX', 'V', 'VZ', 'WMT', 'XOM']))==28\nTrue",
         "hidden": false,
         "locked": false,
         "points": 5
        }
       ],
       "scored": true,
       "setup": "",
       "teardown": "",
       "type": "doctest"
      }
     ]
    },
    "q3": {
     "name": "q3",
     "points": 11,
     "suites": [
      {
       "cases": [
        {
         "code": ">>> fin_data.shape == (35224, 2)\nTrue",
         "hidden": false,
         "locked": false,
         "points": 5
        },
        {
         "code": ">>> np.allclose(fin_data.groupby('TICKER').sum(),\\\n... np.array([[ 0.83443101],[ 0.17066155],[ 0.99557856],[ 0.50975032],[ 0.78942905],[-0.01102296],\n...        [ 0.45240784],[ 0.07131932],[ 0.82594829],[-0.38945369],[ 0.75079384],[ 0.41318596],\n...        [ 0.62553359],[ 0.19987354],[ 0.67872047],[ 0.39804702],[ 0.53134919],[ 1.13943084],\n...        [ 0.77777199],[ 0.43704337],[ 0.18765476],[ 0.35937721],[ 1.31074248],[ 0.02392484],\n...        [ 0.98027086],[ 0.21005892],[ 0.26006799],[-0.29207202]]))\nTrue",
         "hidden": false,
         "locked": false,
         "points": 6
        }
       ],
       "scored": true,
       "setup": "",
       "teardown": "",
       "type": "doctest"
      }
     ]
    },
    "q4": {
     "name": "q4",
     "points": 9,
     "suites": [
      {
       "cases": [
        {
         "code": ">>> stock_min=='AXP'\nTrue",
         "hidden": false,
         "locked": false,
         "points": 3
        },
        {
         "code": ">>> date_min==dt.datetime(2016,1,22)\nTrue",
         "hidden": false,
         "locked": false,
         "points": 3
        },
        {
         "code": ">>> np.allclose(ret_min,-0.12100893997445716)\nTrue",
         "hidden": false,
         "locked": false,
         "points": 3
        }
       ],
       "scored": true,
       "setup": "",
       "teardown": "",
       "type": "doctest"
      }
     ]
    },
    "q5": {
     "name": "q5",
     "points": 9,
     "suites": [
      {
       "cases": [
        {
         "code": ">>> neg_days==619\nTrue",
         "hidden": false,
         "locked": false,
         "points": 9
        }
       ],
       "scored": true,
       "setup": "",
       "teardown": "",
       "type": "doctest"
      }
     ]
    },
    "q6": {
     "name": "q6",
     "points": 9,
     "suites": [
      {
       "cases": [
        {
         "code": ">>> stock_max18=='BA'\nTrue",
         "hidden": false,
         "locked": false,
         "points": 3
        },
        {
         "code": ">>> date_max18==dt.datetime(2018,1,31)\nTrue",
         "hidden": false,
         "locked": false,
         "points": 3
        },
        {
         "code": ">>> np.allclose(ret_max18,0.008984907926225586)\nTrue",
         "hidden": false,
         "locked": false,
         "points": 3
        }
       ],
       "scored": true,
       "setup": "",
       "teardown": "",
       "type": "doctest"
      }
     ]
    },
    "q7": {
     "name": "q7",
     "points": 9,
     "suites": [
      {
       "cases": [
        {
         "code": ">>> returns_2018.shape == (12,28)\nTrue",
         "hidden": false,
         "locked": false,
         "points": 4
        },
        {
         "code": ">>> np.allclose(np.sort(returns_2018.sum().values),\\\n... np.sort(np.array([-1.94438982e-02, -1.22055274e-02, -9.49438907e-03, -9.01142846e-03,\n...        -7.36762197e-03, -6.82460433e-03, -5.65316094e-03, -5.47566836e-03,\n...        -3.71180576e-03, -3.41284661e-03, -3.41045812e-03, -2.98967069e-03,\n...        -2.59274563e-03, -1.52477745e-03, -5.51517017e-05,  1.49465285e-03,\n...         1.70122002e-03,  1.85806008e-03,  2.40061551e-03,  3.14456797e-03,\n...         6.00835818e-03,  7.02543311e-03,  7.36772197e-03,  8.17874467e-03,\n...         9.61024328e-03,  9.72288148e-03,  1.02816018e-02,  1.47385797e-02])))\nTrue",
         "hidden": false,
         "locked": false,
         "points": 5
        }
       ],
       "scored": true,
       "setup": "",
       "teardown": "",
       "type": "doctest"
      }
     ]
    },
    "q8": {
     "name": "q8",
     "points": 9,
     "suites": [
      {
       "cases": [
        {
         "code": ">>> sp_data_2018.shape == (251,1)\nTrue",
         "hidden": false,
         "locked": false,
         "points": 4
        },
        {
         "code": ">>> np.allclose(sp_data_2018.sum().values,np.array([-0.049918]))\nTrue",
         "hidden": false,
         "locked": false,
         "points": 5
        }
       ],
       "scored": true,
       "setup": "",
       "teardown": "",
       "type": "doctest"
      }
     ]
    },
    "q9": {
     "name": "q9",
     "points": 9,
     "suites": [
      {
       "cases": [
        {
         "code": ">>> data_2018.shape == (12,29)\nTrue",
         "hidden": false,
         "locked": false,
         "points": 4
        },
        {
         "code": ">>> np.allclose(np.sort(data_2018.sum().values),\\\n... np.sort(np.array([-2.59274563e-03, -1.52477745e-03,  7.02543311e-03, -6.82460433e-03,\n...         7.36772197e-03, -5.47566836e-03,  1.85806008e-03, -1.94438982e-02,\n...        -3.41284661e-03, -1.22055274e-02,  3.14456797e-03, -3.41045812e-03,\n...        -3.71180576e-03,  1.49465285e-03,  1.70122002e-03, -9.01142846e-03,\n...         1.47385797e-02,  9.61024328e-03,  1.02816018e-02,  9.72288148e-03,\n...        -5.51517017e-05, -5.65316094e-03,  6.00835818e-03, -7.36762197e-03,\n...         8.17874467e-03,  2.40061551e-03, -2.98967069e-03, -9.49438907e-03,-2.88944230e-03])))\nTrue",
         "hidden": false,
         "locked": false,
         "points": 5
        }
       ],
       "scored": true,
       "setup": "",
       "teardown": "",
       "type": "doctest"
      }
     ]
    }
   }
  }
 },
 "nbformat": 4,
 "nbformat_minor": 4
}
