{
 "cells": [
  {
   "cell_type": "markdown",
   "metadata": {},
   "source": [
    "### FINA 4380 with Marius Popescu"
   ]
  },
  {
   "cell_type": "markdown",
   "metadata": {},
   "source": [
    "### The Markowitz Portfolio Optimization and the Efficient Frontier"
   ]
  },
  {
   "cell_type": "code",
   "execution_count": 1,
   "metadata": {},
   "outputs": [],
   "source": [
    "import numpy as np\n",
    "import pandas as pd\n",
    "\n",
    "import datetime as dt\n",
    "import yfinance as yf\n",
    "import pandas_datareader.data as web\n",
    "\n",
    "import matplotlib.pyplot as plt\n",
    "%matplotlib inline\n",
    "%config InlineBackend.figure_format = 'retina'"
   ]
  },
  {
   "cell_type": "markdown",
   "metadata": {},
   "source": [
    "### Global Industry Classification Standard (GICS®)\n",
    "\n",
    "1. ***Energy Sector*** - comprises companies engaged in exploration & production, refining & marketing, and storage & transportation of oil & gas and coal & consumable fuels. It also includes companies that offer oil & gas equipment and services.\n",
    "\n",
    "2. ***Materials Sector*** - includes companies that manufacture chemicals, construction materials, glass, paper, forest products and related packaging products, and metals, minerals and mining companies, including producers of steel.\n",
    "\n",
    "3. ***Industrials Sector*** - includes manufacturers and distributors of capital goods such as aerospace & defense, building products, electrical equipment and machinery and companies that offer construction & engineering services. It also includes providers of commercial & professional services including printing, environmental and facilities services, office services & supplies, security & alarm services, human resource & employment services, research & consulting services. It also includes companies that provide transportation services.\n",
    "\n",
    "4. ***Consumer Discretionary Sector*** - encompasses those businesses that tend to be the most sensitive to economic cycles. Its manufacturing segment includes automotive, household durable goods, leisure equipment and textiles & apparel. The services segment includes hotels, restaurants and other leisure facilities, media production and services, and consumer retailing and services.\n",
    "\n",
    "5. ***Consumer Staples Sector*** - comprises companies whose businesses are less sensitive to economic cycles. It includes manufacturers and distributors of food, beverages and tobacco and producers of non-durable household goods and personal products. It also includes food & drug retailing companies as well as hypermarkets and consumer super centers.\n",
    "\n",
    "6. ***Health Care Sector*** - includes health care providers & services, companies that manufacture and distribute health care equipment & supplies, and health care technology companies. It also includes companies involved in the research, development, production and marketing of pharmaceuticals and biotechnology products.\n",
    "\n",
    "7. ***Financials Sector*** - contains companies involved in banking, thrifts & mortgage finance, specialized finance, consumer finance, asset management and custody banks, investment banking and brokerage and insurance. It also includes Financial Exchanges & Data and Mortgage REITs.\n",
    "\n",
    "8. ***Information Technology Sector*** - comprises companies that offer software and information technology services, manufacturers and distributors of technology hardware & equipment such as communications equipment, cellular phones, computers & peripherals, electronic equipment and related instruments, and semiconductors.\n",
    "\n",
    "9. ***Communication Services Sector*** - includes companies that facilitate communication and offer related content and information through various mediums. It includes telecom and media & entertainment companies including producers of interactive gaming products and companies engaged in content and information creation or distribution through proprietary platforms.\n",
    "\n",
    "10. ***Utilities Sector*** - comprises utility companies such as electric, gas and water utilities. It also includes independent power producers & energy traders and companies that engage in generation and distribution of electricity using renewable sources.\n",
    "\n",
    "11. ***Real Estate Sector*** - contains companies engaged in real estate development and operation. It also includes companies offering real estate related services and Equity Real Estate Investment Trusts (REITs)."
   ]
  },
  {
   "cell_type": "markdown",
   "metadata": {},
   "source": [
    "#### Selected ETFs - Vanguard\n",
    "\n",
    "1. ***Energy*** - VDE\n",
    "2. ***Materials*** - VAW\n",
    "3. ***Industrials*** - VIS\n",
    "4. ***Consumer Discretionary*** - VCR\n",
    "5. ***Consumer Staples*** - VDC\n",
    "6. ***Health Care*** - VHT\n",
    "7. ***Financials*** - VFH\n",
    "8. ***Information Technology*** - VGT\n",
    "9. ***Communication Services*** - VOX\n",
    "10. ***Utilities*** - VPU\n",
    "11. ***Real Estate*** - VNQ"
   ]
  },
  {
   "cell_type": "code",
   "execution_count": 10,
   "metadata": {},
   "outputs": [
    {
     "name": "stdout",
     "output_type": "stream",
     "text": [
      "[*********************100%***********************]  11 of 11 completed\n"
     ]
    }
   ],
   "source": [
    "start = dt.datetime(2017,1,1)\n",
    "end = dt.datetime.now()\n",
    "\n",
    "ticker_list= ['VDE','VAW', 'VIS', 'VCR', 'VDC','VHT', 'VFH', 'VGT', 'VOX', 'VPU', 'VNQ']\n",
    "\n",
    "returns = yf.download(ticker_list,start-pd.offsets.BDay(1),end)['Adj Close'].pct_change().dropna()\n",
    "\n",
    "#returns.columns=[i+'_RET' for i in np.sort(ticker_list)]"
   ]
  },
  {
   "cell_type": "code",
   "execution_count": 11,
   "metadata": {
    "scrolled": true
   },
   "outputs": [
    {
     "data": {
      "text/html": [
       "<div>\n",
       "<style scoped>\n",
       "    .dataframe tbody tr th:only-of-type {\n",
       "        vertical-align: middle;\n",
       "    }\n",
       "\n",
       "    .dataframe tbody tr th {\n",
       "        vertical-align: top;\n",
       "    }\n",
       "\n",
       "    .dataframe thead th {\n",
       "        text-align: right;\n",
       "    }\n",
       "</style>\n",
       "<table border=\"1\" class=\"dataframe\">\n",
       "  <thead>\n",
       "    <tr style=\"text-align: right;\">\n",
       "      <th></th>\n",
       "      <th>VAW</th>\n",
       "      <th>VCR</th>\n",
       "      <th>VDC</th>\n",
       "      <th>VDE</th>\n",
       "      <th>VFH</th>\n",
       "      <th>VGT</th>\n",
       "      <th>VHT</th>\n",
       "      <th>VIS</th>\n",
       "      <th>VNQ</th>\n",
       "      <th>VOX</th>\n",
       "      <th>VPU</th>\n",
       "    </tr>\n",
       "    <tr>\n",
       "      <th>Date</th>\n",
       "      <th></th>\n",
       "      <th></th>\n",
       "      <th></th>\n",
       "      <th></th>\n",
       "      <th></th>\n",
       "      <th></th>\n",
       "      <th></th>\n",
       "      <th></th>\n",
       "      <th></th>\n",
       "      <th></th>\n",
       "      <th></th>\n",
       "    </tr>\n",
       "  </thead>\n",
       "  <tbody>\n",
       "    <tr>\n",
       "      <th>2017-01-03</th>\n",
       "      <td>0.008093</td>\n",
       "      <td>0.004507</td>\n",
       "      <td>0.003284</td>\n",
       "      <td>0.011750</td>\n",
       "      <td>0.007582</td>\n",
       "      <td>0.007901</td>\n",
       "      <td>0.012385</td>\n",
       "      <td>0.006540</td>\n",
       "      <td>0.003272</td>\n",
       "      <td>0.032651</td>\n",
       "      <td>-0.003925</td>\n",
       "    </tr>\n",
       "    <tr>\n",
       "      <th>2017-01-04</th>\n",
       "      <td>0.017027</td>\n",
       "      <td>0.014546</td>\n",
       "      <td>0.001562</td>\n",
       "      <td>-0.000283</td>\n",
       "      <td>0.011204</td>\n",
       "      <td>0.006043</td>\n",
       "      <td>0.009740</td>\n",
       "      <td>0.006831</td>\n",
       "      <td>0.014613</td>\n",
       "      <td>0.006865</td>\n",
       "      <td>0.004879</td>\n",
       "    </tr>\n",
       "    <tr>\n",
       "      <th>2017-01-05</th>\n",
       "      <td>-0.003643</td>\n",
       "      <td>-0.000839</td>\n",
       "      <td>0.001783</td>\n",
       "      <td>-0.002739</td>\n",
       "      <td>-0.010914</td>\n",
       "      <td>0.000731</td>\n",
       "      <td>0.004321</td>\n",
       "      <td>-0.005295</td>\n",
       "      <td>0.003214</td>\n",
       "      <td>-0.007299</td>\n",
       "      <td>0.000000</td>\n",
       "    </tr>\n",
       "    <tr>\n",
       "      <th>2017-01-06</th>\n",
       "      <td>-0.002264</td>\n",
       "      <td>0.001985</td>\n",
       "      <td>-0.000371</td>\n",
       "      <td>-0.000284</td>\n",
       "      <td>0.004013</td>\n",
       "      <td>0.009165</td>\n",
       "      <td>0.003074</td>\n",
       "      <td>0.003078</td>\n",
       "      <td>0.000119</td>\n",
       "      <td>-0.013834</td>\n",
       "      <td>0.002894</td>\n",
       "    </tr>\n",
       "    <tr>\n",
       "      <th>2017-01-09</th>\n",
       "      <td>-0.002530</td>\n",
       "      <td>-0.000838</td>\n",
       "      <td>-0.006675</td>\n",
       "      <td>-0.015820</td>\n",
       "      <td>-0.008493</td>\n",
       "      <td>0.001768</td>\n",
       "      <td>0.007583</td>\n",
       "      <td>-0.007132</td>\n",
       "      <td>-0.009017</td>\n",
       "      <td>-0.009711</td>\n",
       "      <td>-0.013685</td>\n",
       "    </tr>\n",
       "  </tbody>\n",
       "</table>\n",
       "</div>"
      ],
      "text/plain": [
       "                 VAW       VCR       VDC       VDE       VFH       VGT  \\\n",
       "Date                                                                     \n",
       "2017-01-03  0.008093  0.004507  0.003284  0.011750  0.007582  0.007901   \n",
       "2017-01-04  0.017027  0.014546  0.001562 -0.000283  0.011204  0.006043   \n",
       "2017-01-05 -0.003643 -0.000839  0.001783 -0.002739 -0.010914  0.000731   \n",
       "2017-01-06 -0.002264  0.001985 -0.000371 -0.000284  0.004013  0.009165   \n",
       "2017-01-09 -0.002530 -0.000838 -0.006675 -0.015820 -0.008493  0.001768   \n",
       "\n",
       "                 VHT       VIS       VNQ       VOX       VPU  \n",
       "Date                                                          \n",
       "2017-01-03  0.012385  0.006540  0.003272  0.032651 -0.003925  \n",
       "2017-01-04  0.009740  0.006831  0.014613  0.006865  0.004879  \n",
       "2017-01-05  0.004321 -0.005295  0.003214 -0.007299  0.000000  \n",
       "2017-01-06  0.003074  0.003078  0.000119 -0.013834  0.002894  \n",
       "2017-01-09  0.007583 -0.007132 -0.009017 -0.009711 -0.013685  "
      ]
     },
     "execution_count": 11,
     "metadata": {},
     "output_type": "execute_result"
    }
   ],
   "source": [
    "returns.head()"
   ]
  },
  {
   "cell_type": "code",
   "execution_count": 12,
   "metadata": {},
   "outputs": [
    {
     "data": {
      "text/html": [
       "<div>\n",
       "<style scoped>\n",
       "    .dataframe tbody tr th:only-of-type {\n",
       "        vertical-align: middle;\n",
       "    }\n",
       "\n",
       "    .dataframe tbody tr th {\n",
       "        vertical-align: top;\n",
       "    }\n",
       "\n",
       "    .dataframe thead th {\n",
       "        text-align: right;\n",
       "    }\n",
       "</style>\n",
       "<table border=\"1\" class=\"dataframe\">\n",
       "  <thead>\n",
       "    <tr style=\"text-align: right;\">\n",
       "      <th></th>\n",
       "      <th>VAW</th>\n",
       "      <th>VCR</th>\n",
       "      <th>VDC</th>\n",
       "      <th>VDE</th>\n",
       "      <th>VFH</th>\n",
       "      <th>VGT</th>\n",
       "      <th>VHT</th>\n",
       "      <th>VIS</th>\n",
       "      <th>VNQ</th>\n",
       "      <th>VOX</th>\n",
       "      <th>VPU</th>\n",
       "    </tr>\n",
       "    <tr>\n",
       "      <th>Date</th>\n",
       "      <th></th>\n",
       "      <th></th>\n",
       "      <th></th>\n",
       "      <th></th>\n",
       "      <th></th>\n",
       "      <th></th>\n",
       "      <th></th>\n",
       "      <th></th>\n",
       "      <th></th>\n",
       "      <th></th>\n",
       "      <th></th>\n",
       "    </tr>\n",
       "  </thead>\n",
       "  <tbody>\n",
       "    <tr>\n",
       "      <th>2023-03-27</th>\n",
       "      <td>0.007249</td>\n",
       "      <td>0.002842</td>\n",
       "      <td>0.006244</td>\n",
       "      <td>0.022501</td>\n",
       "      <td>0.015744</td>\n",
       "      <td>-0.006265</td>\n",
       "      <td>0.005174</td>\n",
       "      <td>0.007944</td>\n",
       "      <td>-0.001142</td>\n",
       "      <td>-0.004241</td>\n",
       "      <td>0.000908</td>\n",
       "    </tr>\n",
       "    <tr>\n",
       "      <th>2023-03-28</th>\n",
       "      <td>0.006144</td>\n",
       "      <td>0.000500</td>\n",
       "      <td>0.001788</td>\n",
       "      <td>0.015277</td>\n",
       "      <td>0.000525</td>\n",
       "      <td>-0.004302</td>\n",
       "      <td>-0.005828</td>\n",
       "      <td>0.005436</td>\n",
       "      <td>-0.002414</td>\n",
       "      <td>-0.008944</td>\n",
       "      <td>0.003350</td>\n",
       "    </tr>\n",
       "    <tr>\n",
       "      <th>2023-03-29</th>\n",
       "      <td>0.013085</td>\n",
       "      <td>0.017827</td>\n",
       "      <td>0.005670</td>\n",
       "      <td>0.014420</td>\n",
       "      <td>0.014704</td>\n",
       "      <td>0.020435</td>\n",
       "      <td>0.004107</td>\n",
       "      <td>0.013191</td>\n",
       "      <td>0.022163</td>\n",
       "      <td>0.013537</td>\n",
       "      <td>0.014052</td>\n",
       "    </tr>\n",
       "    <tr>\n",
       "      <th>2023-03-30</th>\n",
       "      <td>0.005568</td>\n",
       "      <td>0.008389</td>\n",
       "      <td>0.002923</td>\n",
       "      <td>0.002649</td>\n",
       "      <td>-0.003623</td>\n",
       "      <td>0.010093</td>\n",
       "      <td>0.004346</td>\n",
       "      <td>0.002828</td>\n",
       "      <td>0.013084</td>\n",
       "      <td>0.003922</td>\n",
       "      <td>0.004047</td>\n",
       "    </tr>\n",
       "    <tr>\n",
       "      <th>2023-03-31</th>\n",
       "      <td>0.015128</td>\n",
       "      <td>0.024918</td>\n",
       "      <td>0.007235</td>\n",
       "      <td>0.005900</td>\n",
       "      <td>0.011427</td>\n",
       "      <td>0.016240</td>\n",
       "      <td>0.011710</td>\n",
       "      <td>0.013675</td>\n",
       "      <td>0.021402</td>\n",
       "      <td>0.020695</td>\n",
       "      <td>0.007926</td>\n",
       "    </tr>\n",
       "  </tbody>\n",
       "</table>\n",
       "</div>"
      ],
      "text/plain": [
       "                 VAW       VCR       VDC       VDE       VFH       VGT  \\\n",
       "Date                                                                     \n",
       "2023-03-27  0.007249  0.002842  0.006244  0.022501  0.015744 -0.006265   \n",
       "2023-03-28  0.006144  0.000500  0.001788  0.015277  0.000525 -0.004302   \n",
       "2023-03-29  0.013085  0.017827  0.005670  0.014420  0.014704  0.020435   \n",
       "2023-03-30  0.005568  0.008389  0.002923  0.002649 -0.003623  0.010093   \n",
       "2023-03-31  0.015128  0.024918  0.007235  0.005900  0.011427  0.016240   \n",
       "\n",
       "                 VHT       VIS       VNQ       VOX       VPU  \n",
       "Date                                                          \n",
       "2023-03-27  0.005174  0.007944 -0.001142 -0.004241  0.000908  \n",
       "2023-03-28 -0.005828  0.005436 -0.002414 -0.008944  0.003350  \n",
       "2023-03-29  0.004107  0.013191  0.022163  0.013537  0.014052  \n",
       "2023-03-30  0.004346  0.002828  0.013084  0.003922  0.004047  \n",
       "2023-03-31  0.011710  0.013675  0.021402  0.020695  0.007926  "
      ]
     },
     "execution_count": 12,
     "metadata": {},
     "output_type": "execute_result"
    }
   ],
   "source": [
    "returns.tail()"
   ]
  },
  {
   "cell_type": "code",
   "execution_count": 13,
   "metadata": {},
   "outputs": [
    {
     "data": {
      "text/html": [
       "<div>\n",
       "<style scoped>\n",
       "    .dataframe tbody tr th:only-of-type {\n",
       "        vertical-align: middle;\n",
       "    }\n",
       "\n",
       "    .dataframe tbody tr th {\n",
       "        vertical-align: top;\n",
       "    }\n",
       "\n",
       "    .dataframe thead th {\n",
       "        text-align: right;\n",
       "    }\n",
       "</style>\n",
       "<table border=\"1\" class=\"dataframe\">\n",
       "  <thead>\n",
       "    <tr style=\"text-align: right;\">\n",
       "      <th></th>\n",
       "      <th>VAW</th>\n",
       "      <th>VCR</th>\n",
       "      <th>VDC</th>\n",
       "      <th>VDE</th>\n",
       "      <th>VFH</th>\n",
       "      <th>VGT</th>\n",
       "      <th>VHT</th>\n",
       "      <th>VIS</th>\n",
       "      <th>VNQ</th>\n",
       "      <th>VOX</th>\n",
       "      <th>VPU</th>\n",
       "    </tr>\n",
       "    <tr>\n",
       "      <th>Date</th>\n",
       "      <th></th>\n",
       "      <th></th>\n",
       "      <th></th>\n",
       "      <th></th>\n",
       "      <th></th>\n",
       "      <th></th>\n",
       "      <th></th>\n",
       "      <th></th>\n",
       "      <th></th>\n",
       "      <th></th>\n",
       "      <th></th>\n",
       "    </tr>\n",
       "  </thead>\n",
       "  <tbody>\n",
       "    <tr>\n",
       "      <th>2022-11-30</th>\n",
       "      <td>0.111398</td>\n",
       "      <td>0.024098</td>\n",
       "      <td>0.061875</td>\n",
       "      <td>0.013097</td>\n",
       "      <td>0.061332</td>\n",
       "      <td>0.053725</td>\n",
       "      <td>0.046579</td>\n",
       "      <td>0.072276</td>\n",
       "      <td>0.061461</td>\n",
       "      <td>0.051379</td>\n",
       "      <td>0.070399</td>\n",
       "    </tr>\n",
       "    <tr>\n",
       "      <th>2022-12-31</th>\n",
       "      <td>-0.053502</td>\n",
       "      <td>-0.108901</td>\n",
       "      <td>-0.033105</td>\n",
       "      <td>-0.038832</td>\n",
       "      <td>-0.059349</td>\n",
       "      <td>-0.079666</td>\n",
       "      <td>-0.021019</td>\n",
       "      <td>-0.038505</td>\n",
       "      <td>-0.050343</td>\n",
       "      <td>-0.071744</td>\n",
       "      <td>-0.009432</td>\n",
       "    </tr>\n",
       "    <tr>\n",
       "      <th>2023-01-31</th>\n",
       "      <td>0.097121</td>\n",
       "      <td>0.154780</td>\n",
       "      <td>-0.001618</td>\n",
       "      <td>0.029683</td>\n",
       "      <td>0.078327</td>\n",
       "      <td>0.096960</td>\n",
       "      <td>-0.007942</td>\n",
       "      <td>0.055683</td>\n",
       "      <td>0.104025</td>\n",
       "      <td>0.150152</td>\n",
       "      <td>-0.015780</td>\n",
       "    </tr>\n",
       "    <tr>\n",
       "      <th>2023-02-28</th>\n",
       "      <td>-0.028651</td>\n",
       "      <td>-0.021904</td>\n",
       "      <td>-0.022273</td>\n",
       "      <td>-0.066304</td>\n",
       "      <td>-0.020738</td>\n",
       "      <td>0.004966</td>\n",
       "      <td>-0.046001</td>\n",
       "      <td>-0.005031</td>\n",
       "      <td>-0.058643</td>\n",
       "      <td>-0.040698</td>\n",
       "      <td>-0.057440</td>\n",
       "    </tr>\n",
       "    <tr>\n",
       "      <th>2023-03-31</th>\n",
       "      <td>-0.015649</td>\n",
       "      <td>0.023859</td>\n",
       "      <td>0.039559</td>\n",
       "      <td>-0.011098</td>\n",
       "      <td>-0.103215</td>\n",
       "      <td>0.096988</td>\n",
       "      <td>0.019098</td>\n",
       "      <td>-0.003629</td>\n",
       "      <td>-0.021555</td>\n",
       "      <td>0.068667</td>\n",
       "      <td>0.045451</td>\n",
       "    </tr>\n",
       "  </tbody>\n",
       "</table>\n",
       "</div>"
      ],
      "text/plain": [
       "                 VAW       VCR       VDC       VDE       VFH       VGT  \\\n",
       "Date                                                                     \n",
       "2022-11-30  0.111398  0.024098  0.061875  0.013097  0.061332  0.053725   \n",
       "2022-12-31 -0.053502 -0.108901 -0.033105 -0.038832 -0.059349 -0.079666   \n",
       "2023-01-31  0.097121  0.154780 -0.001618  0.029683  0.078327  0.096960   \n",
       "2023-02-28 -0.028651 -0.021904 -0.022273 -0.066304 -0.020738  0.004966   \n",
       "2023-03-31 -0.015649  0.023859  0.039559 -0.011098 -0.103215  0.096988   \n",
       "\n",
       "                 VHT       VIS       VNQ       VOX       VPU  \n",
       "Date                                                          \n",
       "2022-11-30  0.046579  0.072276  0.061461  0.051379  0.070399  \n",
       "2022-12-31 -0.021019 -0.038505 -0.050343 -0.071744 -0.009432  \n",
       "2023-01-31 -0.007942  0.055683  0.104025  0.150152 -0.015780  \n",
       "2023-02-28 -0.046001 -0.005031 -0.058643 -0.040698 -0.057440  \n",
       "2023-03-31  0.019098 -0.003629 -0.021555  0.068667  0.045451  "
      ]
     },
     "execution_count": 13,
     "metadata": {},
     "output_type": "execute_result"
    }
   ],
   "source": [
    "returns_mon = returns.resample(rule = 'M').apply(lambda x: x.add(1).prod().sub(1))\n",
    "returns_mon.tail()"
   ]
  },
  {
   "cell_type": "code",
   "execution_count": 17,
   "metadata": {},
   "outputs": [
    {
     "data": {
      "text/html": [
       "<div>\n",
       "<style scoped>\n",
       "    .dataframe tbody tr th:only-of-type {\n",
       "        vertical-align: middle;\n",
       "    }\n",
       "\n",
       "    .dataframe tbody tr th {\n",
       "        vertical-align: top;\n",
       "    }\n",
       "\n",
       "    .dataframe thead th {\n",
       "        text-align: right;\n",
       "    }\n",
       "</style>\n",
       "<table border=\"1\" class=\"dataframe\">\n",
       "  <thead>\n",
       "    <tr style=\"text-align: right;\">\n",
       "      <th></th>\n",
       "      <th>RF</th>\n",
       "    </tr>\n",
       "    <tr>\n",
       "      <th>Date</th>\n",
       "      <th></th>\n",
       "    </tr>\n",
       "  </thead>\n",
       "  <tbody>\n",
       "    <tr>\n",
       "      <th>2022-10-31</th>\n",
       "      <td>0.0023</td>\n",
       "    </tr>\n",
       "    <tr>\n",
       "      <th>2022-11-30</th>\n",
       "      <td>0.0029</td>\n",
       "    </tr>\n",
       "    <tr>\n",
       "      <th>2022-12-31</th>\n",
       "      <td>0.0033</td>\n",
       "    </tr>\n",
       "    <tr>\n",
       "      <th>2023-01-31</th>\n",
       "      <td>0.0035</td>\n",
       "    </tr>\n",
       "    <tr>\n",
       "      <th>2023-02-28</th>\n",
       "      <td>0.0034</td>\n",
       "    </tr>\n",
       "  </tbody>\n",
       "</table>\n",
       "</div>"
      ],
      "text/plain": [
       "                RF\n",
       "Date              \n",
       "2022-10-31  0.0023\n",
       "2022-11-30  0.0029\n",
       "2022-12-31  0.0033\n",
       "2023-01-31  0.0035\n",
       "2023-02-28  0.0034"
      ]
     },
     "execution_count": 17,
     "metadata": {},
     "output_type": "execute_result"
    }
   ],
   "source": [
    "rf = web.DataReader('F-F_Research_Data_Factors','famafrench', start, end)[0][['RF']].div(100)\n",
    "\n",
    "rf.index = rf.index.to_timestamp(how='end').normalize()\n",
    "\n",
    "rf.tail()"
   ]
  },
  {
   "cell_type": "code",
   "execution_count": 20,
   "metadata": {},
   "outputs": [
    {
     "data": {
      "text/html": [
       "<div>\n",
       "<style scoped>\n",
       "    .dataframe tbody tr th:only-of-type {\n",
       "        vertical-align: middle;\n",
       "    }\n",
       "\n",
       "    .dataframe tbody tr th {\n",
       "        vertical-align: top;\n",
       "    }\n",
       "\n",
       "    .dataframe thead th {\n",
       "        text-align: right;\n",
       "    }\n",
       "</style>\n",
       "<table border=\"1\" class=\"dataframe\">\n",
       "  <thead>\n",
       "    <tr style=\"text-align: right;\">\n",
       "      <th></th>\n",
       "      <th>VAW</th>\n",
       "      <th>VCR</th>\n",
       "      <th>VDC</th>\n",
       "      <th>VDE</th>\n",
       "      <th>VFH</th>\n",
       "      <th>VGT</th>\n",
       "      <th>VHT</th>\n",
       "      <th>VIS</th>\n",
       "      <th>VNQ</th>\n",
       "      <th>VOX</th>\n",
       "      <th>VPU</th>\n",
       "    </tr>\n",
       "    <tr>\n",
       "      <th>Date</th>\n",
       "      <th></th>\n",
       "      <th></th>\n",
       "      <th></th>\n",
       "      <th></th>\n",
       "      <th></th>\n",
       "      <th></th>\n",
       "      <th></th>\n",
       "      <th></th>\n",
       "      <th></th>\n",
       "      <th></th>\n",
       "      <th></th>\n",
       "    </tr>\n",
       "  </thead>\n",
       "  <tbody>\n",
       "    <tr>\n",
       "      <th>2022-10-31</th>\n",
       "      <td>0.095944</td>\n",
       "      <td>0.023865</td>\n",
       "      <td>0.094127</td>\n",
       "      <td>0.240205</td>\n",
       "      <td>0.121440</td>\n",
       "      <td>0.074275</td>\n",
       "      <td>0.086410</td>\n",
       "      <td>0.129427</td>\n",
       "      <td>0.035051</td>\n",
       "      <td>0.025495</td>\n",
       "      <td>0.024462</td>\n",
       "    </tr>\n",
       "    <tr>\n",
       "      <th>2022-11-30</th>\n",
       "      <td>0.111398</td>\n",
       "      <td>0.024098</td>\n",
       "      <td>0.061875</td>\n",
       "      <td>0.013097</td>\n",
       "      <td>0.061332</td>\n",
       "      <td>0.053725</td>\n",
       "      <td>0.046579</td>\n",
       "      <td>0.072276</td>\n",
       "      <td>0.061461</td>\n",
       "      <td>0.051379</td>\n",
       "      <td>0.070399</td>\n",
       "    </tr>\n",
       "    <tr>\n",
       "      <th>2022-12-31</th>\n",
       "      <td>-0.053502</td>\n",
       "      <td>-0.108901</td>\n",
       "      <td>-0.033105</td>\n",
       "      <td>-0.038832</td>\n",
       "      <td>-0.059349</td>\n",
       "      <td>-0.079666</td>\n",
       "      <td>-0.021019</td>\n",
       "      <td>-0.038505</td>\n",
       "      <td>-0.050343</td>\n",
       "      <td>-0.071744</td>\n",
       "      <td>-0.009432</td>\n",
       "    </tr>\n",
       "    <tr>\n",
       "      <th>2023-01-31</th>\n",
       "      <td>0.097121</td>\n",
       "      <td>0.154780</td>\n",
       "      <td>-0.001618</td>\n",
       "      <td>0.029683</td>\n",
       "      <td>0.078327</td>\n",
       "      <td>0.096960</td>\n",
       "      <td>-0.007942</td>\n",
       "      <td>0.055683</td>\n",
       "      <td>0.104025</td>\n",
       "      <td>0.150152</td>\n",
       "      <td>-0.015780</td>\n",
       "    </tr>\n",
       "    <tr>\n",
       "      <th>2023-02-28</th>\n",
       "      <td>-0.028651</td>\n",
       "      <td>-0.021904</td>\n",
       "      <td>-0.022273</td>\n",
       "      <td>-0.066304</td>\n",
       "      <td>-0.020738</td>\n",
       "      <td>0.004966</td>\n",
       "      <td>-0.046001</td>\n",
       "      <td>-0.005031</td>\n",
       "      <td>-0.058643</td>\n",
       "      <td>-0.040698</td>\n",
       "      <td>-0.057440</td>\n",
       "    </tr>\n",
       "  </tbody>\n",
       "</table>\n",
       "</div>"
      ],
      "text/plain": [
       "                 VAW       VCR       VDC       VDE       VFH       VGT  \\\n",
       "Date                                                                     \n",
       "2022-10-31  0.095944  0.023865  0.094127  0.240205  0.121440  0.074275   \n",
       "2022-11-30  0.111398  0.024098  0.061875  0.013097  0.061332  0.053725   \n",
       "2022-12-31 -0.053502 -0.108901 -0.033105 -0.038832 -0.059349 -0.079666   \n",
       "2023-01-31  0.097121  0.154780 -0.001618  0.029683  0.078327  0.096960   \n",
       "2023-02-28 -0.028651 -0.021904 -0.022273 -0.066304 -0.020738  0.004966   \n",
       "\n",
       "                 VHT       VIS       VNQ       VOX       VPU  \n",
       "Date                                                          \n",
       "2022-10-31  0.086410  0.129427  0.035051  0.025495  0.024462  \n",
       "2022-11-30  0.046579  0.072276  0.061461  0.051379  0.070399  \n",
       "2022-12-31 -0.021019 -0.038505 -0.050343 -0.071744 -0.009432  \n",
       "2023-01-31 -0.007942  0.055683  0.104025  0.150152 -0.015780  \n",
       "2023-02-28 -0.046001 -0.005031 -0.058643 -0.040698 -0.057440  "
      ]
     },
     "execution_count": 20,
     "metadata": {},
     "output_type": "execute_result"
    }
   ],
   "source": [
    "# Keep only the months that we have RF data from Ken French\n",
    "returns_mon = returns_mon[returns_mon.index<=rf.index[-1]]\n",
    "returns_mon.tail()"
   ]
  },
  {
   "cell_type": "markdown",
   "metadata": {},
   "source": [
    "### 1. Portfolio Optimization using Mathematical Function Optimization"
   ]
  },
  {
   "cell_type": "markdown",
   "metadata": {},
   "source": [
    "We will be maximizing the functional form of the Sharpe Ratio (or, specifically, minimize the negative of the Sharpe Ratio), by using the SciPy minimizing function."
   ]
  },
  {
   "cell_type": "code",
   "execution_count": 21,
   "metadata": {},
   "outputs": [],
   "source": [
    "from scipy.optimize import minimize"
   ]
  },
  {
   "cell_type": "code",
   "execution_count": 22,
   "metadata": {},
   "outputs": [],
   "source": [
    "#help(minimize)"
   ]
  },
  {
   "cell_type": "code",
   "execution_count": 26,
   "metadata": {},
   "outputs": [],
   "source": [
    "# Define the portfolio returns function\n",
    "def port_ret(weights):\n",
    "    port_ret = np.dot(returns_mon*12,weights).mean()\n",
    "    return port_ret\n",
    "\n",
    "# Define the portfolio standard deviation function\n",
    "def port_std(weights):\n",
    "    port_std = np.sqrt(np.dot(weights, np.dot(returns_mon.cov()*12, weights)))\n",
    "    return port_std\n",
    "\n",
    "# Define the excess portfolio returns function\n",
    "def ex_port_ret(weights):\n",
    "    ex_port_ret = (np.dot(returns_mon,weights) - rf['RF']).mean()*12\n",
    "    return ex_port_ret\n",
    "\n",
    "# Define the excess portfolio standard deviation function\n",
    "def ex_port_std(weights):\n",
    "    ex_port_std = (np.dot(returns_mon,weights) - rf['RF']).std()*np.sqrt(12)\n",
    "    return ex_port_std\n",
    "\n",
    "# Define the negative Sharpe Ratio function that we will minimize\n",
    "def neg_SR(weights):\n",
    "    SR = ex_port_ret(weights) / ex_port_std(weights)\n",
    "    return (-1)*SR"
   ]
  },
  {
   "cell_type": "code",
   "execution_count": 27,
   "metadata": {},
   "outputs": [],
   "source": [
    "# By convention of minimize function it should be a function that returns zero for conditions\n",
    "constraints = ({'type':'eq','fun': lambda weights: np.sum(weights) - 1})\n",
    "\n",
    "# Weights must be between 0 and 1\n",
    "boundaries=[(0,1)]\n",
    "bounds = tuple(boundaries * len(returns_mon.columns))\n",
    "\n",
    "# Initial Guess (equally weighted)\n",
    "init_guess = np.full(len(returns_mon.columns), 1/len(returns_mon.columns))"
   ]
  },
  {
   "cell_type": "markdown",
   "metadata": {},
   "source": [
    "#### A. Scenario with short-selling constraints"
   ]
  },
  {
   "cell_type": "code",
   "execution_count": 28,
   "metadata": {},
   "outputs": [
    {
     "data": {
      "text/plain": [
       " message: Optimization terminated successfully\n",
       " success: True\n",
       "  status: 0\n",
       "     fun: -0.9284613825754724\n",
       "       x: [ 0.000e+00  2.848e-16  9.354e-16  1.119e-16  0.000e+00\n",
       "            7.241e-01  2.050e-01  0.000e+00  0.000e+00  1.497e-16\n",
       "            7.089e-02]\n",
       "     nit: 8\n",
       "     jac: [ 2.266e-01  2.832e-01 -1.502e-02  2.846e-01  2.371e-01\n",
       "           -6.678e-02 -6.704e-02  2.646e-01  3.687e-01  7.187e-01\n",
       "           -6.789e-02]\n",
       "    nfev: 97\n",
       "    njev: 8"
      ]
     },
     "execution_count": 28,
     "metadata": {},
     "output_type": "execute_result"
    }
   ],
   "source": [
    "# Optimal Portfolio (OP)\n",
    "optimal_port = minimize(neg_SR,init_guess,bounds = bounds,constraints=constraints)\n",
    "optimal_port"
   ]
  },
  {
   "cell_type": "code",
   "execution_count": 29,
   "metadata": {},
   "outputs": [
    {
     "data": {
      "text/plain": [
       "0.9284613825754724"
      ]
     },
     "execution_count": 29,
     "metadata": {},
     "output_type": "execute_result"
    }
   ],
   "source": [
    "# Maximum Sharpe Ratio\n",
    "-optimal_port.fun"
   ]
  },
  {
   "cell_type": "code",
   "execution_count": 30,
   "metadata": {},
   "outputs": [
    {
     "name": "stdout",
     "output_type": "stream",
     "text": [
      "VDE  0.0  VAW  0.0  VIS  0.0  VCR  0.0  VDC  0.0  VHT  0.7241  VFH  0.205  VGT  0.0  VOX  0.0  VPU  0.0  VNQ  0.0709  "
     ]
    }
   ],
   "source": [
    "# Weights of the assets in the optimal portfolio\n",
    "for ticker in ticker_list:\n",
    "    print(ticker + \"  \"+ str(round(optimal_port.x[ticker_list.index(ticker)],4)),end=\"  \")"
   ]
  },
  {
   "cell_type": "code",
   "execution_count": 31,
   "metadata": {},
   "outputs": [
    {
     "data": {
      "text/plain": [
       "0.18121457528172225"
      ]
     },
     "execution_count": 31,
     "metadata": {},
     "output_type": "execute_result"
    }
   ],
   "source": [
    "# Return of the optimal portfolio\n",
    "port_ret(optimal_port.x)"
   ]
  },
  {
   "cell_type": "code",
   "execution_count": 32,
   "metadata": {
    "scrolled": true
   },
   "outputs": [
    {
     "data": {
      "text/plain": [
       "0.1820484793822395"
      ]
     },
     "execution_count": 32,
     "metadata": {},
     "output_type": "execute_result"
    }
   ],
   "source": [
    "# Standard Deviation of the optimal portfolio\n",
    "port_std(optimal_port.x)"
   ]
  },
  {
   "cell_type": "code",
   "execution_count": 33,
   "metadata": {},
   "outputs": [
    {
     "data": {
      "text/plain": [
       " message: Optimization terminated successfully\n",
       " success: True\n",
       "  status: 0\n",
       "     fun: 0.12668565149713606\n",
       "       x: [ 4.969e-18  0.000e+00  4.487e-01  0.000e+00  2.340e-17\n",
       "            0.000e+00  2.577e-01  0.000e+00  2.895e-17  0.000e+00\n",
       "            2.936e-01]\n",
       "     nit: 12\n",
       "     jac: [ 1.649e-01  1.593e-01  1.267e-01  1.728e-01  1.471e-01\n",
       "            1.440e-01  1.267e-01  1.630e-01  1.487e-01  1.317e-01\n",
       "            1.267e-01]\n",
       "    nfev: 144\n",
       "    njev: 12"
      ]
     },
     "execution_count": 33,
     "metadata": {},
     "output_type": "execute_result"
    }
   ],
   "source": [
    "# Global Minimum Variance Portfolio (GMVP)\n",
    "gmvp_port = minimize(port_std,init_guess,bounds = bounds,constraints=constraints)\n",
    "gmvp_port"
   ]
  },
  {
   "cell_type": "code",
   "execution_count": 34,
   "metadata": {},
   "outputs": [
    {
     "data": {
      "text/plain": [
       "0.09802720820731116"
      ]
     },
     "execution_count": 34,
     "metadata": {},
     "output_type": "execute_result"
    }
   ],
   "source": [
    "# Return of GMVP\n",
    "port_ret(gmvp_port.x)"
   ]
  },
  {
   "cell_type": "code",
   "execution_count": 35,
   "metadata": {
    "scrolled": true
   },
   "outputs": [
    {
     "data": {
      "text/plain": [
       "0.12668565149713606"
      ]
     },
     "execution_count": 35,
     "metadata": {},
     "output_type": "execute_result"
    }
   ],
   "source": [
    "# Standard Deviation of GMVP\n",
    "port_std(gmvp_port.x)"
   ]
  },
  {
   "cell_type": "code",
   "execution_count": 36,
   "metadata": {},
   "outputs": [
    {
     "name": "stdout",
     "output_type": "stream",
     "text": [
      "VDE  0.0  VAW  0.0  VIS  0.4487  VCR  0.0  VDC  0.0  VHT  0.0  VFH  0.2577  VGT  0.0  VOX  0.0  VPU  0.0  VNQ  0.2936  "
     ]
    }
   ],
   "source": [
    "# Weights of the assets in the GMVP\n",
    "for ticker in ticker_list:\n",
    "    print(ticker + \"  \"+ str(round(gmvp_port.x[ticker_list.index(ticker)],4)),end=\"  \")"
   ]
  },
  {
   "cell_type": "markdown",
   "metadata": {},
   "source": [
    "#### B. Scenario with No short-selling constraints"
   ]
  },
  {
   "cell_type": "code",
   "execution_count": 37,
   "metadata": {},
   "outputs": [
    {
     "data": {
      "text/plain": [
       " message: Optimization terminated successfully\n",
       " success: True\n",
       "  status: 0\n",
       "     fun: -1.7157882869565422\n",
       "       x: [-1.251e-01  2.314e-01  5.525e-01  1.156e-01  1.271e+00\n",
       "            2.208e+00  6.948e-01 -1.663e+00 -3.082e-01 -2.369e+00\n",
       "            3.921e-01]\n",
       "     nit: 24\n",
       "     jac: [-4.232e-02 -4.233e-02 -4.259e-02 -4.316e-02 -4.253e-02\n",
       "           -4.213e-02 -4.267e-02 -4.252e-02 -4.252e-02 -4.238e-02\n",
       "           -4.224e-02]\n",
       "    nfev: 289\n",
       "    njev: 24"
      ]
     },
     "execution_count": 37,
     "metadata": {},
     "output_type": "execute_result"
    }
   ],
   "source": [
    "# Optimal Portfolio (OP)\n",
    "optimal_port = minimize(neg_SR,init_guess,#bounds = bounds,\n",
    "                        constraints=constraints)\n",
    "optimal_port"
   ]
  },
  {
   "cell_type": "code",
   "execution_count": 38,
   "metadata": {},
   "outputs": [
    {
     "data": {
      "text/plain": [
       "1.7157882869565422"
      ]
     },
     "execution_count": 38,
     "metadata": {},
     "output_type": "execute_result"
    }
   ],
   "source": [
    "# Maximum Sharpe Ratio\n",
    "-optimal_port.fun"
   ]
  },
  {
   "cell_type": "code",
   "execution_count": 39,
   "metadata": {},
   "outputs": [
    {
     "name": "stdout",
     "output_type": "stream",
     "text": [
      "VDE  -0.1251  VAW  0.2314  VIS  0.5525  VCR  0.1156  VDC  1.271  VHT  2.208  VFH  0.6948  VGT  -1.6631  VOX  -0.3082  VPU  -2.3689  VNQ  0.3921  "
     ]
    }
   ],
   "source": [
    "# Weights of the assets in the optimal portfolio\n",
    "for ticker in ticker_list:\n",
    "    print(ticker + \"  \"+ str(round(optimal_port.x[ticker_list.index(ticker)],4)),end=\"  \")"
   ]
  },
  {
   "cell_type": "code",
   "execution_count": 40,
   "metadata": {},
   "outputs": [
    {
     "data": {
      "text/plain": [
       "0.5401778662032499"
      ]
     },
     "execution_count": 40,
     "metadata": {},
     "output_type": "execute_result"
    }
   ],
   "source": [
    "# Return of the optimal portfolio\n",
    "port_ret(optimal_port.x)"
   ]
  },
  {
   "cell_type": "code",
   "execution_count": 41,
   "metadata": {
    "scrolled": true
   },
   "outputs": [
    {
     "data": {
      "text/plain": [
       "0.307285904780694"
      ]
     },
     "execution_count": 41,
     "metadata": {},
     "output_type": "execute_result"
    }
   ],
   "source": [
    "# Standard Deviation of the optimal portfolio\n",
    "port_std(optimal_port.x)"
   ]
  },
  {
   "cell_type": "code",
   "execution_count": 42,
   "metadata": {},
   "outputs": [
    {
     "data": {
      "text/plain": [
       " message: Optimization terminated successfully\n",
       " success: True\n",
       "  status: 0\n",
       "     fun: 0.11512628272051734\n",
       "       x: [-2.254e-01 -1.086e-01  6.122e-01 -1.371e-02  2.479e-01\n",
       "            9.472e-02  4.096e-01 -3.793e-01 -1.434e-01  1.934e-01\n",
       "            3.127e-01]\n",
       "     nit: 25\n",
       "     jac: [ 1.155e-01  1.157e-01  1.153e-01  1.157e-01  1.156e-01\n",
       "            1.154e-01  1.152e-01  1.156e-01  1.154e-01  1.156e-01\n",
       "            1.152e-01]\n",
       "    nfev: 301\n",
       "    njev: 25"
      ]
     },
     "execution_count": 42,
     "metadata": {},
     "output_type": "execute_result"
    }
   ],
   "source": [
    "# Global Minimum Variance Portfolio (GMVP)\n",
    "gmvp_port = minimize(port_std,init_guess,#bounds = bounds,\n",
    "                     constraints=constraints)\n",
    "gmvp_port"
   ]
  },
  {
   "cell_type": "code",
   "execution_count": 43,
   "metadata": {},
   "outputs": [
    {
     "data": {
      "text/plain": [
       "0.08685518031095892"
      ]
     },
     "execution_count": 43,
     "metadata": {},
     "output_type": "execute_result"
    }
   ],
   "source": [
    "# Return of GMVP\n",
    "gmvp_ret = port_ret(gmvp_port.x)\n",
    "gmvp_ret"
   ]
  },
  {
   "cell_type": "code",
   "execution_count": 44,
   "metadata": {
    "scrolled": true
   },
   "outputs": [
    {
     "data": {
      "text/plain": [
       "0.11512628272051734"
      ]
     },
     "execution_count": 44,
     "metadata": {},
     "output_type": "execute_result"
    }
   ],
   "source": [
    "# Standard Deviation of GMVP\n",
    "gmvp_std = port_std(gmvp_port.x)\n",
    "gmvp_std"
   ]
  },
  {
   "cell_type": "code",
   "execution_count": 45,
   "metadata": {},
   "outputs": [
    {
     "name": "stdout",
     "output_type": "stream",
     "text": [
      "VDE  -0.2254  VAW  -0.1086  VIS  0.6122  VCR  -0.0137  VDC  0.2479  VHT  0.0947  VFH  0.4096  VGT  -0.3793  VOX  -0.1434  VPU  0.1934  VNQ  0.3127  "
     ]
    }
   ],
   "source": [
    "# Weights of the assets in the GMVP\n",
    "for ticker in ticker_list:\n",
    "    print(ticker + \"  \"+ str(round(gmvp_port.x[ticker_list.index(ticker)],4)),end=\"  \")"
   ]
  },
  {
   "cell_type": "markdown",
   "metadata": {},
   "source": [
    "### 2. The Efficient Frontier"
   ]
  },
  {
   "cell_type": "markdown",
   "metadata": {},
   "source": [
    "#### Scenario with No Short-Selling constraints"
   ]
  },
  {
   "cell_type": "markdown",
   "metadata": {},
   "source": [
    "We will create the efficient frontier by minimizing the portfolio standard deviation for a range of portfolio returns."
   ]
  },
  {
   "cell_type": "code",
   "execution_count": 46,
   "metadata": {},
   "outputs": [],
   "source": [
    "# Create an array of equally-spaced numbers that will represent our portfolio returns\n",
    "frontier_y = np.arange(gmvp_ret,port_ret(optimal_port.x)+port_ret(optimal_port.x)*0.5,0.01)"
   ]
  },
  {
   "cell_type": "code",
   "execution_count": 47,
   "metadata": {},
   "outputs": [],
   "source": [
    "frontier_x = []\n",
    "\n",
    "for ret in frontier_y:\n",
    "    constraints = ({'type':'eq','fun': lambda weights: np.sum(weights) - 1},\n",
    "                {'type':'eq','fun': lambda weights: port_ret(weights) - ret})\n",
    "    \n",
    "    init_guess = np.full(len(returns_mon.columns),1/len(returns_mon.columns))\n",
    "    \n",
    "    boundaries=[(0,1)]\n",
    "    bounds = tuple(boundaries * len(returns_mon.columns))\n",
    "    \n",
    "    result = minimize(port_std,init_guess,#bounds=bounds,\n",
    "                      constraints=constraints)\n",
    "    \n",
    "    frontier_x.append(result.fun)\n",
    "\n",
    "frontier_x=np.array(frontier_x)"
   ]
  },
  {
   "cell_type": "code",
   "execution_count": 48,
   "metadata": {},
   "outputs": [],
   "source": [
    "#frontier_x"
   ]
  },
  {
   "cell_type": "code",
   "execution_count": 49,
   "metadata": {},
   "outputs": [],
   "source": [
    "#frontier_y"
   ]
  },
  {
   "cell_type": "code",
   "execution_count": 55,
   "metadata": {},
   "outputs": [
    {
     "name": "stdout",
     "output_type": "stream",
     "text": [
      "[*********************100%***********************]  1 of 1 completed\n"
     ]
    },
    {
     "data": {
      "text/html": [
       "<div>\n",
       "<style scoped>\n",
       "    .dataframe tbody tr th:only-of-type {\n",
       "        vertical-align: middle;\n",
       "    }\n",
       "\n",
       "    .dataframe tbody tr th {\n",
       "        vertical-align: top;\n",
       "    }\n",
       "\n",
       "    .dataframe thead th {\n",
       "        text-align: right;\n",
       "    }\n",
       "</style>\n",
       "<table border=\"1\" class=\"dataframe\">\n",
       "  <thead>\n",
       "    <tr style=\"text-align: right;\">\n",
       "      <th></th>\n",
       "      <th>VOO</th>\n",
       "    </tr>\n",
       "    <tr>\n",
       "      <th>Date</th>\n",
       "      <th></th>\n",
       "    </tr>\n",
       "  </thead>\n",
       "  <tbody>\n",
       "    <tr>\n",
       "      <th>2017-01-31</th>\n",
       "      <td>0.017827</td>\n",
       "    </tr>\n",
       "    <tr>\n",
       "      <th>2017-02-28</th>\n",
       "      <td>0.038761</td>\n",
       "    </tr>\n",
       "    <tr>\n",
       "      <th>2017-03-31</th>\n",
       "      <td>0.001319</td>\n",
       "    </tr>\n",
       "    <tr>\n",
       "      <th>2017-04-30</th>\n",
       "      <td>0.010400</td>\n",
       "    </tr>\n",
       "    <tr>\n",
       "      <th>2017-05-31</th>\n",
       "      <td>0.014044</td>\n",
       "    </tr>\n",
       "  </tbody>\n",
       "</table>\n",
       "</div>"
      ],
      "text/plain": [
       "                 VOO\n",
       "Date                \n",
       "2017-01-31  0.017827\n",
       "2017-02-28  0.038761\n",
       "2017-03-31  0.001319\n",
       "2017-04-30  0.010400\n",
       "2017-05-31  0.014044"
      ]
     },
     "execution_count": 55,
     "metadata": {},
     "output_type": "execute_result"
    }
   ],
   "source": [
    "# Download Data for the Vanguard S&P 500 ETF - ticker 'VOO'\n",
    "return_voo = yf.download('VOO',start-pd.offsets.BDay(1),end)[['Adj Close']].pct_change().dropna().resample('M').apply(lambda x:x.add(1).prod().sub(1))\n",
    "return_voo.columns = ['VOO']\n",
    "\n",
    "# Keep only the months that we have RF data from Ken French\n",
    "return_voo = return_voo[return_voo.index<=rf.index[-1]]\n",
    "\n",
    "return_voo.head()"
   ]
  },
  {
   "cell_type": "code",
   "execution_count": 56,
   "metadata": {},
   "outputs": [
    {
     "name": "stdout",
     "output_type": "stream",
     "text": [
      "This is Vanguard S&P 500 ETF average return:\n",
      "0.12525865897202082 \n",
      "\n",
      "This is Vanguard S&P 500 ETF standard deviation:\n",
      "0.17051510128807656 \n",
      "\n",
      "This is Vanguard S&P 500 ETF Sharpe Ratio:\n",
      "0.6634146216417484\n"
     ]
    }
   ],
   "source": [
    "print('This is Vanguard S&P 500 ETF average return:')\n",
    "VOO_Mean=return_voo.mean()*12\n",
    "print(VOO_Mean[0],'\\n')\n",
    "\n",
    "print('This is Vanguard S&P 500 ETF standard deviation:')\n",
    "VOO_Std=return_voo.std()*np.sqrt(12)\n",
    "print(VOO_Std[0],'\\n')\n",
    "\n",
    "print('This is Vanguard S&P 500 ETF Sharpe Ratio:')\n",
    "VOO_SR = ((return_voo['VOO'] - rf['RF']).mean()*12)/((return_voo['VOO'] - rf['RF']).std()*np.sqrt(12))\n",
    "print(VOO_SR)"
   ]
  },
  {
   "cell_type": "markdown",
   "metadata": {},
   "source": [
    "### Plotting the data"
   ]
  },
  {
   "cell_type": "code",
   "execution_count": 58,
   "metadata": {},
   "outputs": [
    {
     "data": {
      "image/png": "[encoded data removed]",
      "text/plain": [
       "<Figure size 1600x800 with 1 Axes>"
      ]
     },
     "metadata": {
      "image/png": {
       "height": 700,
       "width": 1322
      }
     },
     "output_type": "display_data"
    }
   ],
   "source": [
    "fig, ax = plt.subplots(figsize=(16,8))\n",
    "\n",
    "# Add limits to the axes\n",
    "ax.set_xlim(gmvp_std*0.5,port_std(optimal_port.x)*2)\n",
    "ax.set_ylim(-port_ret(optimal_port.x)*0.5,port_ret(optimal_port.x)*2)\n",
    "\n",
    "# Add a green dot for the portfolio with the maximum Sharpe Ratio (Optimal Risky Portfolio)\n",
    "ax.scatter(port_std(optimal_port.x),port_ret(optimal_port.x),color='green',s=100)\n",
    "ax.annotate('OP',(port_std(optimal_port.x),port_ret(optimal_port.x)))\n",
    "\n",
    "# Add a purple dot for the VOO ETF\n",
    "ax.scatter(VOO_Std[0],VOO_Mean[0],color='purple',s=100)\n",
    "ax.annotate('S&P500',(VOO_Std[0],VOO_Mean[0]))\n",
    "\n",
    "# Add a blue dot for the portfolio with the minimum variance (Global Mimimum Variance Portfolio)\n",
    "ax.scatter(gmvp_std,gmvp_ret,color='blue',s=100)\n",
    "ax.annotate('GMVP',(gmvp_std,gmvp_ret))\n",
    "\n",
    "# Draw the Capital Allocation Line (CAL)\n",
    "ax.plot(np.arange(0.0,frontier_x[-1],0.01),\n",
    "        (rf['RF'].mean()*12)+(-optimal_port.fun)*np.arange(0.0,frontier_x[-1],0.01),\n",
    "        color='green',\n",
    "       label = 'Capital Allocation Line')\n",
    "\n",
    "# Annotate the stocks on the plot\n",
    "for ticker in ticker_list:\n",
    "    ax.annotate(ticker,(returns_mon[ticker].std()*np.sqrt(12),returns_mon[ticker].mean()*12))\n",
    "    ax.scatter(returns_mon[ticker].std()*np.sqrt(12),returns_mon[ticker].mean()*12,color='red',s=100)\n",
    "    \n",
    "# Add frontier line\n",
    "ax.plot(frontier_x,frontier_y,color = 'blue', linestyle='--',linewidth=3)\n",
    "\n",
    "# Add title to the plot\n",
    "ax.set_title('Portfolio Optimization')\n",
    "\n",
    "# Add axis labels\n",
    "ax.set_xlabel('Portfolio Standard Deviation')\n",
    "ax.set_ylabel('Portfolio Return');\n",
    "\n",
    "# Add legend to the graph\n",
    "ax.legend(loc = 'best');"
   ]
  },
  {
   "cell_type": "code",
   "execution_count": null,
   "metadata": {},
   "outputs": [],
   "source": []
  }
 ],
 "metadata": {
  "kernelspec": {
   "display_name": "Python 3 (ipykernel)",
   "language": "python",
   "name": "python3"
  },
  "language_info": {
   "codemirror_mode": {
    "name": "ipython",
    "version": 3
   },
   "file_extension": ".py",
   "mimetype": "text/x-python",
   "name": "python",
   "nbconvert_exporter": "python",
   "pygments_lexer": "ipython3",
   "version": "3.8.13"
  }
 },
 "nbformat": 4,
 "nbformat_minor": 4
}
