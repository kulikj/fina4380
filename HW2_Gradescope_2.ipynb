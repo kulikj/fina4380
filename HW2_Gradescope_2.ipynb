{
 "cells": [
  {
   "cell_type": "code",
   "execution_count": null,
   "metadata": {
    "deletable": false,
    "editable": false
   },
   "outputs": [],
   "source": [
    "# Initialize Otter\n",
    "import otter\n",
    "grader = otter.Notebook(\"HW2_Gradescope.ipynb\")"
   ]
  },
  {
   "cell_type": "markdown",
   "metadata": {},
   "source": [
    "# Homework 2"
   ]
  },
  {
   "cell_type": "markdown",
   "metadata": {},
   "source": [
    "## Instructions\n",
    "\n",
    "1. Do not move or rename the included files. If you move or rename files or folders, the local and Gradescope autograders will not work.\n",
    "1. Refer to files and variables exactly as they appear. Python is case-sensitive, so `df` and `DF` are different variables.\n",
    "1. After you answer a question, you may run its public tests.\n",
    "1. After you answer every question:\n",
    "    1. Restart your kernel\n",
    "    1. Run up to the last cell\n",
    "    1. Save your notebook\n",
    "    1. Run the last cell, which creates the .zip file for Gradescope in the same folder as this notebook\n",
    "    1. Upload the .zip file to Gradescope\n",
    "    1. Make sure your local autograder results match your Gradescope autograder results\n",
    "1. ***The public tests ensure your answers are formatted correctly but do not ensure your answers are correct.***\n",
    "1. Gradescope runs hidden tests in addition to the public tests but does not reveal public test results until after the due date. Your grade will be \"~/100\" until after the due date."
   ]
  },
  {
   "cell_type": "markdown",
   "metadata": {},
   "source": [
    "## Packages"
   ]
  },
  {
   "cell_type": "code",
   "execution_count": null,
   "metadata": {
    "scrolled": true
   },
   "outputs": [],
   "source": [
    "import numpy as np\n",
    "import pandas as pd\n",
    "import datetime as dt"
   ]
  },
  {
   "cell_type": "markdown",
   "metadata": {},
   "source": [
    "## Questions"
   ]
  },
  {
   "cell_type": "markdown",
   "metadata": {},
   "source": [
    "---"
   ]
  },
  {
   "cell_type": "markdown",
   "metadata": {
    "tags": []
   },
   "source": [
    "#### 1. Create a DataFrame named **fin_data** by reading in the columns labeled 'DATE', 'TICKER', 'PRC' and 'CFACPR' from the file entitled fin_data.csv. Set the column labeled 'DATE' as the index.\n",
    "\n",
    "_Points:_ 9"
   ]
  },
  {
   "cell_type": "code",
   "execution_count": null,
   "metadata": {
    "scrolled": true,
    "tags": []
   },
   "outputs": [],
   "source": [
    "..."
   ]
  },
  {
   "cell_type": "code",
   "execution_count": null,
   "metadata": {
    "deletable": false,
    "editable": false
   },
   "outputs": [],
   "source": [
    "grader.check(\"q1\")"
   ]
  },
  {
   "cell_type": "markdown",
   "metadata": {},
   "source": [
    "---"
   ]
  },
  {
   "cell_type": "markdown",
   "metadata": {
    "tags": []
   },
   "source": [
    "#### 2. Create a variable named **tickers** to store **an array** with the unique tickers for all the stocks in the sample, sorted in alphabetical order.\n",
    "\n",
    "_Points:_ 9"
   ]
  },
  {
   "cell_type": "code",
   "execution_count": null,
   "metadata": {
    "scrolled": true,
    "tags": []
   },
   "outputs": [],
   "source": [
    "..."
   ]
  },
  {
   "cell_type": "code",
   "execution_count": null,
   "metadata": {
    "deletable": false,
    "editable": false
   },
   "outputs": [],
   "source": [
    "grader.check(\"q2\")"
   ]
  },
  {
   "cell_type": "markdown",
   "metadata": {},
   "source": [
    "---"
   ]
  },
  {
   "cell_type": "markdown",
   "metadata": {
    "tags": []
   },
   "source": [
    "#### 3. Create a new column (named 'RET') in the **fin_data** DataFrame to store the simple return computed as the change in the adjusted price. The adjusted price is the ratio of raw price ('PRC') and the cumulative factor to adjust prices ('CFACPR'). Subsequently, permanently drop the 'PRC' and 'CFACPR' columns from the DataFrame.\n",
    "\n",
    "_Points:_ 11"
   ]
  },
  {
   "cell_type": "code",
   "execution_count": null,
   "metadata": {
    "tags": []
   },
   "outputs": [],
   "source": [
    "..."
   ]
  },
  {
   "cell_type": "code",
   "execution_count": null,
   "metadata": {
    "deletable": false,
    "editable": false
   },
   "outputs": [],
   "source": [
    "grader.check(\"q3\")"
   ]
  },
  {
   "cell_type": "markdown",
   "metadata": {},
   "source": [
    "---"
   ]
  },
  {
   "cell_type": "markdown",
   "metadata": {
    "tags": []
   },
   "source": [
    "#### 4. Which stock had the lowest daily return during the sample period? In addition, what was the date and the observed return? Store the three values in three variables labeled **stock_min**,**date_min** and **ret_min**.\n",
    "\n",
    "_Points:_ 9"
   ]
  },
  {
   "cell_type": "code",
   "execution_count": null,
   "metadata": {
    "tags": []
   },
   "outputs": [],
   "source": [
    "..."
   ]
  },
  {
   "cell_type": "code",
   "execution_count": null,
   "metadata": {
    "deletable": false,
    "editable": false
   },
   "outputs": [],
   "source": [
    "grader.check(\"q4\")"
   ]
  },
  {
   "cell_type": "markdown",
   "metadata": {},
   "source": [
    "---"
   ]
  },
  {
   "cell_type": "markdown",
   "metadata": {},
   "source": [
    "#### 5. What is number of days that Goldman Sachs had a negative return during the sample period? Store the answer in a variable called **neg_days**.\n",
    "\n",
    "_Points:_ 9"
   ]
  },
  {
   "cell_type": "code",
   "execution_count": null,
   "metadata": {
    "tags": []
   },
   "outputs": [],
   "source": [
    "..."
   ]
  },
  {
   "cell_type": "code",
   "execution_count": null,
   "metadata": {
    "deletable": false,
    "editable": false
   },
   "outputs": [],
   "source": [
    "grader.check(\"q5\")"
   ]
  },
  {
   "cell_type": "markdown",
   "metadata": {},
   "source": [
    "---"
   ]
  },
  {
   "cell_type": "markdown",
   "metadata": {
    "tags": []
   },
   "source": [
    "#### 6. Which stock had the highest monthly average daily return in 2018? In addition, what was the date and the observed return? Store the three values in three variables labeled **stock_max18**,**date_max18** and **ret_max18**.\n",
    "\n",
    "_Points:_ 9"
   ]
  },
  {
   "cell_type": "code",
   "execution_count": null,
   "metadata": {
    "tags": []
   },
   "outputs": [],
   "source": [
    "..."
   ]
  },
  {
   "cell_type": "code",
   "execution_count": null,
   "metadata": {
    "deletable": false,
    "editable": false
   },
   "outputs": [],
   "source": [
    "grader.check(\"q6\")"
   ]
  },
  {
   "cell_type": "markdown",
   "metadata": {},
   "source": [
    "---"
   ]
  },
  {
   "cell_type": "markdown",
   "metadata": {},
   "source": [
    "#### 7. Create a DataFrame named **returns_2018** to store the 2018 monthly average daily returns for all the stocks in the sample. The DataFrame should have a column for each stock in the sample.\n",
    "\n",
    "_Points:_ 9"
   ]
  },
  {
   "cell_type": "code",
   "execution_count": null,
   "metadata": {
    "tags": []
   },
   "outputs": [],
   "source": [
    "..."
   ]
  },
  {
   "cell_type": "code",
   "execution_count": null,
   "metadata": {
    "deletable": false,
    "editable": false
   },
   "outputs": [],
   "source": [
    "grader.check(\"q7\")"
   ]
  },
  {
   "cell_type": "markdown",
   "metadata": {},
   "source": [
    "---"
   ]
  },
  {
   "cell_type": "markdown",
   "metadata": {
    "tags": []
   },
   "source": [
    "#### 8. Create a DataFrame named **sp_data_2018** by reading in the columns labeled 'DATE' and 'SPRTRN' from the file entitled fin_data.csv. The column labeled 'SPRTRN' contains the daily return for the S&P500 index. Restrict the sample period to 2018. Set the column labeled 'DATE' as the index. Make sure the DataFrame does not have any duplicate observations. \n",
    "\n",
    "_Points:_ 9"
   ]
  },
  {
   "cell_type": "code",
   "execution_count": null,
   "metadata": {
    "scrolled": true,
    "tags": []
   },
   "outputs": [],
   "source": [
    "..."
   ]
  },
  {
   "cell_type": "code",
   "execution_count": null,
   "metadata": {
    "deletable": false,
    "editable": false
   },
   "outputs": [],
   "source": [
    "grader.check(\"q8\")"
   ]
  },
  {
   "cell_type": "markdown",
   "metadata": {},
   "source": [
    "---"
   ]
  },
  {
   "cell_type": "markdown",
   "metadata": {},
   "source": [
    "#### 9. Create a new DataFrame named **data_2018** by merging the DataFrame **returns_2018** with the monthly average daily return for the S&P500 index.\n",
    "\n",
    "_Points:_ 9"
   ]
  },
  {
   "cell_type": "code",
   "execution_count": null,
   "metadata": {
    "scrolled": true,
    "tags": []
   },
   "outputs": [],
   "source": [
    "..."
   ]
  },
  {
   "cell_type": "code",
   "execution_count": null,
   "metadata": {
    "deletable": false,
    "editable": false
   },
   "outputs": [],
   "source": [
    "grader.check(\"q9\")"
   ]
  },
  {
   "cell_type": "markdown",
   "metadata": {},
   "source": [
    "---"
   ]
  },
  {
   "cell_type": "markdown",
   "metadata": {},
   "source": [
    "#### 10. Which stock had the highest correlation with the S&P500 in 2018, and what was the correlation magnitude? Store the values in two variables labeled **stock_corr_max** and **corr_max**.\n",
    "\n",
    "_Points:_ 9"
   ]
  },
  {
   "cell_type": "code",
   "execution_count": null,
   "metadata": {
    "scrolled": true,
    "tags": []
   },
   "outputs": [],
   "source": [
    "..."
   ]
  },
  {
   "cell_type": "code",
   "execution_count": null,
   "metadata": {
    "deletable": false,
    "editable": false
   },
   "outputs": [],
   "source": [
    "grader.check(\"q10\")"
   ]
  },
  {
   "cell_type": "markdown",
   "metadata": {},
   "source": [
    "---"
   ]
  },
  {
   "cell_type": "markdown",
   "metadata": {},
   "source": [
    "#### 11. Use the returns_2018 DataFrame to create another DataFrame named **max_correlations** to store each stock's highest correlation during 2018 and the stock it occured with. Specifically, the DataFrame should have the following header:\n",
    "\n",
    "_Points:_ 9"
   ]
  },
  {
   "cell_type": "code",
   "execution_count": null,
   "metadata": {
    "tags": []
   },
   "outputs": [],
   "source": [
    "..."
   ]
  },
  {
   "cell_type": "code",
   "execution_count": null,
   "metadata": {
    "deletable": false,
    "editable": false
   },
   "outputs": [],
   "source": [
    "grader.check(\"q11\")"
   ]
  },
  {
   "cell_type": "markdown",
   "metadata": {},
   "source": [
    "---"
   ]
  },
  {
   "cell_type": "code",
   "execution_count": null,
   "metadata": {},
   "outputs": [],
   "source": []
  },
  {
   "cell_type": "markdown",
   "metadata": {
    "deletable": false,
    "editable": false
   },
   "source": [
    "## Submission\n",
    "\n",
    "Make sure you have run all cells in your notebook in order before running the cell below, so that all images/graphs appear in the output. The cell below will generate a zip file for you to submit. **Please save before exporting!**"
   ]
  },
  {
   "cell_type": "code",
   "execution_count": null,
   "metadata": {
    "deletable": false,
    "editable": false
   },
   "outputs": [],
   "source": [
    "# Save your notebook first, then run this cell to export your submission.\n",
    "grader.export(pdf=False, run_tests=True)"
   ]
  },
  {
   "cell_type": "markdown",
   "metadata": {},
   "source": [
    " "
   ]
  }
 ],
 "metadata": {
  "kernelspec": {
   "display_name": "Python 3 (ipykernel)",
   "language": "python",
   "name": "python3"
  },
  "language_info": {
   "codemirror_mode": {
    "name": "ipython",
    "version": 3
   },
   "file_extension": ".py",
   "mimetype": "text/x-python",
   "name": "python",
   "nbconvert_exporter": "python",
   "pygments_lexer": "ipython3",
   "version": "3.9.15"
  },
  "otter": {
   "OK_FORMAT": true,
   "tests": {
    "q1": {
     "name": "q1",
     "points": 9,
     "suites": [
      {
       "cases": [
        {
         "code": ">>> fin_data.shape == (35224, 3)\nTrue",
         "hidden": false,
         "locked": false,
         "points": 4
        },
        {
         "code": ">>> fin_data.index.name == 'DATE'\nTrue",
         "hidden": false,
         "locked": false,
         "points": 2.5
        },
        {
         "code": ">>> type(fin_data.index) == pd.core.indexes.datetimes.DatetimeIndex\nTrue",
         "hidden": false,
         "locked": false,
         "points": 2.5
        }
       ],
       "scored": true,
       "setup": "",
       "teardown": "",
       "type": "doctest"
      }
     ]
    },
    "q10": {
     "name": "q10",
     "points": 9,
     "suites": [
      {
       "cases": [
        {
         "code": ">>> stock_corr_max=='MSFT'\nTrue",
         "hidden": false,
         "locked": false,
         "points": 4.5
        },
        {
         "code": ">>> np.allclose(corr_max,0.9696012795067449)\nTrue",
         "hidden": false,
         "locked": false,
         "points": 4.5
        }
       ],
       "scored": true,
       "setup": "",
       "teardown": "",
       "type": "doctest"
      }
     ]
    },
    "q11": {
     "name": "q11",
     "points": 9,
     "suites": [
      {
       "cases": [
        {
         "code": ">>> max_correlations.shape == (28,2)\nTrue",
         "hidden": false,
         "locked": false,
         "points": 3
        },
        {
         "code": ">>> (np.sum(max_correlations.reset_index().sort_values(by='TICKER')['TICKER_PAIR'].values==\\\n...        np.array(['CSCO', 'PFE', 'MSFT', 'MMM', 'AXP', 'HD', 'PFE', 'AAPL', 'NKE',\n...        'HD', 'CAT', 'DIS', 'UTX', 'JNJ', 'VZ', 'IBM', 'MCD', 'JPM', 'V',\n...        'DIS', 'KO', 'JPM', 'V', 'JPM', 'UNH', 'MRK', 'MRK', 'HD']))==28)|\\\n... (np.sum(max_correlations.reset_index().sort_values(by='TICKER_PAIR')['TICKER'].values==\\\n...        np.array(['GS', 'CSCO', 'INTC', 'AAPL', 'PFE', 'JNJ', 'IBM', 'XOM', 'CVX',\n...        'MMM', 'KO', 'UTX', 'TRV', 'MSFT', 'PG', 'MRK', 'CAT', 'VZ', 'WMT',\n...        'BA', 'HD', 'DIS', 'AXP', 'V', 'JPM', 'NKE', 'UNH', 'MCD']))==28)\nTrue",
         "hidden": false,
         "locked": false,
         "points": 3
        },
        {
         "code": ">>> np.allclose(max_correlations['CORR'].sum(),20.68399012355372)\nTrue",
         "hidden": false,
         "locked": false,
         "points": 3
        }
       ],
       "scored": true,
       "setup": "",
       "teardown": "",
       "type": "doctest"
      }
     ]
    },
    "q2": {
     "name": "q2",
     "points": 9,
     "suites": [
      {
       "cases": [
        {
         "code": ">>> type(tickers)==np.ndarray\nTrue",
         "hidden": false,
         "locked": false,
         "points": 4
        },
        {
         "code": ">>> np.sum(tickers == np.array(['AAPL', 'AXP', 'BA', 'CAT', 'CSCO', 'CVX', 'DIS', 'GS', 'HD',\n...        'IBM', 'INTC', 'JNJ', 'JPM', 'KO', 'MCD', 'MMM', 'MRK', 'MSFT',\n...        'NKE', 'PFE', 'PG', 'TRV', 'UNH', 'UTX', 'V', 'VZ', 'WMT', 'XOM']))==28\nTrue",
         "hidden": false,
         "locked": false,
         "points": 5
        }
       ],
       "scored": true,
       "setup": "",
       "teardown": "",
       "type": "doctest"
      }
     ]
    },
    "q3": {
     "name": "q3",
     "points": 11,
     "suites": [
      {
       "cases": [
        {
         "code": ">>> fin_data.shape == (35224, 2)\nTrue",
         "hidden": false,
         "locked": false,
         "points": 5
        },
        {
         "code": ">>> np.allclose(fin_data.groupby('TICKER').sum(),\\\n... np.array([[ 0.83443101],[ 0.17066155],[ 0.99557856],[ 0.50975032],[ 0.78942905],[-0.01102296],\n...        [ 0.45240784],[ 0.07131932],[ 0.82594829],[-0.38945369],[ 0.75079384],[ 0.41318596],\n...        [ 0.62553359],[ 0.19987354],[ 0.67872047],[ 0.39804702],[ 0.53134919],[ 1.13943084],\n...        [ 0.77777199],[ 0.43704337],[ 0.18765476],[ 0.35937721],[ 1.31074248],[ 0.02392484],\n...        [ 0.98027086],[ 0.21005892],[ 0.26006799],[-0.29207202]]))\nTrue",
         "hidden": false,
         "locked": false,
         "points": 6
        }
       ],
       "scored": true,
       "setup": "",
       "teardown": "",
       "type": "doctest"
      }
     ]
    },
    "q4": {
     "name": "q4",
     "points": 9,
     "suites": [
      {
       "cases": [
        {
         "code": ">>> stock_min=='AXP'\nTrue",
         "hidden": false,
         "locked": false,
         "points": 3
        },
        {
         "code": ">>> date_min==dt.datetime(2016,1,22)\nTrue",
         "hidden": false,
         "locked": false,
         "points": 3
        },
        {
         "code": ">>> np.allclose(ret_min,-0.12100893997445716)\nTrue",
         "hidden": false,
         "locked": false,
         "points": 3
        }
       ],
       "scored": true,
       "setup": "",
       "teardown": "",
       "type": "doctest"
      }
     ]
    },
    "q5": {
     "name": "q5",
     "points": 9,
     "suites": [
      {
       "cases": [
        {
         "code": ">>> neg_days==619\nTrue",
         "hidden": false,
         "locked": false,
         "points": 9
        }
       ],
       "scored": true,
       "setup": "",
       "teardown": "",
       "type": "doctest"
      }
     ]
    },
    "q6": {
     "name": "q6",
     "points": 9,
     "suites": [
      {
       "cases": [
        {
         "code": ">>> stock_max18=='BA'\nTrue",
         "hidden": false,
         "locked": false,
         "points": 3
        },
        {
         "code": ">>> date_max18==dt.datetime(2018,1,31)\nTrue",
         "hidden": false,
         "locked": false,
         "points": 3
        },
        {
         "code": ">>> np.allclose(ret_max18,0.008984907926225586)\nTrue",
         "hidden": false,
         "locked": false,
         "points": 3
        }
       ],
       "scored": true,
       "setup": "",
       "teardown": "",
       "type": "doctest"
      }
     ]
    },
    "q7": {
     "name": "q7",
     "points": 9,
     "suites": [
      {
       "cases": [
        {
         "code": ">>> returns_2018.shape == (12,28)\nTrue",
         "hidden": false,
         "locked": false,
         "points": 4
        },
        {
         "code": ">>> np.allclose(np.sort(returns_2018.sum().values),\\\n... np.sort(np.array([-1.94438982e-02, -1.22055274e-02, -9.49438907e-03, -9.01142846e-03,\n...        -7.36762197e-03, -6.82460433e-03, -5.65316094e-03, -5.47566836e-03,\n...        -3.71180576e-03, -3.41284661e-03, -3.41045812e-03, -2.98967069e-03,\n...        -2.59274563e-03, -1.52477745e-03, -5.51517017e-05,  1.49465285e-03,\n...         1.70122002e-03,  1.85806008e-03,  2.40061551e-03,  3.14456797e-03,\n...         6.00835818e-03,  7.02543311e-03,  7.36772197e-03,  8.17874467e-03,\n...         9.61024328e-03,  9.72288148e-03,  1.02816018e-02,  1.47385797e-02])))\nTrue",
         "hidden": false,
         "locked": false,
         "points": 5
        }
       ],
       "scored": true,
       "setup": "",
       "teardown": "",
       "type": "doctest"
      }
     ]
    },
    "q8": {
     "name": "q8",
     "points": 9,
     "suites": [
      {
       "cases": [
        {
         "code": ">>> sp_data_2018.shape == (251,1)\nTrue",
         "hidden": false,
         "locked": false,
         "points": 4
        },
        {
         "code": ">>> np.allclose(sp_data_2018.sum().values,np.array([-0.049918]))\nTrue",
         "hidden": false,
         "locked": false,
         "points": 5
        }
       ],
       "scored": true,
       "setup": "",
       "teardown": "",
       "type": "doctest"
      }
     ]
    },
    "q9": {
     "name": "q9",
     "points": 9,
     "suites": [
      {
       "cases": [
        {
         "code": ">>> data_2018.shape == (12,29)\nTrue",
         "hidden": false,
         "locked": false,
         "points": 4
        },
        {
         "code": ">>> np.allclose(np.sort(data_2018.sum().values),\\\n... np.sort(np.array([-2.59274563e-03, -1.52477745e-03,  7.02543311e-03, -6.82460433e-03,\n...         7.36772197e-03, -5.47566836e-03,  1.85806008e-03, -1.94438982e-02,\n...        -3.41284661e-03, -1.22055274e-02,  3.14456797e-03, -3.41045812e-03,\n...        -3.71180576e-03,  1.49465285e-03,  1.70122002e-03, -9.01142846e-03,\n...         1.47385797e-02,  9.61024328e-03,  1.02816018e-02,  9.72288148e-03,\n...        -5.51517017e-05, -5.65316094e-03,  6.00835818e-03, -7.36762197e-03,\n...         8.17874467e-03,  2.40061551e-03, -2.98967069e-03, -9.49438907e-03,-2.88944230e-03])))\nTrue",
         "hidden": false,
         "locked": false,
         "points": 5
        }
       ],
       "scored": true,
       "setup": "",
       "teardown": "",
       "type": "doctest"
      }
     ]
    }
   }
  }
 },
 "nbformat": 4,
 "nbformat_minor": 4
}
