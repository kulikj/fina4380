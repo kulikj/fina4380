{
 "cells": [
  {
   "cell_type": "markdown",
   "metadata": {},
   "source": [
    "### FINA 4380 with Marius Popescu"
   ]
  },
  {
   "cell_type": "markdown",
   "metadata": {},
   "source": [
    "### Portfolio Risk and Return - Exercise Set Solutions"
   ]
  },
  {
   "cell_type": "markdown",
   "metadata": {},
   "source": [
    "#### Import the Necessary Libraries"
   ]
  },
  {
   "cell_type": "code",
   "execution_count": 2,
   "metadata": {},
   "outputs": [],
   "source": [
    "import numpy as np\n",
    "import pandas as pd\n",
    "\n",
    "import datetime as dt\n",
    "import yfinance as yf\n",
    "import pandas_datareader.data as web"
   ]
  },
  {
   "cell_type": "markdown",
   "metadata": {},
   "source": [
    "#### 1. Create a DataFrame named data3 to store the Adjusted Closing Price from Yahoo!Finance for Goldman Sachs (ticker= 'GS'), Coca-Cola (ticker = 'KO'), and IBM (ticker= 'IBM') from January 1st, 2015 to December 31st, 2022."
   ]
  },
  {
   "cell_type": "code",
   "execution_count": 20,
   "metadata": {
    "scrolled": true
   },
   "outputs": [
    {
     "name": "stdout",
     "output_type": "stream",
     "text": [
      "[*********************100%***********************]  3 of 3 completed\n"
     ]
    },
    {
     "data": {
      "text/html": [
       "<div>\n",
       "<style scoped>\n",
       "    .dataframe tbody tr th:only-of-type {\n",
       "        vertical-align: middle;\n",
       "    }\n",
       "\n",
       "    .dataframe tbody tr th {\n",
       "        vertical-align: top;\n",
       "    }\n",
       "\n",
       "    .dataframe thead th {\n",
       "        text-align: right;\n",
       "    }\n",
       "</style>\n",
       "<table border=\"1\" class=\"dataframe\">\n",
       "  <thead>\n",
       "    <tr style=\"text-align: right;\">\n",
       "      <th></th>\n",
       "      <th>GS_PRC</th>\n",
       "      <th>KO_PRC</th>\n",
       "      <th>IBM_PRC</th>\n",
       "    </tr>\n",
       "    <tr>\n",
       "      <th>Date</th>\n",
       "      <th></th>\n",
       "      <th></th>\n",
       "      <th></th>\n",
       "    </tr>\n",
       "  </thead>\n",
       "  <tbody>\n",
       "    <tr>\n",
       "      <th>2014-12-31</th>\n",
       "      <td>166.912033</td>\n",
       "      <td>107.067566</td>\n",
       "      <td>32.408779</td>\n",
       "    </tr>\n",
       "    <tr>\n",
       "      <th>2015-01-02</th>\n",
       "      <td>167.411438</td>\n",
       "      <td>108.148643</td>\n",
       "      <td>32.347389</td>\n",
       "    </tr>\n",
       "    <tr>\n",
       "      <th>2015-01-05</th>\n",
       "      <td>162.184448</td>\n",
       "      <td>106.446938</td>\n",
       "      <td>32.347389</td>\n",
       "    </tr>\n",
       "    <tr>\n",
       "      <th>2015-01-06</th>\n",
       "      <td>158.903549</td>\n",
       "      <td>104.151299</td>\n",
       "      <td>32.593006</td>\n",
       "    </tr>\n",
       "    <tr>\n",
       "      <th>2015-01-07</th>\n",
       "      <td>161.271652</td>\n",
       "      <td>103.470589</td>\n",
       "      <td>32.999855</td>\n",
       "    </tr>\n",
       "  </tbody>\n",
       "</table>\n",
       "</div>"
      ],
      "text/plain": [
       "                GS_PRC      KO_PRC    IBM_PRC\n",
       "Date                                         \n",
       "2014-12-31  166.912033  107.067566  32.408779\n",
       "2015-01-02  167.411438  108.148643  32.347389\n",
       "2015-01-05  162.184448  106.446938  32.347389\n",
       "2015-01-06  158.903549  104.151299  32.593006\n",
       "2015-01-07  161.271652  103.470589  32.999855"
      ]
     },
     "execution_count": 20,
     "metadata": {},
     "output_type": "execute_result"
    }
   ],
   "source": [
    "start = dt.datetime(2015, 1, 1)-pd.offsets.BDay(1)\n",
    "end = dt.datetime(2022, 12, 31)+pd.offsets.BDay(1)\n",
    "\n",
    "ticker_list= ['GS','KO','IBM']\n",
    "\n",
    "data3 = yf.download(ticker_list, start, end)['Adj Close']\n",
    "data3.columns=[ticker+'_PRC'for ticker in ticker_list]\n",
    "data3.head()"
   ]
  },
  {
   "cell_type": "markdown",
   "metadata": {},
   "source": [
    "#### 2. Create three additional columns in DataFrame data3 to store the daily simple returns for the three stocks."
   ]
  },
  {
   "cell_type": "code",
   "execution_count": 21,
   "metadata": {},
   "outputs": [
    {
     "data": {
      "text/html": [
       "<div>\n",
       "<style scoped>\n",
       "    .dataframe tbody tr th:only-of-type {\n",
       "        vertical-align: middle;\n",
       "    }\n",
       "\n",
       "    .dataframe tbody tr th {\n",
       "        vertical-align: top;\n",
       "    }\n",
       "\n",
       "    .dataframe thead th {\n",
       "        text-align: right;\n",
       "    }\n",
       "</style>\n",
       "<table border=\"1\" class=\"dataframe\">\n",
       "  <thead>\n",
       "    <tr style=\"text-align: right;\">\n",
       "      <th></th>\n",
       "      <th>GS_PRC</th>\n",
       "      <th>KO_PRC</th>\n",
       "      <th>IBM_PRC</th>\n",
       "      <th>GS_RET</th>\n",
       "      <th>KO_RET</th>\n",
       "      <th>IBM_RET</th>\n",
       "    </tr>\n",
       "    <tr>\n",
       "      <th>Date</th>\n",
       "      <th></th>\n",
       "      <th></th>\n",
       "      <th></th>\n",
       "      <th></th>\n",
       "      <th></th>\n",
       "      <th></th>\n",
       "    </tr>\n",
       "  </thead>\n",
       "  <tbody>\n",
       "    <tr>\n",
       "      <th>2014-12-31</th>\n",
       "      <td>166.912033</td>\n",
       "      <td>107.067566</td>\n",
       "      <td>32.408779</td>\n",
       "      <td>NaN</td>\n",
       "      <td>NaN</td>\n",
       "      <td>NaN</td>\n",
       "    </tr>\n",
       "    <tr>\n",
       "      <th>2015-01-02</th>\n",
       "      <td>167.411438</td>\n",
       "      <td>108.148643</td>\n",
       "      <td>32.347389</td>\n",
       "      <td>0.002992</td>\n",
       "      <td>0.010097</td>\n",
       "      <td>-0.001894</td>\n",
       "    </tr>\n",
       "    <tr>\n",
       "      <th>2015-01-05</th>\n",
       "      <td>162.184448</td>\n",
       "      <td>106.446938</td>\n",
       "      <td>32.347389</td>\n",
       "      <td>-0.031222</td>\n",
       "      <td>-0.015735</td>\n",
       "      <td>0.000000</td>\n",
       "    </tr>\n",
       "    <tr>\n",
       "      <th>2015-01-06</th>\n",
       "      <td>158.903549</td>\n",
       "      <td>104.151299</td>\n",
       "      <td>32.593006</td>\n",
       "      <td>-0.020229</td>\n",
       "      <td>-0.021566</td>\n",
       "      <td>0.007593</td>\n",
       "    </tr>\n",
       "    <tr>\n",
       "      <th>2015-01-07</th>\n",
       "      <td>161.271652</td>\n",
       "      <td>103.470589</td>\n",
       "      <td>32.999855</td>\n",
       "      <td>0.014903</td>\n",
       "      <td>-0.006536</td>\n",
       "      <td>0.012483</td>\n",
       "    </tr>\n",
       "  </tbody>\n",
       "</table>\n",
       "</div>"
      ],
      "text/plain": [
       "                GS_PRC      KO_PRC    IBM_PRC    GS_RET    KO_RET   IBM_RET\n",
       "Date                                                                       \n",
       "2014-12-31  166.912033  107.067566  32.408779       NaN       NaN       NaN\n",
       "2015-01-02  167.411438  108.148643  32.347389  0.002992  0.010097 -0.001894\n",
       "2015-01-05  162.184448  106.446938  32.347389 -0.031222 -0.015735  0.000000\n",
       "2015-01-06  158.903549  104.151299  32.593006 -0.020229 -0.021566  0.007593\n",
       "2015-01-07  161.271652  103.470589  32.999855  0.014903 -0.006536  0.012483"
      ]
     },
     "execution_count": 21,
     "metadata": {},
     "output_type": "execute_result"
    }
   ],
   "source": [
    "for ticker in ticker_list:\n",
    "    data3[ticker+'_RET'] = data3[ticker+'_PRC'].pct_change()\n",
    "data3.head()"
   ]
  },
  {
   "cell_type": "markdown",
   "metadata": {},
   "source": [
    "#### 3. Use the below provided random seed to generate an array of portfolio weights from the U(0,1) distribution."
   ]
  },
  {
   "cell_type": "code",
   "execution_count": 22,
   "metadata": {},
   "outputs": [
    {
     "name": "stdout",
     "output_type": "stream",
     "text": [
      "[0.48781685 0.04340129 0.46878185]\n"
     ]
    }
   ],
   "source": [
    "np.random.seed(500)\n",
    "weights = np.array(np.random.uniform(0,1,3))\n",
    "weights = weights / np.sum(weights)\n",
    "\n",
    "print(weights)"
   ]
  },
  {
   "cell_type": "markdown",
   "metadata": {},
   "source": [
    "#### 4. Create a new DataFrame labeled portfolios to store the return of a daily-rebalanced portfolio that invests in the three stocks according to the weights from question 3. Label the column 'DR_port_ret'."
   ]
  },
  {
   "cell_type": "code",
   "execution_count": 23,
   "metadata": {},
   "outputs": [],
   "source": [
    "portfolios = pd.DataFrame(index=data3.index)\n",
    "portfolios['DR_port_ret'] = np.dot(data3[['GS_RET','KO_RET','IBM_RET']], weights)\n",
    "#portfolios['DR_port_ret'] = np.dot(data3[[tick+'_RET' for tick in ticker_list]], weights)"
   ]
  },
  {
   "cell_type": "code",
   "execution_count": 24,
   "metadata": {},
   "outputs": [
    {
     "data": {
      "text/html": [
       "<div>\n",
       "<style scoped>\n",
       "    .dataframe tbody tr th:only-of-type {\n",
       "        vertical-align: middle;\n",
       "    }\n",
       "\n",
       "    .dataframe tbody tr th {\n",
       "        vertical-align: top;\n",
       "    }\n",
       "\n",
       "    .dataframe thead th {\n",
       "        text-align: right;\n",
       "    }\n",
       "</style>\n",
       "<table border=\"1\" class=\"dataframe\">\n",
       "  <thead>\n",
       "    <tr style=\"text-align: right;\">\n",
       "      <th></th>\n",
       "      <th>DR_port_ret</th>\n",
       "    </tr>\n",
       "    <tr>\n",
       "      <th>Date</th>\n",
       "      <th></th>\n",
       "    </tr>\n",
       "  </thead>\n",
       "  <tbody>\n",
       "    <tr>\n",
       "      <th>2014-12-31</th>\n",
       "      <td>NaN</td>\n",
       "    </tr>\n",
       "    <tr>\n",
       "      <th>2015-01-02</th>\n",
       "      <td>0.001010</td>\n",
       "    </tr>\n",
       "    <tr>\n",
       "      <th>2015-01-05</th>\n",
       "      <td>-0.015914</td>\n",
       "    </tr>\n",
       "    <tr>\n",
       "      <th>2015-01-06</th>\n",
       "      <td>-0.007245</td>\n",
       "    </tr>\n",
       "    <tr>\n",
       "      <th>2015-01-07</th>\n",
       "      <td>0.012838</td>\n",
       "    </tr>\n",
       "  </tbody>\n",
       "</table>\n",
       "</div>"
      ],
      "text/plain": [
       "            DR_port_ret\n",
       "Date                   \n",
       "2014-12-31          NaN\n",
       "2015-01-02     0.001010\n",
       "2015-01-05    -0.015914\n",
       "2015-01-06    -0.007245\n",
       "2015-01-07     0.012838"
      ]
     },
     "execution_count": 24,
     "metadata": {},
     "output_type": "execute_result"
    }
   ],
   "source": [
    "portfolios.head()"
   ]
  },
  {
   "cell_type": "markdown",
   "metadata": {
    "tags": []
   },
   "source": [
    "#### 5. Create a new column in the DataFrame portfolios to store the value of a $1 investment in the daily-rebalanced portfolio from question 4. Label the column 'DR_port_val'"
   ]
  },
  {
   "cell_type": "code",
   "execution_count": 27,
   "metadata": {},
   "outputs": [],
   "source": [
    "portfolios['DR_port_val'] = portfolios[['DR_port_ret']].apply(lambda x:x.add(1).cumprod())\n",
    "portfolios['DR_port_val'].iloc[0]=1"
   ]
  },
  {
   "cell_type": "code",
   "execution_count": 28,
   "metadata": {},
   "outputs": [
    {
     "data": {
      "text/html": [
       "<div>\n",
       "<style scoped>\n",
       "    .dataframe tbody tr th:only-of-type {\n",
       "        vertical-align: middle;\n",
       "    }\n",
       "\n",
       "    .dataframe tbody tr th {\n",
       "        vertical-align: top;\n",
       "    }\n",
       "\n",
       "    .dataframe thead th {\n",
       "        text-align: right;\n",
       "    }\n",
       "</style>\n",
       "<table border=\"1\" class=\"dataframe\">\n",
       "  <thead>\n",
       "    <tr style=\"text-align: right;\">\n",
       "      <th></th>\n",
       "      <th>DR_port_ret</th>\n",
       "      <th>DR_port_val</th>\n",
       "    </tr>\n",
       "    <tr>\n",
       "      <th>Date</th>\n",
       "      <th></th>\n",
       "      <th></th>\n",
       "    </tr>\n",
       "  </thead>\n",
       "  <tbody>\n",
       "    <tr>\n",
       "      <th>2014-12-31</th>\n",
       "      <td>NaN</td>\n",
       "      <td>1.000000</td>\n",
       "    </tr>\n",
       "    <tr>\n",
       "      <th>2015-01-02</th>\n",
       "      <td>0.001010</td>\n",
       "      <td>1.001010</td>\n",
       "    </tr>\n",
       "    <tr>\n",
       "      <th>2015-01-05</th>\n",
       "      <td>-0.015914</td>\n",
       "      <td>0.985080</td>\n",
       "    </tr>\n",
       "    <tr>\n",
       "      <th>2015-01-06</th>\n",
       "      <td>-0.007245</td>\n",
       "      <td>0.977943</td>\n",
       "    </tr>\n",
       "    <tr>\n",
       "      <th>2015-01-07</th>\n",
       "      <td>0.012838</td>\n",
       "      <td>0.990498</td>\n",
       "    </tr>\n",
       "  </tbody>\n",
       "</table>\n",
       "</div>"
      ],
      "text/plain": [
       "            DR_port_ret  DR_port_val\n",
       "Date                                \n",
       "2014-12-31          NaN     1.000000\n",
       "2015-01-02     0.001010     1.001010\n",
       "2015-01-05    -0.015914     0.985080\n",
       "2015-01-06    -0.007245     0.977943\n",
       "2015-01-07     0.012838     0.990498"
      ]
     },
     "execution_count": 28,
     "metadata": {},
     "output_type": "execute_result"
    }
   ],
   "source": [
    "portfolios.head()"
   ]
  },
  {
   "cell_type": "markdown",
   "metadata": {
    "tags": []
   },
   "source": [
    "#### 6. Create a new column in the DataFrame porfolios to store the value of a Buy and Hold strategy that invests $1 in three stocks according to the weights in question 3. Label the column 'BH_port_val'."
   ]
  },
  {
   "cell_type": "code",
   "execution_count": 29,
   "metadata": {},
   "outputs": [],
   "source": [
    "portfolios['BH_port_val'] = np.dot(data3[['GS_PRC','KO_PRC','IBM_PRC']]/data3[['GS_PRC','KO_PRC','IBM_PRC']].iloc[0], weights)\n",
    "#portfolios['BH_Port_val'] = np.dot(data3[[tick+'_PRC' for tick in ticker_list]]/data3[[tick+'_PRC' for tick in ticker_list]].iloc[0], weights)"
   ]
  },
  {
   "cell_type": "code",
   "execution_count": 30,
   "metadata": {},
   "outputs": [
    {
     "data": {
      "text/html": [
       "<div>\n",
       "<style scoped>\n",
       "    .dataframe tbody tr th:only-of-type {\n",
       "        vertical-align: middle;\n",
       "    }\n",
       "\n",
       "    .dataframe tbody tr th {\n",
       "        vertical-align: top;\n",
       "    }\n",
       "\n",
       "    .dataframe thead th {\n",
       "        text-align: right;\n",
       "    }\n",
       "</style>\n",
       "<table border=\"1\" class=\"dataframe\">\n",
       "  <thead>\n",
       "    <tr style=\"text-align: right;\">\n",
       "      <th></th>\n",
       "      <th>DR_port_ret</th>\n",
       "      <th>DR_port_val</th>\n",
       "      <th>BH_port_val</th>\n",
       "    </tr>\n",
       "    <tr>\n",
       "      <th>Date</th>\n",
       "      <th></th>\n",
       "      <th></th>\n",
       "      <th></th>\n",
       "    </tr>\n",
       "  </thead>\n",
       "  <tbody>\n",
       "    <tr>\n",
       "      <th>2014-12-31</th>\n",
       "      <td>NaN</td>\n",
       "      <td>1.000000</td>\n",
       "      <td>1.000000</td>\n",
       "    </tr>\n",
       "    <tr>\n",
       "      <th>2015-01-02</th>\n",
       "      <td>0.001010</td>\n",
       "      <td>1.001010</td>\n",
       "      <td>1.001010</td>\n",
       "    </tr>\n",
       "    <tr>\n",
       "      <th>2015-01-05</th>\n",
       "      <td>-0.015914</td>\n",
       "      <td>0.985080</td>\n",
       "      <td>0.985044</td>\n",
       "    </tr>\n",
       "    <tr>\n",
       "      <th>2015-01-06</th>\n",
       "      <td>-0.007245</td>\n",
       "      <td>0.977943</td>\n",
       "      <td>0.978077</td>\n",
       "    </tr>\n",
       "    <tr>\n",
       "      <th>2015-01-07</th>\n",
       "      <td>0.012838</td>\n",
       "      <td>0.990498</td>\n",
       "      <td>0.990607</td>\n",
       "    </tr>\n",
       "  </tbody>\n",
       "</table>\n",
       "</div>"
      ],
      "text/plain": [
       "            DR_port_ret  DR_port_val  BH_port_val\n",
       "Date                                             \n",
       "2014-12-31          NaN     1.000000     1.000000\n",
       "2015-01-02     0.001010     1.001010     1.001010\n",
       "2015-01-05    -0.015914     0.985080     0.985044\n",
       "2015-01-06    -0.007245     0.977943     0.978077\n",
       "2015-01-07     0.012838     0.990498     0.990607"
      ]
     },
     "execution_count": 30,
     "metadata": {},
     "output_type": "execute_result"
    }
   ],
   "source": [
    "portfolios.head()"
   ]
  },
  {
   "cell_type": "markdown",
   "metadata": {
    "tags": []
   },
   "source": [
    "#### 7. Create a new column in the DataFrame porfolios to store the return of the Buy and Hold strategy from question 6. Label the column 'BH_port_ret'."
   ]
  },
  {
   "cell_type": "code",
   "execution_count": 31,
   "metadata": {},
   "outputs": [],
   "source": [
    "portfolios['BH_port_ret'] = portfolios['BH_port_val'].pct_change()"
   ]
  },
  {
   "cell_type": "code",
   "execution_count": 32,
   "metadata": {},
   "outputs": [
    {
     "data": {
      "text/html": [
       "<div>\n",
       "<style scoped>\n",
       "    .dataframe tbody tr th:only-of-type {\n",
       "        vertical-align: middle;\n",
       "    }\n",
       "\n",
       "    .dataframe tbody tr th {\n",
       "        vertical-align: top;\n",
       "    }\n",
       "\n",
       "    .dataframe thead th {\n",
       "        text-align: right;\n",
       "    }\n",
       "</style>\n",
       "<table border=\"1\" class=\"dataframe\">\n",
       "  <thead>\n",
       "    <tr style=\"text-align: right;\">\n",
       "      <th></th>\n",
       "      <th>DR_port_ret</th>\n",
       "      <th>DR_port_val</th>\n",
       "      <th>BH_port_val</th>\n",
       "      <th>BH_port_ret</th>\n",
       "    </tr>\n",
       "    <tr>\n",
       "      <th>Date</th>\n",
       "      <th></th>\n",
       "      <th></th>\n",
       "      <th></th>\n",
       "      <th></th>\n",
       "    </tr>\n",
       "  </thead>\n",
       "  <tbody>\n",
       "    <tr>\n",
       "      <th>2014-12-31</th>\n",
       "      <td>NaN</td>\n",
       "      <td>1.000000</td>\n",
       "      <td>1.000000</td>\n",
       "      <td>NaN</td>\n",
       "    </tr>\n",
       "    <tr>\n",
       "      <th>2015-01-02</th>\n",
       "      <td>0.001010</td>\n",
       "      <td>1.001010</td>\n",
       "      <td>1.001010</td>\n",
       "      <td>0.001010</td>\n",
       "    </tr>\n",
       "    <tr>\n",
       "      <th>2015-01-05</th>\n",
       "      <td>-0.015914</td>\n",
       "      <td>0.985080</td>\n",
       "      <td>0.985044</td>\n",
       "      <td>-0.015950</td>\n",
       "    </tr>\n",
       "    <tr>\n",
       "      <th>2015-01-06</th>\n",
       "      <td>-0.007245</td>\n",
       "      <td>0.977943</td>\n",
       "      <td>0.978077</td>\n",
       "      <td>-0.007072</td>\n",
       "    </tr>\n",
       "    <tr>\n",
       "      <th>2015-01-07</th>\n",
       "      <td>0.012838</td>\n",
       "      <td>0.990498</td>\n",
       "      <td>0.990607</td>\n",
       "      <td>0.012811</td>\n",
       "    </tr>\n",
       "  </tbody>\n",
       "</table>\n",
       "</div>"
      ],
      "text/plain": [
       "            DR_port_ret  DR_port_val  BH_port_val  BH_port_ret\n",
       "Date                                                          \n",
       "2014-12-31          NaN     1.000000     1.000000          NaN\n",
       "2015-01-02     0.001010     1.001010     1.001010     0.001010\n",
       "2015-01-05    -0.015914     0.985080     0.985044    -0.015950\n",
       "2015-01-06    -0.007245     0.977943     0.978077    -0.007072\n",
       "2015-01-07     0.012838     0.990498     0.990607     0.012811"
      ]
     },
     "execution_count": 32,
     "metadata": {},
     "output_type": "execute_result"
    }
   ],
   "source": [
    "portfolios.head()"
   ]
  },
  {
   "cell_type": "markdown",
   "metadata": {},
   "source": [
    "#### 8. Compute each portfolio's annualized risk?"
   ]
  },
  {
   "cell_type": "code",
   "execution_count": 44,
   "metadata": {
    "scrolled": true
   },
   "outputs": [
    {
     "data": {
      "text/plain": [
       "DR_port_ret    0.205954\n",
       "BH_port_ret    0.203383\n",
       "dtype: float64"
      ]
     },
     "execution_count": 44,
     "metadata": {},
     "output_type": "execute_result"
    }
   ],
   "source": [
    "port_risk = portfolios[['DR_port_ret','BH_port_ret']].dropna().std()* np.sqrt(250)\n",
    "port_risk"
   ]
  },
  {
   "cell_type": "markdown",
   "metadata": {
    "tags": []
   },
   "source": [
    "#### 9. Compute the monthly returns for the two portfolios and store them in a new DataFrame labeled portfolios_mon."
   ]
  },
  {
   "cell_type": "code",
   "execution_count": 45,
   "metadata": {},
   "outputs": [
    {
     "data": {
      "text/html": [
       "<div>\n",
       "<style scoped>\n",
       "    .dataframe tbody tr th:only-of-type {\n",
       "        vertical-align: middle;\n",
       "    }\n",
       "\n",
       "    .dataframe tbody tr th {\n",
       "        vertical-align: top;\n",
       "    }\n",
       "\n",
       "    .dataframe thead th {\n",
       "        text-align: right;\n",
       "    }\n",
       "</style>\n",
       "<table border=\"1\" class=\"dataframe\">\n",
       "  <thead>\n",
       "    <tr style=\"text-align: right;\">\n",
       "      <th></th>\n",
       "      <th>DR_port_ret</th>\n",
       "      <th>BH_port_ret</th>\n",
       "    </tr>\n",
       "    <tr>\n",
       "      <th>Date</th>\n",
       "      <th></th>\n",
       "      <th></th>\n",
       "    </tr>\n",
       "  </thead>\n",
       "  <tbody>\n",
       "    <tr>\n",
       "      <th>2015-01-31</th>\n",
       "      <td>-0.067957</td>\n",
       "      <td>-0.067495</td>\n",
       "    </tr>\n",
       "    <tr>\n",
       "      <th>2015-02-28</th>\n",
       "      <td>0.078072</td>\n",
       "      <td>0.076710</td>\n",
       "    </tr>\n",
       "    <tr>\n",
       "      <th>2015-03-31</th>\n",
       "      <td>-0.031160</td>\n",
       "      <td>-0.031658</td>\n",
       "    </tr>\n",
       "    <tr>\n",
       "      <th>2015-04-30</th>\n",
       "      <td>0.025022</td>\n",
       "      <td>0.025081</td>\n",
       "    </tr>\n",
       "    <tr>\n",
       "      <th>2015-05-31</th>\n",
       "      <td>0.030270</td>\n",
       "      <td>0.030774</td>\n",
       "    </tr>\n",
       "  </tbody>\n",
       "</table>\n",
       "</div>"
      ],
      "text/plain": [
       "            DR_port_ret  BH_port_ret\n",
       "Date                                \n",
       "2015-01-31    -0.067957    -0.067495\n",
       "2015-02-28     0.078072     0.076710\n",
       "2015-03-31    -0.031160    -0.031658\n",
       "2015-04-30     0.025022     0.025081\n",
       "2015-05-31     0.030270     0.030774"
      ]
     },
     "execution_count": 45,
     "metadata": {},
     "output_type": "execute_result"
    }
   ],
   "source": [
    "portfolios_mon = portfolios[['DR_port_ret','BH_port_ret']].dropna().resample(rule='M').apply(lambda x: x.add(1).prod().sub(1))\n",
    "portfolios_mon.head()"
   ]
  },
  {
   "cell_type": "markdown",
   "metadata": {},
   "source": [
    "#### 10. Compute each portfolio's Sharpe ratio"
   ]
  },
  {
   "cell_type": "code",
   "execution_count": 39,
   "metadata": {},
   "outputs": [
    {
     "data": {
      "text/html": [
       "<div>\n",
       "<style scoped>\n",
       "    .dataframe tbody tr th:only-of-type {\n",
       "        vertical-align: middle;\n",
       "    }\n",
       "\n",
       "    .dataframe tbody tr th {\n",
       "        vertical-align: top;\n",
       "    }\n",
       "\n",
       "    .dataframe thead th {\n",
       "        text-align: right;\n",
       "    }\n",
       "</style>\n",
       "<table border=\"1\" class=\"dataframe\">\n",
       "  <thead>\n",
       "    <tr style=\"text-align: right;\">\n",
       "      <th></th>\n",
       "      <th>RF</th>\n",
       "    </tr>\n",
       "    <tr>\n",
       "      <th>Date</th>\n",
       "      <th></th>\n",
       "    </tr>\n",
       "  </thead>\n",
       "  <tbody>\n",
       "    <tr>\n",
       "      <th>2014-12-31</th>\n",
       "      <td>0.0</td>\n",
       "    </tr>\n",
       "    <tr>\n",
       "      <th>2015-01-31</th>\n",
       "      <td>0.0</td>\n",
       "    </tr>\n",
       "    <tr>\n",
       "      <th>2015-02-28</th>\n",
       "      <td>0.0</td>\n",
       "    </tr>\n",
       "    <tr>\n",
       "      <th>2015-03-31</th>\n",
       "      <td>0.0</td>\n",
       "    </tr>\n",
       "    <tr>\n",
       "      <th>2015-04-30</th>\n",
       "      <td>0.0</td>\n",
       "    </tr>\n",
       "  </tbody>\n",
       "</table>\n",
       "</div>"
      ],
      "text/plain": [
       "             RF\n",
       "Date           \n",
       "2014-12-31  0.0\n",
       "2015-01-31  0.0\n",
       "2015-02-28  0.0\n",
       "2015-03-31  0.0\n",
       "2015-04-30  0.0"
      ]
     },
     "execution_count": 39,
     "metadata": {},
     "output_type": "execute_result"
    }
   ],
   "source": [
    "rf = web.DataReader('F-F_Research_Data_Factors','famafrench', start, end)[0][['RF']]/100\n",
    "rf.index = rf.index.to_timestamp(how='end').normalize()\n",
    "rf.head()"
   ]
  },
  {
   "cell_type": "code",
   "execution_count": 40,
   "metadata": {},
   "outputs": [
    {
     "data": {
      "text/html": [
       "<div>\n",
       "<style scoped>\n",
       "    .dataframe tbody tr th:only-of-type {\n",
       "        vertical-align: middle;\n",
       "    }\n",
       "\n",
       "    .dataframe tbody tr th {\n",
       "        vertical-align: top;\n",
       "    }\n",
       "\n",
       "    .dataframe thead th {\n",
       "        text-align: right;\n",
       "    }\n",
       "</style>\n",
       "<table border=\"1\" class=\"dataframe\">\n",
       "  <thead>\n",
       "    <tr style=\"text-align: right;\">\n",
       "      <th></th>\n",
       "      <th>DR_port_ret</th>\n",
       "      <th>BH_port_ret</th>\n",
       "      <th>RF</th>\n",
       "      <th>DR_ex_ret</th>\n",
       "      <th>BH_ex_ret</th>\n",
       "    </tr>\n",
       "    <tr>\n",
       "      <th>Date</th>\n",
       "      <th></th>\n",
       "      <th></th>\n",
       "      <th></th>\n",
       "      <th></th>\n",
       "      <th></th>\n",
       "    </tr>\n",
       "  </thead>\n",
       "  <tbody>\n",
       "    <tr>\n",
       "      <th>2015-01-31</th>\n",
       "      <td>-0.067957</td>\n",
       "      <td>-0.067495</td>\n",
       "      <td>0.0</td>\n",
       "      <td>-0.067957</td>\n",
       "      <td>-0.067495</td>\n",
       "    </tr>\n",
       "    <tr>\n",
       "      <th>2015-02-28</th>\n",
       "      <td>0.078072</td>\n",
       "      <td>0.076710</td>\n",
       "      <td>0.0</td>\n",
       "      <td>0.078072</td>\n",
       "      <td>0.076710</td>\n",
       "    </tr>\n",
       "    <tr>\n",
       "      <th>2015-03-31</th>\n",
       "      <td>-0.031160</td>\n",
       "      <td>-0.031658</td>\n",
       "      <td>0.0</td>\n",
       "      <td>-0.031160</td>\n",
       "      <td>-0.031658</td>\n",
       "    </tr>\n",
       "    <tr>\n",
       "      <th>2015-04-30</th>\n",
       "      <td>0.025022</td>\n",
       "      <td>0.025081</td>\n",
       "      <td>0.0</td>\n",
       "      <td>0.025022</td>\n",
       "      <td>0.025081</td>\n",
       "    </tr>\n",
       "    <tr>\n",
       "      <th>2015-05-31</th>\n",
       "      <td>0.030270</td>\n",
       "      <td>0.030774</td>\n",
       "      <td>0.0</td>\n",
       "      <td>0.030270</td>\n",
       "      <td>0.030774</td>\n",
       "    </tr>\n",
       "  </tbody>\n",
       "</table>\n",
       "</div>"
      ],
      "text/plain": [
       "            DR_port_ret  BH_port_ret   RF  DR_ex_ret  BH_ex_ret\n",
       "Date                                                           \n",
       "2015-01-31    -0.067957    -0.067495  0.0  -0.067957  -0.067495\n",
       "2015-02-28     0.078072     0.076710  0.0   0.078072   0.076710\n",
       "2015-03-31    -0.031160    -0.031658  0.0  -0.031160  -0.031658\n",
       "2015-04-30     0.025022     0.025081  0.0   0.025022   0.025081\n",
       "2015-05-31     0.030270     0.030774  0.0   0.030270   0.030774"
      ]
     },
     "execution_count": 40,
     "metadata": {},
     "output_type": "execute_result"
    }
   ],
   "source": [
    "data = pd.merge(portfolios_mon, rf, on = 'Date')\n",
    "data['DR_ex_ret'] = data['DR_port_ret'] - data['RF']\n",
    "data['BH_ex_ret'] = data['BH_port_ret'] - data['RF']\n",
    "data.head()"
   ]
  },
  {
   "cell_type": "code",
   "execution_count": 41,
   "metadata": {},
   "outputs": [
    {
     "data": {
      "text/plain": [
       "DR_ex_ret    0.539087\n",
       "BH_ex_ret    0.494989\n",
       "dtype: float64"
      ]
     },
     "execution_count": 41,
     "metadata": {},
     "output_type": "execute_result"
    }
   ],
   "source": [
    "SR_port = (data[['DR_ex_ret','BH_ex_ret']].mean()*12)/(data[['DR_ex_ret','BH_ex_ret']].std()*np.sqrt(12))\n",
    "SR_port"
   ]
  },
  {
   "cell_type": "code",
   "execution_count": 42,
   "metadata": {},
   "outputs": [
    {
     "data": {
      "text/plain": [
       "DR_ex_ret    0.539087\n",
       "BH_ex_ret    0.494989\n",
       "dtype: float64"
      ]
     },
     "execution_count": 42,
     "metadata": {},
     "output_type": "execute_result"
    }
   ],
   "source": [
    "SR_port = (data[[i+'_ex_ret' for i in(['DR','BH'])]].mean()*12)/(data[[i+'_ex_ret' for i in(['DR','BH'])]].std()*np.sqrt(12))\n",
    "SR_port"
   ]
  },
  {
   "cell_type": "code",
   "execution_count": null,
   "metadata": {},
   "outputs": [],
   "source": []
  }
 ],
 "metadata": {
  "anaconda-cloud": {},
  "kernelspec": {
   "display_name": "Python 3 (ipykernel)",
   "language": "python",
   "name": "python3"
  },
  "language_info": {
   "codemirror_mode": {
    "name": "ipython",
    "version": 3
   },
   "file_extension": ".py",
   "mimetype": "text/x-python",
   "name": "python",
   "nbconvert_exporter": "python",
   "pygments_lexer": "ipython3",
   "version": "3.8.13"
  }
 },
 "nbformat": 4,
 "nbformat_minor": 4
}
