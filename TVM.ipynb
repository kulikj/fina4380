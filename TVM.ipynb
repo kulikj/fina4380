{
 "cells": [
  {
   "cell_type": "markdown",
   "metadata": {},
   "source": [
    "### FINA 4380 with Marius Popescu"
   ]
  },
  {
   "cell_type": "markdown",
   "metadata": {
    "tags": []
   },
   "source": [
    "### 1. Time Value of Money"
   ]
  },
  {
   "cell_type": "markdown",
   "metadata": {},
   "source": [
    "#### Define a function that calculates the present value of a future amount. Use the future amount, the annual rate and the number of years as parameters."
   ]
  },
  {
   "cell_type": "markdown",
   "metadata": {},
   "source": [
    "$PV_0 = \\frac{AMT_N}{(1+rate)^N}$"
   ]
  },
  {
   "cell_type": "code",
   "execution_count": 1,
   "metadata": {},
   "outputs": [],
   "source": [
    "def PV(amt,drate,years):\n",
    "    \"\"\"This function computes the present value of a lump sum. The discount rate should be input as percentage\"\"\"\n",
    "    drate=drate/100\n",
    "    pv = amt/(1 + drate)**years\n",
    "    return pv"
   ]
  },
  {
   "cell_type": "code",
   "execution_count": 2,
   "metadata": {},
   "outputs": [
    {
     "data": {
      "text/plain": [
       "75991.78132020633"
      ]
     },
     "execution_count": 2,
     "metadata": {},
     "output_type": "execute_result"
    }
   ],
   "source": [
    "# Use the above-defined function to find the value of $100,000,\n",
    "# expected in 7 years, at an annual interest rate of 4%.\n",
    "#PV(amt=100_000,drate=4,years=7)\n",
    "PV(100_000,4,7)"
   ]
  },
  {
   "cell_type": "markdown",
   "metadata": {},
   "source": [
    "### 2. Annuities"
   ]
  },
  {
   "cell_type": "markdown",
   "metadata": {},
   "source": [
    "An **annuity** is a level stream of payments that lasts for a fixed number of periods."
   ]
  },
  {
   "cell_type": "markdown",
   "metadata": {},
   "source": [
    "$PV Ordinary Annuity = \\sum_{i=1}^{N}\\frac{PMT}{(1+rate)^i}$"
   ]
  },
  {
   "cell_type": "markdown",
   "metadata": {},
   "source": [
    "#### Define a function that calculates the present value of an ordinary annuity. Use the annual payment, the annual discount rate and the number of years as parameters."
   ]
  },
  {
   "cell_type": "code",
   "execution_count": 3,
   "metadata": {},
   "outputs": [],
   "source": [
    "# PV of ordinary annuity\n",
    "def pv_ord_annuity(pmt,drate,years):\n",
    "    pv_ann=0\n",
    "    drate=drate/100\n",
    "    for yr in range(1,years+1):\n",
    "        pv_ann=pv_ann+pmt/((1+drate)**yr)\n",
    "    return pv_ann"
   ]
  },
  {
   "cell_type": "code",
   "execution_count": 4,
   "metadata": {},
   "outputs": [
    {
     "data": {
      "text/plain": [
       "490907.3703724643"
      ]
     },
     "execution_count": 4,
     "metadata": {},
     "output_type": "execute_result"
    }
   ],
   "source": [
    "# Use the above-defined function to find the present value of $50,000 \n",
    "# for each of the next 20 years, at an annual interest rate of 8%.\n",
    "pv_ord_annuity(50_000,8,20)"
   ]
  },
  {
   "cell_type": "markdown",
   "metadata": {},
   "source": [
    "### 3. Growing Annuities"
   ]
  },
  {
   "cell_type": "markdown",
   "metadata": {},
   "source": [
    "A **growing annuity** is a stream of growing payments, that lasts for a fixed number of periods."
   ]
  },
  {
   "cell_type": "markdown",
   "metadata": {},
   "source": [
    "$PV Growing Annuity = \\sum_{i=1}^{N}PMT*\\frac{(1+grate)^{i-1}}{(1+drate)^i}$"
   ]
  },
  {
   "cell_type": "markdown",
   "metadata": {},
   "source": [
    "#### Define a function that calculates the present value of a growing annuity. Use the first payment (@ Year 1), the annual growth rate, the annual discount rate and the total number of payments as parameters."
   ]
  },
  {
   "cell_type": "code",
   "execution_count": 5,
   "metadata": {},
   "outputs": [],
   "source": [
    "def gr_annuity(pmt,grate,drate,years):\n",
    "    pv_grann=0\n",
    "    grate=grate/100\n",
    "    drate=drate/100\n",
    "    for yr in range(1,years+1):\n",
    "        pv_grann=pv_grann+pmt*(1+grate)**(yr-1)/(1+drate)**yr\n",
    "    return pv_grann"
   ]
  },
  {
   "cell_type": "code",
   "execution_count": 6,
   "metadata": {},
   "outputs": [
    {
     "data": {
      "text/plain": [
       "711730.710348095"
      ]
     },
     "execution_count": 6,
     "metadata": {},
     "output_type": "execute_result"
    }
   ],
   "source": [
    "# Use the above-defined function to find the present value of a next year payment of $80,000,\n",
    "# which is expected to grow at 9% per year for each of the following 39 years.\n",
    "# Assume the annual interest rate is 20%.\n",
    "gr_annuity(80_000,9,20,40)"
   ]
  },
  {
   "cell_type": "markdown",
   "metadata": {},
   "source": [
    "### 4. Bond Valuation"
   ]
  },
  {
   "cell_type": "markdown",
   "metadata": {},
   "source": [
    "#### Define a function to compute the price of an annual coupon paying bond. Use the annual coupon rate, the annual yield to maturity (YTM) and the number of years to maturity as parameters."
   ]
  },
  {
   "cell_type": "markdown",
   "metadata": {},
   "source": [
    "$Bond price = \\sum_{i=1}^{N}\\frac{Coupon}{(1+YTM)^i}+\\frac{Face Value_N}{(1+YTM)^N}$"
   ]
  },
  {
   "cell_type": "code",
   "execution_count": 7,
   "metadata": {},
   "outputs": [],
   "source": [
    "def ann_bond(fv,crate,ytm,years):\n",
    "    prc=0\n",
    "    crate=crate/100\n",
    "    ytm=ytm/100\n",
    "    for yr in range(1,years+1):\n",
    "         prc=prc+(fv*crate)/((1+ytm)**yr)\n",
    "    prc = prc+fv/((1+ytm)**years)\n",
    "    return prc"
   ]
  },
  {
   "cell_type": "code",
   "execution_count": 8,
   "metadata": {},
   "outputs": [
    {
     "data": {
      "text/plain": [
       "892.2142119670257"
      ]
     },
     "execution_count": 8,
     "metadata": {},
     "output_type": "execute_result"
    }
   ],
   "source": [
    "# Use the function to find the price of an annual coupon-paying bond\n",
    "# with a face value of $1,000, an annual coupon rate of 5%,\n",
    "# an annual yield to maturity of 7% and with 7 years left til maturity.\n",
    "ann_bond(1_000,5,7,7)"
   ]
  },
  {
   "cell_type": "code",
   "execution_count": 9,
   "metadata": {},
   "outputs": [],
   "source": [
    "def semi_bond(fv,crate,ytm,years):\n",
    "    prc=0\n",
    "    s_crate=0.5*crate/100\n",
    "    s_ytm=0.5*ytm/100\n",
    "    for yr in range(1,2*years+1):\n",
    "         prc=prc+(fv*s_crate)/((1+s_ytm)**yr)\n",
    "    prc = prc+fv/((1+s_ytm)**(2*years))\n",
    "    return prc"
   ]
  },
  {
   "cell_type": "code",
   "execution_count": 10,
   "metadata": {},
   "outputs": [
    {
     "data": {
      "text/plain": [
       "890.7947972219072"
      ]
     },
     "execution_count": 10,
     "metadata": {},
     "output_type": "execute_result"
    }
   ],
   "source": [
    "# Use the function to find the price of a semi-annual coupon-paying bond\n",
    "# with a face value of $1,000, an annual coupon rate of 5%,\n",
    "# an annual yield to maturity of 7% and with 7 years left til maturity.\n",
    "semi_bond(1_000,5,7,7)"
   ]
  },
  {
   "cell_type": "markdown",
   "metadata": {},
   "source": [
    "### 5. Stock Valuation"
   ]
  },
  {
   "cell_type": "markdown",
   "metadata": {},
   "source": [
    "#### Define a function that computes the price of stock using a list of expected annual dividends and a terminal value (future value)."
   ]
  },
  {
   "cell_type": "markdown",
   "metadata": {},
   "source": [
    "$Stock price = \\sum_{i=1}^{N}\\frac{Dividend_i}{(1+drate)^i}+\\frac{Terminal Value_N}{(1+drate)^N}$"
   ]
  },
  {
   "cell_type": "code",
   "execution_count": 11,
   "metadata": {},
   "outputs": [],
   "source": [
    "def stock_prc(divs,drate,tvalue):\n",
    "    prc=0\n",
    "    drate=drate/100\n",
    "    count=1\n",
    "    for div in divs:\n",
    "        prc = prc+div/((1+drate)**count)\n",
    "        count=count+1\n",
    "    prc = prc+tvalue/((1+drate)**len(divs))\n",
    "    return prc"
   ]
  },
  {
   "cell_type": "code",
   "execution_count": 12,
   "metadata": {},
   "outputs": [],
   "source": [
    "# Use the above-defined function to find the price of stock that is expected to pay annual\n",
    "# dividends in the amounts listed below, and is further expected to trade at a price equal\n",
    "# to the terminal value at the end of the dividend-paying period.\n",
    "# Assume a discount rate of 5%."
   ]
  },
  {
   "cell_type": "code",
   "execution_count": 13,
   "metadata": {},
   "outputs": [],
   "source": [
    "divs = [0.15,0.18,0.20,0.20]\n",
    "tvalue = 70 "
   ]
  },
  {
   "cell_type": "code",
   "execution_count": 14,
   "metadata": {},
   "outputs": [
    {
     "data": {
      "text/plain": [
       "58.232603699075995"
      ]
     },
     "execution_count": 14,
     "metadata": {},
     "output_type": "execute_result"
    }
   ],
   "source": [
    "stock_prc(divs,5,tvalue)"
   ]
  },
  {
   "cell_type": "markdown",
   "metadata": {},
   "source": [
    "### 6. Net Present Value"
   ]
  },
  {
   "cell_type": "markdown",
   "metadata": {},
   "source": [
    "$NPV = CF_0+\\sum_{i=1}^{N}\\frac{CF_1}{(1+drate)^i}+...+\\frac{CF_N}{(1+drate)^N}+\\frac{Terminal Value_N}{(1+drate)^N}$"
   ]
  },
  {
   "cell_type": "markdown",
   "metadata": {},
   "source": [
    "#### Define a function that calculates the net present value of a project. Use the list of cashflows, the terminal value and the annual discount rate as parameters."
   ]
  },
  {
   "cell_type": "code",
   "execution_count": 15,
   "metadata": {},
   "outputs": [],
   "source": [
    "def npv(cfs,tvalue,drate):\n",
    "    npv=0\n",
    "    drate=drate/100\n",
    "    count = 0\n",
    "    for cf in cfs:\n",
    "        npv = npv+cf/((1+drate)**count)\n",
    "        count = count+1\n",
    "    npv = npv + tvalue/(1+drate)**(len(cfs)-1)\n",
    "    return npv"
   ]
  },
  {
   "cell_type": "code",
   "execution_count": 16,
   "metadata": {},
   "outputs": [],
   "source": [
    "# Use the above-defined function to compute the NPV of the below-defined list of annual cash flows.\n",
    "# Assume a discount rate of 4%."
   ]
  },
  {
   "cell_type": "code",
   "execution_count": 17,
   "metadata": {},
   "outputs": [],
   "source": [
    "cfs = [-1000,200,300,350]\n",
    "tvalue=750"
   ]
  },
  {
   "cell_type": "code",
   "execution_count": 18,
   "metadata": {},
   "outputs": [
    {
     "data": {
      "text/plain": [
       "447.57055075102403"
      ]
     },
     "execution_count": 18,
     "metadata": {},
     "output_type": "execute_result"
    }
   ],
   "source": [
    "npv(cfs,tvalue,4)"
   ]
  }
 ],
 "metadata": {
  "kernelspec": {
   "display_name": "Python 3 (ipykernel)",
   "language": "python",
   "name": "python3"
  },
  "language_info": {
   "codemirror_mode": {
    "name": "ipython",
    "version": 3
   },
   "file_extension": ".py",
   "mimetype": "text/x-python",
   "name": "python",
   "nbconvert_exporter": "python",
   "pygments_lexer": "ipython3",
   "version": "3.8.13"
  }
 },
 "nbformat": 4,
 "nbformat_minor": 4
}
