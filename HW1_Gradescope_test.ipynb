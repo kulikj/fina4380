{
 "cells": [
  {
   "cell_type": "code",
   "execution_count": 1,
   "metadata": {
    "deletable": false,
    "editable": false
   },
   "outputs": [],
   "source": [
    "# Initialize Otter\n",
    "import otter\n",
    "grader = otter.Notebook(\"HW1_Gradescope.ipynb\")"
   ]
  },
  {
   "cell_type": "markdown",
   "metadata": {},
   "source": [
    "# Homework 1"
   ]
  },
  {
   "cell_type": "markdown",
   "metadata": {},
   "source": [
    "## Instructions\n",
    "\n",
    "1. Do not move or rename the included files. If you move or rename files or folders, the local and Gradescope autograders will not work.\n",
    "1. Refer to files and variables exactly as they appear. Python is case-sensitive, so `df` and `DF` are different variables.\n",
    "1. After you answer a question, you may run its public tests.\n",
    "1. After you answer every question:\n",
    "    1. Restart your kernel\n",
    "    1. Run up to the last cell\n",
    "    1. Save your notebook\n",
    "    1. Run the last cell, which creates the .zip file for Gradescope in the same folder as this notebook\n",
    "    1. Upload the .zip file to Gradescope\n",
    "    1. Make sure your local autograder results match your Gradescope autograder results\n",
    "1. ***The public tests ensure your answers are formatted correctly but do not ensure your answers are correct.***\n",
    "1. Gradescope runs hidden tests in addition to the public tests but does not reveal public test results until after the due date. Your grade will be \"~/100\" until after the due date."
   ]
  },
  {
   "cell_type": "markdown",
   "metadata": {},
   "source": [
    "## Packages"
   ]
  },
  {
   "cell_type": "code",
   "execution_count": 2,
   "metadata": {
    "scrolled": true
   },
   "outputs": [],
   "source": [
    "import numpy as np"
   ]
  },
  {
   "cell_type": "markdown",
   "metadata": {},
   "source": [
    "## Questions"
   ]
  },
  {
   "cell_type": "markdown",
   "metadata": {},
   "source": [
    "---"
   ]
  },
  {
   "cell_type": "markdown",
   "metadata": {},
   "source": [
    "<!-- BEGIN QUESTION -->\n",
    "\n",
    "#### 1. Use a ***for loop*** and an ***if statement*** to print out all the three letter words that end with 'e' in the following string.\n",
    "\n",
    "_Points:_ 10"
   ]
  },
  {
   "cell_type": "code",
   "execution_count": 3,
   "metadata": {},
   "outputs": [],
   "source": [
    "string = 'You are welcome to attend the opening of the new hockey season at TD Garden.'"
   ]
  },
  {
   "cell_type": "code",
   "execution_count": 4,
   "metadata": {
    "scrolled": true,
    "tags": []
   },
   "outputs": [
    {
     "name": "stdout",
     "output_type": "stream",
     "text": [
      "are\n",
      "the\n",
      "the\n"
     ]
    }
   ],
   "source": [
    "for str in string.split(' '):\n",
    "    if str[-1].lower() == 'e' and len(str) == 3:\n",
    "        print(str)"
   ]
  },
  {
   "cell_type": "markdown",
   "metadata": {},
   "source": [
    "<!-- END QUESTION -->\n",
    "\n",
    "---"
   ]
  },
  {
   "cell_type": "markdown",
   "metadata": {},
   "source": [
    "#### 2. Define a function labeled **counter** that counts the number of words in a string. A word is defined as a string with at least two characters.\n",
    "\n",
    "_Points:_ 10"
   ]
  },
  {
   "cell_type": "code",
   "execution_count": 5,
   "metadata": {
    "tags": []
   },
   "outputs": [],
   "source": [
    "def counter(str):\n",
    "    ''' counts the number of words in a str\n",
    "    parameters: str - string\n",
    "    returns: number of words in a string\n",
    "    '''\n",
    "    split = str.split(' ')\n",
    "    words = []\n",
    "    for word in split:\n",
    "        if len(word) >= 2:\n",
    "            words.append(word)\n",
    "        \n",
    "    return len(words)"
   ]
  },
  {
   "cell_type": "code",
   "execution_count": 6,
   "metadata": {
    "deletable": false,
    "editable": false
   },
   "outputs": [
    {
     "data": {
      "text/html": [
       "<p><strong><pre style='display: inline;'>q2</pre></strong> passed! 🎉</p><p><strong><pre style='display: inline;'>q2 - 1</pre> message:</strong> counter is properly defined (+5 pts)</p><p><strong><pre style='display: inline;'>q2 - 2</pre> message:</strong> the counter function provides the right answer (+5 pts)</p>"
      ],
      "text/plain": [
       "q2 results: All test cases passed!\n",
       "q2 - 1 message: counter is properly defined (+5 pts)\n",
       "q2 - 2 message: the counter function provides the right answer (+5 pts)"
      ]
     },
     "execution_count": 6,
     "metadata": {},
     "output_type": "execute_result"
    }
   ],
   "source": [
    "grader.check(\"q2\")"
   ]
  },
  {
   "cell_type": "markdown",
   "metadata": {},
   "source": [
    "---"
   ]
  },
  {
   "cell_type": "markdown",
   "metadata": {},
   "source": [
    "<!-- BEGIN QUESTION -->\n",
    "\n",
    "#### 3. Use the below-defined list and a lambda function to create a new list labeled **new_lst** of strings such that each string's characters must be in lower case and sorted in reverse order \n",
    "\n",
    "_Points:_ 10"
   ]
  },
  {
   "cell_type": "code",
   "execution_count": 7,
   "metadata": {},
   "outputs": [],
   "source": [
    "tickers3 = [\"IBM\", \"AAPL\", \"FB\", \"MCD\", \"WMT\", \"GOOGL\"]"
   ]
  },
  {
   "cell_type": "code",
   "execution_count": 8,
   "metadata": {
    "scrolled": true,
    "tags": []
   },
   "outputs": [
    {
     "data": {
      "text/plain": [
       "['mbi', 'lpaa', 'bf', 'dcm', 'tmw', 'lgoog']"
      ]
     },
     "execution_count": 8,
     "metadata": {},
     "output_type": "execute_result"
    }
   ],
   "source": [
    "# lowering, then reversing\n",
    "new_ls = list(map(lambda ticker: ticker[::-1].lower(), tickers3))\n",
    "new_ls"
   ]
  },
  {
   "cell_type": "markdown",
   "metadata": {},
   "source": [
    "<!-- END QUESTION -->\n",
    "\n",
    "---"
   ]
  },
  {
   "cell_type": "markdown",
   "metadata": {},
   "source": [
    "<!-- BEGIN QUESTION -->\n",
    "\n",
    "#### 4. Use the following list and the *filter ()* function to create another list, such that each element's length is a multiple of three.\n",
    "\n",
    "_Points:_ 10"
   ]
  },
  {
   "cell_type": "code",
   "execution_count": 9,
   "metadata": {},
   "outputs": [],
   "source": [
    "tickers4 = [\"IBM\", \"AAPL\", \"FB\", \"MCD\", \"GOOGL\", \"M\", ]"
   ]
  },
  {
   "cell_type": "code",
   "execution_count": 10,
   "metadata": {
    "scrolled": true,
    "tags": []
   },
   "outputs": [
    {
     "data": {
      "text/plain": [
       "['IBM', 'MCD']"
      ]
     },
     "execution_count": 10,
     "metadata": {},
     "output_type": "execute_result"
    }
   ],
   "source": [
    "# finding length mod 3 tickers\n",
    "new_ls = list(filter(lambda ticker: len(ticker) % 3 == 0, tickers4))\n",
    "new_ls"
   ]
  },
  {
   "cell_type": "markdown",
   "metadata": {},
   "source": [
    "<!-- END QUESTION -->\n",
    "\n",
    "---"
   ]
  },
  {
   "cell_type": "markdown",
   "metadata": {},
   "source": [
    "#### 5. Define a function labeled **fv_ann_due** that calculates the future value of an annuity due. Use the payment, the annual discount rate and the number of payments as parameters."
   ]
  },
  {
   "cell_type": "markdown",
   "metadata": {},
   "source": [
    "$FV Annuity Due = \\sum_{i=0}^{N-1}PMT*{(1+rate)^i}$\n",
    "\n",
    "_Points:_ 10"
   ]
  },
  {
   "cell_type": "code",
   "execution_count": 11,
   "metadata": {
    "tags": []
   },
   "outputs": [],
   "source": [
    "def fv_ann_due(payment, rate, num_p):\n",
    "    ''' calculating the future value of an annuity due\n",
    "    parameters - payment, annual discount rate, num_p -> ints\n",
    "    returns - the float val, rounded to 10 decimals\n",
    "    '''\n",
    "    summation = 0\n",
    "    # going through iteration\n",
    "    for i in range(num_p):\n",
    "        summation += payment * (1 + rate / 100) ** (i + 1)\n",
    "    return round(summation, 10)"
   ]
  },
  {
   "cell_type": "code",
   "execution_count": 12,
   "metadata": {
    "deletable": false,
    "editable": false
   },
   "outputs": [
    {
     "data": {
      "text/html": [
       "<p><strong><pre style='display: inline;'>q5</pre></strong> passed! ✨</p><p><strong><pre style='display: inline;'>q5 - 1</pre> message:</strong> fv_ann_due is properly defined (+5 pts)</p><p><strong><pre style='display: inline;'>q5 - 2</pre> message:</strong> the fv_ann_due function provides the right answer (+5 pts)</p>"
      ],
      "text/plain": [
       "q5 results: All test cases passed!\n",
       "q5 - 1 message: fv_ann_due is properly defined (+5 pts)\n",
       "q5 - 2 message: the fv_ann_due function provides the right answer (+5 pts)"
      ]
     },
     "execution_count": 12,
     "metadata": {},
     "output_type": "execute_result"
    }
   ],
   "source": [
    "grader.check(\"q5\")"
   ]
  },
  {
   "cell_type": "markdown",
   "metadata": {},
   "source": [
    "---"
   ]
  },
  {
   "cell_type": "markdown",
   "metadata": {
    "tags": []
   },
   "source": [
    "#### 6. Set the random seed at 1000, and generate a 6x6 array of random integers in the interval [10,1000]. Store the array in a variable named *arr6*.\n",
    "\n",
    "_Points:_ 10"
   ]
  },
  {
   "cell_type": "code",
   "execution_count": 13,
   "metadata": {
    "tags": []
   },
   "outputs": [],
   "source": [
    "import numpy as np\n",
    "np.random.seed(1000)\n",
    "arr6 = np.random.randint(10, 1001, (6, 6))"
   ]
  },
  {
   "cell_type": "code",
   "execution_count": 14,
   "metadata": {
    "deletable": false,
    "editable": false
   },
   "outputs": [
    {
     "data": {
      "text/html": [
       "<p><strong><pre style='display: inline;'>q6</pre></strong> passed! 🙌</p><p><strong><pre style='display: inline;'>q6 - 1</pre> message:</strong> arr6 has the correct shape (+5 pts)</p><p><strong><pre style='display: inline;'>q6 - 2</pre> message:</strong> arr6 has the correct values (+5 pts)</p>"
      ],
      "text/plain": [
       "q6 results: All test cases passed!\n",
       "q6 - 1 message: arr6 has the correct shape (+5 pts)\n",
       "q6 - 2 message: arr6 has the correct values (+5 pts)"
      ]
     },
     "execution_count": 14,
     "metadata": {},
     "output_type": "execute_result"
    }
   ],
   "source": [
    "grader.check(\"q6\")"
   ]
  },
  {
   "cell_type": "markdown",
   "metadata": {},
   "source": [
    "---"
   ]
  },
  {
   "cell_type": "markdown",
   "metadata": {},
   "source": [
    "#### 7. Create a variable labeled *arr7* to store the mean of the elements in each column in the array at the intersection (slice) of the first two rows and the last three columns from the above-defined array *arr6*.\n",
    "\n",
    "_Points:_ 10"
   ]
  },
  {
   "cell_type": "code",
   "execution_count": 15,
   "metadata": {
    "tags": []
   },
   "outputs": [],
   "source": [
    "arr7 = np.mean(arr6[:2, -3:], axis = 0)"
   ]
  },
  {
   "cell_type": "code",
   "execution_count": 16,
   "metadata": {
    "deletable": false,
    "editable": false
   },
   "outputs": [
    {
     "data": {
      "text/html": [
       "<p><strong><pre style='display: inline;'>q7</pre></strong> passed! 🎉</p><p><strong><pre style='display: inline;'>q7 - 1</pre> message:</strong> arr7 has the correct size (+5 pts)</p><p><strong><pre style='display: inline;'>q7 - 2</pre> message:</strong> weights has the correct values (+5 pts)</p>"
      ],
      "text/plain": [
       "q7 results: All test cases passed!\n",
       "q7 - 1 message: arr7 has the correct size (+5 pts)\n",
       "q7 - 2 message: weights has the correct values (+5 pts)"
      ]
     },
     "execution_count": 16,
     "metadata": {},
     "output_type": "execute_result"
    }
   ],
   "source": [
    "grader.check(\"q7\")"
   ]
  },
  {
   "cell_type": "markdown",
   "metadata": {},
   "source": [
    "---"
   ]
  },
  {
   "cell_type": "markdown",
   "metadata": {},
   "source": [
    "#### 8. Create a variable labeled *arr8* to store the sum of all the elements that are in the interval [95,700] in the first four rows of the above-defined array *arr6* \n",
    "\n",
    "_Points:_ 10"
   ]
  },
  {
   "cell_type": "code",
   "execution_count": 17,
   "metadata": {
    "tags": []
   },
   "outputs": [],
   "source": [
    "arr8 = np.sum(np.where((arr6[:4] >= 95) & (arr6[:4] <= 700), arr6[:4], 0))"
   ]
  },
  {
   "cell_type": "code",
   "execution_count": 18,
   "metadata": {
    "deletable": false,
    "editable": false
   },
   "outputs": [
    {
     "data": {
      "text/html": [
       "<p><strong><pre style='display: inline;'>q8</pre></strong> passed! 🎉</p><p><strong><pre style='display: inline;'>q8 - 1</pre> message:</strong> arr8 has the correct value (+10 pts)</p>"
      ],
      "text/plain": [
       "q8 results: All test cases passed!\n",
       "q8 - 1 message: arr8 has the correct value (+10 pts)"
      ]
     },
     "execution_count": 18,
     "metadata": {},
     "output_type": "execute_result"
    }
   ],
   "source": [
    "grader.check(\"q8\")"
   ]
  },
  {
   "cell_type": "markdown",
   "metadata": {},
   "source": [
    "---"
   ]
  },
  {
   "cell_type": "markdown",
   "metadata": {},
   "source": [
    "#### 9. Use a *for loop* to calculate the sum of all the elements that are in the interval [75,900] in the last three rows of the above-defined array *arr6*. Store the sum in a variable labeled *sum1*.  \n",
    "\n",
    "_Points:_ 7"
   ]
  },
  {
   "cell_type": "code",
   "execution_count": 19,
   "metadata": {
    "tags": []
   },
   "outputs": [
    {
     "name": "stdout",
     "output_type": "stream",
     "text": [
      "6890\n"
     ]
    }
   ],
   "source": [
    "sum1 = 0\n",
    "for row in arr6[-3:]:\n",
    "    #checking the given rows for the certain items, then adding them up\n",
    "    for item in row:\n",
    "        if 75 <= item and item <= 900:\n",
    "            sum1 += item\n",
    "print(sum1)"
   ]
  },
  {
   "cell_type": "code",
   "execution_count": 20,
   "metadata": {
    "deletable": false,
    "editable": false
   },
   "outputs": [
    {
     "data": {
      "text/html": [
       "<p><strong><pre style='display: inline;'>q9</pre></strong> passed! 🍀</p><p><strong><pre style='display: inline;'>q9 - 1</pre> message:</strong> sum1 has the correct value (+7 pts)</p>"
      ],
      "text/plain": [
       "q9 results: All test cases passed!\n",
       "q9 - 1 message: sum1 has the correct value (+7 pts)"
      ]
     },
     "execution_count": 20,
     "metadata": {},
     "output_type": "execute_result"
    }
   ],
   "source": [
    "grader.check(\"q9\")"
   ]
  },
  {
   "cell_type": "markdown",
   "metadata": {},
   "source": [
    "---"
   ]
  },
  {
   "cell_type": "markdown",
   "metadata": {},
   "source": [
    "<!-- BEGIN QUESTION -->\n",
    "\n",
    "#### 10. Use a *for loop* to print the elements on the antidiagonal in the above defined array *arr6*. See the following link for additional details: https://en.wikipedia.org/wiki/Main_diagonal\n",
    "\n",
    "_Points:_ 10"
   ]
  },
  {
   "cell_type": "code",
   "execution_count": 21,
   "metadata": {
    "tags": []
   },
   "outputs": [
    {
     "name": "stdout",
     "output_type": "stream",
     "text": [
      "358\n",
      "883\n",
      "308\n",
      "243\n",
      "215\n",
      "[[445 609  81 714 261 360]\n",
      " [358 779 455 650 867 567]\n",
      " [562 883 358 229 302 710]\n",
      " [503 505 308 324 947 238]\n",
      " [670 508 296 243 354 892]\n",
      " [424 934 424 254 215 732]]\n"
     ]
    }
   ],
   "source": [
    "antidiag = np.diag(arr6, k=-1)\n",
    "# going down the antidiag\n",
    "for elem in antidiag:\n",
    "    print(elem)\n",
    "print(arr6)"
   ]
  },
  {
   "cell_type": "markdown",
   "metadata": {},
   "source": [
    "<!-- END QUESTION -->\n",
    "\n",
    "---"
   ]
  },
  {
   "cell_type": "markdown",
   "metadata": {
    "deletable": false,
    "editable": false
   },
   "source": [
    "## Submission\n",
    "\n",
    "Make sure you have run all cells in your notebook in order before running the cell below, so that all images/graphs appear in the output. The cell below will generate a zip file for you to submit. **Please save before exporting!**"
   ]
  },
  {
   "cell_type": "code",
   "execution_count": 22,
   "metadata": {
    "deletable": false,
    "editable": false
   },
   "outputs": [
    {
     "name": "stdout",
     "output_type": "stream",
     "text": [
      "Running your submission against local test cases...\n",
      "\n",
      "\n",
      "\n",
      "Your submission received the following results when run against available test cases:\n",
      "\n",
      "    q2 results: All test cases passed!\n",
      "    q2 - 1 message: counter is properly defined (+5 pts)\n",
      "    q2 - 2 message: the counter function provides the right answer (+5 pts)\n",
      "\n",
      "    q5 results: All test cases passed!\n",
      "    q5 - 1 message: fv_ann_due is properly defined (+5 pts)\n",
      "    q5 - 2 message: the fv_ann_due function provides the right answer (+5 pts)\n",
      "\n",
      "    q6 results: All test cases passed!\n",
      "    q6 - 1 message: arr6 has the correct shape (+5 pts)\n",
      "    q6 - 2 message: arr6 has the correct values (+5 pts)\n",
      "\n",
      "    q7 results: All test cases passed!\n",
      "    q7 - 1 message: arr7 has the correct size (+5 pts)\n",
      "    q7 - 2 message: weights has the correct values (+5 pts)\n",
      "\n",
      "    q8 results: All test cases passed!\n",
      "    q8 - 1 message: arr8 has the correct value (+10 pts)\n",
      "\n",
      "    q9 results: All test cases passed!\n",
      "    q9 - 1 message: sum1 has the correct value (+7 pts)\n"
     ]
    },
    {
     "data": {
      "text/html": [
       "\n",
       "            <p>Your submission has been exported. Click <a href=\"HW1_Gradescope_2023_01_26T11_09_45_167382.zip\" download=\"HW1_Gradescope_2023_01_26T11_09_45_167382.zip\" target=\"_blank\">here</a>\n",
       "            to download the zip file.</p>\n",
       "            "
      ],
      "text/plain": [
       "<IPython.core.display.HTML object>"
      ]
     },
     "metadata": {},
     "output_type": "display_data"
    }
   ],
   "source": [
    "# Save your notebook first, then run this cell to export your submission.\n",
    "grader.export(pdf=False, run_tests=True)"
   ]
  },
  {
   "cell_type": "markdown",
   "metadata": {},
   "source": [
    " "
   ]
  }
 ],
 "metadata": {
  "kernelspec": {
   "display_name": "Python 3 (ipykernel)",
   "language": "python",
   "name": "python3"
  },
  "language_info": {
   "codemirror_mode": {
    "name": "ipython",
    "version": 3
   },
   "file_extension": ".py",
   "mimetype": "text/x-python",
   "name": "python",
   "nbconvert_exporter": "python",
   "pygments_lexer": "ipython3",
   "version": "3.8.13"
  },
  "otter": {
   "OK_FORMAT": true,
   "tests": {
    "q2": {
     "name": "q2",
     "points": 10,
     "suites": [
      {
       "cases": [
        {
         "code": ">>> callable(counter)\nTrue",
         "failure_message": "counter is not properly defined (+0 pts)",
         "hidden": false,
         "locked": false,
         "points": 5,
         "success_message": "counter is properly defined (+5 pts)"
        },
        {
         "code": ">>> counter(\"A Random Walk is one in which future steps or directions cannot be predicted on the basis of past history\")==19\nTrue",
         "failure_message": "the counter function does not provide the right answer (+0 pts)",
         "hidden": false,
         "locked": false,
         "points": 5,
         "success_message": "the counter function provides the right answer (+5 pts)"
        }
       ],
       "scored": true,
       "setup": "",
       "teardown": "",
       "type": "doctest"
      }
     ]
    },
    "q5": {
     "name": "q5",
     "points": 10,
     "suites": [
      {
       "cases": [
        {
         "code": ">>> callable(fv_ann_due)\nTrue",
         "failure_message": "fv_ann_due is not properly defined (+0 pts)",
         "hidden": false,
         "locked": false,
         "points": 5,
         "success_message": "fv_ann_due is properly defined (+5 pts)"
        },
        {
         "code": ">>> fv_ann_due(3_000,6,30)==251405.0321644025\nTrue",
         "failure_message": "the fv_ann_due function does not provide the right answer (+0 pts)",
         "hidden": false,
         "locked": false,
         "points": 5,
         "success_message": "the fv_ann_due function provides the right answer (+5 pts)"
        }
       ],
       "scored": true,
       "setup": "",
       "teardown": "",
       "type": "doctest"
      }
     ]
    },
    "q6": {
     "name": "q6",
     "points": 10,
     "suites": [
      {
       "cases": [
        {
         "code": ">>> arr6.shape == (6, 6)\nTrue",
         "failure_message": "arr6 does not have the correct shape (+0 pts)",
         "hidden": false,
         "locked": false,
         "points": 5,
         "success_message": "arr6 has the correct shape (+5 pts)"
        },
        {
         "code": ">>> arr6.sum()==17961\nTrue",
         "failure_message": "arr6 does not have the correct values (+0 pts)",
         "hidden": false,
         "locked": false,
         "points": 5,
         "success_message": "arr6 has the correct values (+5 pts)"
        }
       ],
       "scored": true,
       "setup": "",
       "teardown": "",
       "type": "doctest"
      }
     ]
    },
    "q7": {
     "name": "q7",
     "points": 10,
     "suites": [
      {
       "cases": [
        {
         "code": ">>> arr7.size == 3\nTrue",
         "failure_message": "arr7 does not have the correct size (+0 pts)",
         "hidden": false,
         "locked": false,
         "points": 5,
         "success_message": "arr7 has the correct size (+5 pts)"
        },
        {
         "code": ">>> arr7.sum()==np.array([682. , 564. , 463.5]).sum()\nTrue",
         "failure_message": "weights does not have the correct values (+0 pts)",
         "hidden": false,
         "locked": false,
         "points": 5,
         "success_message": "weights has the correct values (+5 pts)"
        }
       ],
       "scored": true,
       "setup": "",
       "teardown": "",
       "type": "doctest"
      }
     ]
    },
    "q8": {
     "name": "q8",
     "points": 10,
     "suites": [
      {
       "cases": [
        {
         "code": ">>> arr8==7034\nTrue",
         "failure_message": "arr8 does not have the correct value (+0 pts)",
         "hidden": false,
         "locked": false,
         "points": 10,
         "success_message": "arr8 has the correct value (+10 pts)"
        }
       ],
       "scored": true,
       "setup": "",
       "teardown": "",
       "type": "doctest"
      }
     ]
    },
    "q9": {
     "name": "q9",
     "points": 7,
     "suites": [
      {
       "cases": [
        {
         "code": ">>> sum1==6890\nTrue",
         "failure_message": "sum1 does not have the correct value (+0 pts)",
         "hidden": false,
         "locked": false,
         "points": 7,
         "success_message": "sum1 has the correct value (+7 pts)"
        }
       ],
       "scored": true,
       "setup": "",
       "teardown": "",
       "type": "doctest"
      }
     ]
    }
   }
  }
 },
 "nbformat": 4,
 "nbformat_minor": 4
}
