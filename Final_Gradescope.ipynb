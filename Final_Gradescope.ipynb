{
 "cells": [
  {
   "cell_type": "code",
   "execution_count": 1,
   "id": "6b1f7dc9",
   "metadata": {
    "deletable": false,
    "editable": false
   },
   "outputs": [],
   "source": [
    "# Initialize Otter\n",
    "import otter\n",
    "grader = otter.Notebook(\"Final_Gradescope.ipynb\")"
   ]
  },
  {
   "cell_type": "markdown",
   "id": "e2b4e6fc",
   "metadata": {},
   "source": [
    "## Final Exam"
   ]
  },
  {
   "cell_type": "markdown",
   "id": "db0ad86e",
   "metadata": {},
   "source": [
    "**Northeastern University Honor Code**\\\n",
    "On my honor, I pledge to uphold the values of honesty, integrity, and respect that are expected of me as a Northeastern student."
   ]
  },
  {
   "cell_type": "markdown",
   "id": "88ef43b2",
   "metadata": {},
   "source": [
    "**Signature: Jacob Kulik**"
   ]
  },
  {
   "cell_type": "markdown",
   "id": "ff39f0aa",
   "metadata": {},
   "source": [
    "## Instructions\n",
    "\n",
    "1. Do not rename the notebook. If you do, the local and Gradescope autograders will not work.\n",
    "1. Name the variables exactly as requested. Python is case-sensitive, so `df` and `DF` are different variables.\n",
    "1. After you answer a question, you may run its public tests.\n",
    "1. ***The public tests ensure your answers are formatted correctly but do not ensure your answers are correct.***\n",
    "1. Gradescope runs hidden tests in addition to the public tests but does not reveal public test results until after the due date. Your grade will be \"~/100\" until after the due date."
   ]
  },
  {
   "cell_type": "markdown",
   "id": "7354e229",
   "metadata": {},
   "source": [
    "#### Import the Necessary Libraries"
   ]
  },
  {
   "cell_type": "code",
   "execution_count": 2,
   "id": "f77fb369",
   "metadata": {
    "scrolled": true
   },
   "outputs": [],
   "source": [
    "import numpy as np\n",
    "import pandas as pd\n",
    "import datetime as dt\n",
    "import yfinance as yf\n",
    "import pandas_datareader.data as web\n",
    "import matplotlib.pyplot as plt\n",
    "%matplotlib inline\n",
    "from scipy.optimize import minimize\n",
    "from scipy import stats\n",
    "import statsmodels.api as sm"
   ]
  },
  {
   "cell_type": "code",
   "execution_count": 3,
   "id": "5b35a513",
   "metadata": {},
   "outputs": [],
   "source": [
    "asgnd_seed = 11281811"
   ]
  },
  {
   "cell_type": "markdown",
   "id": "ab7bacef",
   "metadata": {},
   "source": [
    "---"
   ]
  },
  {
   "cell_type": "markdown",
   "id": "c48e2091",
   "metadata": {},
   "source": [
    "### PART 1"
   ]
  },
  {
   "cell_type": "markdown",
   "id": "b8ab9e08",
   "metadata": {
    "tags": []
   },
   "source": [
    "#### Please run the code in the cell below. You will be assigned two (out of four) indexes, whose tickers will be stored in a variable called index_list."
   ]
  },
  {
   "cell_type": "code",
   "execution_count": 4,
   "id": "7c5dce73",
   "metadata": {
    "scrolled": true,
    "tags": []
   },
   "outputs": [
    {
     "data": {
      "text/plain": [
       "['^DJI', '^IXIC']"
      ]
     },
     "execution_count": 4,
     "metadata": {},
     "output_type": "execute_result"
    }
   ],
   "source": [
    "# Index Selection\n",
    "\n",
    "# ^GSPC is the ticker for the S&P 500 index\n",
    "# ^DJI is the ticker for the Dow Jones index\n",
    "# ^IXIC is the ticker for the Nasdaq Composite index \n",
    "# ^RUT is the ticker for the Russell 2000 index \n",
    "\n",
    "np.random.seed(asgnd_seed)\n",
    "indexes = ['^GSPC', '^DJI', '^IXIC', '^RUT']\n",
    "index_list = sorted(np.random.choice(indexes,2,replace=False))\n",
    "index_list"
   ]
  },
  {
   "cell_type": "markdown",
   "id": "bbdcf699",
   "metadata": {},
   "source": [
    "#### 1. Create a DataFrame named `index_mon` to store the monthly simple returns for the two indexes you were assigned. The sample period is January 1st, 2017 - October 31st, 2021. Label the columns as 'ticker', where ticker represents the trading symbol of the index whose returns are stored in that column. Drop any observations with missing values.\n",
    "\n",
    "_Points:_ 5"
   ]
  },
  {
   "cell_type": "code",
   "execution_count": 5,
   "id": "e2804285",
   "metadata": {
    "scrolled": true,
    "tags": []
   },
   "outputs": [
    {
     "name": "stdout",
     "output_type": "stream",
     "text": [
      "[*********************100%***********************]  2 of 2 completed\n"
     ]
    }
   ],
   "source": [
    "start = dt.datetime(2017, 1, 1)\n",
    "end = dt.datetime(2021,10,31)\n",
    "\n",
    "# reading in\n",
    "prices = yf.download(index_list, start-pd.offsets.BDay(1), end+pd.offsets.BDay(1))['Adj Close']\n",
    "\n",
    "# taking pct change, then resampling\n",
    "returns = prices.pct_change().dropna()\n",
    "\n",
    "index_mon = returns.resample(rule = 'M').apply(lambda x: x.add(1).prod().sub(1))"
   ]
  },
  {
   "cell_type": "code",
   "execution_count": 6,
   "id": "8b2b012a",
   "metadata": {},
   "outputs": [
    {
     "data": {
      "text/html": [
       "<div>\n",
       "<style scoped>\n",
       "    .dataframe tbody tr th:only-of-type {\n",
       "        vertical-align: middle;\n",
       "    }\n",
       "\n",
       "    .dataframe tbody tr th {\n",
       "        vertical-align: top;\n",
       "    }\n",
       "\n",
       "    .dataframe thead th {\n",
       "        text-align: right;\n",
       "    }\n",
       "</style>\n",
       "<table border=\"1\" class=\"dataframe\">\n",
       "  <thead>\n",
       "    <tr style=\"text-align: right;\">\n",
       "      <th></th>\n",
       "      <th>^DJI</th>\n",
       "      <th>^IXIC</th>\n",
       "    </tr>\n",
       "    <tr>\n",
       "      <th>Date</th>\n",
       "      <th></th>\n",
       "      <th></th>\n",
       "    </tr>\n",
       "  </thead>\n",
       "  <tbody>\n",
       "    <tr>\n",
       "      <th>2017-01-31</th>\n",
       "      <td>0.005135</td>\n",
       "      <td>0.043036</td>\n",
       "    </tr>\n",
       "    <tr>\n",
       "      <th>2017-02-28</th>\n",
       "      <td>0.047732</td>\n",
       "      <td>0.037517</td>\n",
       "    </tr>\n",
       "    <tr>\n",
       "      <th>2017-03-31</th>\n",
       "      <td>-0.007160</td>\n",
       "      <td>0.014814</td>\n",
       "    </tr>\n",
       "    <tr>\n",
       "      <th>2017-04-30</th>\n",
       "      <td>0.013419</td>\n",
       "      <td>0.022983</td>\n",
       "    </tr>\n",
       "    <tr>\n",
       "      <th>2017-05-31</th>\n",
       "      <td>0.003254</td>\n",
       "      <td>0.024954</td>\n",
       "    </tr>\n",
       "  </tbody>\n",
       "</table>\n",
       "</div>"
      ],
      "text/plain": [
       "                ^DJI     ^IXIC\n",
       "Date                          \n",
       "2017-01-31  0.005135  0.043036\n",
       "2017-02-28  0.047732  0.037517\n",
       "2017-03-31 -0.007160  0.014814\n",
       "2017-04-30  0.013419  0.022983\n",
       "2017-05-31  0.003254  0.024954"
      ]
     },
     "execution_count": 6,
     "metadata": {},
     "output_type": "execute_result"
    }
   ],
   "source": [
    "index_mon.head()"
   ]
  },
  {
   "cell_type": "code",
   "execution_count": 7,
   "id": "7e4da43e",
   "metadata": {
    "deletable": false,
    "editable": false
   },
   "outputs": [
    {
     "data": {
      "text/html": [
       "<p><strong><pre style='display: inline;'>q01</pre></strong> passed! 🙌</p>"
      ],
      "text/plain": [
       "q01 results: All test cases passed!"
      ]
     },
     "execution_count": 7,
     "metadata": {},
     "output_type": "execute_result"
    }
   ],
   "source": [
    "grader.check(\"q01\")"
   ]
  },
  {
   "cell_type": "markdown",
   "id": "bcd1f7c6",
   "metadata": {},
   "source": [
    "---"
   ]
  },
  {
   "cell_type": "markdown",
   "id": "6a3796db",
   "metadata": {},
   "source": [
    "<!-- BEGIN QUESTION -->\n",
    "\n",
    "#### 2. Create a line plot of the cumulative return series for the two indexes in the `index_mon` DataFrame. Use \"figsize\", \"grid\", and \"title\" with the Pandas plot() method.\n",
    "\n",
    "_Points:_ 5"
   ]
  },
  {
   "cell_type": "code",
   "execution_count": 8,
   "id": "88580022",
   "metadata": {
    "scrolled": true,
    "tags": []
   },
   "outputs": [
    {
     "data": {
      "image/png": "[encoded data removed]",
      "text/plain": [
       "<Figure size 1000x600 with 1 Axes>"
      ]
     },
     "metadata": {},
     "output_type": "display_data"
    }
   ],
   "source": [
    "# plotting\n",
    "figsize = (10, 6)\n",
    "title = 'Cumulative Returns for Dow Jones and NASDAQ Composite Indices'\n",
    "grid = True\n",
    "#index_mon.cumsum().plot(figsize=figsize, grid=True, title=title)\n",
    "\n",
    "cum_df = pd.DataFrame()\n",
    "for tic in index_mon.columns:\n",
    "    cum_df[tic] = index_mon[tic].add(1).cumprod()-1\n",
    "cum_df.plot.line(y = cum_df.columns, figsize = figsize, grid = grid, title = title)\n",
    "plt.show()"
   ]
  },
  {
   "cell_type": "markdown",
   "id": "4fcd9ba4",
   "metadata": {},
   "source": [
    "<!-- END QUESTION -->\n",
    "\n",
    "---"
   ]
  },
  {
   "cell_type": "markdown",
   "id": "0c248a55",
   "metadata": {},
   "source": [
    "#### 3. Create a new DataFrame named `ff_factors` to store the monthly Fama-French 4 factors over the sample period January 2017 - October 2021.\n",
    "\n",
    "_Points:_ 5"
   ]
  },
  {
   "cell_type": "code",
   "execution_count": 9,
   "id": "757c05d4",
   "metadata": {
    "tags": []
   },
   "outputs": [],
   "source": [
    "start = dt.datetime(2017,1,1)\n",
    "end = dt.datetime(2021,10,31)\n",
    "\n",
    "three_factors = web.DataReader('F-F_Research_Data_Factors','famafrench', start, end)[0]\n",
    "\n",
    "mom_factor = web.DataReader('F-F_Momentum_Factor','famafrench', start, end)[0]\n",
    "mom_factor.columns = ['MOM']\n",
    "\n",
    "ff_factors = pd.merge(three_factors, mom_factor, on='Date')\n",
    "\n",
    "ff_factors = ff_factors.div(100)\n",
    "\n",
    "ff_factors.index = ff_factors.index.to_timestamp(how='end').normalize()"
   ]
  },
  {
   "cell_type": "code",
   "execution_count": 10,
   "id": "f96816af",
   "metadata": {},
   "outputs": [
    {
     "data": {
      "text/html": [
       "<div>\n",
       "<style scoped>\n",
       "    .dataframe tbody tr th:only-of-type {\n",
       "        vertical-align: middle;\n",
       "    }\n",
       "\n",
       "    .dataframe tbody tr th {\n",
       "        vertical-align: top;\n",
       "    }\n",
       "\n",
       "    .dataframe thead th {\n",
       "        text-align: right;\n",
       "    }\n",
       "</style>\n",
       "<table border=\"1\" class=\"dataframe\">\n",
       "  <thead>\n",
       "    <tr style=\"text-align: right;\">\n",
       "      <th></th>\n",
       "      <th>Mkt-RF</th>\n",
       "      <th>SMB</th>\n",
       "      <th>HML</th>\n",
       "      <th>RF</th>\n",
       "      <th>MOM</th>\n",
       "    </tr>\n",
       "    <tr>\n",
       "      <th>Date</th>\n",
       "      <th></th>\n",
       "      <th></th>\n",
       "      <th></th>\n",
       "      <th></th>\n",
       "      <th></th>\n",
       "    </tr>\n",
       "  </thead>\n",
       "  <tbody>\n",
       "    <tr>\n",
       "      <th>2017-01-31</th>\n",
       "      <td>0.0194</td>\n",
       "      <td>-0.0114</td>\n",
       "      <td>-0.0276</td>\n",
       "      <td>0.0004</td>\n",
       "      <td>-0.0093</td>\n",
       "    </tr>\n",
       "    <tr>\n",
       "      <th>2017-02-28</th>\n",
       "      <td>0.0357</td>\n",
       "      <td>-0.0202</td>\n",
       "      <td>-0.0168</td>\n",
       "      <td>0.0004</td>\n",
       "      <td>-0.0165</td>\n",
       "    </tr>\n",
       "    <tr>\n",
       "      <th>2017-03-31</th>\n",
       "      <td>0.0017</td>\n",
       "      <td>0.0114</td>\n",
       "      <td>-0.0332</td>\n",
       "      <td>0.0003</td>\n",
       "      <td>-0.0102</td>\n",
       "    </tr>\n",
       "    <tr>\n",
       "      <th>2017-04-30</th>\n",
       "      <td>0.0109</td>\n",
       "      <td>0.0072</td>\n",
       "      <td>-0.0210</td>\n",
       "      <td>0.0005</td>\n",
       "      <td>0.0048</td>\n",
       "    </tr>\n",
       "    <tr>\n",
       "      <th>2017-05-31</th>\n",
       "      <td>0.0106</td>\n",
       "      <td>-0.0252</td>\n",
       "      <td>-0.0378</td>\n",
       "      <td>0.0006</td>\n",
       "      <td>0.0148</td>\n",
       "    </tr>\n",
       "  </tbody>\n",
       "</table>\n",
       "</div>"
      ],
      "text/plain": [
       "            Mkt-RF     SMB     HML      RF     MOM\n",
       "Date                                              \n",
       "2017-01-31  0.0194 -0.0114 -0.0276  0.0004 -0.0093\n",
       "2017-02-28  0.0357 -0.0202 -0.0168  0.0004 -0.0165\n",
       "2017-03-31  0.0017  0.0114 -0.0332  0.0003 -0.0102\n",
       "2017-04-30  0.0109  0.0072 -0.0210  0.0005  0.0048\n",
       "2017-05-31  0.0106 -0.0252 -0.0378  0.0006  0.0148"
      ]
     },
     "execution_count": 10,
     "metadata": {},
     "output_type": "execute_result"
    }
   ],
   "source": [
    "ff_factors.head()"
   ]
  },
  {
   "cell_type": "code",
   "execution_count": 11,
   "id": "70070e2d",
   "metadata": {
    "deletable": false,
    "editable": false
   },
   "outputs": [
    {
     "data": {
      "text/html": [
       "<p><strong><pre style='display: inline;'>q03</pre></strong> passed! 🙌</p>"
      ],
      "text/plain": [
       "q03 results: All test cases passed!"
      ]
     },
     "execution_count": 11,
     "metadata": {},
     "output_type": "execute_result"
    }
   ],
   "source": [
    "grader.check(\"q03\")"
   ]
  },
  {
   "cell_type": "markdown",
   "id": "4ce84f12",
   "metadata": {},
   "source": [
    "---"
   ]
  },
  {
   "cell_type": "markdown",
   "id": "b3448ce4",
   "metadata": {},
   "source": [
    "#### 4. Compute the Sharpe Ratio for both indexes over the entire sample period. Store the two values in two variables labeled index1_SR, and index2_SR, where index1 is the first index in index_list, while index2 is the second index in index_list.\n",
    "\n",
    "_Points:_ 5"
   ]
  },
  {
   "cell_type": "code",
   "execution_count": 12,
   "id": "2817b615",
   "metadata": {},
   "outputs": [
    {
     "data": {
      "text/html": [
       "<div>\n",
       "<style scoped>\n",
       "    .dataframe tbody tr th:only-of-type {\n",
       "        vertical-align: middle;\n",
       "    }\n",
       "\n",
       "    .dataframe tbody tr th {\n",
       "        vertical-align: top;\n",
       "    }\n",
       "\n",
       "    .dataframe thead th {\n",
       "        text-align: right;\n",
       "    }\n",
       "</style>\n",
       "<table border=\"1\" class=\"dataframe\">\n",
       "  <thead>\n",
       "    <tr style=\"text-align: right;\">\n",
       "      <th></th>\n",
       "      <th>^DJI</th>\n",
       "      <th>^IXIC</th>\n",
       "    </tr>\n",
       "    <tr>\n",
       "      <th>Date</th>\n",
       "      <th></th>\n",
       "      <th></th>\n",
       "    </tr>\n",
       "  </thead>\n",
       "  <tbody>\n",
       "    <tr>\n",
       "      <th>2017-01-03</th>\n",
       "      <td>0.006030</td>\n",
       "      <td>0.008538</td>\n",
       "    </tr>\n",
       "    <tr>\n",
       "      <th>2017-01-04</th>\n",
       "      <td>0.003038</td>\n",
       "      <td>0.008827</td>\n",
       "    </tr>\n",
       "    <tr>\n",
       "      <th>2017-01-05</th>\n",
       "      <td>-0.002150</td>\n",
       "      <td>0.001997</td>\n",
       "    </tr>\n",
       "    <tr>\n",
       "      <th>2017-01-06</th>\n",
       "      <td>0.003242</td>\n",
       "      <td>0.006035</td>\n",
       "    </tr>\n",
       "    <tr>\n",
       "      <th>2017-01-09</th>\n",
       "      <td>-0.003828</td>\n",
       "      <td>0.001949</td>\n",
       "    </tr>\n",
       "    <tr>\n",
       "      <th>...</th>\n",
       "      <td>...</td>\n",
       "      <td>...</td>\n",
       "    </tr>\n",
       "    <tr>\n",
       "      <th>2021-10-25</th>\n",
       "      <td>0.001797</td>\n",
       "      <td>0.009046</td>\n",
       "    </tr>\n",
       "    <tr>\n",
       "      <th>2021-10-26</th>\n",
       "      <td>0.000440</td>\n",
       "      <td>0.000591</td>\n",
       "    </tr>\n",
       "    <tr>\n",
       "      <th>2021-10-27</th>\n",
       "      <td>-0.007444</td>\n",
       "      <td>0.000009</td>\n",
       "    </tr>\n",
       "    <tr>\n",
       "      <th>2021-10-28</th>\n",
       "      <td>0.006756</td>\n",
       "      <td>0.013933</td>\n",
       "    </tr>\n",
       "    <tr>\n",
       "      <th>2021-10-29</th>\n",
       "      <td>0.002493</td>\n",
       "      <td>0.003254</td>\n",
       "    </tr>\n",
       "  </tbody>\n",
       "</table>\n",
       "<p>1216 rows × 2 columns</p>\n",
       "</div>"
      ],
      "text/plain": [
       "                ^DJI     ^IXIC\n",
       "Date                          \n",
       "2017-01-03  0.006030  0.008538\n",
       "2017-01-04  0.003038  0.008827\n",
       "2017-01-05 -0.002150  0.001997\n",
       "2017-01-06  0.003242  0.006035\n",
       "2017-01-09 -0.003828  0.001949\n",
       "...              ...       ...\n",
       "2021-10-25  0.001797  0.009046\n",
       "2021-10-26  0.000440  0.000591\n",
       "2021-10-27 -0.007444  0.000009\n",
       "2021-10-28  0.006756  0.013933\n",
       "2021-10-29  0.002493  0.003254\n",
       "\n",
       "[1216 rows x 2 columns]"
      ]
     },
     "execution_count": 12,
     "metadata": {},
     "output_type": "execute_result"
    }
   ],
   "source": [
    "returns"
   ]
  },
  {
   "cell_type": "code",
   "execution_count": 13,
   "id": "e282a493",
   "metadata": {
    "tags": []
   },
   "outputs": [
    {
     "name": "stdout",
     "output_type": "stream",
     "text": [
      "The Sharpe Ratio for ^DJI is -0.2990021451680376\n",
      "The Sharpe Ratio for ^IXIC is 0.011333712883147726\n"
     ]
    }
   ],
   "source": [
    "excess_returns = returns.subtract(ff_factors['RF'], axis=0)\n",
    "index1_SR = excess_returns[index_list[0]].mean() / excess_returns[index_list[0]].std()\n",
    "index2_SR = excess_returns[index_list[1]].mean() / excess_returns[index_list[1]].std()\n",
    "\n",
    "print(f\"The Sharpe Ratio for {index_list[0]} is {index1_SR}\")\n",
    "print(f\"The Sharpe Ratio for {index_list[1]} is {index2_SR}\")"
   ]
  },
  {
   "cell_type": "code",
   "execution_count": 14,
   "id": "f7a10a1e",
   "metadata": {
    "deletable": false,
    "editable": false
   },
   "outputs": [
    {
     "data": {
      "text/html": [
       "<p><strong><pre style='display: inline;'>q04</pre></strong> passed! ✨</p>"
      ],
      "text/plain": [
       "q04 results: All test cases passed!"
      ]
     },
     "execution_count": 14,
     "metadata": {},
     "output_type": "execute_result"
    }
   ],
   "source": [
    "grader.check(\"q04\")"
   ]
  },
  {
   "cell_type": "markdown",
   "id": "d0abfb84",
   "metadata": {},
   "source": [
    "---"
   ]
  },
  {
   "cell_type": "markdown",
   "id": "61028e80",
   "metadata": {},
   "source": [
    "<!-- BEGIN QUESTION -->\n",
    "\n",
    "#### 5. Run the Fama-French 4 factor model for both indexes over the entire sample period and print the output of the regression.\n",
    "\n",
    "_Points:_ 5"
   ]
  },
  {
   "cell_type": "code",
   "execution_count": 15,
   "id": "5275784a",
   "metadata": {
    "scrolled": true,
    "tags": []
   },
   "outputs": [
    {
     "data": {
      "text/html": [
       "<div>\n",
       "<style scoped>\n",
       "    .dataframe tbody tr th:only-of-type {\n",
       "        vertical-align: middle;\n",
       "    }\n",
       "\n",
       "    .dataframe tbody tr th {\n",
       "        vertical-align: top;\n",
       "    }\n",
       "\n",
       "    .dataframe thead th {\n",
       "        text-align: right;\n",
       "    }\n",
       "</style>\n",
       "<table border=\"1\" class=\"dataframe\">\n",
       "  <thead>\n",
       "    <tr style=\"text-align: right;\">\n",
       "      <th></th>\n",
       "      <th>^DJI</th>\n",
       "      <th>^IXIC</th>\n",
       "      <th>Mkt-RF</th>\n",
       "      <th>SMB</th>\n",
       "      <th>HML</th>\n",
       "      <th>RF</th>\n",
       "      <th>MOM</th>\n",
       "    </tr>\n",
       "    <tr>\n",
       "      <th>Date</th>\n",
       "      <th></th>\n",
       "      <th></th>\n",
       "      <th></th>\n",
       "      <th></th>\n",
       "      <th></th>\n",
       "      <th></th>\n",
       "      <th></th>\n",
       "    </tr>\n",
       "  </thead>\n",
       "  <tbody>\n",
       "    <tr>\n",
       "      <th>2017-01-31</th>\n",
       "      <td>0.005135</td>\n",
       "      <td>0.043036</td>\n",
       "      <td>0.0194</td>\n",
       "      <td>-0.0114</td>\n",
       "      <td>-0.0276</td>\n",
       "      <td>0.0004</td>\n",
       "      <td>-0.0093</td>\n",
       "    </tr>\n",
       "    <tr>\n",
       "      <th>2017-02-28</th>\n",
       "      <td>0.047732</td>\n",
       "      <td>0.037517</td>\n",
       "      <td>0.0357</td>\n",
       "      <td>-0.0202</td>\n",
       "      <td>-0.0168</td>\n",
       "      <td>0.0004</td>\n",
       "      <td>-0.0165</td>\n",
       "    </tr>\n",
       "    <tr>\n",
       "      <th>2017-03-31</th>\n",
       "      <td>-0.007160</td>\n",
       "      <td>0.014814</td>\n",
       "      <td>0.0017</td>\n",
       "      <td>0.0114</td>\n",
       "      <td>-0.0332</td>\n",
       "      <td>0.0003</td>\n",
       "      <td>-0.0102</td>\n",
       "    </tr>\n",
       "    <tr>\n",
       "      <th>2017-04-30</th>\n",
       "      <td>0.013419</td>\n",
       "      <td>0.022983</td>\n",
       "      <td>0.0109</td>\n",
       "      <td>0.0072</td>\n",
       "      <td>-0.0210</td>\n",
       "      <td>0.0005</td>\n",
       "      <td>0.0048</td>\n",
       "    </tr>\n",
       "    <tr>\n",
       "      <th>2017-05-31</th>\n",
       "      <td>0.003254</td>\n",
       "      <td>0.024954</td>\n",
       "      <td>0.0106</td>\n",
       "      <td>-0.0252</td>\n",
       "      <td>-0.0378</td>\n",
       "      <td>0.0006</td>\n",
       "      <td>0.0148</td>\n",
       "    </tr>\n",
       "  </tbody>\n",
       "</table>\n",
       "</div>"
      ],
      "text/plain": [
       "                ^DJI     ^IXIC  Mkt-RF     SMB     HML      RF     MOM\n",
       "Date                                                                  \n",
       "2017-01-31  0.005135  0.043036  0.0194 -0.0114 -0.0276  0.0004 -0.0093\n",
       "2017-02-28  0.047732  0.037517  0.0357 -0.0202 -0.0168  0.0004 -0.0165\n",
       "2017-03-31 -0.007160  0.014814  0.0017  0.0114 -0.0332  0.0003 -0.0102\n",
       "2017-04-30  0.013419  0.022983  0.0109  0.0072 -0.0210  0.0005  0.0048\n",
       "2017-05-31  0.003254  0.024954  0.0106 -0.0252 -0.0378  0.0006  0.0148"
      ]
     },
     "execution_count": 15,
     "metadata": {},
     "output_type": "execute_result"
    }
   ],
   "source": [
    "data_mon = index_mon.join(ff_factors)\n",
    "data_mon.head()"
   ]
  },
  {
   "cell_type": "code",
   "execution_count": 16,
   "id": "f437da50",
   "metadata": {},
   "outputs": [
    {
     "name": "stdout",
     "output_type": "stream",
     "text": [
      "                            OLS Regression Results                            \n",
      "==============================================================================\n",
      "Dep. Variable:                    DJI   R-squared:                       0.946\n",
      "Model:                            OLS   Adj. R-squared:                  0.942\n",
      "Method:                 Least Squares   F-statistic:                     233.7\n",
      "Date:                Mon, 24 Apr 2023   Prob (F-statistic):           5.65e-33\n",
      "Time:                        12:50:53   Log-Likelihood:                 181.66\n",
      "No. Observations:                  58   AIC:                            -353.3\n",
      "Df Residuals:                      53   BIC:                            -343.0\n",
      "Df Model:                           4                                         \n",
      "Covariance Type:            nonrobust                                         \n",
      "==============================================================================\n",
      "                 coef    std err          t      P>|t|      [0.025      0.975]\n",
      "------------------------------------------------------------------------------\n",
      "Alpha         -0.0018      0.002     -1.118      0.269      -0.005       0.001\n",
      "MKTRF Beta     0.9308      0.035     26.350      0.000       0.860       1.002\n",
      "SMB Beta      -0.2352      0.058     -4.035      0.000      -0.352      -0.118\n",
      "HML Beta       0.1450      0.047      3.072      0.003       0.050       0.240\n",
      "MOM Beta      -0.0562      0.048     -1.166      0.249      -0.153       0.041\n",
      "==============================================================================\n",
      "Omnibus:                        1.501   Durbin-Watson:                   2.393\n",
      "Prob(Omnibus):                  0.472   Jarque-Bera (JB):                1.225\n",
      "Skew:                          -0.355   Prob(JB):                        0.542\n",
      "Kurtosis:                       2.940   Cond. No.                         42.2\n",
      "==============================================================================\n",
      "\n",
      "Notes:\n",
      "[1] Standard Errors assume that the covariance matrix of the errors is correctly specified.\n"
     ]
    }
   ],
   "source": [
    "Y1 = data_mon['^DJI']-data_mon['RF']\n",
    "X1 = sm.add_constant(data_mon[['Mkt-RF','SMB','HML', 'MOM']])\n",
    "\n",
    "reg = sm.OLS(Y1,X1, missing = 'drop').fit()\n",
    "\n",
    "print(reg.summary(yname = 'DJI', xname = ['Alpha', 'MKTRF Beta', 'SMB Beta', 'HML Beta', 'MOM Beta']))"
   ]
  },
  {
   "cell_type": "code",
   "execution_count": 17,
   "id": "e83ff8b4",
   "metadata": {},
   "outputs": [
    {
     "name": "stdout",
     "output_type": "stream",
     "text": [
      "                            OLS Regression Results                            \n",
      "==============================================================================\n",
      "Dep. Variable:                   IXIC   R-squared:                       0.965\n",
      "Model:                            OLS   Adj. R-squared:                  0.963\n",
      "Method:                 Least Squares   F-statistic:                     367.8\n",
      "Date:                Mon, 24 Apr 2023   Prob (F-statistic):           5.86e-38\n",
      "Time:                        12:50:53   Log-Likelihood:                 188.70\n",
      "No. Observations:                  58   AIC:                            -367.4\n",
      "Df Residuals:                      53   BIC:                            -357.1\n",
      "Df Model:                           4                                         \n",
      "Covariance Type:            nonrobust                                         \n",
      "==============================================================================\n",
      "                 coef    std err          t      P>|t|      [0.025      0.975]\n",
      "------------------------------------------------------------------------------\n",
      "Alpha          0.0008      0.001      0.596      0.553      -0.002       0.004\n",
      "MKTRF Beta     1.0811      0.031     34.550      0.000       1.018       1.144\n",
      "SMB Beta       0.0967      0.052      1.873      0.067      -0.007       0.200\n",
      "HML Beta      -0.2540      0.042     -6.077      0.000      -0.338      -0.170\n",
      "MOM Beta       0.0731      0.043      1.712      0.093      -0.013       0.159\n",
      "==============================================================================\n",
      "Omnibus:                        0.680   Durbin-Watson:                   2.612\n",
      "Prob(Omnibus):                  0.712   Jarque-Bera (JB):                0.538\n",
      "Skew:                          -0.232   Prob(JB):                        0.764\n",
      "Kurtosis:                       2.915   Cond. No.                         42.2\n",
      "==============================================================================\n",
      "\n",
      "Notes:\n",
      "[1] Standard Errors assume that the covariance matrix of the errors is correctly specified.\n"
     ]
    }
   ],
   "source": [
    "Y2 = data_mon['^IXIC']-data_mon['RF']\n",
    "X2 = sm.add_constant(data_mon[['Mkt-RF','SMB','HML', 'MOM']])\n",
    "\n",
    "reg = sm.OLS(Y2,X2, missing = 'drop').fit()\n",
    "\n",
    "print(reg.summary(yname = 'IXIC', xname = ['Alpha', 'MKTRF Beta', 'SMB Beta', 'HML Beta', 'MOM Beta']))"
   ]
  },
  {
   "cell_type": "markdown",
   "id": "1fdaede4",
   "metadata": {},
   "source": [
    "<!-- END QUESTION -->\n",
    "\n",
    "---"
   ]
  },
  {
   "cell_type": "markdown",
   "id": "bd4f7c3c",
   "metadata": {},
   "source": [
    "<!-- BEGIN QUESTION -->\n",
    "\n",
    "#### 6. Did either of the indexes outperform or underperform? Briefly explain.\n",
    "\n",
    "_Points:_ 5"
   ]
  },
  {
   "cell_type": "markdown",
   "id": "fab6c337",
   "metadata": {
    "tags": []
   },
   "source": [
    "DJI (Dow Jones) underperformed. The alpha coefficient returned from the regression was -0.0018, which shows that it is statistically significant since this is less than our alpha value of 0.05. Since this value is negative, that means it falls in the left and is thereform underperform.\n",
    "\n",
    "IXIC (Nasdaq Composite) outperformed. The alpha coefficient returned from the regression was 0.0008, which shows that it is statistically significant since this is less than our alpha value of 0.05. Since this value is positive, that means it falls in the right and is thereform outperform."
   ]
  },
  {
   "cell_type": "markdown",
   "id": "7b71fe3f",
   "metadata": {},
   "source": [
    "<!-- END QUESTION -->\n",
    "\n",
    "---"
   ]
  },
  {
   "cell_type": "markdown",
   "id": "c156ffb0",
   "metadata": {},
   "source": [
    "<!-- BEGIN QUESTION -->\n",
    "\n",
    "#### 7. Based on the coefficients for the SMB and HML factors, what inferences can you draw about the two indexes? Briefly explain.\n",
    "\n",
    "_Points:_ 5"
   ]
  },
  {
   "cell_type": "markdown",
   "id": "747c23d9",
   "metadata": {
    "tags": []
   },
   "source": [
    "The Dow Jones has a negative SMB beta of -0.2, which suggests that the index is expected to perform relatively better when large-cap stocks are outperforming small-cap stocks. On the other hand, its positive HML beta of 0.15 suggests that the index is expected to do better when value stocks are outperforming growth stocks, although the effect is relatively weaker than the SMB factor.\n",
    "\n",
    "For the NASDAQ Composite, the positive SMB beta of 0.1 suggests that the index is expected to perform better when small-cap stocks outperform large-cap stocks, while its negative HML beta of -0.25 implies that the index is expected to perform better when growth stocks outperform value stocks, with a relatively stronger effect than the SMB factor."
   ]
  },
  {
   "cell_type": "markdown",
   "id": "e117764c",
   "metadata": {},
   "source": [
    "<!-- END QUESTION -->\n",
    "\n",
    "---"
   ]
  },
  {
   "cell_type": "markdown",
   "id": "8458ad0a",
   "metadata": {},
   "source": [
    "### PART 2"
   ]
  },
  {
   "cell_type": "markdown",
   "id": "e2d5d7f6",
   "metadata": {},
   "source": [
    "#### Please run the code in the cell below. You will be assigned five stocks, whose tickers will be stored in a variable called stock_list."
   ]
  },
  {
   "cell_type": "code",
   "execution_count": 18,
   "id": "bd754ed9",
   "metadata": {
    "scrolled": true
   },
   "outputs": [
    {
     "data": {
      "text/plain": [
       "['CAT', 'CSCO', 'DIS', 'HD', 'WMT']"
      ]
     },
     "execution_count": 18,
     "metadata": {},
     "output_type": "execute_result"
    }
   ],
   "source": [
    "np.random.seed(asgnd_seed)\n",
    "all_tickers = ['AAPL', 'AXP', 'BA', 'BAC', 'C', 'CAT', 'CSCO', 'CVX', 'DIS', 'GS', 'HD', 'IBM', 'INTC', 'JNJ', 'JPM', 'KO',\n",
    "            'MCD', 'MMM', 'MRK', 'MSFT', 'NKE', 'PFE', 'PG', 'TRV', 'T', 'UNH', 'V', 'VZ', 'WMT', 'XOM']\n",
    "\n",
    "stock_list = sorted(np.random.choice(all_tickers,5,replace=False))\n",
    "stock_list"
   ]
  },
  {
   "cell_type": "markdown",
   "id": "0102d811",
   "metadata": {},
   "source": [
    "#### 8. Create a DataFrame called `returns_pt2` to store the monthly simple returns for the five stocks you were assigned. The sample period is January 1st, 2012 to December 31st, 2016. Each stock's return should be stored in a column labeled 'ticker', where ticker represents that stock's trading ticker. Drop any observations with missing values.\n",
    "\n",
    "_Points:_ 5"
   ]
  },
  {
   "cell_type": "code",
   "execution_count": 19,
   "id": "f53cd0ce",
   "metadata": {
    "scrolled": true,
    "tags": []
   },
   "outputs": [
    {
     "name": "stdout",
     "output_type": "stream",
     "text": [
      "[*********************100%***********************]  5 of 5 completed\n"
     ]
    }
   ],
   "source": [
    "start = dt.datetime(2012, 1, 1)\n",
    "end = dt.datetime(2016,12,31)\n",
    "prices = yf.download(stock_list, start-pd.offsets.BDay(1), end)['Adj Close']\n",
    "\n",
    "returns = prices.pct_change().dropna()\n",
    "\n",
    "returns_pt2 = returns.resample(rule = 'M').apply(lambda x: x.add(1).prod().sub(1))"
   ]
  },
  {
   "cell_type": "code",
   "execution_count": 20,
   "id": "7d54397d",
   "metadata": {},
   "outputs": [
    {
     "data": {
      "text/html": [
       "<div>\n",
       "<style scoped>\n",
       "    .dataframe tbody tr th:only-of-type {\n",
       "        vertical-align: middle;\n",
       "    }\n",
       "\n",
       "    .dataframe tbody tr th {\n",
       "        vertical-align: top;\n",
       "    }\n",
       "\n",
       "    .dataframe thead th {\n",
       "        text-align: right;\n",
       "    }\n",
       "</style>\n",
       "<table border=\"1\" class=\"dataframe\">\n",
       "  <thead>\n",
       "    <tr style=\"text-align: right;\">\n",
       "      <th></th>\n",
       "      <th>CAT</th>\n",
       "      <th>CSCO</th>\n",
       "      <th>DIS</th>\n",
       "      <th>HD</th>\n",
       "      <th>WMT</th>\n",
       "    </tr>\n",
       "    <tr>\n",
       "      <th>Date</th>\n",
       "      <th></th>\n",
       "      <th></th>\n",
       "      <th></th>\n",
       "      <th></th>\n",
       "      <th></th>\n",
       "    </tr>\n",
       "  </thead>\n",
       "  <tbody>\n",
       "    <tr>\n",
       "      <th>2012-01-31</th>\n",
       "      <td>0.209799</td>\n",
       "      <td>0.090455</td>\n",
       "      <td>0.037333</td>\n",
       "      <td>0.055899</td>\n",
       "      <td>0.026774</td>\n",
       "    </tr>\n",
       "    <tr>\n",
       "      <th>2012-02-29</th>\n",
       "      <td>0.046646</td>\n",
       "      <td>0.011705</td>\n",
       "      <td>0.079434</td>\n",
       "      <td>0.071638</td>\n",
       "      <td>-0.037157</td>\n",
       "    </tr>\n",
       "    <tr>\n",
       "      <th>2012-03-31</th>\n",
       "      <td>-0.067332</td>\n",
       "      <td>0.063883</td>\n",
       "      <td>0.042629</td>\n",
       "      <td>0.064111</td>\n",
       "      <td>0.042817</td>\n",
       "    </tr>\n",
       "    <tr>\n",
       "      <th>2012-04-30</th>\n",
       "      <td>-0.031123</td>\n",
       "      <td>-0.043197</td>\n",
       "      <td>-0.015304</td>\n",
       "      <td>0.029418</td>\n",
       "      <td>-0.037419</td>\n",
       "    </tr>\n",
       "    <tr>\n",
       "      <th>2012-05-31</th>\n",
       "      <td>-0.147417</td>\n",
       "      <td>-0.189980</td>\n",
       "      <td>0.060311</td>\n",
       "      <td>-0.041685</td>\n",
       "      <td>0.124879</td>\n",
       "    </tr>\n",
       "  </tbody>\n",
       "</table>\n",
       "</div>"
      ],
      "text/plain": [
       "                 CAT      CSCO       DIS        HD       WMT\n",
       "Date                                                        \n",
       "2012-01-31  0.209799  0.090455  0.037333  0.055899  0.026774\n",
       "2012-02-29  0.046646  0.011705  0.079434  0.071638 -0.037157\n",
       "2012-03-31 -0.067332  0.063883  0.042629  0.064111  0.042817\n",
       "2012-04-30 -0.031123 -0.043197 -0.015304  0.029418 -0.037419\n",
       "2012-05-31 -0.147417 -0.189980  0.060311 -0.041685  0.124879"
      ]
     },
     "execution_count": 20,
     "metadata": {},
     "output_type": "execute_result"
    }
   ],
   "source": [
    "returns_pt2.head()"
   ]
  },
  {
   "cell_type": "code",
   "execution_count": 21,
   "id": "65398988",
   "metadata": {
    "deletable": false,
    "editable": false
   },
   "outputs": [
    {
     "data": {
      "text/html": [
       "<p><strong><pre style='display: inline;'>q08</pre></strong> passed! ✨</p>"
      ],
      "text/plain": [
       "q08 results: All test cases passed!"
      ]
     },
     "execution_count": 21,
     "metadata": {},
     "output_type": "execute_result"
    }
   ],
   "source": [
    "grader.check(\"q08\")"
   ]
  },
  {
   "cell_type": "markdown",
   "id": "3f1efab1",
   "metadata": {},
   "source": [
    "---"
   ]
  },
  {
   "cell_type": "markdown",
   "id": "37749762",
   "metadata": {},
   "source": [
    "#### 9. Create a new DataFrame named `rf_rate` to store the monthly risk-free rate over the sample period January 1st, 2012 - December 31st, 2016.\n",
    "\n",
    "_Points:_ 4.5"
   ]
  },
  {
   "cell_type": "code",
   "execution_count": 22,
   "id": "68ae99d5",
   "metadata": {
    "tags": []
   },
   "outputs": [
    {
     "data": {
      "text/html": [
       "<div>\n",
       "<style scoped>\n",
       "    .dataframe tbody tr th:only-of-type {\n",
       "        vertical-align: middle;\n",
       "    }\n",
       "\n",
       "    .dataframe tbody tr th {\n",
       "        vertical-align: top;\n",
       "    }\n",
       "\n",
       "    .dataframe thead th {\n",
       "        text-align: right;\n",
       "    }\n",
       "</style>\n",
       "<table border=\"1\" class=\"dataframe\">\n",
       "  <thead>\n",
       "    <tr style=\"text-align: right;\">\n",
       "      <th></th>\n",
       "      <th>RF</th>\n",
       "    </tr>\n",
       "    <tr>\n",
       "      <th>Date</th>\n",
       "      <th></th>\n",
       "    </tr>\n",
       "  </thead>\n",
       "  <tbody>\n",
       "    <tr>\n",
       "      <th>2012-01-31</th>\n",
       "      <td>0.0000</td>\n",
       "    </tr>\n",
       "    <tr>\n",
       "      <th>2012-02-29</th>\n",
       "      <td>0.0000</td>\n",
       "    </tr>\n",
       "    <tr>\n",
       "      <th>2012-03-31</th>\n",
       "      <td>0.0000</td>\n",
       "    </tr>\n",
       "    <tr>\n",
       "      <th>2012-04-30</th>\n",
       "      <td>0.0000</td>\n",
       "    </tr>\n",
       "    <tr>\n",
       "      <th>2012-05-31</th>\n",
       "      <td>0.0001</td>\n",
       "    </tr>\n",
       "  </tbody>\n",
       "</table>\n",
       "</div>"
      ],
      "text/plain": [
       "                RF\n",
       "Date              \n",
       "2012-01-31  0.0000\n",
       "2012-02-29  0.0000\n",
       "2012-03-31  0.0000\n",
       "2012-04-30  0.0000\n",
       "2012-05-31  0.0001"
      ]
     },
     "execution_count": 22,
     "metadata": {},
     "output_type": "execute_result"
    }
   ],
   "source": [
    "rf_rate = web.DataReader('F-F_Research_Data_Factors','famafrench', start, end)[0][['RF']]/100\n",
    "rf_rate.index = rf_rate.index.to_timestamp(how='end').normalize()\n",
    "rf_rate.head()"
   ]
  },
  {
   "cell_type": "code",
   "execution_count": 23,
   "id": "46457c3e",
   "metadata": {
    "deletable": false,
    "editable": false
   },
   "outputs": [
    {
     "data": {
      "text/html": [
       "<p><strong><pre style='display: inline;'>q09</pre></strong> passed! 🙌</p>"
      ],
      "text/plain": [
       "q09 results: All test cases passed!"
      ]
     },
     "execution_count": 23,
     "metadata": {},
     "output_type": "execute_result"
    }
   ],
   "source": [
    "grader.check(\"q09\")"
   ]
  },
  {
   "cell_type": "markdown",
   "id": "7211f7e9",
   "metadata": {},
   "source": [
    "---"
   ]
  },
  {
   "cell_type": "markdown",
   "id": "f830d82c",
   "metadata": {
    "tags": []
   },
   "source": [
    "#### 10. Find the optimal portfolio that can be created using the five stocks you were assigned (assume there are short-selling constraints) over the sample period January 1st, 2012 - December 31st, 2016. Store the optimal weights in a DataFrame named `weights`, which should have two columns: 1) TICKER (set as the index); 2) OP_weights (to store the optimal weights). Thus, the DataFrame should have a (5,1) shape.\n",
    "\n",
    "_Points:_ 5"
   ]
  },
  {
   "cell_type": "code",
   "execution_count": 24,
   "id": "391e2c31",
   "metadata": {
    "tags": []
   },
   "outputs": [],
   "source": [
    "# Define the portfolio returns function\n",
    "def port_ret(weights):\n",
    "    port_ret = np.dot(returns_pt2*12,weights).mean()\n",
    "    return port_ret\n",
    "\n",
    "# Define the portfolio standard deviation function\n",
    "def port_std(weights):\n",
    "    port_std = np.sqrt(np.dot(weights, np.dot(returns_pt2.cov()*12, weights)))\n",
    "    return port_std\n",
    "\n",
    "# Define the excess portfolio returns function\n",
    "def ex_port_ret(weights):\n",
    "    ex_port_ret = (np.dot(returns_pt2,weights) - rf_rate['RF']).mean()*12\n",
    "    return ex_port_ret\n",
    "\n",
    "# Define the excess portfolio standarda deviation function\n",
    "def ex_port_std(weights):\n",
    "    ex_port_std = (np.dot(returns_pt2,weights) - rf_rate['RF']).std()*np.sqrt(12)\n",
    "    return ex_port_std\n",
    "\n",
    "# Define the negative Sharpe Ratio function that we will minimize\n",
    "def neg_SR(weights):\n",
    "    SR = ex_port_ret(weights) / ex_port_std(weights)\n",
    "    return (-1)*SR"
   ]
  },
  {
   "cell_type": "code",
   "execution_count": 25,
   "id": "2fccf958",
   "metadata": {},
   "outputs": [],
   "source": [
    "# By convention of minimize function it should be a function that returns zero for conditions\n",
    "constraints = ({'type':'eq','fun': lambda weights: np.sum(weights) - 1})\n",
    "\n",
    "# Weights must be between 0 and 1\n",
    "boundaries=[(0,1)]\n",
    "bounds = tuple(boundaries * len(returns_pt2.columns))\n",
    "\n",
    "# Initial Guess (equally weighted)\n",
    "init_guess = np.full(len(returns_pt2.columns), 1/len(returns_pt2.columns))"
   ]
  },
  {
   "cell_type": "code",
   "execution_count": 26,
   "id": "40d23ea8",
   "metadata": {},
   "outputs": [
    {
     "data": {
      "text/plain": [
       "     fun: -1.7484441639386625\n",
       "     jac: array([ 0.39934947,  0.00302899, -0.00611599, -0.00455457, -0.00455351])\n",
       " message: 'Optimization terminated successfully'\n",
       "    nfev: 37\n",
       "     nit: 6\n",
       "    njev: 6\n",
       "  status: 0\n",
       " success: True\n",
       "       x: array([5.90018676e-17, 0.00000000e+00, 2.58344428e-01, 5.79352423e-01,\n",
       "       1.62303148e-01])"
      ]
     },
     "execution_count": 26,
     "metadata": {},
     "output_type": "execute_result"
    }
   ],
   "source": [
    "# Optimal Portfolio (OP)\n",
    "optimal_port = minimize(neg_SR,init_guess,bounds = bounds,constraints=constraints)\n",
    "optimal_port"
   ]
  },
  {
   "cell_type": "code",
   "execution_count": 27,
   "id": "e0e3035d",
   "metadata": {},
   "outputs": [],
   "source": [
    "weights = pd.DataFrame({'OP_weights': optimal_port.x}, index=stock_list)"
   ]
  },
  {
   "cell_type": "code",
   "execution_count": 28,
   "id": "9176a5db",
   "metadata": {
    "deletable": false,
    "editable": false
   },
   "outputs": [
    {
     "data": {
      "text/html": [
       "<p><strong><pre style='display: inline;'>q10</pre></strong> passed! 🌈</p>"
      ],
      "text/plain": [
       "q10 results: All test cases passed!"
      ]
     },
     "execution_count": 28,
     "metadata": {},
     "output_type": "execute_result"
    }
   ],
   "source": [
    "grader.check(\"q10\")"
   ]
  },
  {
   "cell_type": "markdown",
   "id": "b5be60f1",
   "metadata": {},
   "source": [
    "---"
   ]
  },
  {
   "cell_type": "markdown",
   "id": "e22daa52",
   "metadata": {
    "tags": []
   },
   "source": [
    "#### 11. Create an additional column in the DataFrame `weights` to store a set of random weights for the five stocks you were assigned. Label the column RD_weights. Use the assigned seed as the random seed when generating the random weights.\n",
    "\n",
    "_Points:_ 5"
   ]
  },
  {
   "cell_type": "code",
   "execution_count": 29,
   "id": "383d15b0",
   "metadata": {
    "tags": []
   },
   "outputs": [],
   "source": [
    "np.random.seed(asgnd_seed)\n",
    "\n",
    "rd_weights = np.array(np.random.uniform(0,1,5))\n",
    "rd_weights = rd_weights / np.sum(rd_weights)\n",
    "\n",
    "weights['RD_weights'] = rd_weights"
   ]
  },
  {
   "cell_type": "code",
   "execution_count": 30,
   "id": "323cb480",
   "metadata": {},
   "outputs": [
    {
     "data": {
      "text/html": [
       "<div>\n",
       "<style scoped>\n",
       "    .dataframe tbody tr th:only-of-type {\n",
       "        vertical-align: middle;\n",
       "    }\n",
       "\n",
       "    .dataframe tbody tr th {\n",
       "        vertical-align: top;\n",
       "    }\n",
       "\n",
       "    .dataframe thead th {\n",
       "        text-align: right;\n",
       "    }\n",
       "</style>\n",
       "<table border=\"1\" class=\"dataframe\">\n",
       "  <thead>\n",
       "    <tr style=\"text-align: right;\">\n",
       "      <th></th>\n",
       "      <th>OP_weights</th>\n",
       "      <th>RD_weights</th>\n",
       "    </tr>\n",
       "  </thead>\n",
       "  <tbody>\n",
       "    <tr>\n",
       "      <th>CAT</th>\n",
       "      <td>5.900187e-17</td>\n",
       "      <td>0.029794</td>\n",
       "    </tr>\n",
       "    <tr>\n",
       "      <th>CSCO</th>\n",
       "      <td>0.000000e+00</td>\n",
       "      <td>0.359728</td>\n",
       "    </tr>\n",
       "    <tr>\n",
       "      <th>DIS</th>\n",
       "      <td>2.583444e-01</td>\n",
       "      <td>0.008434</td>\n",
       "    </tr>\n",
       "    <tr>\n",
       "      <th>HD</th>\n",
       "      <td>5.793524e-01</td>\n",
       "      <td>0.417667</td>\n",
       "    </tr>\n",
       "    <tr>\n",
       "      <th>WMT</th>\n",
       "      <td>1.623031e-01</td>\n",
       "      <td>0.184378</td>\n",
       "    </tr>\n",
       "  </tbody>\n",
       "</table>\n",
       "</div>"
      ],
      "text/plain": [
       "        OP_weights  RD_weights\n",
       "CAT   5.900187e-17    0.029794\n",
       "CSCO  0.000000e+00    0.359728\n",
       "DIS   2.583444e-01    0.008434\n",
       "HD    5.793524e-01    0.417667\n",
       "WMT   1.623031e-01    0.184378"
      ]
     },
     "execution_count": 30,
     "metadata": {},
     "output_type": "execute_result"
    }
   ],
   "source": [
    "weights"
   ]
  },
  {
   "cell_type": "code",
   "execution_count": 31,
   "id": "efedb89d",
   "metadata": {
    "deletable": false,
    "editable": false
   },
   "outputs": [
    {
     "data": {
      "text/html": [
       "<p><strong><pre style='display: inline;'>q11</pre></strong> passed! 🌟</p>"
      ],
      "text/plain": [
       "q11 results: All test cases passed!"
      ]
     },
     "execution_count": 31,
     "metadata": {},
     "output_type": "execute_result"
    }
   ],
   "source": [
    "grader.check(\"q11\")"
   ]
  },
  {
   "cell_type": "markdown",
   "id": "f3e220dd",
   "metadata": {},
   "source": [
    "---"
   ]
  },
  {
   "cell_type": "markdown",
   "id": "019fa95a",
   "metadata": {},
   "source": [
    "### PART 3"
   ]
  },
  {
   "cell_type": "markdown",
   "id": "009300b0",
   "metadata": {},
   "source": [
    "#### 12. Create a DataFrame called `prices` to store the **end of the month** Adjusted Closing Price from Yahoo!Finance for the five companies you were assigned above. The sample period is January 1st, 2017 to October 31st, 2021. Each stock's price should be stored in a column labeled 'ticker', where ticker represents that stock's trading ticker.\n",
    "\n",
    "_Points:_ 5"
   ]
  },
  {
   "cell_type": "code",
   "execution_count": 32,
   "id": "7916ff7c",
   "metadata": {
    "scrolled": true,
    "tags": []
   },
   "outputs": [
    {
     "name": "stdout",
     "output_type": "stream",
     "text": [
      "[*********************100%***********************]  5 of 5 completed\n"
     ]
    }
   ],
   "source": [
    "start = dt.datetime(2017, 1, 1)\n",
    "end = dt.datetime(2021,10,31)\n",
    "prices = yf.download(stock_list, start-pd.offsets.BDay(1), end)['Adj Close']\n",
    "\n",
    "prices = prices.resample('M').last()"
   ]
  },
  {
   "cell_type": "code",
   "execution_count": 33,
   "id": "336a81fb",
   "metadata": {},
   "outputs": [
    {
     "data": {
      "text/html": [
       "<div>\n",
       "<style scoped>\n",
       "    .dataframe tbody tr th:only-of-type {\n",
       "        vertical-align: middle;\n",
       "    }\n",
       "\n",
       "    .dataframe tbody tr th {\n",
       "        vertical-align: top;\n",
       "    }\n",
       "\n",
       "    .dataframe thead th {\n",
       "        text-align: right;\n",
       "    }\n",
       "</style>\n",
       "<table border=\"1\" class=\"dataframe\">\n",
       "  <thead>\n",
       "    <tr style=\"text-align: right;\">\n",
       "      <th></th>\n",
       "      <th>CAT</th>\n",
       "      <th>CSCO</th>\n",
       "      <th>DIS</th>\n",
       "      <th>HD</th>\n",
       "      <th>WMT</th>\n",
       "    </tr>\n",
       "    <tr>\n",
       "      <th>Date</th>\n",
       "      <th></th>\n",
       "      <th></th>\n",
       "      <th></th>\n",
       "      <th></th>\n",
       "      <th></th>\n",
       "    </tr>\n",
       "  </thead>\n",
       "  <tbody>\n",
       "    <tr>\n",
       "      <th>2016-12-31</th>\n",
       "      <td>78.751350</td>\n",
       "      <td>24.693445</td>\n",
       "      <td>99.803177</td>\n",
       "      <td>115.628372</td>\n",
       "      <td>61.239552</td>\n",
       "    </tr>\n",
       "    <tr>\n",
       "      <th>2017-01-31</th>\n",
       "      <td>81.904961</td>\n",
       "      <td>25.317545</td>\n",
       "      <td>105.960686</td>\n",
       "      <td>118.646713</td>\n",
       "      <td>59.130905</td>\n",
       "    </tr>\n",
       "    <tr>\n",
       "      <th>2017-02-28</th>\n",
       "      <td>82.761162</td>\n",
       "      <td>28.169069</td>\n",
       "      <td>105.424408</td>\n",
       "      <td>124.968048</td>\n",
       "      <td>62.843189</td>\n",
       "    </tr>\n",
       "    <tr>\n",
       "      <th>2017-03-31</th>\n",
       "      <td>79.421936</td>\n",
       "      <td>27.855896</td>\n",
       "      <td>108.584557</td>\n",
       "      <td>127.394409</td>\n",
       "      <td>64.331665</td>\n",
       "    </tr>\n",
       "    <tr>\n",
       "      <th>2017-04-30</th>\n",
       "      <td>88.283195</td>\n",
       "      <td>28.323011</td>\n",
       "      <td>110.700905</td>\n",
       "      <td>135.437317</td>\n",
       "      <td>67.098419</td>\n",
       "    </tr>\n",
       "  </tbody>\n",
       "</table>\n",
       "</div>"
      ],
      "text/plain": [
       "                  CAT       CSCO         DIS          HD        WMT\n",
       "Date                                                               \n",
       "2016-12-31  78.751350  24.693445   99.803177  115.628372  61.239552\n",
       "2017-01-31  81.904961  25.317545  105.960686  118.646713  59.130905\n",
       "2017-02-28  82.761162  28.169069  105.424408  124.968048  62.843189\n",
       "2017-03-31  79.421936  27.855896  108.584557  127.394409  64.331665\n",
       "2017-04-30  88.283195  28.323011  110.700905  135.437317  67.098419"
      ]
     },
     "execution_count": 33,
     "metadata": {},
     "output_type": "execute_result"
    }
   ],
   "source": [
    "prices.head()"
   ]
  },
  {
   "cell_type": "code",
   "execution_count": 34,
   "id": "2f872a8d",
   "metadata": {
    "deletable": false,
    "editable": false
   },
   "outputs": [
    {
     "data": {
      "text/html": [
       "<p><strong><pre style='display: inline;'>q12</pre></strong> passed! 🎉</p>"
      ],
      "text/plain": [
       "q12 results: All test cases passed!"
      ]
     },
     "execution_count": 34,
     "metadata": {},
     "output_type": "execute_result"
    }
   ],
   "source": [
    "grader.check(\"q12\")"
   ]
  },
  {
   "cell_type": "markdown",
   "id": "6e453dd0",
   "metadata": {},
   "source": [
    "---"
   ]
  },
  {
   "cell_type": "markdown",
   "id": "e43ab7b0",
   "metadata": {},
   "source": [
    "#### 13. Create a DataFrame named `investments` to store the **monthly** value of a $1 investment made on December 31st, 2016 in each of the five stocks. The investment in each stock should be stored in a column labeled 'ticker', where ticker represents that stock's trading ticker.\n",
    "\n",
    "_Points:_ 5"
   ]
  },
  {
   "cell_type": "code",
   "execution_count": 35,
   "id": "a621318d",
   "metadata": {
    "tags": []
   },
   "outputs": [],
   "source": [
    "investments = pd.DataFrame()\n",
    "for tic in prices:\n",
    "    investments[tic] = prices[tic]/prices[tic].iloc[0]"
   ]
  },
  {
   "cell_type": "code",
   "execution_count": 36,
   "id": "db9f31d4",
   "metadata": {
    "deletable": false,
    "editable": false
   },
   "outputs": [
    {
     "data": {
      "text/html": [
       "<p><strong><pre style='display: inline;'>q13</pre></strong> passed! 🍀</p>"
      ],
      "text/plain": [
       "q13 results: All test cases passed!"
      ]
     },
     "execution_count": 36,
     "metadata": {},
     "output_type": "execute_result"
    }
   ],
   "source": [
    "grader.check(\"q13\")"
   ]
  },
  {
   "cell_type": "markdown",
   "id": "ba957451",
   "metadata": {
    "tags": []
   },
   "source": [
    "---"
   ]
  },
  {
   "cell_type": "markdown",
   "id": "8acfe4e3",
   "metadata": {},
   "source": [
    "#### 14. Create a DataFrame called `returns` to store the monthly simple returns for the five stocks you were assigned. The sample period is January 1st, 2017 to October 31st, 2021. Each stock's price should be stored in a column labeled 'ticker', where ticker represents that stock's trading ticker.\n",
    "\n",
    "_Points:_ 5"
   ]
  },
  {
   "cell_type": "code",
   "execution_count": 37,
   "id": "a45b3221",
   "metadata": {
    "scrolled": true,
    "tags": []
   },
   "outputs": [
    {
     "data": {
      "text/html": [
       "<div>\n",
       "<style scoped>\n",
       "    .dataframe tbody tr th:only-of-type {\n",
       "        vertical-align: middle;\n",
       "    }\n",
       "\n",
       "    .dataframe tbody tr th {\n",
       "        vertical-align: top;\n",
       "    }\n",
       "\n",
       "    .dataframe thead th {\n",
       "        text-align: right;\n",
       "    }\n",
       "</style>\n",
       "<table border=\"1\" class=\"dataframe\">\n",
       "  <thead>\n",
       "    <tr style=\"text-align: right;\">\n",
       "      <th></th>\n",
       "      <th>CAT</th>\n",
       "      <th>CSCO</th>\n",
       "      <th>DIS</th>\n",
       "      <th>HD</th>\n",
       "      <th>WMT</th>\n",
       "    </tr>\n",
       "    <tr>\n",
       "      <th>Date</th>\n",
       "      <th></th>\n",
       "      <th></th>\n",
       "      <th></th>\n",
       "      <th></th>\n",
       "      <th></th>\n",
       "    </tr>\n",
       "  </thead>\n",
       "  <tbody>\n",
       "    <tr>\n",
       "      <th>2017-01-31</th>\n",
       "      <td>0.040045</td>\n",
       "      <td>0.025274</td>\n",
       "      <td>0.061697</td>\n",
       "      <td>0.026104</td>\n",
       "      <td>-0.034433</td>\n",
       "    </tr>\n",
       "    <tr>\n",
       "      <th>2017-02-28</th>\n",
       "      <td>0.010454</td>\n",
       "      <td>0.112630</td>\n",
       "      <td>-0.005061</td>\n",
       "      <td>0.053279</td>\n",
       "      <td>0.062781</td>\n",
       "    </tr>\n",
       "    <tr>\n",
       "      <th>2017-03-31</th>\n",
       "      <td>-0.040348</td>\n",
       "      <td>-0.011118</td>\n",
       "      <td>0.029975</td>\n",
       "      <td>0.019416</td>\n",
       "      <td>0.023686</td>\n",
       "    </tr>\n",
       "    <tr>\n",
       "      <th>2017-04-30</th>\n",
       "      <td>0.111572</td>\n",
       "      <td>0.016769</td>\n",
       "      <td>0.019490</td>\n",
       "      <td>0.063134</td>\n",
       "      <td>0.043008</td>\n",
       "    </tr>\n",
       "    <tr>\n",
       "      <th>2017-05-31</th>\n",
       "      <td>0.030999</td>\n",
       "      <td>-0.074553</td>\n",
       "      <td>-0.066263</td>\n",
       "      <td>-0.010909</td>\n",
       "      <td>0.052487</td>\n",
       "    </tr>\n",
       "  </tbody>\n",
       "</table>\n",
       "</div>"
      ],
      "text/plain": [
       "                 CAT      CSCO       DIS        HD       WMT\n",
       "Date                                                        \n",
       "2017-01-31  0.040045  0.025274  0.061697  0.026104 -0.034433\n",
       "2017-02-28  0.010454  0.112630 -0.005061  0.053279  0.062781\n",
       "2017-03-31 -0.040348 -0.011118  0.029975  0.019416  0.023686\n",
       "2017-04-30  0.111572  0.016769  0.019490  0.063134  0.043008\n",
       "2017-05-31  0.030999 -0.074553 -0.066263 -0.010909  0.052487"
      ]
     },
     "execution_count": 37,
     "metadata": {},
     "output_type": "execute_result"
    }
   ],
   "source": [
    "returns = investments.pct_change().dropna()\n",
    "returns.head()"
   ]
  },
  {
   "cell_type": "code",
   "execution_count": 38,
   "id": "1b3bd801",
   "metadata": {
    "deletable": false,
    "editable": false
   },
   "outputs": [
    {
     "data": {
      "text/html": [
       "<p><strong><pre style='display: inline;'>q14</pre></strong> passed! 🎉</p>"
      ],
      "text/plain": [
       "q14 results: All test cases passed!"
      ]
     },
     "execution_count": 38,
     "metadata": {},
     "output_type": "execute_result"
    }
   ],
   "source": [
    "grader.check(\"q14\")"
   ]
  },
  {
   "cell_type": "markdown",
   "id": "f431c93d",
   "metadata": {},
   "source": [
    "---"
   ]
  },
  {
   "cell_type": "markdown",
   "id": "56a6f012",
   "metadata": {},
   "source": [
    "#### 15. Which stock had the highest total return over the sample period March 1st, 2018 - December 2020? What was the return? Store the two values in two variables labeled `stock_ans15` and `ret_ans15`.\n",
    "\n",
    "_Points:_ 5"
   ]
  },
  {
   "cell_type": "code",
   "execution_count": 39,
   "id": "22b79a98",
   "metadata": {
    "tags": []
   },
   "outputs": [
    {
     "data": {
      "text/plain": [
       "CAT     0.331386\n",
       "CSCO    0.134976\n",
       "DIS     0.854862\n",
       "HD      0.593267\n",
       "WMT     0.710310\n",
       "dtype: float64"
      ]
     },
     "execution_count": 39,
     "metadata": {},
     "output_type": "execute_result"
    }
   ],
   "source": [
    "sample_investments = investments.loc['2018-03-01':'2020-12']\n",
    "inv_ret = sample_investments.iloc[-1] / sample_investments.iloc[0] - 1\n",
    "\n",
    "# index of max val\n",
    "stock_ans15 = inv_ret.idxmax()\n",
    "\n",
    "# highest return\n",
    "ret_ans15 = inv_ret.loc[stock_ans15]\n",
    "\n",
    "inv_ret"
   ]
  },
  {
   "cell_type": "code",
   "execution_count": 40,
   "id": "4378262e",
   "metadata": {
    "deletable": false,
    "editable": false
   },
   "outputs": [
    {
     "data": {
      "text/html": [
       "<p><strong><pre style='display: inline;'>q15</pre></strong> passed! 💯</p>"
      ],
      "text/plain": [
       "q15 results: All test cases passed!"
      ]
     },
     "execution_count": 40,
     "metadata": {},
     "output_type": "execute_result"
    }
   ],
   "source": [
    "grader.check(\"q15\")"
   ]
  },
  {
   "cell_type": "markdown",
   "id": "f44a781a",
   "metadata": {},
   "source": [
    "---"
   ]
  },
  {
   "cell_type": "markdown",
   "id": "f8a3814c",
   "metadata": {},
   "source": [
    "### PART 4"
   ]
  },
  {
   "cell_type": "markdown",
   "id": "d7c47a37",
   "metadata": {
    "tags": []
   },
   "source": [
    "#### 16. Create a new DataFrame labeled `portfolios` to compute and store the returns of three portfolios: a) a monthly-rebalanced portfolio allocated to the five stocks according to the optimal weights (Label the column 'OP_MR') and b) two buy-and-hold portfolios allocated to the five stocks according to the random weights, as well as the optimal weights (Label the columns 'RW_BH' and 'OP_BH', respectively). Drop any observations with missing values.\n",
    "\n",
    "_Points:_ 5"
   ]
  },
  {
   "cell_type": "code",
   "execution_count": 41,
   "id": "c9d3905c",
   "metadata": {
    "tags": []
   },
   "outputs": [],
   "source": [
    "# optimal weights, rebalanced\n",
    "op_mr = pd.DataFrame({'OP_MR':np.dot(returns,list(weights.OP_weights))},index = returns.index)\n",
    "\n",
    "# random weights, bh\n",
    "rw_bh = pd.DataFrame({'RW_BH': np.dot(investments, list(weights.RD_weights))},index = investments.index)\n",
    "rw_bh['RW_BH'] = rw_bh['RW_BH'].pct_change()\n",
    "\n",
    "# optimal weights, bh\n",
    "op_bh = pd.DataFrame({'OP_BH': np.dot(investments, list(weights.OP_weights))},index = investments.index)\n",
    "op_bh['OP_BH'] = op_bh['OP_BH'].pct_change()"
   ]
  },
  {
   "cell_type": "code",
   "execution_count": 42,
   "id": "e31b847c",
   "metadata": {},
   "outputs": [],
   "source": [
    "# merging and dropping missing vals\n",
    "portfolios = pd.concat([op_mr, rw_bh, op_bh], axis=1, join='inner').dropna()"
   ]
  },
  {
   "cell_type": "code",
   "execution_count": 43,
   "id": "07c1d29c",
   "metadata": {},
   "outputs": [
    {
     "data": {
      "text/html": [
       "<div>\n",
       "<style scoped>\n",
       "    .dataframe tbody tr th:only-of-type {\n",
       "        vertical-align: middle;\n",
       "    }\n",
       "\n",
       "    .dataframe tbody tr th {\n",
       "        vertical-align: top;\n",
       "    }\n",
       "\n",
       "    .dataframe thead th {\n",
       "        text-align: right;\n",
       "    }\n",
       "</style>\n",
       "<table border=\"1\" class=\"dataframe\">\n",
       "  <thead>\n",
       "    <tr style=\"text-align: right;\">\n",
       "      <th></th>\n",
       "      <th>OP_MR</th>\n",
       "      <th>RW_BH</th>\n",
       "      <th>OP_BH</th>\n",
       "    </tr>\n",
       "    <tr>\n",
       "      <th>Date</th>\n",
       "      <th></th>\n",
       "      <th></th>\n",
       "      <th></th>\n",
       "    </tr>\n",
       "  </thead>\n",
       "  <tbody>\n",
       "    <tr>\n",
       "      <th>2017-01-31</th>\n",
       "      <td>0.025474</td>\n",
       "      <td>0.015359</td>\n",
       "      <td>0.025474</td>\n",
       "    </tr>\n",
       "    <tr>\n",
       "      <th>2017-02-28</th>\n",
       "      <td>0.039749</td>\n",
       "      <td>0.074682</td>\n",
       "      <td>0.039127</td>\n",
       "    </tr>\n",
       "    <tr>\n",
       "      <th>2017-03-31</th>\n",
       "      <td>0.022837</td>\n",
       "      <td>0.007045</td>\n",
       "      <td>0.022787</td>\n",
       "    </tr>\n",
       "    <tr>\n",
       "      <th>2017-04-30</th>\n",
       "      <td>0.048592</td>\n",
       "      <td>0.043425</td>\n",
       "      <td>0.048730</td>\n",
       "    </tr>\n",
       "    <tr>\n",
       "      <th>2017-05-31</th>\n",
       "      <td>-0.014920</td>\n",
       "      <td>-0.021872</td>\n",
       "      <td>-0.014923</td>\n",
       "    </tr>\n",
       "  </tbody>\n",
       "</table>\n",
       "</div>"
      ],
      "text/plain": [
       "               OP_MR     RW_BH     OP_BH\n",
       "Date                                    \n",
       "2017-01-31  0.025474  0.015359  0.025474\n",
       "2017-02-28  0.039749  0.074682  0.039127\n",
       "2017-03-31  0.022837  0.007045  0.022787\n",
       "2017-04-30  0.048592  0.043425  0.048730\n",
       "2017-05-31 -0.014920 -0.021872 -0.014923"
      ]
     },
     "execution_count": 43,
     "metadata": {},
     "output_type": "execute_result"
    }
   ],
   "source": [
    "portfolios.head()"
   ]
  },
  {
   "cell_type": "code",
   "execution_count": 44,
   "id": "6c73a6a7",
   "metadata": {
    "deletable": false,
    "editable": false
   },
   "outputs": [
    {
     "data": {
      "text/html": [
       "<p><strong><pre style='display: inline;'>q16</pre></strong> passed! 🙌</p>"
      ],
      "text/plain": [
       "q16 results: All test cases passed!"
      ]
     },
     "execution_count": 44,
     "metadata": {},
     "output_type": "execute_result"
    }
   ],
   "source": [
    "grader.check(\"q16\")"
   ]
  },
  {
   "cell_type": "markdown",
   "id": "b18e20f6",
   "metadata": {},
   "source": [
    "---"
   ]
  },
  {
   "cell_type": "markdown",
   "id": "a1e6851a",
   "metadata": {},
   "source": [
    "<!-- BEGIN QUESTION -->\n",
    "\n",
    "#### 17. Create one bar plot of the three portfolios' annualized monthly standard deviations across years 2017-2020. Use \"figsize\", \"grid\" and \"title\" arguments in your plot.\n",
    "\n",
    "_Points:_ 5"
   ]
  },
  {
   "cell_type": "code",
   "execution_count": 45,
   "id": "df036358",
   "metadata": {
    "tags": []
   },
   "outputs": [
    {
     "data": {
      "image/png": "[encoded data removed]",
      "text/plain": [
       "<Figure size 1200x600 with 1 Axes>"
      ]
     },
     "metadata": {},
     "output_type": "display_data"
    }
   ],
   "source": [
    "# cutting down to 2017-2020, as required\n",
    "sample_portfolios = portfolios.loc['2017-01-01':'2021-01-01']\n",
    "annualized_std = sample_portfolios.resample('Y').apply(lambda x: x.std() * np.sqrt(12))\n",
    "\n",
    "# plotting stds\n",
    "annualized_std.plot(kind='bar', figsize=(12, 6), grid=True, title='Annualized Monthly Standard Deviation of Three Portfolios')\n",
    "\n",
    "plt.ylabel('Annualized Standard Deviation')\n",
    "plt.xlabel('Portfolio')\n",
    "plt.show()"
   ]
  },
  {
   "cell_type": "markdown",
   "id": "df6e5e98",
   "metadata": {},
   "source": [
    "<!-- END QUESTION -->\n",
    "\n",
    "---"
   ]
  },
  {
   "cell_type": "markdown",
   "id": "214bdf12",
   "metadata": {},
   "source": [
    "#### 18. Which of the three portfolios was the best performer over the entire sample period? What was its' cumulative (total) return over the entire sample period? Store the two values in two variables called `port18` and `ret18`, respectively.\n",
    "\n",
    "_Points:_ 5"
   ]
  },
  {
   "cell_type": "code",
   "execution_count": 46,
   "id": "7bac6ec1",
   "metadata": {
    "tags": []
   },
   "outputs": [
    {
     "data": {
      "text/plain": [
       "('OP_MR', 1.6684230565241016)"
      ]
     },
     "execution_count": 46,
     "metadata": {},
     "output_type": "execute_result"
    }
   ],
   "source": [
    "cumulative_returns = portfolios.add(1).cumprod().iloc[-1] - 1\n",
    "\n",
    "# finding the best performer\n",
    "port18 = cumulative_returns.idxmax()\n",
    "ret18 = cumulative_returns[port18]\n",
    "\n",
    "port18, ret18"
   ]
  },
  {
   "cell_type": "code",
   "execution_count": 47,
   "id": "7da67299",
   "metadata": {},
   "outputs": [
    {
     "data": {
      "text/plain": [
       "OP_MR    1.668423\n",
       "RW_BH    1.601746\n",
       "OP_BH    1.620765\n",
       "Name: 2021-10-31 00:00:00, dtype: float64"
      ]
     },
     "execution_count": 47,
     "metadata": {},
     "output_type": "execute_result"
    }
   ],
   "source": [
    "cumulative_returns"
   ]
  },
  {
   "cell_type": "code",
   "execution_count": 48,
   "id": "08a05117",
   "metadata": {
    "deletable": false,
    "editable": false
   },
   "outputs": [
    {
     "data": {
      "text/html": [
       "<p><strong><pre style='display: inline;'>q18</pre></strong> passed! 💯</p>"
      ],
      "text/plain": [
       "q18 results: All test cases passed!"
      ]
     },
     "execution_count": 48,
     "metadata": {},
     "output_type": "execute_result"
    }
   ],
   "source": [
    "grader.check(\"q18\")"
   ]
  },
  {
   "cell_type": "markdown",
   "id": "9ea52766",
   "metadata": {},
   "source": [
    "---"
   ]
  },
  {
   "cell_type": "markdown",
   "id": "eb54eda9",
   "metadata": {},
   "source": [
    "#### 19. Which of the three portfolios had the highest Sharpe ratio over the entire sample period? What was its Sharpe Ratio? Store the two values in two variables called `port19` and `sr19`, respectively. (Hint: Use the already created `ff_factors` DataFrame from Part 1 to answer this question).\n",
    "\n",
    "_Points:_ 5"
   ]
  },
  {
   "cell_type": "code",
   "execution_count": 49,
   "id": "b436e2ed",
   "metadata": {
    "tags": []
   },
   "outputs": [
    {
     "data": {
      "text/plain": [
       "('OP_MR', 1.182523798746447)"
      ]
     },
     "execution_count": 49,
     "metadata": {},
     "output_type": "execute_result"
    }
   ],
   "source": [
    "excess_returns2 = portfolios.subtract(ff_factors['RF'], axis=0)\n",
    "index1_SR2 = (excess_returns2[portfolios.columns[0]].mean()*12) / (excess_returns2[portfolios.columns[0]].std() *np.sqrt(12))\n",
    "index2_SR2 = (excess_returns2[portfolios.columns[1]].mean()*12) / (excess_returns2[portfolios.columns[1]].std()*np.sqrt(12))\n",
    "index3_SR2 = (excess_returns2[portfolios.columns[2]].mean()*12) / (excess_returns2[portfolios.columns[2]].std()*np.sqrt(12))\n",
    "\n",
    "qs19 = {portfolios.columns[0]:index1_SR2, portfolios.columns[1]: index2_SR2, portfolios.columns[2]:index3_SR2}\n",
    "port19 = max(qs19, key=qs19.get)\n",
    "\n",
    "# largest val\n",
    "sr19 = qs19[port19]\n",
    "\n",
    "port19,  sr19"
   ]
  },
  {
   "cell_type": "code",
   "execution_count": 50,
   "id": "39b95590",
   "metadata": {},
   "outputs": [
    {
     "data": {
      "text/plain": [
       "{'OP_MR': 1.182523798746447,\n",
       " 'RW_BH': 1.1761808463985162,\n",
       " 'OP_BH': 1.1636413303444335}"
      ]
     },
     "execution_count": 50,
     "metadata": {},
     "output_type": "execute_result"
    }
   ],
   "source": [
    "qs19"
   ]
  },
  {
   "cell_type": "code",
   "execution_count": 51,
   "id": "f972e256",
   "metadata": {
    "deletable": false,
    "editable": false
   },
   "outputs": [
    {
     "data": {
      "text/html": [
       "<p><strong><pre style='display: inline;'>q19</pre></strong> passed! 🎉</p>"
      ],
      "text/plain": [
       "q19 results: All test cases passed!"
      ]
     },
     "execution_count": 51,
     "metadata": {},
     "output_type": "execute_result"
    }
   ],
   "source": [
    "grader.check(\"q19\")"
   ]
  },
  {
   "cell_type": "markdown",
   "id": "3332bcd1",
   "metadata": {},
   "source": [
    "---"
   ]
  },
  {
   "cell_type": "markdown",
   "id": "f0e3e565",
   "metadata": {},
   "source": [
    "<!-- BEGIN QUESTION -->\n",
    "\n",
    "#### 20. Run the Fama-French 4 factor model for the portfolio with the highest Sharpe ratio and print the output of the regression. Did the portfolio outperform or underperform? Briefly explain.(Hint: Use the already created `ff_factors` DataFrame from Part 1 to answer this question).\n",
    "\n",
    "_Points:_ 5"
   ]
  },
  {
   "cell_type": "code",
   "execution_count": 52,
   "id": "c868616b",
   "metadata": {
    "tags": []
   },
   "outputs": [
    {
     "name": "stdout",
     "output_type": "stream",
     "text": [
      "                            OLS Regression Results                            \n",
      "==============================================================================\n",
      "Dep. Variable:                  OP_MR   R-squared:                       0.726\n",
      "Model:                            OLS   Adj. R-squared:                  0.705\n",
      "Method:                 Least Squares   F-statistic:                     35.03\n",
      "Date:                Mon, 24 Apr 2023   Prob (F-statistic):           2.66e-14\n",
      "Time:                        12:50:56   Log-Likelihood:                 128.24\n",
      "No. Observations:                  58   AIC:                            -246.5\n",
      "Df Residuals:                      53   BIC:                            -236.2\n",
      "Df Model:                           4                                         \n",
      "Covariance Type:            nonrobust                                         \n",
      "==============================================================================\n",
      "                 coef    std err          t      P>|t|      [0.025      0.975]\n",
      "------------------------------------------------------------------------------\n",
      "Alpha          0.0041      0.004      1.028      0.308      -0.004       0.012\n",
      "MKTRF Beta     0.9436      0.089     10.634      0.000       0.766       1.122\n",
      "SMB Beta      -0.3336      0.146     -2.279      0.027      -0.627      -0.040\n",
      "HML Beta       0.0262      0.119      0.221      0.826      -0.211       0.264\n",
      "MOM Beta      -0.0387      0.121     -0.320      0.750      -0.282       0.204\n",
      "==============================================================================\n",
      "Omnibus:                        2.339   Durbin-Watson:                   2.118\n",
      "Prob(Omnibus):                  0.311   Jarque-Bera (JB):                2.062\n",
      "Skew:                           0.458   Prob(JB):                        0.357\n",
      "Kurtosis:                       2.887   Cond. No.                         42.2\n",
      "==============================================================================\n",
      "\n",
      "Notes:\n",
      "[1] Standard Errors assume that the covariance matrix of the errors is correctly specified.\n"
     ]
    }
   ],
   "source": [
    "Y = portfolios[port19]-ff_factors['RF']\n",
    "X = sm.add_constant(ff_factors[['Mkt-RF','SMB','HML', 'MOM']])\n",
    "\n",
    "reg = sm.OLS(Y,X, missing = 'drop').fit()\n",
    "\n",
    "print(reg.summary(yname = f'{port19}', xname = ['Alpha', 'MKTRF Beta', 'SMB Beta', 'HML Beta', 'MOM Beta']))"
   ]
  },
  {
   "cell_type": "markdown",
   "id": "7938e4b6",
   "metadata": {
    "tags": []
   },
   "source": [
    "# Brief Explanation\n",
    "OP_MR (port19 answer) outperformed. The alpha coefficient returned from the regression was 0.0041, which shows that it is statistically significant since this is less than our alpha value of 0.05. Since this value is positive, that means it falls in the right and is thereform outperform."
   ]
  },
  {
   "cell_type": "markdown",
   "id": "9b4f3d7a",
   "metadata": {},
   "source": [
    "<!-- END QUESTION -->\n",
    "\n",
    "---"
   ]
  },
  {
   "cell_type": "markdown",
   "id": "254f83fd",
   "metadata": {
    "deletable": false,
    "editable": false
   },
   "source": [
    "## Submission\n",
    "\n",
    "Make sure you have run all cells in your notebook in order before running the cell below, so that all images/graphs appear in the output. The cell below will generate a zip file for you to submit. **Please save before exporting!**"
   ]
  },
  {
   "cell_type": "code",
   "execution_count": 53,
   "id": "e3fd33c3",
   "metadata": {
    "deletable": false,
    "editable": false
   },
   "outputs": [
    {
     "name": "stdout",
     "output_type": "stream",
     "text": [
      "Running your submission against local test cases...\n",
      "\n",
      "\n",
      "\n",
      "Your submission received the following results when run against available test cases:\n",
      "\n",
      "    q01 results: All test cases passed!\n",
      "\n",
      "    q03 results: All test cases passed!\n",
      "\n",
      "    q04 results: All test cases passed!\n",
      "\n",
      "    q08 results: All test cases passed!\n",
      "\n",
      "    q09 results: All test cases passed!\n",
      "\n",
      "    q10 results: All test cases passed!\n",
      "\n",
      "    q11 results: All test cases passed!\n",
      "\n",
      "    q12 results: All test cases passed!\n",
      "\n",
      "    q13 results: All test cases passed!\n",
      "\n",
      "    q14 results: All test cases passed!\n",
      "\n",
      "    q15 results: All test cases passed!\n",
      "\n",
      "    q16 results: All test cases passed!\n",
      "\n",
      "    q18 results: All test cases passed!\n",
      "\n",
      "    q19 results: All test cases passed!\n"
     ]
    },
    {
     "data": {
      "text/html": [
       "\n",
       "            <p>Your submission has been exported. Click <a href=\"Final_Gradescope_2023_04_24T12_50_56_835499.zip\" download=\"Final_Gradescope_2023_04_24T12_50_56_835499.zip\" target=\"_blank\">here</a>\n",
       "            to download the zip file.</p>\n",
       "            "
      ],
      "text/plain": [
       "<IPython.core.display.HTML object>"
      ]
     },
     "metadata": {},
     "output_type": "display_data"
    }
   ],
   "source": [
    "# Save your notebook first, then run this cell to export your submission.\n",
    "grader.export(pdf=False, run_tests=True)"
   ]
  },
  {
   "cell_type": "markdown",
   "id": "86bfd198",
   "metadata": {},
   "source": [
    " "
   ]
  }
 ],
 "metadata": {
  "kernelspec": {
   "display_name": "Python 3 (ipykernel)",
   "language": "python",
   "name": "python3"
  },
  "language_info": {
   "codemirror_mode": {
    "name": "ipython",
    "version": 3
   },
   "file_extension": ".py",
   "mimetype": "text/x-python",
   "name": "python",
   "nbconvert_exporter": "python",
   "pygments_lexer": "ipython3",
   "version": "3.8.13"
  },
  "otter": {
   "OK_FORMAT": true,
   "tests": {
    "q01": {
     "name": "q01",
     "points": 5,
     "suites": [
      {
       "cases": [
        {
         "code": ">>> type(index_mon)==pd.core.frame.DataFrame\nTrue",
         "hidden": false,
         "locked": false,
         "points": 2
        },
        {
         "code": ">>> index_mon.shape == (58, 2) or index_mon.shape == (59, 2)\nTrue",
         "hidden": false,
         "locked": false,
         "points": 1
        },
        {
         "code": ">>> np.allclose(np.sort(index_mon.sum().values),np.sort(np.array([0.65825754,1.13901738])))\nTrue",
         "hidden": false,
         "locked": false,
         "points": 2
        }
       ],
       "scored": true,
       "setup": "",
       "teardown": "",
       "type": "doctest"
      }
     ]
    },
    "q03": {
     "name": "q03",
     "points": 5,
     "suites": [
      {
       "cases": [
        {
         "code": ">>> type(ff_factors)==pd.core.frame.DataFrame\nTrue",
         "hidden": false,
         "locked": false,
         "points": 1.5
        },
        {
         "code": ">>> ff_factors.shape == (58,5)\nTrue",
         "hidden": false,
         "locked": false,
         "points": 2
        },
        {
         "code": ">>> np.allclose(np.sort(ff_factors.sum().values),np.sort(np.array([-0.4593,0.0161,0.0519,0.1137,0.8438])))\nTrue",
         "hidden": false,
         "locked": false,
         "points": 1.5
        }
       ],
       "scored": true,
       "setup": "",
       "teardown": "",
       "type": "doctest"
      }
     ]
    },
    "q04": {
     "name": "q04",
     "points": 5,
     "suites": [
      {
       "cases": [
        {
         "code": ">>> index1_SR!=np.nan\nTrue",
         "hidden": false,
         "locked": false,
         "points": 1
        },
        {
         "code": ">>> index2_SR!=np.nan\nTrue",
         "hidden": false,
         "locked": false,
         "points": 1
        }
       ],
       "scored": true,
       "setup": "",
       "teardown": "",
       "type": "doctest"
      }
     ]
    },
    "q08": {
     "name": "q08",
     "points": 5,
     "suites": [
      {
       "cases": [
        {
         "code": ">>> type(returns_pt2)==pd.core.frame.DataFrame\nTrue",
         "hidden": false,
         "locked": false,
         "points": 2
        },
        {
         "code": ">>> returns_pt2.shape == (61,5) or returns_pt2.shape == (60,5)\nTrue",
         "hidden": false,
         "locked": false,
         "points": 1
        },
        {
         "code": ">>> np.allclose(np.sort(returns_pt2.sum().values),np.sort(np.array([0.31986158,0.33935759,0.79796589,1.17750704,1.34293645])))\nTrue",
         "hidden": false,
         "locked": false,
         "points": 2
        }
       ],
       "scored": true,
       "setup": "",
       "teardown": "",
       "type": "doctest"
      }
     ]
    },
    "q09": {
     "name": "q09",
     "points": 5,
     "suites": [
      {
       "cases": [
        {
         "code": ">>> type(rf_rate)==pd.core.frame.DataFrame or type(rf_rate)==pandas.core.series.Series\nTrue",
         "hidden": false,
         "locked": false,
         "points": 2
        },
        {
         "code": ">>> rf_rate.shape == (60,1) or rf_rate.shape == (60,)\nTrue",
         "hidden": false,
         "locked": false,
         "points": 1
        },
        {
         "code": ">>> np.allclose(rf_rate.sum().values,np.array([0.0028])) or np.allclose(rf_rate.sum(),0.0028)\nTrue",
         "hidden": false,
         "locked": false,
         "points": 1.5
        }
       ],
       "scored": true,
       "setup": "",
       "teardown": "",
       "type": "doctest"
      }
     ]
    },
    "q10": {
     "name": "q10",
     "points": 5,
     "suites": [
      {
       "cases": [
        {
         "code": ">>> weights.shape == (5,1)\nTrue",
         "hidden": false,
         "locked": false,
         "points": 2
        },
        {
         "code": ">>> np.allclose(weights.std().values,np.array([0.23912996]))\nTrue",
         "hidden": false,
         "locked": false,
         "points": 3
        }
       ],
       "scored": true,
       "setup": "",
       "teardown": "",
       "type": "doctest"
      }
     ]
    },
    "q11": {
     "name": "q11",
     "points": 5,
     "suites": [
      {
       "cases": [
        {
         "code": ">>> weights.shape == (5,2)\nTrue",
         "hidden": false,
         "locked": false,
         "points": 2
        },
        {
         "code": ">>> np.allclose(np.sort(weights.std().values),np.sort(np.array([0.18628195, 0.23912996])))\nTrue",
         "hidden": false,
         "locked": false,
         "points": 3
        }
       ],
       "scored": true,
       "setup": "",
       "teardown": "",
       "type": "doctest"
      }
     ]
    },
    "q12": {
     "name": "q12",
     "points": 5,
     "suites": [
      {
       "cases": [
        {
         "code": ">>> type(prices)==pd.core.frame.DataFrame\nTrue",
         "hidden": false,
         "locked": false,
         "points": 2
        },
        {
         "code": ">>> prices.shape == (59,5) or prices.shape == (58,5)\nTrue",
         "hidden": false,
         "locked": false,
         "points": 1
        },
        {
         "code": ">>> np.allclose(np.sort(prices.sum().values),np.sort(np.array([2326.25641251,6023.49720001,7462.45547485,7877.95854187,11898.8943634])))\nTrue",
         "hidden": false,
         "locked": false,
         "points": 2
        }
       ],
       "scored": true,
       "setup": "",
       "teardown": "",
       "type": "doctest"
      }
     ]
    },
    "q13": {
     "name": "q13",
     "points": 5,
     "suites": [
      {
       "cases": [
        {
         "code": ">>> type(investments)==pd.core.frame.DataFrame\nTrue",
         "hidden": false,
         "locked": false,
         "points": 2
        },
        {
         "code": ">>> investments.shape == (59,5) or investments.shape == (58,5)\nTrue",
         "hidden": false,
         "locked": false,
         "points": 1
        },
        {
         "code": ">>> np.allclose(np.sort(investments.sum().values),np.sort(np.array([74.77171135,94.20542144,98.35957192,100.0358243,102.90633503])))\nTrue",
         "hidden": false,
         "locked": false,
         "points": 2
        }
       ],
       "scored": true,
       "setup": "",
       "teardown": "",
       "type": "doctest"
      }
     ]
    },
    "q14": {
     "name": "q14",
     "points": 5,
     "suites": [
      {
       "cases": [
        {
         "code": ">>> type(returns)==pd.core.frame.DataFrame\nTrue",
         "hidden": false,
         "locked": false,
         "points": 2
        },
        {
         "code": ">>> returns.shape == (59,5) or returns.shape == (58,5)\nTrue",
         "hidden": false,
         "locked": false,
         "points": 1
        },
        {
         "code": ">>> np.allclose(np.sort(returns.sum().values),np.sort(np.array([0.70184885,0.91500946,0.95310957,1.08387012,1.25443217])))\nTrue",
         "hidden": false,
         "locked": false,
         "points": 2
        }
       ],
       "scored": true,
       "setup": "",
       "teardown": "",
       "type": "doctest"
      }
     ]
    },
    "q15": {
     "name": "q15",
     "points": 5,
     "suites": [
      {
       "cases": [
        {
         "code": ">>> stock_ans15!=np.nan\nTrue",
         "hidden": false,
         "locked": false,
         "points": 1
        },
        {
         "code": ">>> ret_ans15!=np.nan\nTrue",
         "hidden": false,
         "locked": false,
         "points": 1
        }
       ],
       "scored": true,
       "setup": "",
       "teardown": "",
       "type": "doctest"
      }
     ]
    },
    "q16": {
     "name": "q16",
     "points": 5,
     "suites": [
      {
       "cases": [
        {
         "code": ">>> portfolios.shape == (58, 3)\nTrue",
         "hidden": false,
         "locked": false,
         "points": 2
        }
       ],
       "scored": true,
       "setup": "",
       "teardown": "",
       "type": "doctest"
      }
     ]
    },
    "q18": {
     "name": "q18",
     "points": 5,
     "suites": [
      {
       "cases": [
        {
         "code": ">>> port18!=np.nan\nTrue",
         "hidden": false,
         "locked": false,
         "points": 1
        },
        {
         "code": ">>> ret18!=np.nan\nTrue",
         "hidden": false,
         "locked": false,
         "points": 1
        }
       ],
       "scored": true,
       "setup": "",
       "teardown": "",
       "type": "doctest"
      }
     ]
    },
    "q19": {
     "name": "q19",
     "points": 5,
     "suites": [
      {
       "cases": [
        {
         "code": ">>> port19!=np.nan\nTrue",
         "hidden": false,
         "locked": false,
         "points": 1
        },
        {
         "code": ">>> sr19!=np.nan\nTrue",
         "hidden": false,
         "locked": false,
         "points": 1
        }
       ],
       "scored": true,
       "setup": "",
       "teardown": "",
       "type": "doctest"
      }
     ]
    }
   }
  }
 },
 "nbformat": 4,
 "nbformat_minor": 5
}
