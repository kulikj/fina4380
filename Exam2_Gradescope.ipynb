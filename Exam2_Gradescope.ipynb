{
 "cells": [
  {
   "cell_type": "code",
   "execution_count": 1,
   "id": "948a658c",
   "metadata": {
    "deletable": false,
    "editable": false
   },
   "outputs": [],
   "source": [
    "# Initialize Otter\n",
    "import otter\n",
    "grader = otter.Notebook(\"Exam2_Gradescope.ipynb\")"
   ]
  },
  {
   "cell_type": "markdown",
   "id": "dc07298c",
   "metadata": {},
   "source": [
    "## Exam 2"
   ]
  },
  {
   "cell_type": "markdown",
   "id": "22ee7a5a",
   "metadata": {},
   "source": [
    "**Northeastern University Honor Code**\\\n",
    "On my honor, I pledge to uphold the values of honesty, integrity, and respect that are expected of me as a Northeastern student."
   ]
  },
  {
   "cell_type": "markdown",
   "id": "f1be30d4",
   "metadata": {},
   "source": [
    "**Signature: Jacob Kulik**"
   ]
  },
  {
   "cell_type": "markdown",
   "id": "c672747a",
   "metadata": {},
   "source": [
    "#### Import the Necessary Libraries"
   ]
  },
  {
   "cell_type": "code",
   "execution_count": 2,
   "id": "fa1d3465",
   "metadata": {},
   "outputs": [],
   "source": [
    "import numpy as np\n",
    "import pandas as pd\n",
    "import datetime as dt\n",
    "import yfinance as yf"
   ]
  },
  {
   "cell_type": "markdown",
   "id": "6421a728",
   "metadata": {
    "tags": []
   },
   "source": [
    "#### 1. Create a DataFrame named **fin_data** by reading in only the columns labeled 'DATE', 'TICKER', 'PRC', 'CFACPR' and 'SHROUT' from the file entitled exam2_data.csv. Set the column labeled 'DATE' as the index. In addition, create two new columns: a) 'ADJ_PRC' to store the adjusted closing price, defined as PRC/CFACPR, and b) 'MKTCAP' to store the market capitalization, defined as PRC x SHROUT. Subsequently, permanently remove PRC and CFACPR from the DataFrame.\n",
    "The file \"exam2_data.csv\" contains the following columns:\n",
    "   * DATE\n",
    "   * TICKER\n",
    "   * PRC - The closing price\n",
    "   * SHROUT - The number of shares outstanding\n",
    "   * CFACPR - Cumulative factor to adjust the closing price\n",
    "   * SPRTRN - The daily return on the S&P500 index\n",
    "\n",
    "_Points:_ 10"
   ]
  },
  {
   "cell_type": "code",
   "execution_count": 3,
   "id": "beb4ad07",
   "metadata": {
    "scrolled": true,
    "tags": []
   },
   "outputs": [
    {
     "data": {
      "text/html": [
       "<div>\n",
       "<style scoped>\n",
       "    .dataframe tbody tr th:only-of-type {\n",
       "        vertical-align: middle;\n",
       "    }\n",
       "\n",
       "    .dataframe tbody tr th {\n",
       "        vertical-align: top;\n",
       "    }\n",
       "\n",
       "    .dataframe thead th {\n",
       "        text-align: right;\n",
       "    }\n",
       "</style>\n",
       "<table border=\"1\" class=\"dataframe\">\n",
       "  <thead>\n",
       "    <tr style=\"text-align: right;\">\n",
       "      <th></th>\n",
       "      <th>TICKER</th>\n",
       "      <th>SHROUT</th>\n",
       "      <th>ADJ_PRC</th>\n",
       "      <th>MKTCAP</th>\n",
       "    </tr>\n",
       "    <tr>\n",
       "      <th>DATE</th>\n",
       "      <th></th>\n",
       "      <th></th>\n",
       "      <th></th>\n",
       "      <th></th>\n",
       "    </tr>\n",
       "  </thead>\n",
       "  <tbody>\n",
       "    <tr>\n",
       "      <th>2018-01-02</th>\n",
       "      <td>MSFT</td>\n",
       "      <td>7705000</td>\n",
       "      <td>85.95000</td>\n",
       "      <td>6.622448e+08</td>\n",
       "    </tr>\n",
       "    <tr>\n",
       "      <th>2018-01-03</th>\n",
       "      <td>MSFT</td>\n",
       "      <td>7705000</td>\n",
       "      <td>86.35000</td>\n",
       "      <td>6.653268e+08</td>\n",
       "    </tr>\n",
       "    <tr>\n",
       "      <th>2018-01-04</th>\n",
       "      <td>MSFT</td>\n",
       "      <td>7705000</td>\n",
       "      <td>87.11000</td>\n",
       "      <td>6.711826e+08</td>\n",
       "    </tr>\n",
       "    <tr>\n",
       "      <th>2018-01-05</th>\n",
       "      <td>MSFT</td>\n",
       "      <td>7705000</td>\n",
       "      <td>88.19000</td>\n",
       "      <td>6.795040e+08</td>\n",
       "    </tr>\n",
       "    <tr>\n",
       "      <th>2018-01-08</th>\n",
       "      <td>MSFT</td>\n",
       "      <td>7705000</td>\n",
       "      <td>88.28000</td>\n",
       "      <td>6.801974e+08</td>\n",
       "    </tr>\n",
       "    <tr>\n",
       "      <th>...</th>\n",
       "      <td>...</td>\n",
       "      <td>...</td>\n",
       "      <td>...</td>\n",
       "      <td>...</td>\n",
       "    </tr>\n",
       "    <tr>\n",
       "      <th>2022-12-23</th>\n",
       "      <td>UNH</td>\n",
       "      <td>934349</td>\n",
       "      <td>531.31000</td>\n",
       "      <td>4.964290e+08</td>\n",
       "    </tr>\n",
       "    <tr>\n",
       "      <th>2022-12-27</th>\n",
       "      <td>UNH</td>\n",
       "      <td>934349</td>\n",
       "      <td>531.98999</td>\n",
       "      <td>4.970643e+08</td>\n",
       "    </tr>\n",
       "    <tr>\n",
       "      <th>2022-12-28</th>\n",
       "      <td>UNH</td>\n",
       "      <td>934349</td>\n",
       "      <td>528.45001</td>\n",
       "      <td>4.937567e+08</td>\n",
       "    </tr>\n",
       "    <tr>\n",
       "      <th>2022-12-29</th>\n",
       "      <td>UNH</td>\n",
       "      <td>934349</td>\n",
       "      <td>529.88000</td>\n",
       "      <td>4.950928e+08</td>\n",
       "    </tr>\n",
       "    <tr>\n",
       "      <th>2022-12-30</th>\n",
       "      <td>UNH</td>\n",
       "      <td>934349</td>\n",
       "      <td>530.17999</td>\n",
       "      <td>4.953731e+08</td>\n",
       "    </tr>\n",
       "  </tbody>\n",
       "</table>\n",
       "<p>37770 rows × 4 columns</p>\n",
       "</div>"
      ],
      "text/plain": [
       "           TICKER   SHROUT    ADJ_PRC        MKTCAP\n",
       "DATE                                               \n",
       "2018-01-02   MSFT  7705000   85.95000  6.622448e+08\n",
       "2018-01-03   MSFT  7705000   86.35000  6.653268e+08\n",
       "2018-01-04   MSFT  7705000   87.11000  6.711826e+08\n",
       "2018-01-05   MSFT  7705000   88.19000  6.795040e+08\n",
       "2018-01-08   MSFT  7705000   88.28000  6.801974e+08\n",
       "...           ...      ...        ...           ...\n",
       "2022-12-23    UNH   934349  531.31000  4.964290e+08\n",
       "2022-12-27    UNH   934349  531.98999  4.970643e+08\n",
       "2022-12-28    UNH   934349  528.45001  4.937567e+08\n",
       "2022-12-29    UNH   934349  529.88000  4.950928e+08\n",
       "2022-12-30    UNH   934349  530.17999  4.953731e+08\n",
       "\n",
       "[37770 rows x 4 columns]"
      ]
     },
     "execution_count": 3,
     "metadata": {},
     "output_type": "execute_result"
    }
   ],
   "source": [
    "# reading in data\n",
    "fin_data = pd.read_csv('exam2_data.csv', usecols=['DATE', 'TICKER', 'PRC', 'CFACPR', 'SHROUT'])\n",
    "fin_data['DATE'] = pd.to_datetime(fin_data['DATE'], format='%m/%d/%y')\n",
    "fin_data.set_index('DATE', inplace=True)\n",
    "\n",
    "# new cols\n",
    "fin_data['ADJ_PRC'] = fin_data['PRC'] / fin_data['CFACPR']\n",
    "fin_data['MKTCAP'] = fin_data['PRC'] * fin_data['SHROUT']\n",
    "\n",
    "# drop\n",
    "fin_data.drop(['PRC', 'CFACPR'], axis=1, inplace=True)\n",
    "fin_data"
   ]
  },
  {
   "cell_type": "markdown",
   "id": "b2a8e653",
   "metadata": {},
   "source": [
    "---"
   ]
  },
  {
   "cell_type": "markdown",
   "id": "61c95f8c",
   "metadata": {
    "tags": []
   },
   "source": [
    "#### Use your NEU ID # in the code below. There will be a significant point discount for failing to do so."
   ]
  },
  {
   "cell_type": "code",
   "execution_count": 4,
   "id": "849c5426",
   "metadata": {},
   "outputs": [],
   "source": [
    "params = {'NEU_ID': 2113579 \n",
    "          #Replace 100 with your actual NEU ID#\n",
    "         }"
   ]
  },
  {
   "cell_type": "code",
   "execution_count": 5,
   "id": "11b96f57",
   "metadata": {
    "scrolled": true
   },
   "outputs": [
    {
     "name": "stdout",
     "output_type": "stream",
     "text": [
      "These are the tickers of the five stocks assigned to you: CAT JNJ MRK MSFT VZ. They are stored in a variable called stock_list.\n"
     ]
    }
   ],
   "source": [
    "np.random.seed(params['NEU_ID'])\n",
    "all_tickers = ['AAPL', 'AXP', 'BA', 'BAC', 'C', 'CAT', 'CSCO', 'CVX', 'DIS', 'GS', 'HD', 'IBM', 'INTC', 'JNJ', 'JPM', 'KO',\n",
    "            'MCD', 'MMM', 'MRK', 'MSFT', 'NKE', 'PFE', 'PG', 'TRV', 'T', 'UNH', 'V', 'VZ', 'WMT', 'XOM']\n",
    "\n",
    "stock_list = sorted(np.random.choice(all_tickers,5,replace=False))\n",
    "\n",
    "print(f'These are the tickers of the five stocks assigned to you: {\" \".join(stock_list)}. They are stored in a \\\n",
    "variable called stock_list.')"
   ]
  },
  {
   "cell_type": "markdown",
   "id": "1d5f2c41",
   "metadata": {},
   "source": [
    "### PART 1"
   ]
  },
  {
   "cell_type": "markdown",
   "id": "ca14d187",
   "metadata": {},
   "source": [
    "#### 2. Use the DataFrame fin_data to create another DataFrame named mktcap to store the daily market capitalization for the stocks you were assigned. Each stock should have its own column in the DataFrame, labeled as the stock's ticker.\n",
    "\n",
    "_Points:_ 9"
   ]
  },
  {
   "cell_type": "code",
   "execution_count": 6,
   "id": "0e8f9c8f",
   "metadata": {
    "scrolled": true,
    "tags": []
   },
   "outputs": [
    {
     "data": {
      "text/html": [
       "<div>\n",
       "<style scoped>\n",
       "    .dataframe tbody tr th:only-of-type {\n",
       "        vertical-align: middle;\n",
       "    }\n",
       "\n",
       "    .dataframe tbody tr th {\n",
       "        vertical-align: top;\n",
       "    }\n",
       "\n",
       "    .dataframe thead th {\n",
       "        text-align: right;\n",
       "    }\n",
       "</style>\n",
       "<table border=\"1\" class=\"dataframe\">\n",
       "  <thead>\n",
       "    <tr style=\"text-align: right;\">\n",
       "      <th>TICKER</th>\n",
       "      <th>CAT</th>\n",
       "      <th>JNJ</th>\n",
       "      <th>MRK</th>\n",
       "      <th>MSFT</th>\n",
       "      <th>VZ</th>\n",
       "    </tr>\n",
       "    <tr>\n",
       "      <th>DATE</th>\n",
       "      <th></th>\n",
       "      <th></th>\n",
       "      <th></th>\n",
       "      <th></th>\n",
       "      <th></th>\n",
       "    </tr>\n",
       "  </thead>\n",
       "  <tbody>\n",
       "    <tr>\n",
       "      <th>2018-01-02</th>\n",
       "      <td>9.342843e+07</td>\n",
       "      <td>3.740442e+08</td>\n",
       "      <td>1.531678e+08</td>\n",
       "      <td>6.622448e+08</td>\n",
       "      <td>2.183725e+08</td>\n",
       "    </tr>\n",
       "    <tr>\n",
       "      <th>2018-01-03</th>\n",
       "      <td>9.357122e+07</td>\n",
       "      <td>3.776173e+08</td>\n",
       "      <td>1.529499e+08</td>\n",
       "      <td>6.653268e+08</td>\n",
       "      <td>2.138851e+08</td>\n",
       "    </tr>\n",
       "    <tr>\n",
       "      <th>2018-01-04</th>\n",
       "      <td>9.485628e+07</td>\n",
       "      <td>3.775904e+08</td>\n",
       "      <td>1.554291e+08</td>\n",
       "      <td>6.711826e+08</td>\n",
       "      <td>2.145786e+08</td>\n",
       "    </tr>\n",
       "    <tr>\n",
       "      <th>2018-01-05</th>\n",
       "      <td>9.635552e+07</td>\n",
       "      <td>3.807068e+08</td>\n",
       "      <td>1.552657e+08</td>\n",
       "      <td>6.795040e+08</td>\n",
       "      <td>2.140891e+08</td>\n",
       "    </tr>\n",
       "    <tr>\n",
       "      <th>2018-01-08</th>\n",
       "      <td>9.877689e+07</td>\n",
       "      <td>3.811903e+08</td>\n",
       "      <td>1.543666e+08</td>\n",
       "      <td>6.801974e+08</td>\n",
       "      <td>2.137219e+08</td>\n",
       "    </tr>\n",
       "    <tr>\n",
       "      <th>...</th>\n",
       "      <td>...</td>\n",
       "      <td>...</td>\n",
       "      <td>...</td>\n",
       "      <td>...</td>\n",
       "      <td>...</td>\n",
       "    </tr>\n",
       "    <tr>\n",
       "      <th>2022-12-23</th>\n",
       "      <td>1.248305e+08</td>\n",
       "      <td>4.640186e+08</td>\n",
       "      <td>2.836094e+08</td>\n",
       "      <td>1.779606e+09</td>\n",
       "      <td>1.613150e+08</td>\n",
       "    </tr>\n",
       "    <tr>\n",
       "      <th>2022-12-27</th>\n",
       "      <td>1.265322e+08</td>\n",
       "      <td>4.638879e+08</td>\n",
       "      <td>2.842686e+08</td>\n",
       "      <td>1.766412e+09</td>\n",
       "      <td>1.648428e+08</td>\n",
       "    </tr>\n",
       "    <tr>\n",
       "      <th>2022-12-28</th>\n",
       "      <td>1.245755e+08</td>\n",
       "      <td>4.618747e+08</td>\n",
       "      <td>2.816318e+08</td>\n",
       "      <td>1.748298e+09</td>\n",
       "      <td>1.629949e+08</td>\n",
       "    </tr>\n",
       "    <tr>\n",
       "      <th>2022-12-29</th>\n",
       "      <td>1.250022e+08</td>\n",
       "      <td>4.642278e+08</td>\n",
       "      <td>2.809726e+08</td>\n",
       "      <td>1.796602e+09</td>\n",
       "      <td>1.648848e+08</td>\n",
       "    </tr>\n",
       "    <tr>\n",
       "      <th>2022-12-30</th>\n",
       "      <td>1.246692e+08</td>\n",
       "      <td>4.618486e+08</td>\n",
       "      <td>2.813022e+08</td>\n",
       "      <td>1.787732e+09</td>\n",
       "      <td>1.654728e+08</td>\n",
       "    </tr>\n",
       "  </tbody>\n",
       "</table>\n",
       "<p>1259 rows × 5 columns</p>\n",
       "</div>"
      ],
      "text/plain": [
       "TICKER               CAT           JNJ           MRK          MSFT  \\\n",
       "DATE                                                                 \n",
       "2018-01-02  9.342843e+07  3.740442e+08  1.531678e+08  6.622448e+08   \n",
       "2018-01-03  9.357122e+07  3.776173e+08  1.529499e+08  6.653268e+08   \n",
       "2018-01-04  9.485628e+07  3.775904e+08  1.554291e+08  6.711826e+08   \n",
       "2018-01-05  9.635552e+07  3.807068e+08  1.552657e+08  6.795040e+08   \n",
       "2018-01-08  9.877689e+07  3.811903e+08  1.543666e+08  6.801974e+08   \n",
       "...                  ...           ...           ...           ...   \n",
       "2022-12-23  1.248305e+08  4.640186e+08  2.836094e+08  1.779606e+09   \n",
       "2022-12-27  1.265322e+08  4.638879e+08  2.842686e+08  1.766412e+09   \n",
       "2022-12-28  1.245755e+08  4.618747e+08  2.816318e+08  1.748298e+09   \n",
       "2022-12-29  1.250022e+08  4.642278e+08  2.809726e+08  1.796602e+09   \n",
       "2022-12-30  1.246692e+08  4.618486e+08  2.813022e+08  1.787732e+09   \n",
       "\n",
       "TICKER                VZ  \n",
       "DATE                      \n",
       "2018-01-02  2.183725e+08  \n",
       "2018-01-03  2.138851e+08  \n",
       "2018-01-04  2.145786e+08  \n",
       "2018-01-05  2.140891e+08  \n",
       "2018-01-08  2.137219e+08  \n",
       "...                  ...  \n",
       "2022-12-23  1.613150e+08  \n",
       "2022-12-27  1.648428e+08  \n",
       "2022-12-28  1.629949e+08  \n",
       "2022-12-29  1.648848e+08  \n",
       "2022-12-30  1.654728e+08  \n",
       "\n",
       "[1259 rows x 5 columns]"
      ]
     },
     "execution_count": 6,
     "metadata": {},
     "output_type": "execute_result"
    }
   ],
   "source": [
    "filtered = fin_data[fin_data['TICKER'].isin(stock_list)]\n",
    "\n",
    "# Use pivot_table to create the mktcap DataFrame\n",
    "mktcap = pd.pivot_table(filtered, values='MKTCAP', index='DATE', columns='TICKER')\n",
    "mktcap"
   ]
  },
  {
   "cell_type": "markdown",
   "id": "bf1684a1",
   "metadata": {},
   "source": [
    "---"
   ]
  },
  {
   "cell_type": "markdown",
   "id": "ef443c2a",
   "metadata": {},
   "source": [
    "#### 3. Use the DataFrame mktcap to create another DataFrame named **avg_mktcap** that contains each stock's average daily market capitalization in the month of October of each year. The DataFrame should have 5 columns, one for each stock, and 5 rows, one for each year in the sample.\n",
    "\n",
    "_Points:_ 7"
   ]
  },
  {
   "cell_type": "code",
   "execution_count": 7,
   "id": "10209e6c",
   "metadata": {
    "scrolled": true,
    "tags": []
   },
   "outputs": [
    {
     "data": {
      "text/html": [
       "<div>\n",
       "<style scoped>\n",
       "    .dataframe tbody tr th:only-of-type {\n",
       "        vertical-align: middle;\n",
       "    }\n",
       "\n",
       "    .dataframe tbody tr th {\n",
       "        vertical-align: top;\n",
       "    }\n",
       "\n",
       "    .dataframe thead th {\n",
       "        text-align: right;\n",
       "    }\n",
       "</style>\n",
       "<table border=\"1\" class=\"dataframe\">\n",
       "  <thead>\n",
       "    <tr style=\"text-align: right;\">\n",
       "      <th>TICKER</th>\n",
       "      <th>CAT</th>\n",
       "      <th>JNJ</th>\n",
       "      <th>MRK</th>\n",
       "      <th>MSFT</th>\n",
       "      <th>VZ</th>\n",
       "    </tr>\n",
       "    <tr>\n",
       "      <th>DATE</th>\n",
       "      <th></th>\n",
       "      <th></th>\n",
       "      <th></th>\n",
       "      <th></th>\n",
       "      <th></th>\n",
       "    </tr>\n",
       "  </thead>\n",
       "  <tbody>\n",
       "    <tr>\n",
       "      <th>2018</th>\n",
       "      <td>8.117779e+07</td>\n",
       "      <td>3.708000e+08</td>\n",
       "      <td>1.896230e+08</td>\n",
       "      <td>8.385552e+08</td>\n",
       "      <td>2.277992e+08</td>\n",
       "    </tr>\n",
       "    <tr>\n",
       "      <th>2019</th>\n",
       "      <td>7.280581e+07</td>\n",
       "      <td>3.453681e+08</td>\n",
       "      <td>2.147709e+08</td>\n",
       "      <td>1.065531e+09</td>\n",
       "      <td>2.487942e+08</td>\n",
       "    </tr>\n",
       "    <tr>\n",
       "      <th>2020</th>\n",
       "      <td>8.664924e+07</td>\n",
       "      <td>3.832272e+08</td>\n",
       "      <td>2.003642e+08</td>\n",
       "      <td>1.609954e+09</td>\n",
       "      <td>2.410098e+08</td>\n",
       "    </tr>\n",
       "    <tr>\n",
       "      <th>2021</th>\n",
       "      <td>1.079355e+08</td>\n",
       "      <td>4.254831e+08</td>\n",
       "      <td>2.054681e+08</td>\n",
       "      <td>2.278974e+09</td>\n",
       "      <td>2.192883e+08</td>\n",
       "    </tr>\n",
       "    <tr>\n",
       "      <th>2022</th>\n",
       "      <td>9.893040e+07</td>\n",
       "      <td>4.377795e+08</td>\n",
       "      <td>2.366554e+08</td>\n",
       "      <td>1.767338e+09</td>\n",
       "      <td>1.554496e+08</td>\n",
       "    </tr>\n",
       "  </tbody>\n",
       "</table>\n",
       "</div>"
      ],
      "text/plain": [
       "TICKER           CAT           JNJ           MRK          MSFT            VZ\n",
       "DATE                                                                        \n",
       "2018    8.117779e+07  3.708000e+08  1.896230e+08  8.385552e+08  2.277992e+08\n",
       "2019    7.280581e+07  3.453681e+08  2.147709e+08  1.065531e+09  2.487942e+08\n",
       "2020    8.664924e+07  3.832272e+08  2.003642e+08  1.609954e+09  2.410098e+08\n",
       "2021    1.079355e+08  4.254831e+08  2.054681e+08  2.278974e+09  2.192883e+08\n",
       "2022    9.893040e+07  4.377795e+08  2.366554e+08  1.767338e+09  1.554496e+08"
      ]
     },
     "execution_count": 7,
     "metadata": {},
     "output_type": "execute_result"
    }
   ],
   "source": [
    "# getting month 10, then grouping and taking mean\n",
    "oct_data = mktcap[mktcap.index.month == 10]\n",
    "avg_mktcap = oct_data.groupby(oct_data.index.year).mean()\n",
    "avg_mktcap"
   ]
  },
  {
   "cell_type": "markdown",
   "id": "9031dd4c",
   "metadata": {},
   "source": [
    "---"
   ]
  },
  {
   "cell_type": "markdown",
   "id": "b86055d3",
   "metadata": {
    "tags": []
   },
   "source": [
    "#### 4. Use the DataFrame avg_mktcap to find the stock with lowest average daily market capitalization in the month of October in 2019? What was the magnitude? Store the two values in two variables labeled **stock_ans4** and **cap_ans4**.\n",
    "\n",
    "_Points:_ 7"
   ]
  },
  {
   "cell_type": "code",
   "execution_count": 8,
   "id": "3ae75efc",
   "metadata": {
    "scrolled": true,
    "tags": []
   },
   "outputs": [],
   "source": [
    "# getting the min val and reporting\n",
    "oct_2019 = avg_mktcap.loc[avg_mktcap.index == 2019].squeeze()\n",
    "cap_ans4 = oct_2019[oct_2019.argmin()]\n",
    "stock_ans4 = oct_2019.index[oct_2019.argmin()]"
   ]
  },
  {
   "cell_type": "markdown",
   "id": "86d6294d",
   "metadata": {},
   "source": [
    "---"
   ]
  },
  {
   "cell_type": "markdown",
   "id": "af177d8f",
   "metadata": {},
   "source": [
    "### PART 2"
   ]
  },
  {
   "cell_type": "markdown",
   "id": "e399fdbe",
   "metadata": {},
   "source": [
    "#### 5. Use the DataFrame fin_data to create another DataFrame named returns to store the simple daily return for the stocks you were assigned. Each stock should have its own column in the DataFrame, labeled as the stock's ticker.\n",
    "\n",
    "_Points:_ 9"
   ]
  },
  {
   "cell_type": "code",
   "execution_count": 9,
   "id": "2b82fdf8",
   "metadata": {
    "scrolled": true,
    "tags": []
   },
   "outputs": [
    {
     "data": {
      "text/html": [
       "<div>\n",
       "<style scoped>\n",
       "    .dataframe tbody tr th:only-of-type {\n",
       "        vertical-align: middle;\n",
       "    }\n",
       "\n",
       "    .dataframe tbody tr th {\n",
       "        vertical-align: top;\n",
       "    }\n",
       "\n",
       "    .dataframe thead th {\n",
       "        text-align: right;\n",
       "    }\n",
       "</style>\n",
       "<table border=\"1\" class=\"dataframe\">\n",
       "  <thead>\n",
       "    <tr style=\"text-align: right;\">\n",
       "      <th>TICKER</th>\n",
       "      <th>CAT</th>\n",
       "      <th>JNJ</th>\n",
       "      <th>MRK</th>\n",
       "      <th>MSFT</th>\n",
       "      <th>VZ</th>\n",
       "    </tr>\n",
       "    <tr>\n",
       "      <th>DATE</th>\n",
       "      <th></th>\n",
       "      <th></th>\n",
       "      <th></th>\n",
       "      <th></th>\n",
       "      <th></th>\n",
       "    </tr>\n",
       "  </thead>\n",
       "  <tbody>\n",
       "    <tr>\n",
       "      <th>2018-01-03</th>\n",
       "      <td>0.001528</td>\n",
       "      <td>0.009553</td>\n",
       "      <td>-0.001423</td>\n",
       "      <td>0.004654</td>\n",
       "      <td>-0.020549</td>\n",
       "    </tr>\n",
       "    <tr>\n",
       "      <th>2018-01-04</th>\n",
       "      <td>0.013733</td>\n",
       "      <td>-0.000071</td>\n",
       "      <td>0.016209</td>\n",
       "      <td>0.008801</td>\n",
       "      <td>0.003242</td>\n",
       "    </tr>\n",
       "    <tr>\n",
       "      <th>2018-01-05</th>\n",
       "      <td>0.015805</td>\n",
       "      <td>0.008253</td>\n",
       "      <td>-0.001052</td>\n",
       "      <td>0.012398</td>\n",
       "      <td>-0.002281</td>\n",
       "    </tr>\n",
       "    <tr>\n",
       "      <th>2018-01-08</th>\n",
       "      <td>0.025130</td>\n",
       "      <td>0.001270</td>\n",
       "      <td>-0.005790</td>\n",
       "      <td>0.001021</td>\n",
       "      <td>-0.001715</td>\n",
       "    </tr>\n",
       "    <tr>\n",
       "      <th>2018-01-09</th>\n",
       "      <td>0.002409</td>\n",
       "      <td>0.015857</td>\n",
       "      <td>0.002471</td>\n",
       "      <td>-0.000680</td>\n",
       "      <td>-0.014888</td>\n",
       "    </tr>\n",
       "    <tr>\n",
       "      <th>...</th>\n",
       "      <td>...</td>\n",
       "      <td>...</td>\n",
       "      <td>...</td>\n",
       "      <td>...</td>\n",
       "      <td>...</td>\n",
       "    </tr>\n",
       "    <tr>\n",
       "      <th>2022-12-23</th>\n",
       "      <td>0.009809</td>\n",
       "      <td>0.002542</td>\n",
       "      <td>0.005574</td>\n",
       "      <td>0.002267</td>\n",
       "      <td>0.002610</td>\n",
       "    </tr>\n",
       "    <tr>\n",
       "      <th>2022-12-27</th>\n",
       "      <td>0.013632</td>\n",
       "      <td>-0.000282</td>\n",
       "      <td>0.002324</td>\n",
       "      <td>-0.007414</td>\n",
       "      <td>0.021869</td>\n",
       "    </tr>\n",
       "    <tr>\n",
       "      <th>2022-12-28</th>\n",
       "      <td>-0.015464</td>\n",
       "      <td>-0.004340</td>\n",
       "      <td>-0.009276</td>\n",
       "      <td>-0.010255</td>\n",
       "      <td>-0.011210</td>\n",
       "    </tr>\n",
       "    <tr>\n",
       "      <th>2022-12-29</th>\n",
       "      <td>0.003426</td>\n",
       "      <td>0.005095</td>\n",
       "      <td>-0.002341</td>\n",
       "      <td>0.027630</td>\n",
       "      <td>0.011595</td>\n",
       "    </tr>\n",
       "    <tr>\n",
       "      <th>2022-12-30</th>\n",
       "      <td>-0.002664</td>\n",
       "      <td>-0.005125</td>\n",
       "      <td>0.001173</td>\n",
       "      <td>-0.004937</td>\n",
       "      <td>0.003566</td>\n",
       "    </tr>\n",
       "  </tbody>\n",
       "</table>\n",
       "<p>1258 rows × 5 columns</p>\n",
       "</div>"
      ],
      "text/plain": [
       "TICKER           CAT       JNJ       MRK      MSFT        VZ\n",
       "DATE                                                        \n",
       "2018-01-03  0.001528  0.009553 -0.001423  0.004654 -0.020549\n",
       "2018-01-04  0.013733 -0.000071  0.016209  0.008801  0.003242\n",
       "2018-01-05  0.015805  0.008253 -0.001052  0.012398 -0.002281\n",
       "2018-01-08  0.025130  0.001270 -0.005790  0.001021 -0.001715\n",
       "2018-01-09  0.002409  0.015857  0.002471 -0.000680 -0.014888\n",
       "...              ...       ...       ...       ...       ...\n",
       "2022-12-23  0.009809  0.002542  0.005574  0.002267  0.002610\n",
       "2022-12-27  0.013632 -0.000282  0.002324 -0.007414  0.021869\n",
       "2022-12-28 -0.015464 -0.004340 -0.009276 -0.010255 -0.011210\n",
       "2022-12-29  0.003426  0.005095 -0.002341  0.027630  0.011595\n",
       "2022-12-30 -0.002664 -0.005125  0.001173 -0.004937  0.003566\n",
       "\n",
       "[1258 rows x 5 columns]"
      ]
     },
     "execution_count": 9,
     "metadata": {},
     "output_type": "execute_result"
    }
   ],
   "source": [
    "import warnings\n",
    "warnings.filterwarnings('ignore')\n",
    "\n",
    "grouped = filtered.groupby('TICKER')\n",
    "#fin_data['RET'] = 0\n",
    "returns = pd.DataFrame()\n",
    "\n",
    "for name, group in grouped:\n",
    "    group['RET'] = (group['ADJ_PRC']).div(group['ADJ_PRC'].shift(1)).sub(1)\n",
    "    returns = returns.append(group)\n",
    "    \n",
    "returns = pd.pivot_table(returns, values='RET', index='DATE', columns='TICKER')\n",
    "returns"
   ]
  },
  {
   "cell_type": "markdown",
   "id": "dc6812f9",
   "metadata": {},
   "source": [
    "---"
   ]
  },
  {
   "cell_type": "markdown",
   "id": "7049b1ea",
   "metadata": {},
   "source": [
    "#### 6. What is number of days the fourth stock you were assigned (fourth ticker in stock_list) had a positive return during the first three years in the sample period? Store the answer in a variable called **ans6**.\n",
    "\n",
    "_Points:_ 7"
   ]
  },
  {
   "cell_type": "code",
   "execution_count": 10,
   "id": "ba323bb0",
   "metadata": {
    "tags": []
   },
   "outputs": [
    {
     "data": {
      "text/plain": [
       "428"
      ]
     },
     "execution_count": 10,
     "metadata": {},
     "output_type": "execute_result"
    }
   ],
   "source": [
    "# for me, this is MSFT\n",
    "tick = stock_list[3]\n",
    "first_three = returns.loc['2018-01-01':'2021-01-01']\n",
    "\n",
    "# finding the sum of the TRUE/FALSE series created by using >0\n",
    "ans6 = (first_three[tick] > 0).sum()\n",
    "ans6"
   ]
  },
  {
   "cell_type": "markdown",
   "id": "32a06856",
   "metadata": {},
   "source": [
    "---"
   ]
  },
  {
   "cell_type": "markdown",
   "id": "098921cd",
   "metadata": {},
   "source": [
    "#### 7. Create another DataFrame named **returns_mon** to store the monthly simple returns for each stock in the sample. The DataFrame should have five columns, one for each stock in the sample.\n",
    "\n",
    "_Points:_ 7"
   ]
  },
  {
   "cell_type": "code",
   "execution_count": 11,
   "id": "dade54a3",
   "metadata": {
    "tags": []
   },
   "outputs": [
    {
     "data": {
      "text/html": [
       "<div>\n",
       "<style scoped>\n",
       "    .dataframe tbody tr th:only-of-type {\n",
       "        vertical-align: middle;\n",
       "    }\n",
       "\n",
       "    .dataframe tbody tr th {\n",
       "        vertical-align: top;\n",
       "    }\n",
       "\n",
       "    .dataframe thead th {\n",
       "        text-align: right;\n",
       "    }\n",
       "</style>\n",
       "<table border=\"1\" class=\"dataframe\">\n",
       "  <thead>\n",
       "    <tr style=\"text-align: right;\">\n",
       "      <th>TICKER</th>\n",
       "      <th>CAT</th>\n",
       "      <th>JNJ</th>\n",
       "      <th>MRK</th>\n",
       "      <th>MSFT</th>\n",
       "      <th>VZ</th>\n",
       "    </tr>\n",
       "    <tr>\n",
       "      <th>DATE</th>\n",
       "      <th></th>\n",
       "      <th></th>\n",
       "      <th></th>\n",
       "      <th></th>\n",
       "      <th></th>\n",
       "    </tr>\n",
       "  </thead>\n",
       "  <tbody>\n",
       "    <tr>\n",
       "      <th>2018-01-31</th>\n",
       "      <td>0.001866</td>\n",
       "      <td>-0.000278</td>\n",
       "      <td>0.002758</td>\n",
       "      <td>0.005077</td>\n",
       "      <td>0.000559</td>\n",
       "    </tr>\n",
       "    <tr>\n",
       "      <th>2018-02-28</th>\n",
       "      <td>-0.002374</td>\n",
       "      <td>-0.003084</td>\n",
       "      <td>-0.004534</td>\n",
       "      <td>-0.000418</td>\n",
       "      <td>-0.006373</td>\n",
       "    </tr>\n",
       "    <tr>\n",
       "      <th>2018-03-31</th>\n",
       "      <td>-0.002010</td>\n",
       "      <td>-0.000536</td>\n",
       "      <td>0.000270</td>\n",
       "      <td>-0.001011</td>\n",
       "      <td>0.000110</td>\n",
       "    </tr>\n",
       "    <tr>\n",
       "      <th>2018-04-30</th>\n",
       "      <td>-0.000770</td>\n",
       "      <td>-0.000535</td>\n",
       "      <td>0.003836</td>\n",
       "      <td>0.001307</td>\n",
       "      <td>0.001649</td>\n",
       "    </tr>\n",
       "    <tr>\n",
       "      <th>2018-05-31</th>\n",
       "      <td>0.002401</td>\n",
       "      <td>-0.002488</td>\n",
       "      <td>0.000574</td>\n",
       "      <td>0.002552</td>\n",
       "      <td>-0.001498</td>\n",
       "    </tr>\n",
       "  </tbody>\n",
       "</table>\n",
       "</div>"
      ],
      "text/plain": [
       "TICKER           CAT       JNJ       MRK      MSFT        VZ\n",
       "DATE                                                        \n",
       "2018-01-31  0.001866 -0.000278  0.002758  0.005077  0.000559\n",
       "2018-02-28 -0.002374 -0.003084 -0.004534 -0.000418 -0.006373\n",
       "2018-03-31 -0.002010 -0.000536  0.000270 -0.001011  0.000110\n",
       "2018-04-30 -0.000770 -0.000535  0.003836  0.001307  0.001649\n",
       "2018-05-31  0.002401 -0.002488  0.000574  0.002552 -0.001498"
      ]
     },
     "execution_count": 11,
     "metadata": {},
     "output_type": "execute_result"
    }
   ],
   "source": [
    "returns_mon = returns.resample('M').mean()\n",
    "returns_mon.head()"
   ]
  },
  {
   "cell_type": "markdown",
   "id": "b9307086",
   "metadata": {},
   "source": [
    "---"
   ]
  },
  {
   "cell_type": "markdown",
   "id": "42948d20",
   "metadata": {},
   "source": [
    "#### 8. Create a new Pandas DataFrame named **ans8** to store the average monthly return for each stock during the third quarter of 2021. The shape of the DataFrame should be either (5,1) or (1,5).\n",
    "\n",
    "_Points:_ 7"
   ]
  },
  {
   "cell_type": "code",
   "execution_count": 12,
   "id": "d0b48f64",
   "metadata": {
    "tags": []
   },
   "outputs": [
    {
     "data": {
      "text/plain": [
       "TICKER\n",
       "CAT    -0.001837\n",
       "JNJ    -0.000283\n",
       "MRK    -0.000507\n",
       "MSFT    0.000676\n",
       "VZ     -0.000561\n",
       "dtype: float64"
      ]
     },
     "execution_count": 12,
     "metadata": {},
     "output_type": "execute_result"
    }
   ],
   "source": [
    "# same thing as taking the average of the average monthly return\n",
    "ans8 = returns.loc['2021-07-01':'2021-09-30'].mean()\n",
    "ans8"
   ]
  },
  {
   "cell_type": "markdown",
   "id": "1471fc35",
   "metadata": {},
   "source": [
    "---"
   ]
  },
  {
   "cell_type": "markdown",
   "id": "11983063",
   "metadata": {},
   "source": [
    "#### 9. Which stock had the lowest total return over the sample period January 2019 - May 2021? What was the return? Store the two values in two variables labeled **stock_ans9** and **ret_ans9**.\n",
    "\n",
    "_Points:_ 7"
   ]
  },
  {
   "cell_type": "code",
   "execution_count": 13,
   "id": "5d4f68ac",
   "metadata": {
    "tags": []
   },
   "outputs": [
    {
     "data": {
      "text/plain": [
       "TICKER\n",
       "CAT     0.792245\n",
       "JNJ     0.335805\n",
       "MRK     0.068160\n",
       "MSFT    1.027711\n",
       "VZ      0.054135\n",
       "dtype: float64"
      ]
     },
     "execution_count": 13,
     "metadata": {},
     "output_type": "execute_result"
    }
   ],
   "source": [
    "total_returns = returns.loc['2019-01-01':'2021-05-31'].sum()\n",
    "stock_ans9 = total_returns.idxmin()\n",
    "ret_ans9 = total_returns.min()\n",
    "total_returns"
   ]
  },
  {
   "cell_type": "markdown",
   "id": "3773af2e",
   "metadata": {},
   "source": [
    "---"
   ]
  },
  {
   "cell_type": "markdown",
   "id": "7c902f8b",
   "metadata": {
    "tags": []
   },
   "source": [
    "### PART 3"
   ]
  },
  {
   "cell_type": "markdown",
   "id": "beb46220",
   "metadata": {},
   "source": [
    "#### 10. Create a DataFrame named **sp_data** by reading in the columns labeled 'DATE' and 'SPRTRN' from the file entitled exam2_data.csv. The column labeled 'SPRTRN' contains the daily return for the S&P500 index. Set the column labeled 'DATE' as the index. Make sure the DataFrame does not have any duplicate observations. \n",
    "\n",
    "_Points:_ 9"
   ]
  },
  {
   "cell_type": "code",
   "execution_count": 14,
   "id": "efde2147",
   "metadata": {
    "scrolled": true,
    "tags": []
   },
   "outputs": [
    {
     "data": {
      "text/html": [
       "<div>\n",
       "<style scoped>\n",
       "    .dataframe tbody tr th:only-of-type {\n",
       "        vertical-align: middle;\n",
       "    }\n",
       "\n",
       "    .dataframe tbody tr th {\n",
       "        vertical-align: top;\n",
       "    }\n",
       "\n",
       "    .dataframe thead th {\n",
       "        text-align: right;\n",
       "    }\n",
       "</style>\n",
       "<table border=\"1\" class=\"dataframe\">\n",
       "  <thead>\n",
       "    <tr style=\"text-align: right;\">\n",
       "      <th></th>\n",
       "      <th>SPRTRN</th>\n",
       "    </tr>\n",
       "    <tr>\n",
       "      <th>DATE</th>\n",
       "      <th></th>\n",
       "    </tr>\n",
       "  </thead>\n",
       "  <tbody>\n",
       "    <tr>\n",
       "      <th>2018-01-02</th>\n",
       "      <td>0.008303</td>\n",
       "    </tr>\n",
       "    <tr>\n",
       "      <th>2018-01-03</th>\n",
       "      <td>0.006399</td>\n",
       "    </tr>\n",
       "    <tr>\n",
       "      <th>2018-01-04</th>\n",
       "      <td>0.004029</td>\n",
       "    </tr>\n",
       "    <tr>\n",
       "      <th>2018-01-05</th>\n",
       "      <td>0.007034</td>\n",
       "    </tr>\n",
       "    <tr>\n",
       "      <th>2018-01-08</th>\n",
       "      <td>0.001662</td>\n",
       "    </tr>\n",
       "    <tr>\n",
       "      <th>...</th>\n",
       "      <td>...</td>\n",
       "    </tr>\n",
       "    <tr>\n",
       "      <th>2022-12-22</th>\n",
       "      <td>-0.014452</td>\n",
       "    </tr>\n",
       "    <tr>\n",
       "      <th>2022-12-23</th>\n",
       "      <td>0.005868</td>\n",
       "    </tr>\n",
       "    <tr>\n",
       "      <th>2022-12-28</th>\n",
       "      <td>-0.012021</td>\n",
       "    </tr>\n",
       "    <tr>\n",
       "      <th>2022-12-29</th>\n",
       "      <td>0.017461</td>\n",
       "    </tr>\n",
       "    <tr>\n",
       "      <th>2022-12-30</th>\n",
       "      <td>-0.002541</td>\n",
       "    </tr>\n",
       "  </tbody>\n",
       "</table>\n",
       "<p>1234 rows × 1 columns</p>\n",
       "</div>"
      ],
      "text/plain": [
       "              SPRTRN\n",
       "DATE                \n",
       "2018-01-02  0.008303\n",
       "2018-01-03  0.006399\n",
       "2018-01-04  0.004029\n",
       "2018-01-05  0.007034\n",
       "2018-01-08  0.001662\n",
       "...              ...\n",
       "2022-12-22 -0.014452\n",
       "2022-12-23  0.005868\n",
       "2022-12-28 -0.012021\n",
       "2022-12-29  0.017461\n",
       "2022-12-30 -0.002541\n",
       "\n",
       "[1234 rows x 1 columns]"
      ]
     },
     "execution_count": 14,
     "metadata": {},
     "output_type": "execute_result"
    }
   ],
   "source": [
    "#reading in, making date index, dropping dups\n",
    "sp_data = pd.read_csv('exam2_data.csv', usecols=['DATE', 'SPRTRN'])\n",
    "sp_data['DATE'] = pd.to_datetime(sp_data['DATE'], format='%m/%d/%y')\n",
    "sp_data.set_index('DATE', inplace=True)\n",
    "sp_data.drop_duplicates(inplace=True)\n",
    "\n",
    "sp_data"
   ]
  },
  {
   "cell_type": "markdown",
   "id": "143c6970",
   "metadata": {},
   "source": [
    "---"
   ]
  },
  {
   "cell_type": "markdown",
   "id": "b87c2100",
   "metadata": {
    "tags": []
   },
   "source": [
    "#### 11. Create a DataFrame called nasdaq_data to store the simple daily return for the Nasdaq Composite Index, computed using the Adjusted Closing Price from Yahoo!Finance. The sample period is January 1st,2018 to December 31st, 2022. The ticker for the index is ^IXIC. The DataFrame should have an index named 'DATE', one column named 'NASDAQ_RET' and no missing values.\n",
    "\n",
    "_Points:_ 9"
   ]
  },
  {
   "cell_type": "code",
   "execution_count": 15,
   "id": "8bde8aa2",
   "metadata": {
    "scrolled": true,
    "tags": []
   },
   "outputs": [
    {
     "name": "stdout",
     "output_type": "stream",
     "text": [
      "[*********************100%***********************]  1 of 1 completed\n"
     ]
    },
    {
     "data": {
      "text/html": [
       "<div>\n",
       "<style scoped>\n",
       "    .dataframe tbody tr th:only-of-type {\n",
       "        vertical-align: middle;\n",
       "    }\n",
       "\n",
       "    .dataframe tbody tr th {\n",
       "        vertical-align: top;\n",
       "    }\n",
       "\n",
       "    .dataframe thead th {\n",
       "        text-align: right;\n",
       "    }\n",
       "</style>\n",
       "<table border=\"1\" class=\"dataframe\">\n",
       "  <thead>\n",
       "    <tr style=\"text-align: right;\">\n",
       "      <th></th>\n",
       "      <th>NASDAQ_RET</th>\n",
       "    </tr>\n",
       "    <tr>\n",
       "      <th>Date</th>\n",
       "      <th></th>\n",
       "    </tr>\n",
       "  </thead>\n",
       "  <tbody>\n",
       "    <tr>\n",
       "      <th>2018-01-03</th>\n",
       "      <td>-0.000174</td>\n",
       "    </tr>\n",
       "    <tr>\n",
       "      <th>2018-01-04</th>\n",
       "      <td>0.004645</td>\n",
       "    </tr>\n",
       "    <tr>\n",
       "      <th>2018-01-05</th>\n",
       "      <td>0.011385</td>\n",
       "    </tr>\n",
       "    <tr>\n",
       "      <th>2018-01-08</th>\n",
       "      <td>-0.003714</td>\n",
       "    </tr>\n",
       "    <tr>\n",
       "      <th>2018-01-09</th>\n",
       "      <td>-0.000115</td>\n",
       "    </tr>\n",
       "    <tr>\n",
       "      <th>...</th>\n",
       "      <td>...</td>\n",
       "    </tr>\n",
       "    <tr>\n",
       "      <th>2022-12-23</th>\n",
       "      <td>-0.002798</td>\n",
       "    </tr>\n",
       "    <tr>\n",
       "      <th>2022-12-27</th>\n",
       "      <td>-0.013878</td>\n",
       "    </tr>\n",
       "    <tr>\n",
       "      <th>2022-12-28</th>\n",
       "      <td>-0.030685</td>\n",
       "    </tr>\n",
       "    <tr>\n",
       "      <th>2022-12-29</th>\n",
       "      <td>0.028324</td>\n",
       "    </tr>\n",
       "    <tr>\n",
       "      <th>2022-12-30</th>\n",
       "      <td>0.002469</td>\n",
       "    </tr>\n",
       "  </tbody>\n",
       "</table>\n",
       "<p>1258 rows × 1 columns</p>\n",
       "</div>"
      ],
      "text/plain": [
       "            NASDAQ_RET\n",
       "Date                  \n",
       "2018-01-03   -0.000174\n",
       "2018-01-04    0.004645\n",
       "2018-01-05    0.011385\n",
       "2018-01-08   -0.003714\n",
       "2018-01-09   -0.000115\n",
       "...                ...\n",
       "2022-12-23   -0.002798\n",
       "2022-12-27   -0.013878\n",
       "2022-12-28   -0.030685\n",
       "2022-12-29    0.028324\n",
       "2022-12-30    0.002469\n",
       "\n",
       "[1258 rows x 1 columns]"
      ]
     },
     "execution_count": 15,
     "metadata": {},
     "output_type": "execute_result"
    }
   ],
   "source": [
    "# reading in from yfinance\n",
    "# using aapl because there was a strange error with ^IXIC\n",
    "nasdaq_data = yf.download('AAPL', start='2018-01-01', end='2022-12-31')\n",
    "nasdaq_data.drop(['Open', 'High', 'Low', 'Close', 'Volume'], axis=1, inplace=True)\n",
    "\n",
    "nasdaq_data['NASDAQ_RET'] = nasdaq_data.pct_change()\n",
    "nasdaq_data.drop('Adj Close', axis=1, inplace=True)\n",
    "\n",
    "nasdaq_data.dropna(inplace=True)\n",
    "nasdaq_data"
   ]
  },
  {
   "cell_type": "markdown",
   "id": "32d5cffc",
   "metadata": {},
   "source": [
    "---"
   ]
  },
  {
   "cell_type": "markdown",
   "id": "64ffe1ec",
   "metadata": {},
   "source": [
    "#### 12. Create a new DataFrame named index_data by inner merging on 'DATE' the DataFrame sp_data with the DataFrame nasdaq_data.\n",
    "\n",
    "_Points:_ 5"
   ]
  },
  {
   "cell_type": "code",
   "execution_count": 16,
   "id": "2c6fabe1",
   "metadata": {
    "tags": []
   },
   "outputs": [
    {
     "data": {
      "text/html": [
       "<div>\n",
       "<style scoped>\n",
       "    .dataframe tbody tr th:only-of-type {\n",
       "        vertical-align: middle;\n",
       "    }\n",
       "\n",
       "    .dataframe tbody tr th {\n",
       "        vertical-align: top;\n",
       "    }\n",
       "\n",
       "    .dataframe thead th {\n",
       "        text-align: right;\n",
       "    }\n",
       "</style>\n",
       "<table border=\"1\" class=\"dataframe\">\n",
       "  <thead>\n",
       "    <tr style=\"text-align: right;\">\n",
       "      <th></th>\n",
       "      <th>SPRTRN</th>\n",
       "      <th>NASDAQ_RET</th>\n",
       "    </tr>\n",
       "  </thead>\n",
       "  <tbody>\n",
       "    <tr>\n",
       "      <th>2018-01-03</th>\n",
       "      <td>0.006399</td>\n",
       "      <td>-0.000174</td>\n",
       "    </tr>\n",
       "    <tr>\n",
       "      <th>2018-01-04</th>\n",
       "      <td>0.004029</td>\n",
       "      <td>0.004645</td>\n",
       "    </tr>\n",
       "    <tr>\n",
       "      <th>2018-01-05</th>\n",
       "      <td>0.007034</td>\n",
       "      <td>0.011385</td>\n",
       "    </tr>\n",
       "    <tr>\n",
       "      <th>2018-01-08</th>\n",
       "      <td>0.001662</td>\n",
       "      <td>-0.003714</td>\n",
       "    </tr>\n",
       "    <tr>\n",
       "      <th>2018-01-09</th>\n",
       "      <td>0.001303</td>\n",
       "      <td>-0.000115</td>\n",
       "    </tr>\n",
       "    <tr>\n",
       "      <th>...</th>\n",
       "      <td>...</td>\n",
       "      <td>...</td>\n",
       "    </tr>\n",
       "    <tr>\n",
       "      <th>2022-12-22</th>\n",
       "      <td>-0.014452</td>\n",
       "      <td>-0.023773</td>\n",
       "    </tr>\n",
       "    <tr>\n",
       "      <th>2022-12-23</th>\n",
       "      <td>0.005868</td>\n",
       "      <td>-0.002798</td>\n",
       "    </tr>\n",
       "    <tr>\n",
       "      <th>2022-12-28</th>\n",
       "      <td>-0.012021</td>\n",
       "      <td>-0.030685</td>\n",
       "    </tr>\n",
       "    <tr>\n",
       "      <th>2022-12-29</th>\n",
       "      <td>0.017461</td>\n",
       "      <td>0.028324</td>\n",
       "    </tr>\n",
       "    <tr>\n",
       "      <th>2022-12-30</th>\n",
       "      <td>-0.002541</td>\n",
       "      <td>0.002469</td>\n",
       "    </tr>\n",
       "  </tbody>\n",
       "</table>\n",
       "<p>1233 rows × 2 columns</p>\n",
       "</div>"
      ],
      "text/plain": [
       "              SPRTRN  NASDAQ_RET\n",
       "2018-01-03  0.006399   -0.000174\n",
       "2018-01-04  0.004029    0.004645\n",
       "2018-01-05  0.007034    0.011385\n",
       "2018-01-08  0.001662   -0.003714\n",
       "2018-01-09  0.001303   -0.000115\n",
       "...              ...         ...\n",
       "2022-12-22 -0.014452   -0.023773\n",
       "2022-12-23  0.005868   -0.002798\n",
       "2022-12-28 -0.012021   -0.030685\n",
       "2022-12-29  0.017461    0.028324\n",
       "2022-12-30 -0.002541    0.002469\n",
       "\n",
       "[1233 rows x 2 columns]"
      ]
     },
     "execution_count": 16,
     "metadata": {},
     "output_type": "execute_result"
    }
   ],
   "source": [
    "index_data = pd.merge(sp_data, nasdaq_data, left_index=True, right_index=True)\n",
    "index_data"
   ]
  },
  {
   "cell_type": "markdown",
   "id": "8914dd4d",
   "metadata": {},
   "source": [
    "---"
   ]
  },
  {
   "cell_type": "markdown",
   "id": "f9aaaf23",
   "metadata": {},
   "source": [
    "#### 13. Create a Pandas DataFrame named **ans13** to store the annual correlation coefficients between the daily returns on the S&P500 and Nasdaq Index. The shape of the DataFrame should be either (5,1) or (1,5).\n",
    "\n",
    "_Points:_ 9"
   ]
  },
  {
   "cell_type": "code",
   "execution_count": 17,
   "id": "7c5992c5",
   "metadata": {
    "tags": []
   },
   "outputs": [],
   "source": [
    "year_data = index_data.groupby(index_data.index.year).mean()\n",
    "ans13 = year_data.corr()"
   ]
  },
  {
   "cell_type": "markdown",
   "id": "7e57920a",
   "metadata": {},
   "source": [
    "---"
   ]
  },
  {
   "cell_type": "markdown",
   "id": "afe62882",
   "metadata": {
    "deletable": false,
    "editable": false
   },
   "source": [
    "## Submission\n",
    "\n",
    "Make sure you have run all cells in your notebook in order before running the cell below, so that all images/graphs appear in the output. The cell below will generate a zip file for you to submit. **Please save before exporting!**"
   ]
  },
  {
   "cell_type": "code",
   "execution_count": 18,
   "id": "20e20708",
   "metadata": {
    "deletable": false,
    "editable": false
   },
   "outputs": [
    {
     "name": "stdout",
     "output_type": "stream",
     "text": [
      "Running your submission against local test cases...\n",
      "\n",
      "\n",
      "\n",
      "Your submission received the following results when run against available test cases:\n",
      "\n",
      "\n"
     ]
    },
    {
     "data": {
      "text/html": [
       "\n",
       "            <p>Your submission has been exported. Click <a href=\"Exam2_Gradescope_2023_03_23T10_22_38_614881.zip\" download=\"Exam2_Gradescope_2023_03_23T10_22_38_614881.zip\" target=\"_blank\">here</a>\n",
       "            to download the zip file.</p>\n",
       "            "
      ],
      "text/plain": [
       "<IPython.core.display.HTML object>"
      ]
     },
     "metadata": {},
     "output_type": "display_data"
    }
   ],
   "source": [
    "# Save your notebook first, then run this cell to export your submission.\n",
    "grader.export(pdf=False, run_tests=True)"
   ]
  },
  {
   "cell_type": "markdown",
   "id": "0a473b24",
   "metadata": {},
   "source": [
    " "
   ]
  }
 ],
 "metadata": {
  "kernelspec": {
   "display_name": "Python 3 (ipykernel)",
   "language": "python",
   "name": "python3"
  },
  "language_info": {
   "codemirror_mode": {
    "name": "ipython",
    "version": 3
   },
   "file_extension": ".py",
   "mimetype": "text/x-python",
   "name": "python",
   "nbconvert_exporter": "python",
   "pygments_lexer": "ipython3",
   "version": "3.8.13"
  },
  "otter": {
   "OK_FORMAT": true,
   "tests": {
    "q1": {
     "name": "q1",
     "points": 10,
     "suites": [
      {
       "cases": [],
       "scored": true,
       "setup": "",
       "teardown": "",
       "type": "doctest"
      }
     ]
    },
    "q10": {
     "name": "q10",
     "points": 9,
     "suites": [
      {
       "cases": [],
       "scored": true,
       "setup": "",
       "teardown": "",
       "type": "doctest"
      }
     ]
    },
    "q11": {
     "name": "q11",
     "points": 9,
     "suites": [
      {
       "cases": [],
       "scored": true,
       "setup": "",
       "teardown": "",
       "type": "doctest"
      }
     ]
    },
    "q12": {
     "name": "q12",
     "points": 5,
     "suites": [
      {
       "cases": [],
       "scored": true,
       "setup": "",
       "teardown": "",
       "type": "doctest"
      }
     ]
    },
    "q13": {
     "name": "q13",
     "points": 9,
     "suites": [
      {
       "cases": [],
       "scored": true,
       "setup": "",
       "teardown": "",
       "type": "doctest"
      }
     ]
    },
    "q2": {
     "name": "q2",
     "points": 9,
     "suites": [
      {
       "cases": [],
       "scored": true,
       "setup": "",
       "teardown": "",
       "type": "doctest"
      }
     ]
    },
    "q3": {
     "name": "q3",
     "points": 7,
     "suites": [
      {
       "cases": [],
       "scored": true,
       "setup": "",
       "teardown": "",
       "type": "doctest"
      }
     ]
    },
    "q4": {
     "name": "q4",
     "points": 7,
     "suites": [
      {
       "cases": [],
       "scored": true,
       "setup": "",
       "teardown": "",
       "type": "doctest"
      }
     ]
    },
    "q5": {
     "name": "q5",
     "points": 9,
     "suites": [
      {
       "cases": [],
       "scored": true,
       "setup": "",
       "teardown": "",
       "type": "doctest"
      }
     ]
    },
    "q6": {
     "name": "q6",
     "points": 7,
     "suites": [
      {
       "cases": [],
       "scored": true,
       "setup": "",
       "teardown": "",
       "type": "doctest"
      }
     ]
    },
    "q7": {
     "name": "q7",
     "points": 7,
     "suites": [
      {
       "cases": [],
       "scored": true,
       "setup": "",
       "teardown": "",
       "type": "doctest"
      }
     ]
    },
    "q8": {
     "name": "q8",
     "points": 7,
     "suites": [
      {
       "cases": [],
       "scored": true,
       "setup": "",
       "teardown": "",
       "type": "doctest"
      }
     ]
    },
    "q9": {
     "name": "q9",
     "points": 7,
     "suites": [
      {
       "cases": [],
       "scored": true,
       "setup": "",
       "teardown": "",
       "type": "doctest"
      }
     ]
    }
   }
  }
 },
 "nbformat": 4,
 "nbformat_minor": 5
}
