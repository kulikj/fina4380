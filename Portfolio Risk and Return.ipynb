{
 "cells": [
  {
   "cell_type": "markdown",
   "metadata": {},
   "source": [
    "### FINA 4380 with Marius Popescu"
   ]
  },
  {
   "cell_type": "markdown",
   "metadata": {},
   "source": [
    "## Portfolio Value, Return and Risk"
   ]
  },
  {
   "cell_type": "code",
   "execution_count": 1,
   "metadata": {},
   "outputs": [],
   "source": [
    "import numpy as np\n",
    "import pandas as pd\n",
    "\n",
    "import pandas_datareader.data as web\n",
    "import datetime as dt"
   ]
  },
  {
   "cell_type": "code",
   "execution_count": 9,
   "metadata": {},
   "outputs": [
    {
     "data": {
      "text/html": [
       "<div>\n",
       "<style scoped>\n",
       "    .dataframe tbody tr th:only-of-type {\n",
       "        vertical-align: middle;\n",
       "    }\n",
       "\n",
       "    .dataframe tbody tr th {\n",
       "        vertical-align: top;\n",
       "    }\n",
       "\n",
       "    .dataframe thead th {\n",
       "        text-align: right;\n",
       "    }\n",
       "</style>\n",
       "<table border=\"1\" class=\"dataframe\">\n",
       "  <thead>\n",
       "    <tr style=\"text-align: right;\">\n",
       "      <th></th>\n",
       "      <th>TICKER</th>\n",
       "      <th>PRC</th>\n",
       "      <th>CFACPR</th>\n",
       "      <th>ADJ_PRC</th>\n",
       "    </tr>\n",
       "    <tr>\n",
       "      <th>Date</th>\n",
       "      <th></th>\n",
       "      <th></th>\n",
       "      <th></th>\n",
       "      <th></th>\n",
       "    </tr>\n",
       "  </thead>\n",
       "  <tbody>\n",
       "    <tr>\n",
       "      <th>2013-01-31</th>\n",
       "      <td>MSFT</td>\n",
       "      <td>27.450</td>\n",
       "      <td>1.0</td>\n",
       "      <td>27.450</td>\n",
       "    </tr>\n",
       "    <tr>\n",
       "      <th>2013-02-28</th>\n",
       "      <td>MSFT</td>\n",
       "      <td>27.800</td>\n",
       "      <td>1.0</td>\n",
       "      <td>27.800</td>\n",
       "    </tr>\n",
       "    <tr>\n",
       "      <th>2013-03-28</th>\n",
       "      <td>MSFT</td>\n",
       "      <td>28.605</td>\n",
       "      <td>1.0</td>\n",
       "      <td>28.605</td>\n",
       "    </tr>\n",
       "    <tr>\n",
       "      <th>2013-04-30</th>\n",
       "      <td>MSFT</td>\n",
       "      <td>33.100</td>\n",
       "      <td>1.0</td>\n",
       "      <td>33.100</td>\n",
       "    </tr>\n",
       "    <tr>\n",
       "      <th>2013-05-31</th>\n",
       "      <td>MSFT</td>\n",
       "      <td>34.900</td>\n",
       "      <td>1.0</td>\n",
       "      <td>34.900</td>\n",
       "    </tr>\n",
       "  </tbody>\n",
       "</table>\n",
       "</div>"
      ],
      "text/plain": [
       "           TICKER     PRC  CFACPR  ADJ_PRC\n",
       "Date                                      \n",
       "2013-01-31   MSFT  27.450     1.0   27.450\n",
       "2013-02-28   MSFT  27.800     1.0   27.800\n",
       "2013-03-28   MSFT  28.605     1.0   28.605\n",
       "2013-04-30   MSFT  33.100     1.0   33.100\n",
       "2013-05-31   MSFT  34.900     1.0   34.900"
      ]
     },
     "execution_count": 9,
     "metadata": {},
     "output_type": "execute_result"
    }
   ],
   "source": [
    "data_all = pd.read_csv('month_rets.csv',\n",
    "                    usecols = ['date','TICKER', 'PRC', 'CFACPR'],\n",
    "                    index_col = 'date',\n",
    "                    parse_dates = True)\n",
    "data_all['ADJ_PRC'] = data_all['PRC']/data_all['CFACPR']\n",
    "data_all.index.name = 'Date'\n",
    "data_all.head()"
   ]
  },
  {
   "cell_type": "code",
   "execution_count": 10,
   "metadata": {},
   "outputs": [
    {
     "data": {
      "text/html": [
       "<div>\n",
       "<style scoped>\n",
       "    .dataframe tbody tr th:only-of-type {\n",
       "        vertical-align: middle;\n",
       "    }\n",
       "\n",
       "    .dataframe tbody tr th {\n",
       "        vertical-align: top;\n",
       "    }\n",
       "\n",
       "    .dataframe thead th {\n",
       "        text-align: right;\n",
       "    }\n",
       "</style>\n",
       "<table border=\"1\" class=\"dataframe\">\n",
       "  <thead>\n",
       "    <tr style=\"text-align: right;\">\n",
       "      <th></th>\n",
       "      <th>MSFT</th>\n",
       "      <th>IBM</th>\n",
       "      <th>FB</th>\n",
       "      <th>AAPL</th>\n",
       "      <th>AMZN</th>\n",
       "      <th>GOOGL</th>\n",
       "    </tr>\n",
       "    <tr>\n",
       "      <th>Date</th>\n",
       "      <th></th>\n",
       "      <th></th>\n",
       "      <th></th>\n",
       "      <th></th>\n",
       "      <th></th>\n",
       "      <th></th>\n",
       "    </tr>\n",
       "  </thead>\n",
       "  <tbody>\n",
       "    <tr>\n",
       "      <th>2013-01-31</th>\n",
       "      <td>27.450</td>\n",
       "      <td>203.07001</td>\n",
       "      <td>30.981</td>\n",
       "      <td>65.069999</td>\n",
       "      <td>265.50000</td>\n",
       "      <td>378.431569</td>\n",
       "    </tr>\n",
       "    <tr>\n",
       "      <th>2013-02-28</th>\n",
       "      <td>27.800</td>\n",
       "      <td>200.83000</td>\n",
       "      <td>27.250</td>\n",
       "      <td>63.057141</td>\n",
       "      <td>264.26999</td>\n",
       "      <td>401.221899</td>\n",
       "    </tr>\n",
       "    <tr>\n",
       "      <th>2013-03-28</th>\n",
       "      <td>28.605</td>\n",
       "      <td>213.30000</td>\n",
       "      <td>25.580</td>\n",
       "      <td>63.237143</td>\n",
       "      <td>266.48999</td>\n",
       "      <td>397.710446</td>\n",
       "    </tr>\n",
       "    <tr>\n",
       "      <th>2013-04-30</th>\n",
       "      <td>33.100</td>\n",
       "      <td>202.53999</td>\n",
       "      <td>27.769</td>\n",
       "      <td>63.254286</td>\n",
       "      <td>253.81000</td>\n",
       "      <td>412.925039</td>\n",
       "    </tr>\n",
       "    <tr>\n",
       "      <th>2013-05-31</th>\n",
       "      <td>34.900</td>\n",
       "      <td>208.02000</td>\n",
       "      <td>24.348</td>\n",
       "      <td>64.247856</td>\n",
       "      <td>269.20001</td>\n",
       "      <td>436.285252</td>\n",
       "    </tr>\n",
       "  </tbody>\n",
       "</table>\n",
       "</div>"
      ],
      "text/plain": [
       "              MSFT        IBM      FB       AAPL       AMZN       GOOGL\n",
       "Date                                                                   \n",
       "2013-01-31  27.450  203.07001  30.981  65.069999  265.50000  378.431569\n",
       "2013-02-28  27.800  200.83000  27.250  63.057141  264.26999  401.221899\n",
       "2013-03-28  28.605  213.30000  25.580  63.237143  266.48999  397.710446\n",
       "2013-04-30  33.100  202.53999  27.769  63.254286  253.81000  412.925039\n",
       "2013-05-31  34.900  208.02000  24.348  64.247856  269.20001  436.285252"
      ]
     },
     "execution_count": 10,
     "metadata": {},
     "output_type": "execute_result"
    }
   ],
   "source": [
    "prices = pd.DataFrame()\n",
    "for ticker in data_all['TICKER'].unique():\n",
    "    prices[ticker] = data_all[data_all['TICKER']==ticker]['ADJ_PRC']\n",
    "prices.head()"
   ]
  },
  {
   "cell_type": "markdown",
   "metadata": {
    "tags": []
   },
   "source": [
    "### Investment Value Over Time"
   ]
  },
  {
   "cell_type": "markdown",
   "metadata": {},
   "source": [
    "The value of an initial $1 investment can be found by dividing an asset's current price by the asset's initial price."
   ]
  },
  {
   "cell_type": "code",
   "execution_count": 11,
   "metadata": {},
   "outputs": [
    {
     "data": {
      "text/html": [
       "<div>\n",
       "<style scoped>\n",
       "    .dataframe tbody tr th:only-of-type {\n",
       "        vertical-align: middle;\n",
       "    }\n",
       "\n",
       "    .dataframe tbody tr th {\n",
       "        vertical-align: top;\n",
       "    }\n",
       "\n",
       "    .dataframe thead th {\n",
       "        text-align: right;\n",
       "    }\n",
       "</style>\n",
       "<table border=\"1\" class=\"dataframe\">\n",
       "  <thead>\n",
       "    <tr style=\"text-align: right;\">\n",
       "      <th></th>\n",
       "      <th>MSFT</th>\n",
       "      <th>IBM</th>\n",
       "      <th>FB</th>\n",
       "      <th>AAPL</th>\n",
       "      <th>AMZN</th>\n",
       "      <th>GOOGL</th>\n",
       "    </tr>\n",
       "    <tr>\n",
       "      <th>Date</th>\n",
       "      <th></th>\n",
       "      <th></th>\n",
       "      <th></th>\n",
       "      <th></th>\n",
       "      <th></th>\n",
       "      <th></th>\n",
       "    </tr>\n",
       "  </thead>\n",
       "  <tbody>\n",
       "    <tr>\n",
       "      <th>2013-01-31</th>\n",
       "      <td>1.000000</td>\n",
       "      <td>1.000000</td>\n",
       "      <td>1.000000</td>\n",
       "      <td>1.000000</td>\n",
       "      <td>1.000000</td>\n",
       "      <td>1.000000</td>\n",
       "    </tr>\n",
       "    <tr>\n",
       "      <th>2013-02-28</th>\n",
       "      <td>1.012750</td>\n",
       "      <td>0.988969</td>\n",
       "      <td>0.879571</td>\n",
       "      <td>0.969066</td>\n",
       "      <td>0.995367</td>\n",
       "      <td>1.060223</td>\n",
       "    </tr>\n",
       "    <tr>\n",
       "      <th>2013-03-28</th>\n",
       "      <td>1.042077</td>\n",
       "      <td>1.050377</td>\n",
       "      <td>0.825667</td>\n",
       "      <td>0.971833</td>\n",
       "      <td>1.003729</td>\n",
       "      <td>1.050944</td>\n",
       "    </tr>\n",
       "    <tr>\n",
       "      <th>2013-04-30</th>\n",
       "      <td>1.205829</td>\n",
       "      <td>0.997390</td>\n",
       "      <td>0.896324</td>\n",
       "      <td>0.972096</td>\n",
       "      <td>0.955970</td>\n",
       "      <td>1.091149</td>\n",
       "    </tr>\n",
       "    <tr>\n",
       "      <th>2013-05-31</th>\n",
       "      <td>1.271403</td>\n",
       "      <td>1.024376</td>\n",
       "      <td>0.785901</td>\n",
       "      <td>0.987365</td>\n",
       "      <td>1.013936</td>\n",
       "      <td>1.152878</td>\n",
       "    </tr>\n",
       "  </tbody>\n",
       "</table>\n",
       "</div>"
      ],
      "text/plain": [
       "                MSFT       IBM        FB      AAPL      AMZN     GOOGL\n",
       "Date                                                                  \n",
       "2013-01-31  1.000000  1.000000  1.000000  1.000000  1.000000  1.000000\n",
       "2013-02-28  1.012750  0.988969  0.879571  0.969066  0.995367  1.060223\n",
       "2013-03-28  1.042077  1.050377  0.825667  0.971833  1.003729  1.050944\n",
       "2013-04-30  1.205829  0.997390  0.896324  0.972096  0.955970  1.091149\n",
       "2013-05-31  1.271403  1.024376  0.785901  0.987365  1.013936  1.152878"
      ]
     },
     "execution_count": 11,
     "metadata": {},
     "output_type": "execute_result"
    }
   ],
   "source": [
    "inv_value = pd.DataFrame()\n",
    "for column in prices:\n",
    "    inv_value[column] = prices[column]/prices[column].iloc[0]\n",
    "inv_value.head()"
   ]
  },
  {
   "cell_type": "markdown",
   "metadata": {},
   "source": [
    "### Portfolio Value and Return"
   ]
  },
  {
   "cell_type": "markdown",
   "metadata": {},
   "source": [
    "#### A. Regular Rebalancing"
   ]
  },
  {
   "cell_type": "markdown",
   "metadata": {},
   "source": [
    "A portfolio that is rebalanced every period (daily, monthly etc.) is a portfolio whose asset allocations are adjusted to target weights at the beginning of the period (daily, monthly etc.)"
   ]
  },
  {
   "cell_type": "code",
   "execution_count": 12,
   "metadata": {},
   "outputs": [
    {
     "data": {
      "text/html": [
       "<div>\n",
       "<style scoped>\n",
       "    .dataframe tbody tr th:only-of-type {\n",
       "        vertical-align: middle;\n",
       "    }\n",
       "\n",
       "    .dataframe tbody tr th {\n",
       "        vertical-align: top;\n",
       "    }\n",
       "\n",
       "    .dataframe thead th {\n",
       "        text-align: right;\n",
       "    }\n",
       "</style>\n",
       "<table border=\"1\" class=\"dataframe\">\n",
       "  <thead>\n",
       "    <tr style=\"text-align: right;\">\n",
       "      <th></th>\n",
       "      <th>MSFT</th>\n",
       "      <th>IBM</th>\n",
       "      <th>FB</th>\n",
       "      <th>AAPL</th>\n",
       "      <th>AMZN</th>\n",
       "      <th>GOOGL</th>\n",
       "    </tr>\n",
       "    <tr>\n",
       "      <th>Date</th>\n",
       "      <th></th>\n",
       "      <th></th>\n",
       "      <th></th>\n",
       "      <th></th>\n",
       "      <th></th>\n",
       "      <th></th>\n",
       "    </tr>\n",
       "  </thead>\n",
       "  <tbody>\n",
       "    <tr>\n",
       "      <th>2013-01-31</th>\n",
       "      <td>NaN</td>\n",
       "      <td>NaN</td>\n",
       "      <td>NaN</td>\n",
       "      <td>NaN</td>\n",
       "      <td>NaN</td>\n",
       "      <td>NaN</td>\n",
       "    </tr>\n",
       "    <tr>\n",
       "      <th>2013-02-28</th>\n",
       "      <td>0.012750</td>\n",
       "      <td>-0.011031</td>\n",
       "      <td>-0.120429</td>\n",
       "      <td>-0.030934</td>\n",
       "      <td>-0.004633</td>\n",
       "      <td>0.060223</td>\n",
       "    </tr>\n",
       "    <tr>\n",
       "      <th>2013-03-28</th>\n",
       "      <td>0.028957</td>\n",
       "      <td>0.062092</td>\n",
       "      <td>-0.061284</td>\n",
       "      <td>0.002855</td>\n",
       "      <td>0.008400</td>\n",
       "      <td>-0.008752</td>\n",
       "    </tr>\n",
       "    <tr>\n",
       "      <th>2013-04-30</th>\n",
       "      <td>0.157140</td>\n",
       "      <td>-0.050445</td>\n",
       "      <td>0.085575</td>\n",
       "      <td>0.000271</td>\n",
       "      <td>-0.047581</td>\n",
       "      <td>0.038255</td>\n",
       "    </tr>\n",
       "    <tr>\n",
       "      <th>2013-05-31</th>\n",
       "      <td>0.054381</td>\n",
       "      <td>0.027056</td>\n",
       "      <td>-0.123195</td>\n",
       "      <td>0.015708</td>\n",
       "      <td>0.060636</td>\n",
       "      <td>0.056573</td>\n",
       "    </tr>\n",
       "  </tbody>\n",
       "</table>\n",
       "</div>"
      ],
      "text/plain": [
       "                MSFT       IBM        FB      AAPL      AMZN     GOOGL\n",
       "Date                                                                  \n",
       "2013-01-31       NaN       NaN       NaN       NaN       NaN       NaN\n",
       "2013-02-28  0.012750 -0.011031 -0.120429 -0.030934 -0.004633  0.060223\n",
       "2013-03-28  0.028957  0.062092 -0.061284  0.002855  0.008400 -0.008752\n",
       "2013-04-30  0.157140 -0.050445  0.085575  0.000271 -0.047581  0.038255\n",
       "2013-05-31  0.054381  0.027056 -0.123195  0.015708  0.060636  0.056573"
      ]
     },
     "execution_count": 12,
     "metadata": {},
     "output_type": "execute_result"
    }
   ],
   "source": [
    "returns=prices.pct_change()\n",
    "returns.head()"
   ]
  },
  {
   "cell_type": "markdown",
   "metadata": {},
   "source": [
    "#### Generating Random Weights"
   ]
  },
  {
   "cell_type": "markdown",
   "metadata": {},
   "source": [
    "We can use the Standard Uniform distribution to generate random numbers between 0 and 1, and then converting the numbers to potential weights by making sure that their sum is 1."
   ]
  },
  {
   "cell_type": "code",
   "execution_count": 13,
   "metadata": {},
   "outputs": [
    {
     "name": "stdout",
     "output_type": "stream",
     "text": [
      "[0.19890866 0.03500037 0.28920211 0.14674659 0.2655225  0.06461977]\n"
     ]
    }
   ],
   "source": [
    "np.random.seed(1000)\n",
    "weights = np.random.uniform(size=len(returns.columns))\n",
    "weights = weights / np.sum(weights)\n",
    "print(weights)"
   ]
  },
  {
   "cell_type": "markdown",
   "metadata": {
    "tags": []
   },
   "source": [
    "#### For a Regularly Rebalanced portfolio, the return is calculated as the Dot product of the cross-sectional return vector and the weights vector."
   ]
  },
  {
   "cell_type": "code",
   "execution_count": 14,
   "metadata": {
    "scrolled": true,
    "tags": []
   },
   "outputs": [
    {
     "data": {
      "text/html": [
       "<div>\n",
       "<style scoped>\n",
       "    .dataframe tbody tr th:only-of-type {\n",
       "        vertical-align: middle;\n",
       "    }\n",
       "\n",
       "    .dataframe tbody tr th {\n",
       "        vertical-align: top;\n",
       "    }\n",
       "\n",
       "    .dataframe thead th {\n",
       "        text-align: right;\n",
       "    }\n",
       "</style>\n",
       "<table border=\"1\" class=\"dataframe\">\n",
       "  <thead>\n",
       "    <tr style=\"text-align: right;\">\n",
       "      <th></th>\n",
       "      <th>MReb_Ret</th>\n",
       "    </tr>\n",
       "    <tr>\n",
       "      <th>Date</th>\n",
       "      <th></th>\n",
       "    </tr>\n",
       "  </thead>\n",
       "  <tbody>\n",
       "    <tr>\n",
       "      <th>2013-01-31</th>\n",
       "      <td>NaN</td>\n",
       "    </tr>\n",
       "    <tr>\n",
       "      <th>2013-02-28</th>\n",
       "      <td>-0.034556</td>\n",
       "    </tr>\n",
       "    <tr>\n",
       "      <th>2013-03-28</th>\n",
       "      <td>-0.007707</td>\n",
       "    </tr>\n",
       "    <tr>\n",
       "      <th>2013-04-30</th>\n",
       "      <td>0.044117</td>\n",
       "    </tr>\n",
       "    <tr>\n",
       "      <th>2013-05-31</th>\n",
       "      <td>-0.001804</td>\n",
       "    </tr>\n",
       "  </tbody>\n",
       "</table>\n",
       "</div>"
      ],
      "text/plain": [
       "            MReb_Ret\n",
       "Date                \n",
       "2013-01-31       NaN\n",
       "2013-02-28 -0.034556\n",
       "2013-03-28 -0.007707\n",
       "2013-04-30  0.044117\n",
       "2013-05-31 -0.001804"
      ]
     },
     "execution_count": 14,
     "metadata": {},
     "output_type": "execute_result"
    }
   ],
   "source": [
    "MReb_portfolio = pd.DataFrame({'MReb_Ret':np.dot(returns,weights)},index = returns.index)\n",
    "MReb_portfolio.head()"
   ]
  },
  {
   "cell_type": "markdown",
   "metadata": {
    "tags": []
   },
   "source": [
    "#### For a Regularly Rebalanced portfolio, portfolio value is calculated as the cumulative product of (1 + period return)."
   ]
  },
  {
   "cell_type": "code",
   "execution_count": 15,
   "metadata": {},
   "outputs": [],
   "source": [
    "MReb_portfolio['MReb_Port_Val'] = MReb_portfolio[['MReb_Ret']].apply(lambda x:x.add(1).cumprod())\n",
    "MReb_portfolio['MReb_Port_Val'].iloc[0]=1"
   ]
  },
  {
   "cell_type": "code",
   "execution_count": 16,
   "metadata": {},
   "outputs": [
    {
     "data": {
      "text/html": [
       "<div>\n",
       "<style scoped>\n",
       "    .dataframe tbody tr th:only-of-type {\n",
       "        vertical-align: middle;\n",
       "    }\n",
       "\n",
       "    .dataframe tbody tr th {\n",
       "        vertical-align: top;\n",
       "    }\n",
       "\n",
       "    .dataframe thead th {\n",
       "        text-align: right;\n",
       "    }\n",
       "</style>\n",
       "<table border=\"1\" class=\"dataframe\">\n",
       "  <thead>\n",
       "    <tr style=\"text-align: right;\">\n",
       "      <th></th>\n",
       "      <th>MReb_Ret</th>\n",
       "      <th>MReb_Port_Val</th>\n",
       "    </tr>\n",
       "    <tr>\n",
       "      <th>Date</th>\n",
       "      <th></th>\n",
       "      <th></th>\n",
       "    </tr>\n",
       "  </thead>\n",
       "  <tbody>\n",
       "    <tr>\n",
       "      <th>2013-01-31</th>\n",
       "      <td>NaN</td>\n",
       "      <td>1.000000</td>\n",
       "    </tr>\n",
       "    <tr>\n",
       "      <th>2013-02-28</th>\n",
       "      <td>-0.034556</td>\n",
       "      <td>0.965444</td>\n",
       "    </tr>\n",
       "    <tr>\n",
       "      <th>2013-03-28</th>\n",
       "      <td>-0.007707</td>\n",
       "      <td>0.958004</td>\n",
       "    </tr>\n",
       "    <tr>\n",
       "      <th>2013-04-30</th>\n",
       "      <td>0.044117</td>\n",
       "      <td>1.000268</td>\n",
       "    </tr>\n",
       "    <tr>\n",
       "      <th>2013-05-31</th>\n",
       "      <td>-0.001804</td>\n",
       "      <td>0.998464</td>\n",
       "    </tr>\n",
       "  </tbody>\n",
       "</table>\n",
       "</div>"
      ],
      "text/plain": [
       "            MReb_Ret  MReb_Port_Val\n",
       "Date                               \n",
       "2013-01-31       NaN       1.000000\n",
       "2013-02-28 -0.034556       0.965444\n",
       "2013-03-28 -0.007707       0.958004\n",
       "2013-04-30  0.044117       1.000268\n",
       "2013-05-31 -0.001804       0.998464"
      ]
     },
     "execution_count": 16,
     "metadata": {},
     "output_type": "execute_result"
    }
   ],
   "source": [
    "MReb_portfolio.head()"
   ]
  },
  {
   "cell_type": "markdown",
   "metadata": {},
   "source": [
    "#### Portfolio Rebalancing Example"
   ]
  },
  {
   "cell_type": "code",
   "execution_count": null,
   "metadata": {},
   "outputs": [],
   "source": []
  },
  {
   "cell_type": "markdown",
   "metadata": {},
   "source": [
    "#### B. No Rebalancing - Buy and Hold Strategy"
   ]
  },
  {
   "cell_type": "markdown",
   "metadata": {},
   "source": [
    "#### For a Buy and Hold strategy, portfolio value is calculated as the Dot product of the cross-sectional asset values and the weights vector."
   ]
  },
  {
   "cell_type": "code",
   "execution_count": 17,
   "metadata": {},
   "outputs": [
    {
     "data": {
      "text/html": [
       "<div>\n",
       "<style scoped>\n",
       "    .dataframe tbody tr th:only-of-type {\n",
       "        vertical-align: middle;\n",
       "    }\n",
       "\n",
       "    .dataframe tbody tr th {\n",
       "        vertical-align: top;\n",
       "    }\n",
       "\n",
       "    .dataframe thead th {\n",
       "        text-align: right;\n",
       "    }\n",
       "</style>\n",
       "<table border=\"1\" class=\"dataframe\">\n",
       "  <thead>\n",
       "    <tr style=\"text-align: right;\">\n",
       "      <th></th>\n",
       "      <th>BH_Port_Val</th>\n",
       "    </tr>\n",
       "    <tr>\n",
       "      <th>Date</th>\n",
       "      <th></th>\n",
       "    </tr>\n",
       "  </thead>\n",
       "  <tbody>\n",
       "    <tr>\n",
       "      <th>2013-01-31</th>\n",
       "      <td>1.000000</td>\n",
       "    </tr>\n",
       "    <tr>\n",
       "      <th>2013-02-28</th>\n",
       "      <td>0.965444</td>\n",
       "    </tr>\n",
       "    <tr>\n",
       "      <th>2013-03-28</th>\n",
       "      <td>0.959864</td>\n",
       "    </tr>\n",
       "    <tr>\n",
       "      <th>2013-04-30</th>\n",
       "      <td>1.000971</td>\n",
       "    </tr>\n",
       "    <tr>\n",
       "      <th>2013-05-31</th>\n",
       "      <td>1.004645</td>\n",
       "    </tr>\n",
       "  </tbody>\n",
       "</table>\n",
       "</div>"
      ],
      "text/plain": [
       "            BH_Port_Val\n",
       "Date                   \n",
       "2013-01-31     1.000000\n",
       "2013-02-28     0.965444\n",
       "2013-03-28     0.959864\n",
       "2013-04-30     1.000971\n",
       "2013-05-31     1.004645"
      ]
     },
     "execution_count": 17,
     "metadata": {},
     "output_type": "execute_result"
    }
   ],
   "source": [
    "BH_portfolio = pd.DataFrame({'BH_Port_Val': np.dot(inv_value, weights)},index = inv_value.index)\n",
    "BH_portfolio.head()"
   ]
  },
  {
   "cell_type": "markdown",
   "metadata": {},
   "source": [
    "#### For a Buy and Hold strategy, portfolio return is calculated as the change in the value of the portfolio."
   ]
  },
  {
   "cell_type": "code",
   "execution_count": 18,
   "metadata": {},
   "outputs": [
    {
     "data": {
      "text/html": [
       "<div>\n",
       "<style scoped>\n",
       "    .dataframe tbody tr th:only-of-type {\n",
       "        vertical-align: middle;\n",
       "    }\n",
       "\n",
       "    .dataframe tbody tr th {\n",
       "        vertical-align: top;\n",
       "    }\n",
       "\n",
       "    .dataframe thead th {\n",
       "        text-align: right;\n",
       "    }\n",
       "</style>\n",
       "<table border=\"1\" class=\"dataframe\">\n",
       "  <thead>\n",
       "    <tr style=\"text-align: right;\">\n",
       "      <th></th>\n",
       "      <th>BH_Port_Val</th>\n",
       "      <th>BH_Ret</th>\n",
       "    </tr>\n",
       "    <tr>\n",
       "      <th>Date</th>\n",
       "      <th></th>\n",
       "      <th></th>\n",
       "    </tr>\n",
       "  </thead>\n",
       "  <tbody>\n",
       "    <tr>\n",
       "      <th>2013-01-31</th>\n",
       "      <td>1.000000</td>\n",
       "      <td>NaN</td>\n",
       "    </tr>\n",
       "    <tr>\n",
       "      <th>2013-02-28</th>\n",
       "      <td>0.965444</td>\n",
       "      <td>-0.034556</td>\n",
       "    </tr>\n",
       "    <tr>\n",
       "      <th>2013-03-28</th>\n",
       "      <td>0.959864</td>\n",
       "      <td>-0.005780</td>\n",
       "    </tr>\n",
       "    <tr>\n",
       "      <th>2013-04-30</th>\n",
       "      <td>1.000971</td>\n",
       "      <td>0.042826</td>\n",
       "    </tr>\n",
       "    <tr>\n",
       "      <th>2013-05-31</th>\n",
       "      <td>1.004645</td>\n",
       "      <td>0.003671</td>\n",
       "    </tr>\n",
       "  </tbody>\n",
       "</table>\n",
       "</div>"
      ],
      "text/plain": [
       "            BH_Port_Val    BH_Ret\n",
       "Date                             \n",
       "2013-01-31     1.000000       NaN\n",
       "2013-02-28     0.965444 -0.034556\n",
       "2013-03-28     0.959864 -0.005780\n",
       "2013-04-30     1.000971  0.042826\n",
       "2013-05-31     1.004645  0.003671"
      ]
     },
     "execution_count": 18,
     "metadata": {},
     "output_type": "execute_result"
    }
   ],
   "source": [
    "BH_portfolio['BH_Ret'] = BH_portfolio['BH_Port_Val'].pct_change()\n",
    "BH_portfolio.head()"
   ]
  },
  {
   "cell_type": "code",
   "execution_count": 21,
   "metadata": {},
   "outputs": [
    {
     "data": {
      "text/html": [
       "<div>\n",
       "<style scoped>\n",
       "    .dataframe tbody tr th:only-of-type {\n",
       "        vertical-align: middle;\n",
       "    }\n",
       "\n",
       "    .dataframe tbody tr th {\n",
       "        vertical-align: top;\n",
       "    }\n",
       "\n",
       "    .dataframe thead th {\n",
       "        text-align: right;\n",
       "    }\n",
       "</style>\n",
       "<table border=\"1\" class=\"dataframe\">\n",
       "  <thead>\n",
       "    <tr style=\"text-align: right;\">\n",
       "      <th></th>\n",
       "      <th>MReb_Ret</th>\n",
       "      <th>MReb_Port_Val</th>\n",
       "      <th>BH_Port_Val</th>\n",
       "      <th>BH_Ret</th>\n",
       "    </tr>\n",
       "    <tr>\n",
       "      <th>Date</th>\n",
       "      <th></th>\n",
       "      <th></th>\n",
       "      <th></th>\n",
       "      <th></th>\n",
       "    </tr>\n",
       "  </thead>\n",
       "  <tbody>\n",
       "    <tr>\n",
       "      <th>2013-01-31</th>\n",
       "      <td>NaN</td>\n",
       "      <td>1.000000</td>\n",
       "      <td>1.000000</td>\n",
       "      <td>NaN</td>\n",
       "    </tr>\n",
       "    <tr>\n",
       "      <th>2013-02-28</th>\n",
       "      <td>-0.034556</td>\n",
       "      <td>0.965444</td>\n",
       "      <td>0.965444</td>\n",
       "      <td>-0.034556</td>\n",
       "    </tr>\n",
       "    <tr>\n",
       "      <th>2013-03-28</th>\n",
       "      <td>-0.007707</td>\n",
       "      <td>0.958004</td>\n",
       "      <td>0.959864</td>\n",
       "      <td>-0.005780</td>\n",
       "    </tr>\n",
       "    <tr>\n",
       "      <th>2013-04-30</th>\n",
       "      <td>0.044117</td>\n",
       "      <td>1.000268</td>\n",
       "      <td>1.000971</td>\n",
       "      <td>0.042826</td>\n",
       "    </tr>\n",
       "    <tr>\n",
       "      <th>2013-05-31</th>\n",
       "      <td>-0.001804</td>\n",
       "      <td>0.998464</td>\n",
       "      <td>1.004645</td>\n",
       "      <td>0.003671</td>\n",
       "    </tr>\n",
       "  </tbody>\n",
       "</table>\n",
       "</div>"
      ],
      "text/plain": [
       "            MReb_Ret  MReb_Port_Val  BH_Port_Val    BH_Ret\n",
       "Date                                                      \n",
       "2013-01-31       NaN       1.000000     1.000000       NaN\n",
       "2013-02-28 -0.034556       0.965444     0.965444 -0.034556\n",
       "2013-03-28 -0.007707       0.958004     0.959864 -0.005780\n",
       "2013-04-30  0.044117       1.000268     1.000971  0.042826\n",
       "2013-05-31 -0.001804       0.998464     1.004645  0.003671"
      ]
     },
     "execution_count": 21,
     "metadata": {},
     "output_type": "execute_result"
    }
   ],
   "source": [
    "port_ret = pd.merge(MReb_portfolio,BH_portfolio,on='Date')\n",
    "port_ret.head()"
   ]
  },
  {
   "cell_type": "markdown",
   "metadata": {},
   "source": [
    "#### Q1: Which of the two portfolios performed the best over the entire sample period? What was the total return?"
   ]
  },
  {
   "cell_type": "code",
   "execution_count": null,
   "metadata": {},
   "outputs": [],
   "source": []
  },
  {
   "cell_type": "markdown",
   "metadata": {},
   "source": [
    "#### Q2: Which of the two portfolios performed the worst over the entire sample period? What was the total return?"
   ]
  },
  {
   "cell_type": "code",
   "execution_count": null,
   "metadata": {},
   "outputs": [],
   "source": []
  },
  {
   "cell_type": "markdown",
   "metadata": {},
   "source": [
    "### Portfolio Risk"
   ]
  },
  {
   "cell_type": "markdown",
   "metadata": {},
   "source": [
    "#### Method 1"
   ]
  },
  {
   "cell_type": "code",
   "execution_count": 22,
   "metadata": {},
   "outputs": [
    {
     "data": {
      "text/plain": [
       "MReb_Ret    0.047619\n",
       "BH_Ret      0.045852\n",
       "dtype: float64"
      ]
     },
     "execution_count": 22,
     "metadata": {},
     "output_type": "execute_result"
    }
   ],
   "source": [
    "# Monthly Portfolio Risk (Standard Deviation)\n",
    "port_ret[['MReb_Ret','BH_Ret']].std()"
   ]
  },
  {
   "cell_type": "code",
   "execution_count": 23,
   "metadata": {},
   "outputs": [
    {
     "data": {
      "text/plain": [
       "MReb_Ret    0.164957\n",
       "BH_Ret      0.158835\n",
       "dtype: float64"
      ]
     },
     "execution_count": 23,
     "metadata": {},
     "output_type": "execute_result"
    }
   ],
   "source": [
    "# Annualized Portfolio Risk (Standard Deviation)\n",
    "port_ret[['MReb_Ret','BH_Ret']].std()*np.sqrt(12)"
   ]
  },
  {
   "cell_type": "markdown",
   "metadata": {},
   "source": [
    "#### Method 2 - Only for Regularly Rebalanced Portfolios"
   ]
  },
  {
   "cell_type": "code",
   "execution_count": 24,
   "metadata": {
    "scrolled": true
   },
   "outputs": [
    {
     "data": {
      "text/html": [
       "<div>\n",
       "<style scoped>\n",
       "    .dataframe tbody tr th:only-of-type {\n",
       "        vertical-align: middle;\n",
       "    }\n",
       "\n",
       "    .dataframe tbody tr th {\n",
       "        vertical-align: top;\n",
       "    }\n",
       "\n",
       "    .dataframe thead th {\n",
       "        text-align: right;\n",
       "    }\n",
       "</style>\n",
       "<table border=\"1\" class=\"dataframe\">\n",
       "  <thead>\n",
       "    <tr style=\"text-align: right;\">\n",
       "      <th></th>\n",
       "      <th>MSFT</th>\n",
       "      <th>IBM</th>\n",
       "      <th>FB</th>\n",
       "      <th>AAPL</th>\n",
       "      <th>AMZN</th>\n",
       "      <th>GOOGL</th>\n",
       "    </tr>\n",
       "  </thead>\n",
       "  <tbody>\n",
       "    <tr>\n",
       "      <th>MSFT</th>\n",
       "      <td>0.003722</td>\n",
       "      <td>0.000752</td>\n",
       "      <td>-0.000218</td>\n",
       "      <td>0.001300</td>\n",
       "      <td>0.001437</td>\n",
       "      <td>0.001566</td>\n",
       "    </tr>\n",
       "    <tr>\n",
       "      <th>IBM</th>\n",
       "      <td>0.000752</td>\n",
       "      <td>0.002489</td>\n",
       "      <td>-0.000056</td>\n",
       "      <td>0.001057</td>\n",
       "      <td>0.000798</td>\n",
       "      <td>0.000151</td>\n",
       "    </tr>\n",
       "    <tr>\n",
       "      <th>FB</th>\n",
       "      <td>-0.000218</td>\n",
       "      <td>-0.000056</td>\n",
       "      <td>0.008298</td>\n",
       "      <td>0.001263</td>\n",
       "      <td>0.001414</td>\n",
       "      <td>0.001275</td>\n",
       "    </tr>\n",
       "    <tr>\n",
       "      <th>AAPL</th>\n",
       "      <td>0.001300</td>\n",
       "      <td>0.001057</td>\n",
       "      <td>0.001263</td>\n",
       "      <td>0.004347</td>\n",
       "      <td>0.001732</td>\n",
       "      <td>0.000971</td>\n",
       "    </tr>\n",
       "    <tr>\n",
       "      <th>AMZN</th>\n",
       "      <td>0.001437</td>\n",
       "      <td>0.000798</td>\n",
       "      <td>0.001414</td>\n",
       "      <td>0.001732</td>\n",
       "      <td>0.005964</td>\n",
       "      <td>0.002675</td>\n",
       "    </tr>\n",
       "    <tr>\n",
       "      <th>GOOGL</th>\n",
       "      <td>0.001566</td>\n",
       "      <td>0.000151</td>\n",
       "      <td>0.001275</td>\n",
       "      <td>0.000971</td>\n",
       "      <td>0.002675</td>\n",
       "      <td>0.003184</td>\n",
       "    </tr>\n",
       "  </tbody>\n",
       "</table>\n",
       "</div>"
      ],
      "text/plain": [
       "           MSFT       IBM        FB      AAPL      AMZN     GOOGL\n",
       "MSFT   0.003722  0.000752 -0.000218  0.001300  0.001437  0.001566\n",
       "IBM    0.000752  0.002489 -0.000056  0.001057  0.000798  0.000151\n",
       "FB    -0.000218 -0.000056  0.008298  0.001263  0.001414  0.001275\n",
       "AAPL   0.001300  0.001057  0.001263  0.004347  0.001732  0.000971\n",
       "AMZN   0.001437  0.000798  0.001414  0.001732  0.005964  0.002675\n",
       "GOOGL  0.001566  0.000151  0.001275  0.000971  0.002675  0.003184"
      ]
     },
     "execution_count": 24,
     "metadata": {},
     "output_type": "execute_result"
    }
   ],
   "source": [
    "# The Variance-Covariance Matrix\n",
    "returns.cov()"
   ]
  },
  {
   "cell_type": "code",
   "execution_count": 25,
   "metadata": {
    "scrolled": true
   },
   "outputs": [
    {
     "data": {
      "text/plain": [
       "0.04761912478403526"
      ]
     },
     "execution_count": 25,
     "metadata": {},
     "output_type": "execute_result"
    }
   ],
   "source": [
    "# Monthly Portfolio Risk (Standard Deviation)\n",
    "MReb_port_risk = np.sqrt(np.dot(weights, np.dot(returns.cov(), weights)))\n",
    "MReb_port_risk"
   ]
  },
  {
   "cell_type": "code",
   "execution_count": 49,
   "metadata": {},
   "outputs": [],
   "source": [
    "#MReb_port_risk = np.dot(weights, np.dot(returns.cov(), weights))**0.5\n",
    "#MReb_port_risk"
   ]
  },
  {
   "cell_type": "code",
   "execution_count": 26,
   "metadata": {},
   "outputs": [
    {
     "data": {
      "text/plain": [
       "0.1649574870758228"
      ]
     },
     "execution_count": 26,
     "metadata": {},
     "output_type": "execute_result"
    }
   ],
   "source": [
    "# Annualized Portfolio Risk (Standard Deviation)\n",
    "MReb_port_risk*np.sqrt(12)"
   ]
  },
  {
   "cell_type": "markdown",
   "metadata": {},
   "source": [
    "### Sharpe Ratio"
   ]
  },
  {
   "cell_type": "code",
   "execution_count": 27,
   "metadata": {},
   "outputs": [
    {
     "data": {
      "text/html": [
       "<div>\n",
       "<style scoped>\n",
       "    .dataframe tbody tr th:only-of-type {\n",
       "        vertical-align: middle;\n",
       "    }\n",
       "\n",
       "    .dataframe tbody tr th {\n",
       "        vertical-align: top;\n",
       "    }\n",
       "\n",
       "    .dataframe thead th {\n",
       "        text-align: right;\n",
       "    }\n",
       "</style>\n",
       "<table border=\"1\" class=\"dataframe\">\n",
       "  <thead>\n",
       "    <tr style=\"text-align: right;\">\n",
       "      <th></th>\n",
       "      <th>RF</th>\n",
       "    </tr>\n",
       "    <tr>\n",
       "      <th>Date</th>\n",
       "      <th></th>\n",
       "    </tr>\n",
       "  </thead>\n",
       "  <tbody>\n",
       "    <tr>\n",
       "      <th>1927-01</th>\n",
       "      <td>0.25</td>\n",
       "    </tr>\n",
       "    <tr>\n",
       "      <th>1927-02</th>\n",
       "      <td>0.26</td>\n",
       "    </tr>\n",
       "    <tr>\n",
       "      <th>1927-03</th>\n",
       "      <td>0.30</td>\n",
       "    </tr>\n",
       "    <tr>\n",
       "      <th>1927-04</th>\n",
       "      <td>0.25</td>\n",
       "    </tr>\n",
       "    <tr>\n",
       "      <th>1927-05</th>\n",
       "      <td>0.30</td>\n",
       "    </tr>\n",
       "  </tbody>\n",
       "</table>\n",
       "</div>"
      ],
      "text/plain": [
       "           RF\n",
       "Date         \n",
       "1927-01  0.25\n",
       "1927-02  0.26\n",
       "1927-03  0.30\n",
       "1927-04  0.25\n",
       "1927-05  0.30"
      ]
     },
     "execution_count": 27,
     "metadata": {},
     "output_type": "execute_result"
    }
   ],
   "source": [
    "# Download the risk-free rate from Ken French's website\n",
    "start = dt.datetime(1927, 1, 1)\n",
    "end = dt.datetime.now()\n",
    "\n",
    "#three_factors = web.DataReader('F-F_Research_Data_Factors','famafrench', start, end)[0]\n",
    "rf = web.DataReader('F-F_Research_Data_Factors','famafrench', start, end)[0][['RF']]\n",
    "rf.head()"
   ]
  },
  {
   "cell_type": "code",
   "execution_count": 29,
   "metadata": {},
   "outputs": [],
   "source": [
    "# We convert the Period Index to a Datetime Index\n",
    "rf.index = rf.index.to_timestamp(how='end').normalize()"
   ]
  },
  {
   "cell_type": "code",
   "execution_count": 30,
   "metadata": {},
   "outputs": [
    {
     "data": {
      "text/html": [
       "<div>\n",
       "<style scoped>\n",
       "    .dataframe tbody tr th:only-of-type {\n",
       "        vertical-align: middle;\n",
       "    }\n",
       "\n",
       "    .dataframe tbody tr th {\n",
       "        vertical-align: top;\n",
       "    }\n",
       "\n",
       "    .dataframe thead th {\n",
       "        text-align: right;\n",
       "    }\n",
       "</style>\n",
       "<table border=\"1\" class=\"dataframe\">\n",
       "  <thead>\n",
       "    <tr style=\"text-align: right;\">\n",
       "      <th></th>\n",
       "      <th>RF</th>\n",
       "    </tr>\n",
       "    <tr>\n",
       "      <th>Date</th>\n",
       "      <th></th>\n",
       "    </tr>\n",
       "  </thead>\n",
       "  <tbody>\n",
       "    <tr>\n",
       "      <th>1927-01-31</th>\n",
       "      <td>0.0025</td>\n",
       "    </tr>\n",
       "    <tr>\n",
       "      <th>1927-02-28</th>\n",
       "      <td>0.0026</td>\n",
       "    </tr>\n",
       "    <tr>\n",
       "      <th>1927-03-31</th>\n",
       "      <td>0.0030</td>\n",
       "    </tr>\n",
       "    <tr>\n",
       "      <th>1927-04-30</th>\n",
       "      <td>0.0025</td>\n",
       "    </tr>\n",
       "    <tr>\n",
       "      <th>1927-05-31</th>\n",
       "      <td>0.0030</td>\n",
       "    </tr>\n",
       "  </tbody>\n",
       "</table>\n",
       "</div>"
      ],
      "text/plain": [
       "                RF\n",
       "Date              \n",
       "1927-01-31  0.0025\n",
       "1927-02-28  0.0026\n",
       "1927-03-31  0.0030\n",
       "1927-04-30  0.0025\n",
       "1927-05-31  0.0030"
      ]
     },
     "execution_count": 30,
     "metadata": {},
     "output_type": "execute_result"
    }
   ],
   "source": [
    "rf = rf.apply(lambda x: x/100)\n",
    "rf.head()"
   ]
  },
  {
   "cell_type": "code",
   "execution_count": 55,
   "metadata": {},
   "outputs": [
    {
     "data": {
      "text/html": [
       "<div>\n",
       "<style scoped>\n",
       "    .dataframe tbody tr th:only-of-type {\n",
       "        vertical-align: middle;\n",
       "    }\n",
       "\n",
       "    .dataframe tbody tr th {\n",
       "        vertical-align: top;\n",
       "    }\n",
       "\n",
       "    .dataframe thead th {\n",
       "        text-align: right;\n",
       "    }\n",
       "</style>\n",
       "<table border=\"1\" class=\"dataframe\">\n",
       "  <thead>\n",
       "    <tr style=\"text-align: right;\">\n",
       "      <th></th>\n",
       "      <th>MReb_Ret</th>\n",
       "      <th>MReb_Port_Val</th>\n",
       "      <th>BH_Port_Val</th>\n",
       "      <th>BH_Ret</th>\n",
       "    </tr>\n",
       "    <tr>\n",
       "      <th>Date</th>\n",
       "      <th></th>\n",
       "      <th></th>\n",
       "      <th></th>\n",
       "      <th></th>\n",
       "    </tr>\n",
       "  </thead>\n",
       "  <tbody>\n",
       "    <tr>\n",
       "      <th>2013-01-31</th>\n",
       "      <td>NaN</td>\n",
       "      <td>1.000000</td>\n",
       "      <td>1.000000</td>\n",
       "      <td>NaN</td>\n",
       "    </tr>\n",
       "    <tr>\n",
       "      <th>2013-02-28</th>\n",
       "      <td>-0.034556</td>\n",
       "      <td>0.965444</td>\n",
       "      <td>0.965444</td>\n",
       "      <td>-0.034556</td>\n",
       "    </tr>\n",
       "    <tr>\n",
       "      <th>2013-03-28</th>\n",
       "      <td>-0.007707</td>\n",
       "      <td>0.958004</td>\n",
       "      <td>0.959864</td>\n",
       "      <td>-0.005780</td>\n",
       "    </tr>\n",
       "    <tr>\n",
       "      <th>2013-04-30</th>\n",
       "      <td>0.044117</td>\n",
       "      <td>1.000268</td>\n",
       "      <td>1.000971</td>\n",
       "      <td>0.042826</td>\n",
       "    </tr>\n",
       "    <tr>\n",
       "      <th>2013-05-31</th>\n",
       "      <td>-0.001804</td>\n",
       "      <td>0.998464</td>\n",
       "      <td>1.004645</td>\n",
       "      <td>0.003671</td>\n",
       "    </tr>\n",
       "  </tbody>\n",
       "</table>\n",
       "</div>"
      ],
      "text/plain": [
       "            MReb_Ret  MReb_Port_Val  BH_Port_Val    BH_Ret\n",
       "Date                                                      \n",
       "2013-01-31       NaN       1.000000     1.000000       NaN\n",
       "2013-02-28 -0.034556       0.965444     0.965444 -0.034556\n",
       "2013-03-28 -0.007707       0.958004     0.959864 -0.005780\n",
       "2013-04-30  0.044117       1.000268     1.000971  0.042826\n",
       "2013-05-31 -0.001804       0.998464     1.004645  0.003671"
      ]
     },
     "execution_count": 55,
     "metadata": {},
     "output_type": "execute_result"
    }
   ],
   "source": [
    "port_ret.head()"
   ]
  },
  {
   "cell_type": "code",
   "execution_count": 31,
   "metadata": {},
   "outputs": [],
   "source": [
    "#Change each index value to the end of the month\n",
    "port_ret.index = port_ret.index + pd.offsets.MonthEnd(0)"
   ]
  },
  {
   "cell_type": "code",
   "execution_count": 32,
   "metadata": {},
   "outputs": [
    {
     "data": {
      "text/html": [
       "<div>\n",
       "<style scoped>\n",
       "    .dataframe tbody tr th:only-of-type {\n",
       "        vertical-align: middle;\n",
       "    }\n",
       "\n",
       "    .dataframe tbody tr th {\n",
       "        vertical-align: top;\n",
       "    }\n",
       "\n",
       "    .dataframe thead th {\n",
       "        text-align: right;\n",
       "    }\n",
       "</style>\n",
       "<table border=\"1\" class=\"dataframe\">\n",
       "  <thead>\n",
       "    <tr style=\"text-align: right;\">\n",
       "      <th></th>\n",
       "      <th>MReb_Ret</th>\n",
       "      <th>BH_Ret</th>\n",
       "      <th>RF</th>\n",
       "    </tr>\n",
       "    <tr>\n",
       "      <th>Date</th>\n",
       "      <th></th>\n",
       "      <th></th>\n",
       "      <th></th>\n",
       "    </tr>\n",
       "  </thead>\n",
       "  <tbody>\n",
       "    <tr>\n",
       "      <th>2013-01-31</th>\n",
       "      <td>NaN</td>\n",
       "      <td>NaN</td>\n",
       "      <td>0.0</td>\n",
       "    </tr>\n",
       "    <tr>\n",
       "      <th>2013-02-28</th>\n",
       "      <td>-0.034556</td>\n",
       "      <td>-0.034556</td>\n",
       "      <td>0.0</td>\n",
       "    </tr>\n",
       "    <tr>\n",
       "      <th>2013-03-31</th>\n",
       "      <td>-0.007707</td>\n",
       "      <td>-0.005780</td>\n",
       "      <td>0.0</td>\n",
       "    </tr>\n",
       "    <tr>\n",
       "      <th>2013-04-30</th>\n",
       "      <td>0.044117</td>\n",
       "      <td>0.042826</td>\n",
       "      <td>0.0</td>\n",
       "    </tr>\n",
       "    <tr>\n",
       "      <th>2013-05-31</th>\n",
       "      <td>-0.001804</td>\n",
       "      <td>0.003671</td>\n",
       "      <td>0.0</td>\n",
       "    </tr>\n",
       "  </tbody>\n",
       "</table>\n",
       "</div>"
      ],
      "text/plain": [
       "            MReb_Ret    BH_Ret   RF\n",
       "Date                               \n",
       "2013-01-31       NaN       NaN  0.0\n",
       "2013-02-28 -0.034556 -0.034556  0.0\n",
       "2013-03-31 -0.007707 -0.005780  0.0\n",
       "2013-04-30  0.044117  0.042826  0.0\n",
       "2013-05-31 -0.001804  0.003671  0.0"
      ]
     },
     "execution_count": 32,
     "metadata": {},
     "output_type": "execute_result"
    }
   ],
   "source": [
    "data = pd.merge(port_ret.drop(['MReb_Port_Val','BH_Port_Val'],axis=1), rf, on = 'Date')\n",
    "data.head()"
   ]
  },
  {
   "cell_type": "code",
   "execution_count": 33,
   "metadata": {},
   "outputs": [
    {
     "data": {
      "text/html": [
       "<div>\n",
       "<style scoped>\n",
       "    .dataframe tbody tr th:only-of-type {\n",
       "        vertical-align: middle;\n",
       "    }\n",
       "\n",
       "    .dataframe tbody tr th {\n",
       "        vertical-align: top;\n",
       "    }\n",
       "\n",
       "    .dataframe thead th {\n",
       "        text-align: right;\n",
       "    }\n",
       "</style>\n",
       "<table border=\"1\" class=\"dataframe\">\n",
       "  <thead>\n",
       "    <tr style=\"text-align: right;\">\n",
       "      <th></th>\n",
       "      <th>MReb_Ret</th>\n",
       "      <th>BH_Ret</th>\n",
       "      <th>RF</th>\n",
       "      <th>Ex_MReb_Ret</th>\n",
       "      <th>Ex_BH_Ret</th>\n",
       "    </tr>\n",
       "    <tr>\n",
       "      <th>Date</th>\n",
       "      <th></th>\n",
       "      <th></th>\n",
       "      <th></th>\n",
       "      <th></th>\n",
       "      <th></th>\n",
       "    </tr>\n",
       "  </thead>\n",
       "  <tbody>\n",
       "    <tr>\n",
       "      <th>2013-01-31</th>\n",
       "      <td>NaN</td>\n",
       "      <td>NaN</td>\n",
       "      <td>0.0</td>\n",
       "      <td>NaN</td>\n",
       "      <td>NaN</td>\n",
       "    </tr>\n",
       "    <tr>\n",
       "      <th>2013-02-28</th>\n",
       "      <td>-0.034556</td>\n",
       "      <td>-0.034556</td>\n",
       "      <td>0.0</td>\n",
       "      <td>-0.034556</td>\n",
       "      <td>-0.034556</td>\n",
       "    </tr>\n",
       "    <tr>\n",
       "      <th>2013-03-31</th>\n",
       "      <td>-0.007707</td>\n",
       "      <td>-0.005780</td>\n",
       "      <td>0.0</td>\n",
       "      <td>-0.007707</td>\n",
       "      <td>-0.005780</td>\n",
       "    </tr>\n",
       "    <tr>\n",
       "      <th>2013-04-30</th>\n",
       "      <td>0.044117</td>\n",
       "      <td>0.042826</td>\n",
       "      <td>0.0</td>\n",
       "      <td>0.044117</td>\n",
       "      <td>0.042826</td>\n",
       "    </tr>\n",
       "    <tr>\n",
       "      <th>2013-05-31</th>\n",
       "      <td>-0.001804</td>\n",
       "      <td>0.003671</td>\n",
       "      <td>0.0</td>\n",
       "      <td>-0.001804</td>\n",
       "      <td>0.003671</td>\n",
       "    </tr>\n",
       "  </tbody>\n",
       "</table>\n",
       "</div>"
      ],
      "text/plain": [
       "            MReb_Ret    BH_Ret   RF  Ex_MReb_Ret  Ex_BH_Ret\n",
       "Date                                                       \n",
       "2013-01-31       NaN       NaN  0.0          NaN        NaN\n",
       "2013-02-28 -0.034556 -0.034556  0.0    -0.034556  -0.034556\n",
       "2013-03-31 -0.007707 -0.005780  0.0    -0.007707  -0.005780\n",
       "2013-04-30  0.044117  0.042826  0.0     0.044117   0.042826\n",
       "2013-05-31 -0.001804  0.003671  0.0    -0.001804   0.003671"
      ]
     },
     "execution_count": 33,
     "metadata": {},
     "output_type": "execute_result"
    }
   ],
   "source": [
    "data['Ex_MReb_Ret'] = data['MReb_Ret'] - data['RF']\n",
    "data['Ex_BH_Ret'] = data['BH_Ret'] - data['RF']\n",
    "data.head()"
   ]
  },
  {
   "cell_type": "code",
   "execution_count": 34,
   "metadata": {},
   "outputs": [
    {
     "data": {
      "text/plain": [
       "1.8239767901387445"
      ]
     },
     "execution_count": 34,
     "metadata": {},
     "output_type": "execute_result"
    }
   ],
   "source": [
    "SR_MReb_port = (data['Ex_MReb_Ret'].mean()*12)/(data['Ex_MReb_Ret'].std()*np.sqrt(12))\n",
    "SR_MReb_port"
   ]
  },
  {
   "cell_type": "code",
   "execution_count": 35,
   "metadata": {},
   "outputs": [
    {
     "data": {
      "text/plain": [
       "1.8667407532048244"
      ]
     },
     "execution_count": 35,
     "metadata": {},
     "output_type": "execute_result"
    }
   ],
   "source": [
    "SR_BH_port = (data['Ex_BH_Ret'].mean()*12)/(data['Ex_BH_Ret'].std()*np.sqrt(12))\n",
    "SR_BH_port"
   ]
  }
 ],
 "metadata": {
  "anaconda-cloud": {},
  "kernelspec": {
   "display_name": "Python 3 (ipykernel)",
   "language": "python",
   "name": "python3"
  },
  "language_info": {
   "codemirror_mode": {
    "name": "ipython",
    "version": 3
   },
   "file_extension": ".py",
   "mimetype": "text/x-python",
   "name": "python",
   "nbconvert_exporter": "python",
   "pygments_lexer": "ipython3",
   "version": "3.8.13"
  }
 },
 "nbformat": 4,
 "nbformat_minor": 4
}
